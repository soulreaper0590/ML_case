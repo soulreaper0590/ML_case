{
  "nbformat": 4,
  "nbformat_minor": 0,
  "metadata": {
    "colab": {
      "name": "ML_Case_Study.ipynb",
      "provenance": [],
      "collapsed_sections": []
    },
    "kernelspec": {
      "name": "python3",
      "display_name": "Python 3"
    }
  },
  "cells": [
    {
      "cell_type": "code",
      "metadata": {
        "id": "COgJJYmbM7R_",
        "colab_type": "code",
        "colab": {}
      },
      "source": [
        "import pandas as pd"
      ],
      "execution_count": 1,
      "outputs": []
    },
    {
      "cell_type": "code",
      "metadata": {
        "id": "s9AZj16vuc_r",
        "colab_type": "code",
        "colab": {}
      },
      "source": [
        "import warnings\n",
        "warnings.filterwarnings(\"ignore\")"
      ],
      "execution_count": 2,
      "outputs": []
    },
    {
      "cell_type": "code",
      "metadata": {
        "id": "2S_eavIkNLdU",
        "colab_type": "code",
        "colab": {}
      },
      "source": [
        "data = pd.read_csv(\"/content/ML Case Study - Data.csv\")"
      ],
      "execution_count": 3,
      "outputs": []
    },
    {
      "cell_type": "code",
      "metadata": {
        "id": "jI8mScwrNg8b",
        "colab_type": "code",
        "colab": {
          "base_uri": "https://localhost:8080/",
          "height": 17
        },
        "outputId": "0dcb6359-d31b-48e9-c017-a76b641c5b84"
      },
      "source": [
        "import pandas as pd\n",
        "import numpy as np \n",
        "import matplotlib.pyplot as plt \n",
        "%matplotlib inline\n",
        "import seaborn as sns\n",
        "pd.options.display.float_format = '{:,.2f}'.format\n",
        "from IPython.core.display import display, HTML\n",
        "display(HTML(\"<style>.container {width : 98% !important; }</style>\"))\n",
        "plt.style.use('ggplot')\n",
        "plt.rcParams['figure.figsize'] = [10,10]\n",
        "pd.set_option('display.max_columns', 500)\n",
        "pd.set_option('display.max_rows', 500)"
      ],
      "execution_count": 4,
      "outputs": [
        {
          "output_type": "display_data",
          "data": {
            "text/html": [
              "<style>.container {width : 98% !important; }</style>"
            ],
            "text/plain": [
              "<IPython.core.display.HTML object>"
            ]
          },
          "metadata": {
            "tags": []
          }
        }
      ]
    },
    {
      "cell_type": "code",
      "metadata": {
        "id": "OhO2S-V1PI94",
        "colab_type": "code",
        "colab": {}
      },
      "source": [
        "from scipy import stats\n",
        "from sklearn import metrics"
      ],
      "execution_count": 5,
      "outputs": []
    },
    {
      "cell_type": "code",
      "metadata": {
        "id": "i_EV3QS2PL_y",
        "colab_type": "code",
        "colab": {}
      },
      "source": [
        "import yellowbrick as yb"
      ],
      "execution_count": 6,
      "outputs": []
    },
    {
      "cell_type": "markdown",
      "metadata": {
        "id": "xre9_tifvrf3",
        "colab_type": "text"
      },
      "source": [
        "#Checking Data Types"
      ]
    },
    {
      "cell_type": "code",
      "metadata": {
        "id": "5hIJs_IDPOhr",
        "colab_type": "code",
        "colab": {
          "base_uri": "https://localhost:8080/",
          "height": 370
        },
        "outputId": "561a77a7-eec4-478c-d5dc-8217c8e2f66c"
      },
      "source": [
        "data.info()"
      ],
      "execution_count": 7,
      "outputs": [
        {
          "output_type": "stream",
          "text": [
            "<class 'pandas.core.frame.DataFrame'>\n",
            "RangeIndex: 5000 entries, 0 to 4999\n",
            "Data columns (total 14 columns):\n",
            " #   Column              Non-Null Count  Dtype  \n",
            "---  ------              --------------  -----  \n",
            " 0   ID                  5000 non-null   int64  \n",
            " 1   Age                 5000 non-null   int64  \n",
            " 2   Experience          5000 non-null   int64  \n",
            " 3   Income              5000 non-null   int64  \n",
            " 4   ZIP Code            5000 non-null   int64  \n",
            " 5   Family              5000 non-null   int64  \n",
            " 6   CCAvg               5000 non-null   float64\n",
            " 7   Education           5000 non-null   int64  \n",
            " 8   Mortgage            5000 non-null   int64  \n",
            " 9   Personal Loan       5000 non-null   int64  \n",
            " 10  Securities Account  5000 non-null   int64  \n",
            " 11  CD Account          5000 non-null   int64  \n",
            " 12  Online              5000 non-null   int64  \n",
            " 13  CreditCard          5000 non-null   int64  \n",
            "dtypes: float64(1), int64(13)\n",
            "memory usage: 547.0 KB\n"
          ],
          "name": "stdout"
        }
      ]
    },
    {
      "cell_type": "markdown",
      "metadata": {
        "id": "65u8CurlwHEt",
        "colab_type": "text"
      },
      "source": [
        "# Statistical Summary"
      ]
    },
    {
      "cell_type": "code",
      "metadata": {
        "id": "MMF618dxNbGx",
        "colab_type": "code",
        "colab": {
          "base_uri": "https://localhost:8080/",
          "height": 321
        },
        "outputId": "c0754b7d-7764-410e-872a-f1c495577dd7"
      },
      "source": [
        "data.describe()"
      ],
      "execution_count": 8,
      "outputs": [
        {
          "output_type": "execute_result",
          "data": {
            "text/html": [
              "<div>\n",
              "<style scoped>\n",
              "    .dataframe tbody tr th:only-of-type {\n",
              "        vertical-align: middle;\n",
              "    }\n",
              "\n",
              "    .dataframe tbody tr th {\n",
              "        vertical-align: top;\n",
              "    }\n",
              "\n",
              "    .dataframe thead th {\n",
              "        text-align: right;\n",
              "    }\n",
              "</style>\n",
              "<table border=\"1\" class=\"dataframe\">\n",
              "  <thead>\n",
              "    <tr style=\"text-align: right;\">\n",
              "      <th></th>\n",
              "      <th>ID</th>\n",
              "      <th>Age</th>\n",
              "      <th>Experience</th>\n",
              "      <th>Income</th>\n",
              "      <th>ZIP Code</th>\n",
              "      <th>Family</th>\n",
              "      <th>CCAvg</th>\n",
              "      <th>Education</th>\n",
              "      <th>Mortgage</th>\n",
              "      <th>Personal Loan</th>\n",
              "      <th>Securities Account</th>\n",
              "      <th>CD Account</th>\n",
              "      <th>Online</th>\n",
              "      <th>CreditCard</th>\n",
              "    </tr>\n",
              "  </thead>\n",
              "  <tbody>\n",
              "    <tr>\n",
              "      <th>count</th>\n",
              "      <td>5,000.00</td>\n",
              "      <td>5,000.00</td>\n",
              "      <td>5,000.00</td>\n",
              "      <td>5,000.00</td>\n",
              "      <td>5,000.00</td>\n",
              "      <td>5,000.00</td>\n",
              "      <td>5,000.00</td>\n",
              "      <td>5,000.00</td>\n",
              "      <td>5,000.00</td>\n",
              "      <td>5,000.00</td>\n",
              "      <td>5,000.00</td>\n",
              "      <td>5,000.00</td>\n",
              "      <td>5,000.00</td>\n",
              "      <td>5,000.00</td>\n",
              "    </tr>\n",
              "    <tr>\n",
              "      <th>mean</th>\n",
              "      <td>2,500.50</td>\n",
              "      <td>45.34</td>\n",
              "      <td>20.10</td>\n",
              "      <td>73.77</td>\n",
              "      <td>93,152.50</td>\n",
              "      <td>2.40</td>\n",
              "      <td>1.94</td>\n",
              "      <td>1.88</td>\n",
              "      <td>56.50</td>\n",
              "      <td>0.10</td>\n",
              "      <td>0.10</td>\n",
              "      <td>0.06</td>\n",
              "      <td>0.60</td>\n",
              "      <td>0.29</td>\n",
              "    </tr>\n",
              "    <tr>\n",
              "      <th>std</th>\n",
              "      <td>1,443.52</td>\n",
              "      <td>11.46</td>\n",
              "      <td>11.47</td>\n",
              "      <td>46.03</td>\n",
              "      <td>2,121.85</td>\n",
              "      <td>1.15</td>\n",
              "      <td>1.75</td>\n",
              "      <td>0.84</td>\n",
              "      <td>101.71</td>\n",
              "      <td>0.29</td>\n",
              "      <td>0.31</td>\n",
              "      <td>0.24</td>\n",
              "      <td>0.49</td>\n",
              "      <td>0.46</td>\n",
              "    </tr>\n",
              "    <tr>\n",
              "      <th>min</th>\n",
              "      <td>1.00</td>\n",
              "      <td>23.00</td>\n",
              "      <td>-3.00</td>\n",
              "      <td>8.00</td>\n",
              "      <td>9,307.00</td>\n",
              "      <td>1.00</td>\n",
              "      <td>0.00</td>\n",
              "      <td>1.00</td>\n",
              "      <td>0.00</td>\n",
              "      <td>0.00</td>\n",
              "      <td>0.00</td>\n",
              "      <td>0.00</td>\n",
              "      <td>0.00</td>\n",
              "      <td>0.00</td>\n",
              "    </tr>\n",
              "    <tr>\n",
              "      <th>25%</th>\n",
              "      <td>1,250.75</td>\n",
              "      <td>35.00</td>\n",
              "      <td>10.00</td>\n",
              "      <td>39.00</td>\n",
              "      <td>91,911.00</td>\n",
              "      <td>1.00</td>\n",
              "      <td>0.70</td>\n",
              "      <td>1.00</td>\n",
              "      <td>0.00</td>\n",
              "      <td>0.00</td>\n",
              "      <td>0.00</td>\n",
              "      <td>0.00</td>\n",
              "      <td>0.00</td>\n",
              "      <td>0.00</td>\n",
              "    </tr>\n",
              "    <tr>\n",
              "      <th>50%</th>\n",
              "      <td>2,500.50</td>\n",
              "      <td>45.00</td>\n",
              "      <td>20.00</td>\n",
              "      <td>64.00</td>\n",
              "      <td>93,437.00</td>\n",
              "      <td>2.00</td>\n",
              "      <td>1.50</td>\n",
              "      <td>2.00</td>\n",
              "      <td>0.00</td>\n",
              "      <td>0.00</td>\n",
              "      <td>0.00</td>\n",
              "      <td>0.00</td>\n",
              "      <td>1.00</td>\n",
              "      <td>0.00</td>\n",
              "    </tr>\n",
              "    <tr>\n",
              "      <th>75%</th>\n",
              "      <td>3,750.25</td>\n",
              "      <td>55.00</td>\n",
              "      <td>30.00</td>\n",
              "      <td>98.00</td>\n",
              "      <td>94,608.00</td>\n",
              "      <td>3.00</td>\n",
              "      <td>2.50</td>\n",
              "      <td>3.00</td>\n",
              "      <td>101.00</td>\n",
              "      <td>0.00</td>\n",
              "      <td>0.00</td>\n",
              "      <td>0.00</td>\n",
              "      <td>1.00</td>\n",
              "      <td>1.00</td>\n",
              "    </tr>\n",
              "    <tr>\n",
              "      <th>max</th>\n",
              "      <td>5,000.00</td>\n",
              "      <td>67.00</td>\n",
              "      <td>43.00</td>\n",
              "      <td>224.00</td>\n",
              "      <td>96,651.00</td>\n",
              "      <td>4.00</td>\n",
              "      <td>10.00</td>\n",
              "      <td>3.00</td>\n",
              "      <td>635.00</td>\n",
              "      <td>1.00</td>\n",
              "      <td>1.00</td>\n",
              "      <td>1.00</td>\n",
              "      <td>1.00</td>\n",
              "      <td>1.00</td>\n",
              "    </tr>\n",
              "  </tbody>\n",
              "</table>\n",
              "</div>"
            ],
            "text/plain": [
              "            ID      Age  Experience   Income  ZIP Code   Family    CCAvg  \\\n",
              "count 5,000.00 5,000.00    5,000.00 5,000.00  5,000.00 5,000.00 5,000.00   \n",
              "mean  2,500.50    45.34       20.10    73.77 93,152.50     2.40     1.94   \n",
              "std   1,443.52    11.46       11.47    46.03  2,121.85     1.15     1.75   \n",
              "min       1.00    23.00       -3.00     8.00  9,307.00     1.00     0.00   \n",
              "25%   1,250.75    35.00       10.00    39.00 91,911.00     1.00     0.70   \n",
              "50%   2,500.50    45.00       20.00    64.00 93,437.00     2.00     1.50   \n",
              "75%   3,750.25    55.00       30.00    98.00 94,608.00     3.00     2.50   \n",
              "max   5,000.00    67.00       43.00   224.00 96,651.00     4.00    10.00   \n",
              "\n",
              "       Education  Mortgage  Personal Loan  Securities Account  CD Account  \\\n",
              "count   5,000.00  5,000.00       5,000.00            5,000.00    5,000.00   \n",
              "mean        1.88     56.50           0.10                0.10        0.06   \n",
              "std         0.84    101.71           0.29                0.31        0.24   \n",
              "min         1.00      0.00           0.00                0.00        0.00   \n",
              "25%         1.00      0.00           0.00                0.00        0.00   \n",
              "50%         2.00      0.00           0.00                0.00        0.00   \n",
              "75%         3.00    101.00           0.00                0.00        0.00   \n",
              "max         3.00    635.00           1.00                1.00        1.00   \n",
              "\n",
              "        Online  CreditCard  \n",
              "count 5,000.00    5,000.00  \n",
              "mean      0.60        0.29  \n",
              "std       0.49        0.46  \n",
              "min       0.00        0.00  \n",
              "25%       0.00        0.00  \n",
              "50%       1.00        0.00  \n",
              "75%       1.00        1.00  \n",
              "max       1.00        1.00  "
            ]
          },
          "metadata": {
            "tags": []
          },
          "execution_count": 8
        }
      ]
    },
    {
      "cell_type": "code",
      "metadata": {
        "id": "YGD-y2QoQ4JH",
        "colab_type": "code",
        "colab": {
          "base_uri": "https://localhost:8080/",
          "height": 321
        },
        "outputId": "04fc5efe-1a3e-47bb-d918-b76afa352be7"
      },
      "source": [
        "data.describe()"
      ],
      "execution_count": 9,
      "outputs": [
        {
          "output_type": "execute_result",
          "data": {
            "text/html": [
              "<div>\n",
              "<style scoped>\n",
              "    .dataframe tbody tr th:only-of-type {\n",
              "        vertical-align: middle;\n",
              "    }\n",
              "\n",
              "    .dataframe tbody tr th {\n",
              "        vertical-align: top;\n",
              "    }\n",
              "\n",
              "    .dataframe thead th {\n",
              "        text-align: right;\n",
              "    }\n",
              "</style>\n",
              "<table border=\"1\" class=\"dataframe\">\n",
              "  <thead>\n",
              "    <tr style=\"text-align: right;\">\n",
              "      <th></th>\n",
              "      <th>ID</th>\n",
              "      <th>Age</th>\n",
              "      <th>Experience</th>\n",
              "      <th>Income</th>\n",
              "      <th>ZIP Code</th>\n",
              "      <th>Family</th>\n",
              "      <th>CCAvg</th>\n",
              "      <th>Education</th>\n",
              "      <th>Mortgage</th>\n",
              "      <th>Personal Loan</th>\n",
              "      <th>Securities Account</th>\n",
              "      <th>CD Account</th>\n",
              "      <th>Online</th>\n",
              "      <th>CreditCard</th>\n",
              "    </tr>\n",
              "  </thead>\n",
              "  <tbody>\n",
              "    <tr>\n",
              "      <th>count</th>\n",
              "      <td>5,000.00</td>\n",
              "      <td>5,000.00</td>\n",
              "      <td>5,000.00</td>\n",
              "      <td>5,000.00</td>\n",
              "      <td>5,000.00</td>\n",
              "      <td>5,000.00</td>\n",
              "      <td>5,000.00</td>\n",
              "      <td>5,000.00</td>\n",
              "      <td>5,000.00</td>\n",
              "      <td>5,000.00</td>\n",
              "      <td>5,000.00</td>\n",
              "      <td>5,000.00</td>\n",
              "      <td>5,000.00</td>\n",
              "      <td>5,000.00</td>\n",
              "    </tr>\n",
              "    <tr>\n",
              "      <th>mean</th>\n",
              "      <td>2,500.50</td>\n",
              "      <td>45.34</td>\n",
              "      <td>20.10</td>\n",
              "      <td>73.77</td>\n",
              "      <td>93,152.50</td>\n",
              "      <td>2.40</td>\n",
              "      <td>1.94</td>\n",
              "      <td>1.88</td>\n",
              "      <td>56.50</td>\n",
              "      <td>0.10</td>\n",
              "      <td>0.10</td>\n",
              "      <td>0.06</td>\n",
              "      <td>0.60</td>\n",
              "      <td>0.29</td>\n",
              "    </tr>\n",
              "    <tr>\n",
              "      <th>std</th>\n",
              "      <td>1,443.52</td>\n",
              "      <td>11.46</td>\n",
              "      <td>11.47</td>\n",
              "      <td>46.03</td>\n",
              "      <td>2,121.85</td>\n",
              "      <td>1.15</td>\n",
              "      <td>1.75</td>\n",
              "      <td>0.84</td>\n",
              "      <td>101.71</td>\n",
              "      <td>0.29</td>\n",
              "      <td>0.31</td>\n",
              "      <td>0.24</td>\n",
              "      <td>0.49</td>\n",
              "      <td>0.46</td>\n",
              "    </tr>\n",
              "    <tr>\n",
              "      <th>min</th>\n",
              "      <td>1.00</td>\n",
              "      <td>23.00</td>\n",
              "      <td>-3.00</td>\n",
              "      <td>8.00</td>\n",
              "      <td>9,307.00</td>\n",
              "      <td>1.00</td>\n",
              "      <td>0.00</td>\n",
              "      <td>1.00</td>\n",
              "      <td>0.00</td>\n",
              "      <td>0.00</td>\n",
              "      <td>0.00</td>\n",
              "      <td>0.00</td>\n",
              "      <td>0.00</td>\n",
              "      <td>0.00</td>\n",
              "    </tr>\n",
              "    <tr>\n",
              "      <th>25%</th>\n",
              "      <td>1,250.75</td>\n",
              "      <td>35.00</td>\n",
              "      <td>10.00</td>\n",
              "      <td>39.00</td>\n",
              "      <td>91,911.00</td>\n",
              "      <td>1.00</td>\n",
              "      <td>0.70</td>\n",
              "      <td>1.00</td>\n",
              "      <td>0.00</td>\n",
              "      <td>0.00</td>\n",
              "      <td>0.00</td>\n",
              "      <td>0.00</td>\n",
              "      <td>0.00</td>\n",
              "      <td>0.00</td>\n",
              "    </tr>\n",
              "    <tr>\n",
              "      <th>50%</th>\n",
              "      <td>2,500.50</td>\n",
              "      <td>45.00</td>\n",
              "      <td>20.00</td>\n",
              "      <td>64.00</td>\n",
              "      <td>93,437.00</td>\n",
              "      <td>2.00</td>\n",
              "      <td>1.50</td>\n",
              "      <td>2.00</td>\n",
              "      <td>0.00</td>\n",
              "      <td>0.00</td>\n",
              "      <td>0.00</td>\n",
              "      <td>0.00</td>\n",
              "      <td>1.00</td>\n",
              "      <td>0.00</td>\n",
              "    </tr>\n",
              "    <tr>\n",
              "      <th>75%</th>\n",
              "      <td>3,750.25</td>\n",
              "      <td>55.00</td>\n",
              "      <td>30.00</td>\n",
              "      <td>98.00</td>\n",
              "      <td>94,608.00</td>\n",
              "      <td>3.00</td>\n",
              "      <td>2.50</td>\n",
              "      <td>3.00</td>\n",
              "      <td>101.00</td>\n",
              "      <td>0.00</td>\n",
              "      <td>0.00</td>\n",
              "      <td>0.00</td>\n",
              "      <td>1.00</td>\n",
              "      <td>1.00</td>\n",
              "    </tr>\n",
              "    <tr>\n",
              "      <th>max</th>\n",
              "      <td>5,000.00</td>\n",
              "      <td>67.00</td>\n",
              "      <td>43.00</td>\n",
              "      <td>224.00</td>\n",
              "      <td>96,651.00</td>\n",
              "      <td>4.00</td>\n",
              "      <td>10.00</td>\n",
              "      <td>3.00</td>\n",
              "      <td>635.00</td>\n",
              "      <td>1.00</td>\n",
              "      <td>1.00</td>\n",
              "      <td>1.00</td>\n",
              "      <td>1.00</td>\n",
              "      <td>1.00</td>\n",
              "    </tr>\n",
              "  </tbody>\n",
              "</table>\n",
              "</div>"
            ],
            "text/plain": [
              "            ID      Age  Experience   Income  ZIP Code   Family    CCAvg  \\\n",
              "count 5,000.00 5,000.00    5,000.00 5,000.00  5,000.00 5,000.00 5,000.00   \n",
              "mean  2,500.50    45.34       20.10    73.77 93,152.50     2.40     1.94   \n",
              "std   1,443.52    11.46       11.47    46.03  2,121.85     1.15     1.75   \n",
              "min       1.00    23.00       -3.00     8.00  9,307.00     1.00     0.00   \n",
              "25%   1,250.75    35.00       10.00    39.00 91,911.00     1.00     0.70   \n",
              "50%   2,500.50    45.00       20.00    64.00 93,437.00     2.00     1.50   \n",
              "75%   3,750.25    55.00       30.00    98.00 94,608.00     3.00     2.50   \n",
              "max   5,000.00    67.00       43.00   224.00 96,651.00     4.00    10.00   \n",
              "\n",
              "       Education  Mortgage  Personal Loan  Securities Account  CD Account  \\\n",
              "count   5,000.00  5,000.00       5,000.00            5,000.00    5,000.00   \n",
              "mean        1.88     56.50           0.10                0.10        0.06   \n",
              "std         0.84    101.71           0.29                0.31        0.24   \n",
              "min         1.00      0.00           0.00                0.00        0.00   \n",
              "25%         1.00      0.00           0.00                0.00        0.00   \n",
              "50%         2.00      0.00           0.00                0.00        0.00   \n",
              "75%         3.00    101.00           0.00                0.00        0.00   \n",
              "max         3.00    635.00           1.00                1.00        1.00   \n",
              "\n",
              "        Online  CreditCard  \n",
              "count 5,000.00    5,000.00  \n",
              "mean      0.60        0.29  \n",
              "std       0.49        0.46  \n",
              "min       0.00        0.00  \n",
              "25%       0.00        0.00  \n",
              "50%       1.00        0.00  \n",
              "75%       1.00        1.00  \n",
              "max       1.00        1.00  "
            ]
          },
          "metadata": {
            "tags": []
          },
          "execution_count": 9
        }
      ]
    },
    {
      "cell_type": "code",
      "metadata": {
        "id": "vEsevZkURMjR",
        "colab_type": "code",
        "colab": {}
      },
      "source": [
        "# from pandas_profiling import ProfileReport\n",
        "# prof = ProfileReport(data)\n",
        "# prof.to_file(\"profile.html\")"
      ],
      "execution_count": 10,
      "outputs": []
    },
    {
      "cell_type": "code",
      "metadata": {
        "id": "P1wh9LVTgVqg",
        "colab_type": "code",
        "colab": {}
      },
      "source": [
        ""
      ],
      "execution_count": null,
      "outputs": []
    },
    {
      "cell_type": "markdown",
      "metadata": {
        "id": "ugpIQ4nVxNAz",
        "colab_type": "text"
      },
      "source": [
        "# Checking for Null Values\n",
        "### There were none\n"
      ]
    },
    {
      "cell_type": "code",
      "metadata": {
        "id": "rdT6uyrHRSKe",
        "colab_type": "code",
        "colab": {
          "base_uri": "https://localhost:8080/",
          "height": 269
        },
        "outputId": "7c833326-e771-4fb4-9847-02fa7a09cbb2"
      },
      "source": [
        "data.isnull().sum()"
      ],
      "execution_count": 11,
      "outputs": [
        {
          "output_type": "execute_result",
          "data": {
            "text/plain": [
              "ID                    0\n",
              "Age                   0\n",
              "Experience            0\n",
              "Income                0\n",
              "ZIP Code              0\n",
              "Family                0\n",
              "CCAvg                 0\n",
              "Education             0\n",
              "Mortgage              0\n",
              "Personal Loan         0\n",
              "Securities Account    0\n",
              "CD Account            0\n",
              "Online                0\n",
              "CreditCard            0\n",
              "dtype: int64"
            ]
          },
          "metadata": {
            "tags": []
          },
          "execution_count": 11
        }
      ]
    },
    {
      "cell_type": "markdown",
      "metadata": {
        "id": "o3SyYQjix0L6",
        "colab_type": "text"
      },
      "source": [
        "# Checking For Incorrect Values"
      ]
    },
    {
      "cell_type": "code",
      "metadata": {
        "id": "ZFGQUDDfyOjH",
        "colab_type": "code",
        "colab": {
          "base_uri": "https://localhost:8080/",
          "height": 321
        },
        "outputId": "83ed7e5a-882d-45bf-9385-7208d7089d86"
      },
      "source": [
        "data.describe()"
      ],
      "execution_count": 12,
      "outputs": [
        {
          "output_type": "execute_result",
          "data": {
            "text/html": [
              "<div>\n",
              "<style scoped>\n",
              "    .dataframe tbody tr th:only-of-type {\n",
              "        vertical-align: middle;\n",
              "    }\n",
              "\n",
              "    .dataframe tbody tr th {\n",
              "        vertical-align: top;\n",
              "    }\n",
              "\n",
              "    .dataframe thead th {\n",
              "        text-align: right;\n",
              "    }\n",
              "</style>\n",
              "<table border=\"1\" class=\"dataframe\">\n",
              "  <thead>\n",
              "    <tr style=\"text-align: right;\">\n",
              "      <th></th>\n",
              "      <th>ID</th>\n",
              "      <th>Age</th>\n",
              "      <th>Experience</th>\n",
              "      <th>Income</th>\n",
              "      <th>ZIP Code</th>\n",
              "      <th>Family</th>\n",
              "      <th>CCAvg</th>\n",
              "      <th>Education</th>\n",
              "      <th>Mortgage</th>\n",
              "      <th>Personal Loan</th>\n",
              "      <th>Securities Account</th>\n",
              "      <th>CD Account</th>\n",
              "      <th>Online</th>\n",
              "      <th>CreditCard</th>\n",
              "    </tr>\n",
              "  </thead>\n",
              "  <tbody>\n",
              "    <tr>\n",
              "      <th>count</th>\n",
              "      <td>5,000.00</td>\n",
              "      <td>5,000.00</td>\n",
              "      <td>5,000.00</td>\n",
              "      <td>5,000.00</td>\n",
              "      <td>5,000.00</td>\n",
              "      <td>5,000.00</td>\n",
              "      <td>5,000.00</td>\n",
              "      <td>5,000.00</td>\n",
              "      <td>5,000.00</td>\n",
              "      <td>5,000.00</td>\n",
              "      <td>5,000.00</td>\n",
              "      <td>5,000.00</td>\n",
              "      <td>5,000.00</td>\n",
              "      <td>5,000.00</td>\n",
              "    </tr>\n",
              "    <tr>\n",
              "      <th>mean</th>\n",
              "      <td>2,500.50</td>\n",
              "      <td>45.34</td>\n",
              "      <td>20.10</td>\n",
              "      <td>73.77</td>\n",
              "      <td>93,152.50</td>\n",
              "      <td>2.40</td>\n",
              "      <td>1.94</td>\n",
              "      <td>1.88</td>\n",
              "      <td>56.50</td>\n",
              "      <td>0.10</td>\n",
              "      <td>0.10</td>\n",
              "      <td>0.06</td>\n",
              "      <td>0.60</td>\n",
              "      <td>0.29</td>\n",
              "    </tr>\n",
              "    <tr>\n",
              "      <th>std</th>\n",
              "      <td>1,443.52</td>\n",
              "      <td>11.46</td>\n",
              "      <td>11.47</td>\n",
              "      <td>46.03</td>\n",
              "      <td>2,121.85</td>\n",
              "      <td>1.15</td>\n",
              "      <td>1.75</td>\n",
              "      <td>0.84</td>\n",
              "      <td>101.71</td>\n",
              "      <td>0.29</td>\n",
              "      <td>0.31</td>\n",
              "      <td>0.24</td>\n",
              "      <td>0.49</td>\n",
              "      <td>0.46</td>\n",
              "    </tr>\n",
              "    <tr>\n",
              "      <th>min</th>\n",
              "      <td>1.00</td>\n",
              "      <td>23.00</td>\n",
              "      <td>-3.00</td>\n",
              "      <td>8.00</td>\n",
              "      <td>9,307.00</td>\n",
              "      <td>1.00</td>\n",
              "      <td>0.00</td>\n",
              "      <td>1.00</td>\n",
              "      <td>0.00</td>\n",
              "      <td>0.00</td>\n",
              "      <td>0.00</td>\n",
              "      <td>0.00</td>\n",
              "      <td>0.00</td>\n",
              "      <td>0.00</td>\n",
              "    </tr>\n",
              "    <tr>\n",
              "      <th>25%</th>\n",
              "      <td>1,250.75</td>\n",
              "      <td>35.00</td>\n",
              "      <td>10.00</td>\n",
              "      <td>39.00</td>\n",
              "      <td>91,911.00</td>\n",
              "      <td>1.00</td>\n",
              "      <td>0.70</td>\n",
              "      <td>1.00</td>\n",
              "      <td>0.00</td>\n",
              "      <td>0.00</td>\n",
              "      <td>0.00</td>\n",
              "      <td>0.00</td>\n",
              "      <td>0.00</td>\n",
              "      <td>0.00</td>\n",
              "    </tr>\n",
              "    <tr>\n",
              "      <th>50%</th>\n",
              "      <td>2,500.50</td>\n",
              "      <td>45.00</td>\n",
              "      <td>20.00</td>\n",
              "      <td>64.00</td>\n",
              "      <td>93,437.00</td>\n",
              "      <td>2.00</td>\n",
              "      <td>1.50</td>\n",
              "      <td>2.00</td>\n",
              "      <td>0.00</td>\n",
              "      <td>0.00</td>\n",
              "      <td>0.00</td>\n",
              "      <td>0.00</td>\n",
              "      <td>1.00</td>\n",
              "      <td>0.00</td>\n",
              "    </tr>\n",
              "    <tr>\n",
              "      <th>75%</th>\n",
              "      <td>3,750.25</td>\n",
              "      <td>55.00</td>\n",
              "      <td>30.00</td>\n",
              "      <td>98.00</td>\n",
              "      <td>94,608.00</td>\n",
              "      <td>3.00</td>\n",
              "      <td>2.50</td>\n",
              "      <td>3.00</td>\n",
              "      <td>101.00</td>\n",
              "      <td>0.00</td>\n",
              "      <td>0.00</td>\n",
              "      <td>0.00</td>\n",
              "      <td>1.00</td>\n",
              "      <td>1.00</td>\n",
              "    </tr>\n",
              "    <tr>\n",
              "      <th>max</th>\n",
              "      <td>5,000.00</td>\n",
              "      <td>67.00</td>\n",
              "      <td>43.00</td>\n",
              "      <td>224.00</td>\n",
              "      <td>96,651.00</td>\n",
              "      <td>4.00</td>\n",
              "      <td>10.00</td>\n",
              "      <td>3.00</td>\n",
              "      <td>635.00</td>\n",
              "      <td>1.00</td>\n",
              "      <td>1.00</td>\n",
              "      <td>1.00</td>\n",
              "      <td>1.00</td>\n",
              "      <td>1.00</td>\n",
              "    </tr>\n",
              "  </tbody>\n",
              "</table>\n",
              "</div>"
            ],
            "text/plain": [
              "            ID      Age  Experience   Income  ZIP Code   Family    CCAvg  \\\n",
              "count 5,000.00 5,000.00    5,000.00 5,000.00  5,000.00 5,000.00 5,000.00   \n",
              "mean  2,500.50    45.34       20.10    73.77 93,152.50     2.40     1.94   \n",
              "std   1,443.52    11.46       11.47    46.03  2,121.85     1.15     1.75   \n",
              "min       1.00    23.00       -3.00     8.00  9,307.00     1.00     0.00   \n",
              "25%   1,250.75    35.00       10.00    39.00 91,911.00     1.00     0.70   \n",
              "50%   2,500.50    45.00       20.00    64.00 93,437.00     2.00     1.50   \n",
              "75%   3,750.25    55.00       30.00    98.00 94,608.00     3.00     2.50   \n",
              "max   5,000.00    67.00       43.00   224.00 96,651.00     4.00    10.00   \n",
              "\n",
              "       Education  Mortgage  Personal Loan  Securities Account  CD Account  \\\n",
              "count   5,000.00  5,000.00       5,000.00            5,000.00    5,000.00   \n",
              "mean        1.88     56.50           0.10                0.10        0.06   \n",
              "std         0.84    101.71           0.29                0.31        0.24   \n",
              "min         1.00      0.00           0.00                0.00        0.00   \n",
              "25%         1.00      0.00           0.00                0.00        0.00   \n",
              "50%         2.00      0.00           0.00                0.00        0.00   \n",
              "75%         3.00    101.00           0.00                0.00        0.00   \n",
              "max         3.00    635.00           1.00                1.00        1.00   \n",
              "\n",
              "        Online  CreditCard  \n",
              "count 5,000.00    5,000.00  \n",
              "mean      0.60        0.29  \n",
              "std       0.49        0.46  \n",
              "min       0.00        0.00  \n",
              "25%       0.00        0.00  \n",
              "50%       1.00        0.00  \n",
              "75%       1.00        1.00  \n",
              "max       1.00        1.00  "
            ]
          },
          "metadata": {
            "tags": []
          },
          "execution_count": 12
        }
      ]
    },
    {
      "cell_type": "markdown",
      "metadata": {
        "id": "8XKUOE9vyVfM",
        "colab_type": "text"
      },
      "source": [
        "### Incorrect values are in experience as it connot be negative"
      ]
    },
    {
      "cell_type": "code",
      "metadata": {
        "id": "9cqagRGky81d",
        "colab_type": "code",
        "colab": {}
      },
      "source": [
        "for i,k in enumerate(data[\"Experience\"]):\n",
        "    if k < 0:\n",
        "        data[\"Experience\"][i] = 0"
      ],
      "execution_count": 13,
      "outputs": []
    },
    {
      "cell_type": "code",
      "metadata": {
        "id": "_Rxwm5cZ1X4a",
        "colab_type": "code",
        "colab": {
          "base_uri": "https://localhost:8080/",
          "height": 84
        },
        "outputId": "99e2f910-bc31-41e7-d21f-3f4a9fec688a"
      },
      "source": [
        "data.columns"
      ],
      "execution_count": 14,
      "outputs": [
        {
          "output_type": "execute_result",
          "data": {
            "text/plain": [
              "Index(['ID', 'Age', 'Experience', 'Income', 'ZIP Code', 'Family', 'CCAvg',\n",
              "       'Education', 'Mortgage', 'Personal Loan', 'Securities Account',\n",
              "       'CD Account', 'Online', 'CreditCard'],\n",
              "      dtype='object')"
            ]
          },
          "metadata": {
            "tags": []
          },
          "execution_count": 14
        }
      ]
    },
    {
      "cell_type": "markdown",
      "metadata": {
        "id": "92QPz-WS1G5N",
        "colab_type": "text"
      },
      "source": [
        "# Corrected the Experience Values"
      ]
    },
    {
      "cell_type": "code",
      "metadata": {
        "id": "VVjUw4911C5g",
        "colab_type": "code",
        "colab": {
          "base_uri": "https://localhost:8080/",
          "height": 321
        },
        "outputId": "c4353c73-532c-4119-c236-8544056ff1c6"
      },
      "source": [
        "data.describe()"
      ],
      "execution_count": 15,
      "outputs": [
        {
          "output_type": "execute_result",
          "data": {
            "text/html": [
              "<div>\n",
              "<style scoped>\n",
              "    .dataframe tbody tr th:only-of-type {\n",
              "        vertical-align: middle;\n",
              "    }\n",
              "\n",
              "    .dataframe tbody tr th {\n",
              "        vertical-align: top;\n",
              "    }\n",
              "\n",
              "    .dataframe thead th {\n",
              "        text-align: right;\n",
              "    }\n",
              "</style>\n",
              "<table border=\"1\" class=\"dataframe\">\n",
              "  <thead>\n",
              "    <tr style=\"text-align: right;\">\n",
              "      <th></th>\n",
              "      <th>ID</th>\n",
              "      <th>Age</th>\n",
              "      <th>Experience</th>\n",
              "      <th>Income</th>\n",
              "      <th>ZIP Code</th>\n",
              "      <th>Family</th>\n",
              "      <th>CCAvg</th>\n",
              "      <th>Education</th>\n",
              "      <th>Mortgage</th>\n",
              "      <th>Personal Loan</th>\n",
              "      <th>Securities Account</th>\n",
              "      <th>CD Account</th>\n",
              "      <th>Online</th>\n",
              "      <th>CreditCard</th>\n",
              "    </tr>\n",
              "  </thead>\n",
              "  <tbody>\n",
              "    <tr>\n",
              "      <th>count</th>\n",
              "      <td>5,000.00</td>\n",
              "      <td>5,000.00</td>\n",
              "      <td>5,000.00</td>\n",
              "      <td>5,000.00</td>\n",
              "      <td>5,000.00</td>\n",
              "      <td>5,000.00</td>\n",
              "      <td>5,000.00</td>\n",
              "      <td>5,000.00</td>\n",
              "      <td>5,000.00</td>\n",
              "      <td>5,000.00</td>\n",
              "      <td>5,000.00</td>\n",
              "      <td>5,000.00</td>\n",
              "      <td>5,000.00</td>\n",
              "      <td>5,000.00</td>\n",
              "    </tr>\n",
              "    <tr>\n",
              "      <th>mean</th>\n",
              "      <td>2,500.50</td>\n",
              "      <td>45.34</td>\n",
              "      <td>20.12</td>\n",
              "      <td>73.77</td>\n",
              "      <td>93,152.50</td>\n",
              "      <td>2.40</td>\n",
              "      <td>1.94</td>\n",
              "      <td>1.88</td>\n",
              "      <td>56.50</td>\n",
              "      <td>0.10</td>\n",
              "      <td>0.10</td>\n",
              "      <td>0.06</td>\n",
              "      <td>0.60</td>\n",
              "      <td>0.29</td>\n",
              "    </tr>\n",
              "    <tr>\n",
              "      <th>std</th>\n",
              "      <td>1,443.52</td>\n",
              "      <td>11.46</td>\n",
              "      <td>11.44</td>\n",
              "      <td>46.03</td>\n",
              "      <td>2,121.85</td>\n",
              "      <td>1.15</td>\n",
              "      <td>1.75</td>\n",
              "      <td>0.84</td>\n",
              "      <td>101.71</td>\n",
              "      <td>0.29</td>\n",
              "      <td>0.31</td>\n",
              "      <td>0.24</td>\n",
              "      <td>0.49</td>\n",
              "      <td>0.46</td>\n",
              "    </tr>\n",
              "    <tr>\n",
              "      <th>min</th>\n",
              "      <td>1.00</td>\n",
              "      <td>23.00</td>\n",
              "      <td>0.00</td>\n",
              "      <td>8.00</td>\n",
              "      <td>9,307.00</td>\n",
              "      <td>1.00</td>\n",
              "      <td>0.00</td>\n",
              "      <td>1.00</td>\n",
              "      <td>0.00</td>\n",
              "      <td>0.00</td>\n",
              "      <td>0.00</td>\n",
              "      <td>0.00</td>\n",
              "      <td>0.00</td>\n",
              "      <td>0.00</td>\n",
              "    </tr>\n",
              "    <tr>\n",
              "      <th>25%</th>\n",
              "      <td>1,250.75</td>\n",
              "      <td>35.00</td>\n",
              "      <td>10.00</td>\n",
              "      <td>39.00</td>\n",
              "      <td>91,911.00</td>\n",
              "      <td>1.00</td>\n",
              "      <td>0.70</td>\n",
              "      <td>1.00</td>\n",
              "      <td>0.00</td>\n",
              "      <td>0.00</td>\n",
              "      <td>0.00</td>\n",
              "      <td>0.00</td>\n",
              "      <td>0.00</td>\n",
              "      <td>0.00</td>\n",
              "    </tr>\n",
              "    <tr>\n",
              "      <th>50%</th>\n",
              "      <td>2,500.50</td>\n",
              "      <td>45.00</td>\n",
              "      <td>20.00</td>\n",
              "      <td>64.00</td>\n",
              "      <td>93,437.00</td>\n",
              "      <td>2.00</td>\n",
              "      <td>1.50</td>\n",
              "      <td>2.00</td>\n",
              "      <td>0.00</td>\n",
              "      <td>0.00</td>\n",
              "      <td>0.00</td>\n",
              "      <td>0.00</td>\n",
              "      <td>1.00</td>\n",
              "      <td>0.00</td>\n",
              "    </tr>\n",
              "    <tr>\n",
              "      <th>75%</th>\n",
              "      <td>3,750.25</td>\n",
              "      <td>55.00</td>\n",
              "      <td>30.00</td>\n",
              "      <td>98.00</td>\n",
              "      <td>94,608.00</td>\n",
              "      <td>3.00</td>\n",
              "      <td>2.50</td>\n",
              "      <td>3.00</td>\n",
              "      <td>101.00</td>\n",
              "      <td>0.00</td>\n",
              "      <td>0.00</td>\n",
              "      <td>0.00</td>\n",
              "      <td>1.00</td>\n",
              "      <td>1.00</td>\n",
              "    </tr>\n",
              "    <tr>\n",
              "      <th>max</th>\n",
              "      <td>5,000.00</td>\n",
              "      <td>67.00</td>\n",
              "      <td>43.00</td>\n",
              "      <td>224.00</td>\n",
              "      <td>96,651.00</td>\n",
              "      <td>4.00</td>\n",
              "      <td>10.00</td>\n",
              "      <td>3.00</td>\n",
              "      <td>635.00</td>\n",
              "      <td>1.00</td>\n",
              "      <td>1.00</td>\n",
              "      <td>1.00</td>\n",
              "      <td>1.00</td>\n",
              "      <td>1.00</td>\n",
              "    </tr>\n",
              "  </tbody>\n",
              "</table>\n",
              "</div>"
            ],
            "text/plain": [
              "            ID      Age  Experience   Income  ZIP Code   Family    CCAvg  \\\n",
              "count 5,000.00 5,000.00    5,000.00 5,000.00  5,000.00 5,000.00 5,000.00   \n",
              "mean  2,500.50    45.34       20.12    73.77 93,152.50     2.40     1.94   \n",
              "std   1,443.52    11.46       11.44    46.03  2,121.85     1.15     1.75   \n",
              "min       1.00    23.00        0.00     8.00  9,307.00     1.00     0.00   \n",
              "25%   1,250.75    35.00       10.00    39.00 91,911.00     1.00     0.70   \n",
              "50%   2,500.50    45.00       20.00    64.00 93,437.00     2.00     1.50   \n",
              "75%   3,750.25    55.00       30.00    98.00 94,608.00     3.00     2.50   \n",
              "max   5,000.00    67.00       43.00   224.00 96,651.00     4.00    10.00   \n",
              "\n",
              "       Education  Mortgage  Personal Loan  Securities Account  CD Account  \\\n",
              "count   5,000.00  5,000.00       5,000.00            5,000.00    5,000.00   \n",
              "mean        1.88     56.50           0.10                0.10        0.06   \n",
              "std         0.84    101.71           0.29                0.31        0.24   \n",
              "min         1.00      0.00           0.00                0.00        0.00   \n",
              "25%         1.00      0.00           0.00                0.00        0.00   \n",
              "50%         2.00      0.00           0.00                0.00        0.00   \n",
              "75%         3.00    101.00           0.00                0.00        0.00   \n",
              "max         3.00    635.00           1.00                1.00        1.00   \n",
              "\n",
              "        Online  CreditCard  \n",
              "count 5,000.00    5,000.00  \n",
              "mean      0.60        0.29  \n",
              "std       0.49        0.46  \n",
              "min       0.00        0.00  \n",
              "25%       0.00        0.00  \n",
              "50%       1.00        0.00  \n",
              "75%       1.00        1.00  \n",
              "max       1.00        1.00  "
            ]
          },
          "metadata": {
            "tags": []
          },
          "execution_count": 15
        }
      ]
    },
    {
      "cell_type": "markdown",
      "metadata": {
        "id": "2htK9Rdj2lRT",
        "colab_type": "text"
      },
      "source": [
        "# Unique value in each column"
      ]
    },
    {
      "cell_type": "code",
      "metadata": {
        "id": "AOKEgcJp2dqw",
        "colab_type": "code",
        "colab": {
          "base_uri": "https://localhost:8080/",
          "height": 252
        },
        "outputId": "53139e4f-609e-4bcc-da41-d13089460171"
      },
      "source": [
        "for i in list( data.columns):\n",
        "    print(i,data[i].nunique())"
      ],
      "execution_count": 16,
      "outputs": [
        {
          "output_type": "stream",
          "text": [
            "ID 5000\n",
            "Age 45\n",
            "Experience 44\n",
            "Income 162\n",
            "ZIP Code 467\n",
            "Family 4\n",
            "CCAvg 108\n",
            "Education 3\n",
            "Mortgage 347\n",
            "Personal Loan 2\n",
            "Securities Account 2\n",
            "CD Account 2\n",
            "Online 2\n",
            "CreditCard 2\n"
          ],
          "name": "stdout"
        }
      ]
    },
    {
      "cell_type": "code",
      "metadata": {
        "id": "8tvBWP2034-H",
        "colab_type": "code",
        "colab": {}
      },
      "source": [
        ""
      ],
      "execution_count": 16,
      "outputs": []
    },
    {
      "cell_type": "markdown",
      "metadata": {
        "id": "oJ_DkzUf36Fw",
        "colab_type": "text"
      },
      "source": [
        "# Number Of People with 0 Mortgage"
      ]
    },
    {
      "cell_type": "code",
      "metadata": {
        "id": "DvtDlhtj3OVN",
        "colab_type": "code",
        "colab": {
          "base_uri": "https://localhost:8080/",
          "height": 34
        },
        "outputId": "83cd3669-f93a-468b-959c-48ea9852f096"
      },
      "source": [
        "(data[\"Mortgage\"] == 0).sum()"
      ],
      "execution_count": 17,
      "outputs": [
        {
          "output_type": "execute_result",
          "data": {
            "text/plain": [
              "3462"
            ]
          },
          "metadata": {
            "tags": []
          },
          "execution_count": 17
        }
      ]
    },
    {
      "cell_type": "markdown",
      "metadata": {
        "id": "URWIX1bX4ic1",
        "colab_type": "text"
      },
      "source": [
        "# Number of people 0 credit card spending"
      ]
    },
    {
      "cell_type": "code",
      "metadata": {
        "id": "E-K2J6wh4E3v",
        "colab_type": "code",
        "colab": {
          "base_uri": "https://localhost:8080/",
          "height": 34
        },
        "outputId": "43d5297e-dc6f-498d-f40e-275372b7c3d4"
      },
      "source": [
        "(data[\"CCAvg\"] == 0).sum()"
      ],
      "execution_count": 18,
      "outputs": [
        {
          "output_type": "execute_result",
          "data": {
            "text/plain": [
              "106"
            ]
          },
          "metadata": {
            "tags": []
          },
          "execution_count": 18
        }
      ]
    },
    {
      "cell_type": "code",
      "metadata": {
        "id": "gT5nkY_XRnrz",
        "colab_type": "code",
        "colab": {}
      },
      "source": [
        "data.drop(\"ID\", axis = 1, inplace= True)"
      ],
      "execution_count": 19,
      "outputs": []
    },
    {
      "cell_type": "code",
      "metadata": {
        "id": "7Vbu-6mkTxnV",
        "colab_type": "code",
        "colab": {}
      },
      "source": [
        "data.drop(\"ZIP Code\", axis = 1, inplace= True)"
      ],
      "execution_count": 20,
      "outputs": []
    },
    {
      "cell_type": "markdown",
      "metadata": {
        "id": "7EREdzXwdGjF",
        "colab_type": "text"
      },
      "source": [
        "#Covariance Among Varaibles\n",
        "As we know, age and experience are highly correlated same conclusion can be drawn from the data."
      ]
    },
    {
      "cell_type": "code",
      "metadata": {
        "id": "v27Wb5hSPPhp",
        "colab_type": "code",
        "colab": {
          "base_uri": "https://localhost:8080/",
          "height": 440
        },
        "outputId": "b342aa8e-7243-4423-db37-1d79b35cecb2"
      },
      "source": [
        "sns.heatmap(data.corr())"
      ],
      "execution_count": 66,
      "outputs": [
        {
          "output_type": "execute_result",
          "data": {
            "text/plain": [
              "<matplotlib.axes._subplots.AxesSubplot at 0x7f325372ea58>"
            ]
          },
          "metadata": {
            "tags": []
          },
          "execution_count": 66
        },
        {
          "output_type": "display_data",
          "data": {
            "image/png": "[encoded data removed]",
            "text/plain": [
              "<Figure size 576x396 with 2 Axes>"
            ]
          },
          "metadata": {
            "tags": []
          }
        }
      ]
    },
    {
      "cell_type": "markdown",
      "metadata": {
        "id": "v6ThaHz515X7",
        "colab_type": "text"
      },
      "source": [
        "# Value Counts of diffrent categorical variable"
      ]
    },
    {
      "cell_type": "code",
      "metadata": {
        "id": "bIVtac1PSBzt",
        "colab_type": "code",
        "colab": {
          "base_uri": "https://localhost:8080/",
          "height": 538
        },
        "outputId": "726e5008-75c7-48d0-cba1-25a5eab0405b"
      },
      "source": [
        "for i in list(  ['Family',\n",
        "       'Education',  'Personal Loan', 'Securities Account',\n",
        "       'CD Account', 'Online', 'CreditCard']):\n",
        "    print(data[i].value_counts())\n",
        "    print()"
      ],
      "execution_count": 21,
      "outputs": [
        {
          "output_type": "stream",
          "text": [
            "1    1472\n",
            "2    1296\n",
            "4    1222\n",
            "3    1010\n",
            "Name: Family, dtype: int64\n",
            "\n",
            "1    2096\n",
            "3    1501\n",
            "2    1403\n",
            "Name: Education, dtype: int64\n",
            "\n",
            "0    4520\n",
            "1     480\n",
            "Name: Personal Loan, dtype: int64\n",
            "\n",
            "0    4478\n",
            "1     522\n",
            "Name: Securities Account, dtype: int64\n",
            "\n",
            "0    4698\n",
            "1     302\n",
            "Name: CD Account, dtype: int64\n",
            "\n",
            "1    2984\n",
            "0    2016\n",
            "Name: Online, dtype: int64\n",
            "\n",
            "0    3530\n",
            "1    1470\n",
            "Name: CreditCard, dtype: int64\n",
            "\n"
          ],
          "name": "stdout"
        }
      ]
    },
    {
      "cell_type": "code",
      "metadata": {
        "id": "vBXQFMyW47lN",
        "colab_type": "code",
        "colab": {
          "base_uri": "https://localhost:8080/",
          "height": 195
        },
        "outputId": "d0c7f75d-481e-4467-9554-fc399f6a69fc"
      },
      "source": [
        "pd.pivot_table(data , values=\"Personal Loan\", index = \"Family\",columns=\"Education\", aggfunc=\"sum\")"
      ],
      "execution_count": 22,
      "outputs": [
        {
          "output_type": "execute_result",
          "data": {
            "text/html": [
              "<div>\n",
              "<style scoped>\n",
              "    .dataframe tbody tr th:only-of-type {\n",
              "        vertical-align: middle;\n",
              "    }\n",
              "\n",
              "    .dataframe tbody tr th {\n",
              "        vertical-align: top;\n",
              "    }\n",
              "\n",
              "    .dataframe thead th {\n",
              "        text-align: right;\n",
              "    }\n",
              "</style>\n",
              "<table border=\"1\" class=\"dataframe\">\n",
              "  <thead>\n",
              "    <tr style=\"text-align: right;\">\n",
              "      <th>Education</th>\n",
              "      <th>1</th>\n",
              "      <th>2</th>\n",
              "      <th>3</th>\n",
              "    </tr>\n",
              "    <tr>\n",
              "      <th>Family</th>\n",
              "      <th></th>\n",
              "      <th></th>\n",
              "      <th></th>\n",
              "    </tr>\n",
              "  </thead>\n",
              "  <tbody>\n",
              "    <tr>\n",
              "      <th>1</th>\n",
              "      <td>9</td>\n",
              "      <td>40</td>\n",
              "      <td>58</td>\n",
              "    </tr>\n",
              "    <tr>\n",
              "      <th>2</th>\n",
              "      <td>4</td>\n",
              "      <td>50</td>\n",
              "      <td>52</td>\n",
              "    </tr>\n",
              "    <tr>\n",
              "      <th>3</th>\n",
              "      <td>40</td>\n",
              "      <td>44</td>\n",
              "      <td>49</td>\n",
              "    </tr>\n",
              "    <tr>\n",
              "      <th>4</th>\n",
              "      <td>40</td>\n",
              "      <td>48</td>\n",
              "      <td>46</td>\n",
              "    </tr>\n",
              "  </tbody>\n",
              "</table>\n",
              "</div>"
            ],
            "text/plain": [
              "Education   1   2   3\n",
              "Family               \n",
              "1           9  40  58\n",
              "2           4  50  52\n",
              "3          40  44  49\n",
              "4          40  48  46"
            ]
          },
          "metadata": {
            "tags": []
          },
          "execution_count": 22
        }
      ]
    },
    {
      "cell_type": "markdown",
      "metadata": {
        "id": "-jqd1FhS54lO",
        "colab_type": "text"
      },
      "source": [
        "### Can be seen than that as the family and and education grows the number of people that go for personal loans have increased"
      ]
    },
    {
      "cell_type": "markdown",
      "metadata": {
        "id": "1zEM-PMjX4hN",
        "colab_type": "text"
      },
      "source": [
        "# Data Preproceesing"
      ]
    },
    {
      "cell_type": "code",
      "metadata": {
        "id": "Cy_03cNTX38M",
        "colab_type": "code",
        "colab": {
          "base_uri": "https://localhost:8080/",
          "height": 34
        },
        "outputId": "0c23f6ee-5dbb-4442-b838-115a4dc95649"
      },
      "source": [
        "    x = data.loc[:,['Age', 'Experience', 'Income', 'Family', 'CCAvg', 'Education',\n",
        "        'Mortgage', 'Securities Account', 'CD Account',\n",
        "        'Online', 'CreditCard']]\n",
        "    y = data[\"Personal Loan\"]\n",
        "    print(x.shape,y.shape)"
      ],
      "execution_count": 23,
      "outputs": [
        {
          "output_type": "stream",
          "text": [
            "(5000, 11) (5000,)\n"
          ],
          "name": "stdout"
        }
      ]
    },
    {
      "cell_type": "code",
      "metadata": {
        "id": "aWZ-EPl3pO6d",
        "colab_type": "code",
        "colab": {}
      },
      "source": [
        "dic = {0:0,1:1}\n",
        "for k in y:\n",
        "    dic[k] +=1\n",
        "# temp = dic[0]\n",
        "# dic[0] = dic[1]\n",
        "# dic[1] = temp"
      ],
      "execution_count": 24,
      "outputs": []
    },
    {
      "cell_type": "code",
      "metadata": {
        "id": "rXka4bxjYfur",
        "colab_type": "code",
        "colab": {}
      },
      "source": [
        "from sklearn.model_selection import train_test_split\n",
        "X_train, X_test,Y_train, Y_test = train_test_split(x,y,test_size = 0.3,random_state=7)"
      ],
      "execution_count": 25,
      "outputs": []
    },
    {
      "cell_type": "markdown",
      "metadata": {
        "id": "OQmDki9ygkx6",
        "colab_type": "text"
      },
      "source": [
        "#P values Of features\n"
      ]
    },
    {
      "cell_type": "code",
      "metadata": {
        "id": "d8n292vTgq5P",
        "colab_type": "code",
        "colab": {}
      },
      "source": [
        "import statsmodels.api as sm\n",
        "X2 = sm.add_constant(X_train)\n",
        "reg2 = sm.OLS(Y_train, X2).fit()"
      ],
      "execution_count": 73,
      "outputs": []
    },
    {
      "cell_type": "code",
      "metadata": {
        "id": "0Xl9cNQMgt5w",
        "colab_type": "code",
        "colab": {
          "base_uri": "https://localhost:8080/",
          "height": 659
        },
        "outputId": "76369122-ad8d-450a-8246-03a804f0530f"
      },
      "source": [
        "reg2.summary()"
      ],
      "execution_count": 74,
      "outputs": [
        {
          "output_type": "execute_result",
          "data": {
            "text/html": [
              "<table class=\"simpletable\">\n",
              "<caption>OLS Regression Results</caption>\n",
              "<tr>\n",
              "  <th>Dep. Variable:</th>      <td>Personal Loan</td>  <th>  R-squared:         </th> <td>   0.386</td>\n",
              "</tr>\n",
              "<tr>\n",
              "  <th>Model:</th>                   <td>OLS</td>       <th>  Adj. R-squared:    </th> <td>   0.384</td>\n",
              "</tr>\n",
              "<tr>\n",
              "  <th>Method:</th>             <td>Least Squares</td>  <th>  F-statistic:       </th> <td>   199.5</td>\n",
              "</tr>\n",
              "<tr>\n",
              "  <th>Date:</th>             <td>Tue, 01 Sep 2020</td> <th>  Prob (F-statistic):</th>  <td>  0.00</td> \n",
              "</tr>\n",
              "<tr>\n",
              "  <th>Time:</th>                 <td>11:52:30</td>     <th>  Log-Likelihood:    </th> <td>  137.81</td>\n",
              "</tr>\n",
              "<tr>\n",
              "  <th>No. Observations:</th>      <td>  3500</td>      <th>  AIC:               </th> <td>  -251.6</td>\n",
              "</tr>\n",
              "<tr>\n",
              "  <th>Df Residuals:</th>          <td>  3488</td>      <th>  BIC:               </th> <td>  -177.7</td>\n",
              "</tr>\n",
              "<tr>\n",
              "  <th>Df Model:</th>              <td>    11</td>      <th>                     </th>     <td> </td>   \n",
              "</tr>\n",
              "<tr>\n",
              "  <th>Covariance Type:</th>      <td>nonrobust</td>    <th>                     </th>     <td> </td>   \n",
              "</tr>\n",
              "</table>\n",
              "<table class=\"simpletable\">\n",
              "<tr>\n",
              "           <td></td>             <th>coef</th>     <th>std err</th>      <th>t</th>      <th>P>|t|</th>  <th>[0.025</th>    <th>0.975]</th>  \n",
              "</tr>\n",
              "<tr>\n",
              "  <th>const</th>              <td>   -0.2806</td> <td>    0.083</td> <td>   -3.378</td> <td> 0.001</td> <td>   -0.443</td> <td>   -0.118</td>\n",
              "</tr>\n",
              "<tr>\n",
              "  <th>Age</th>                <td>   -0.0042</td> <td>    0.003</td> <td>   -1.258</td> <td> 0.209</td> <td>   -0.011</td> <td>    0.002</td>\n",
              "</tr>\n",
              "<tr>\n",
              "  <th>Experience</th>         <td>    0.0048</td> <td>    0.003</td> <td>    1.447</td> <td> 0.148</td> <td>   -0.002</td> <td>    0.011</td>\n",
              "</tr>\n",
              "<tr>\n",
              "  <th>Income</th>             <td>    0.0028</td> <td>    0.000</td> <td>   24.459</td> <td> 0.000</td> <td>    0.003</td> <td>    0.003</td>\n",
              "</tr>\n",
              "<tr>\n",
              "  <th>Family</th>             <td>    0.0360</td> <td>    0.003</td> <td>   10.343</td> <td> 0.000</td> <td>    0.029</td> <td>    0.043</td>\n",
              "</tr>\n",
              "<tr>\n",
              "  <th>CCAvg</th>              <td>    0.0171</td> <td>    0.003</td> <td>    5.810</td> <td> 0.000</td> <td>    0.011</td> <td>    0.023</td>\n",
              "</tr>\n",
              "<tr>\n",
              "  <th>Education</th>          <td>    0.0800</td> <td>    0.005</td> <td>   16.181</td> <td> 0.000</td> <td>    0.070</td> <td>    0.090</td>\n",
              "</tr>\n",
              "<tr>\n",
              "  <th>Mortgage</th>           <td>  9.02e-05</td> <td> 3.89e-05</td> <td>    2.320</td> <td> 0.020</td> <td>  1.4e-05</td> <td>    0.000</td>\n",
              "</tr>\n",
              "<tr>\n",
              "  <th>Securities Account</th> <td>   -0.0533</td> <td>    0.014</td> <td>   -3.856</td> <td> 0.000</td> <td>   -0.080</td> <td>   -0.026</td>\n",
              "</tr>\n",
              "<tr>\n",
              "  <th>CD Account</th>         <td>    0.3330</td> <td>    0.019</td> <td>   17.094</td> <td> 0.000</td> <td>    0.295</td> <td>    0.371</td>\n",
              "</tr>\n",
              "<tr>\n",
              "  <th>Online</th>             <td>   -0.0211</td> <td>    0.008</td> <td>   -2.584</td> <td> 0.010</td> <td>   -0.037</td> <td>   -0.005</td>\n",
              "</tr>\n",
              "<tr>\n",
              "  <th>CreditCard</th>         <td>   -0.0462</td> <td>    0.009</td> <td>   -5.089</td> <td> 0.000</td> <td>   -0.064</td> <td>   -0.028</td>\n",
              "</tr>\n",
              "</table>\n",
              "<table class=\"simpletable\">\n",
              "<tr>\n",
              "  <th>Omnibus:</th>       <td>931.600</td> <th>  Durbin-Watson:     </th> <td>   1.985</td>\n",
              "</tr>\n",
              "<tr>\n",
              "  <th>Prob(Omnibus):</th> <td> 0.000</td>  <th>  Jarque-Bera (JB):  </th> <td>2471.311</td>\n",
              "</tr>\n",
              "<tr>\n",
              "  <th>Skew:</th>          <td> 1.418</td>  <th>  Prob(JB):          </th> <td>    0.00</td>\n",
              "</tr>\n",
              "<tr>\n",
              "  <th>Kurtosis:</th>      <td> 5.983</td>  <th>  Cond. No.          </th> <td>2.88e+03</td>\n",
              "</tr>\n",
              "</table><br/><br/>Warnings:<br/>[1] Standard Errors assume that the covariance matrix of the errors is correctly specified.<br/>[2] The condition number is large, 2.88e+03. This might indicate that there are<br/>strong multicollinearity or other numerical problems."
            ],
            "text/plain": [
              "<class 'statsmodels.iolib.summary.Summary'>\n",
              "\"\"\"\n",
              "                            OLS Regression Results                            \n",
              "==============================================================================\n",
              "Dep. Variable:          Personal Loan   R-squared:                       0.386\n",
              "Model:                            OLS   Adj. R-squared:                  0.384\n",
              "Method:                 Least Squares   F-statistic:                     199.5\n",
              "Date:                Tue, 01 Sep 2020   Prob (F-statistic):               0.00\n",
              "Time:                        11:52:30   Log-Likelihood:                 137.81\n",
              "No. Observations:                3500   AIC:                            -251.6\n",
              "Df Residuals:                    3488   BIC:                            -177.7\n",
              "Df Model:                          11                                         \n",
              "Covariance Type:            nonrobust                                         \n",
              "======================================================================================\n",
              "                         coef    std err          t      P>|t|      [0.025      0.975]\n",
              "--------------------------------------------------------------------------------------\n",
              "const                 -0.2806      0.083     -3.378      0.001      -0.443      -0.118\n",
              "Age                   -0.0042      0.003     -1.258      0.209      -0.011       0.002\n",
              "Experience             0.0048      0.003      1.447      0.148      -0.002       0.011\n",
              "Income                 0.0028      0.000     24.459      0.000       0.003       0.003\n",
              "Family                 0.0360      0.003     10.343      0.000       0.029       0.043\n",
              "CCAvg                  0.0171      0.003      5.810      0.000       0.011       0.023\n",
              "Education              0.0800      0.005     16.181      0.000       0.070       0.090\n",
              "Mortgage             9.02e-05   3.89e-05      2.320      0.020     1.4e-05       0.000\n",
              "Securities Account    -0.0533      0.014     -3.856      0.000      -0.080      -0.026\n",
              "CD Account             0.3330      0.019     17.094      0.000       0.295       0.371\n",
              "Online                -0.0211      0.008     -2.584      0.010      -0.037      -0.005\n",
              "CreditCard            -0.0462      0.009     -5.089      0.000      -0.064      -0.028\n",
              "==============================================================================\n",
              "Omnibus:                      931.600   Durbin-Watson:                   1.985\n",
              "Prob(Omnibus):                  0.000   Jarque-Bera (JB):             2471.311\n",
              "Skew:                           1.418   Prob(JB):                         0.00\n",
              "Kurtosis:                       5.983   Cond. No.                     2.88e+03\n",
              "==============================================================================\n",
              "\n",
              "Warnings:\n",
              "[1] Standard Errors assume that the covariance matrix of the errors is correctly specified.\n",
              "[2] The condition number is large, 2.88e+03. This might indicate that there are\n",
              "strong multicollinearity or other numerical problems.\n",
              "\"\"\""
            ]
          },
          "metadata": {
            "tags": []
          },
          "execution_count": 74
        }
      ]
    },
    {
      "cell_type": "markdown",
      "metadata": {
        "id": "N4DxZ9MeAr5-",
        "colab_type": "text"
      },
      "source": [
        "# First Model Logistic Regression "
      ]
    },
    {
      "cell_type": "code",
      "metadata": {
        "id": "SijLy9nHXL1i",
        "colab_type": "code",
        "colab": {
          "base_uri": "https://localhost:8080/",
          "height": 50
        },
        "outputId": "02f6f887-415c-40b7-830f-2c78cd4c4793"
      },
      "source": [
        "from sklearn.linear_model import LogisticRegression \n",
        "from sklearn.metrics import accuracy_score\n",
        "lg_reg = LogisticRegression(max_iter =100000,class_weight=dic)\n",
        "lg_reg.fit(X_train, Y_train)\n",
        "print(\"test_accuracy\",lg_reg.score(X_test,Y_test))\n",
        "print(\"train_accuracy\",lg_reg.score(X_train,Y_train))"
      ],
      "execution_count": 49,
      "outputs": [
        {
          "output_type": "stream",
          "text": [
            "test_accuracy 0.944\n",
            "train_accuracy 0.9382857142857143\n"
          ],
          "name": "stdout"
        }
      ]
    },
    {
      "cell_type": "code",
      "metadata": {
        "id": "QoU5Fp52XL-V",
        "colab_type": "code",
        "colab": {}
      },
      "source": [
        "y_pred = lg_reg.predict(X_test)"
      ],
      "execution_count": 27,
      "outputs": []
    },
    {
      "cell_type": "code",
      "metadata": {
        "id": "2BP2NzmUXL6p",
        "colab_type": "code",
        "colab": {
          "base_uri": "https://localhost:8080/",
          "height": 368
        },
        "outputId": "f1032d5f-8ac4-4d89-f86d-7380dc37b92a"
      },
      "source": [
        "from yellowbrick.classifier import ClassificationReport\n",
        "viz = ClassificationReport(lg_reg)\n",
        "viz.fit(X_train, Y_train)\n",
        "viz.score(X_test, Y_test)\n"
      ],
      "execution_count": 28,
      "outputs": [
        {
          "output_type": "execute_result",
          "data": {
            "text/plain": [
              "0.944"
            ]
          },
          "metadata": {
            "tags": []
          },
          "execution_count": 28
        },
        {
          "output_type": "display_data",
          "data": {
            "image/png": "[encoded data removed]",
            "text/plain": [
              "<Figure size 576x396 with 2 Axes>"
            ]
          },
          "metadata": {
            "tags": []
          }
        }
      ]
    },
    {
      "cell_type": "code",
      "metadata": {
        "id": "6qkgKGUFeaUz",
        "colab_type": "code",
        "colab": {
          "base_uri": "https://localhost:8080/",
          "height": 269
        },
        "outputId": "a039c175-ba27-43e7-b9e3-9950c80ac4e0"
      },
      "source": [
        "lg_reg.get_params()"
      ],
      "execution_count": 29,
      "outputs": [
        {
          "output_type": "execute_result",
          "data": {
            "text/plain": [
              "{'C': 1.0,\n",
              " 'class_weight': {0: 4520, 1: 481},\n",
              " 'dual': False,\n",
              " 'fit_intercept': True,\n",
              " 'intercept_scaling': 1,\n",
              " 'l1_ratio': None,\n",
              " 'max_iter': 100000,\n",
              " 'multi_class': 'auto',\n",
              " 'n_jobs': None,\n",
              " 'penalty': 'l2',\n",
              " 'random_state': None,\n",
              " 'solver': 'lbfgs',\n",
              " 'tol': 0.0001,\n",
              " 'verbose': 0,\n",
              " 'warm_start': False}"
            ]
          },
          "metadata": {
            "tags": []
          },
          "execution_count": 29
        }
      ]
    },
    {
      "cell_type": "code",
      "metadata": {
        "id": "3IDPW35rXLyS",
        "colab_type": "code",
        "colab": {
          "base_uri": "https://localhost:8080/",
          "height": 50
        },
        "outputId": "c7345dfc-8946-4496-98a0-c9b2600bb9ab"
      },
      "source": [
        "from sklearn.metrics import confusion_matrix\n",
        "confusion_matrix(Y_test,y_pred)"
      ],
      "execution_count": 30,
      "outputs": [
        {
          "output_type": "execute_result",
          "data": {
            "text/plain": [
              "array([[1362,    0],\n",
              "       [  84,   54]])"
            ]
          },
          "metadata": {
            "tags": []
          },
          "execution_count": 30
        }
      ]
    },
    {
      "cell_type": "markdown",
      "metadata": {
        "id": "wNEtMowQcTQk",
        "colab_type": "text"
      },
      "source": [
        "#Performance Metrics\n",
        "### We choose ***f1_score*** as the evaluation matric due to the class size imbalance. 1 are 481 and 0 are 4520.\n",
        "Metrics from http://onlineconfusionmatrix.com/"
      ]
    },
    {
      "cell_type": "markdown",
      "metadata": {
        "id": "5VKQrGCF8PWv",
        "colab_type": "text"
      },
      "source": [
        "![Annotation 2020-08-31 041353.png](data:image/png;base64,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)"
      ]
    },
    {
      "cell_type": "markdown",
      "metadata": {
        "id": "23GdfwiRcxo6",
        "colab_type": "text"
      },
      "source": [
        "# Tweaking Hyperparameters\n",
        "Since the most there is a imbalance in the number of dataset of each class."
      ]
    },
    {
      "cell_type": "code",
      "metadata": {
        "id": "Mv1Wi9lyc6On",
        "colab_type": "code",
        "colab": {
          "base_uri": "https://localhost:8080/",
          "height": 151
        },
        "outputId": "59116fe9-56c1-4a05-faf4-d485c607dcd5"
      },
      "source": [
        "from sklearn.metrics import f1_score\n",
        "Lr_rate = [0.001,0.01,0.1,0.3,0.9,1.0,3,10.0]\n",
        "for i in Lr_rate:\n",
        "    lg_reg = LogisticRegression(C = i,max_iter =1000,class_weight=\"balanced\")\n",
        "    lg_reg.fit(X_train, Y_train)\n",
        "    Y_pred = lg_reg.predict(X_test)\n",
        "    print(f1_score(Y_test,Y_pred),\"C =\" + str(i))"
      ],
      "execution_count": 31,
      "outputs": [
        {
          "output_type": "stream",
          "text": [
            "0.5617977528089888 C =0.001\n",
            "0.5794392523364487 C =0.01\n",
            "0.5975903614457831 C =0.1\n",
            "0.5980861244019139 C =0.3\n",
            "0.6024096385542169 C =0.9\n",
            "0.6038647342995169 C =1.0\n",
            "0.6038647342995169 C =3\n",
            "0.6024096385542169 C =10.0\n"
          ],
          "name": "stdout"
        }
      ]
    },
    {
      "cell_type": "markdown",
      "metadata": {
        "id": "idXuw2Dd9h9P",
        "colab_type": "text"
      },
      "source": [
        "#Ways To Improving our model \n",
        "###Since there are 5 categorical variables in  the data using **Random Forest** and **descision trees** classifiers make more sense. But we will work our way upto it."
      ]
    },
    {
      "cell_type": "markdown",
      "metadata": {
        "id": "eQd_8Ph9lNVN",
        "colab_type": "text"
      },
      "source": [
        "# SVM Based Classifier"
      ]
    },
    {
      "cell_type": "code",
      "metadata": {
        "id": "5hbDXBl4lK61",
        "colab_type": "code",
        "colab": {
          "base_uri": "https://localhost:8080/",
          "height": 34
        },
        "outputId": "36dda63b-0b83-4069-faea-46f4b89c3392"
      },
      "source": [
        "from sklearn.svm import SVC\n",
        "Spvm = SVC(kernel = \"poly\",class_weight=dic)\n",
        "Spvm.fit(X_train,Y_train)\n",
        "Spvm.score(X_test,Y_test)      "
      ],
      "execution_count": 32,
      "outputs": [
        {
          "output_type": "execute_result",
          "data": {
            "text/plain": [
              "0.9566666666666667"
            ]
          },
          "metadata": {
            "tags": []
          },
          "execution_count": 32
        }
      ]
    },
    {
      "cell_type": "code",
      "metadata": {
        "id": "wu03CmWfpy6S",
        "colab_type": "code",
        "colab": {
          "base_uri": "https://localhost:8080/",
          "height": 364
        },
        "outputId": "467cdf07-c6e0-4e4d-d6c3-f649c2ab6384"
      },
      "source": [
        "Y_pred = Spvm.predict(X_test)\n",
        "from sklearn.metrics import confusion_matrix\n",
        "sns.heatmap(confusion_matrix(Y_test,Y_pred))\n",
        "f1_score(Y_test,Y_pred)"
      ],
      "execution_count": 33,
      "outputs": [
        {
          "output_type": "execute_result",
          "data": {
            "text/plain": [
              "0.6948356807511737"
            ]
          },
          "metadata": {
            "tags": []
          },
          "execution_count": 33
        },
        {
          "output_type": "display_data",
          "data": {
            "image/png": "[encoded data removed]",
            "text/plain": [
              "<Figure size 576x396 with 2 Axes>"
            ]
          },
          "metadata": {
            "tags": []
          }
        }
      ]
    },
    {
      "cell_type": "markdown",
      "metadata": {
        "id": "TPsC_jw9VrPr",
        "colab_type": "text"
      },
      "source": [
        "#Decision Tree Classifier\n",
        "As predicted we get a lot better prediction scores."
      ]
    },
    {
      "cell_type": "code",
      "metadata": {
        "id": "EVrtxBwSrumm",
        "colab_type": "code",
        "colab": {
          "base_uri": "https://localhost:8080/",
          "height": 50
        },
        "outputId": "ce16ed36-13a3-40c1-f652-ee9304de70dc"
      },
      "source": [
        "from sklearn.tree import DecisionTreeClassifier\n",
        "Dt = DecisionTreeClassifier()\n",
        "Dt.fit(X_train,Y_train)\n",
        "print(Dt.score(X_test,Y_test))\n",
        "Y_pred = Dt.predict(X_test)\n",
        "f1_score(Y_test,Y_pred)"
      ],
      "execution_count": 50,
      "outputs": [
        {
          "output_type": "stream",
          "text": [
            "0.9833333333333333\n"
          ],
          "name": "stdout"
        },
        {
          "output_type": "execute_result",
          "data": {
            "text/plain": [
              "0.9110320284697508"
            ]
          },
          "metadata": {
            "tags": []
          },
          "execution_count": 50
        }
      ]
    },
    {
      "cell_type": "code",
      "metadata": {
        "id": "Sl7ncJtwskF1",
        "colab_type": "code",
        "colab": {
          "base_uri": "https://localhost:8080/",
          "height": 398
        },
        "outputId": "18d95609-05a3-433d-a21b-4f0804ce890a"
      },
      "source": [
        "Y_pred = Dt.predict(X_test)\n",
        "from sklearn.metrics import confusion_matrix\n",
        "print(confusion_matrix(Y_test,Y_pred))\n",
        "sns.heatmap(confusion_matrix(Y_test,Y_pred))"
      ],
      "execution_count": 51,
      "outputs": [
        {
          "output_type": "stream",
          "text": [
            "[[1347   15]\n",
            " [  10  128]]\n"
          ],
          "name": "stdout"
        },
        {
          "output_type": "execute_result",
          "data": {
            "text/plain": [
              "<matplotlib.axes._subplots.AxesSubplot at 0x7f3253c10438>"
            ]
          },
          "metadata": {
            "tags": []
          },
          "execution_count": 51
        },
        {
          "output_type": "display_data",
          "data": {
            "image/png": "[encoded data removed]",
            "text/plain": [
              "<Figure size 576x396 with 2 Axes>"
            ]
          },
          "metadata": {
            "tags": []
          }
        }
      ]
    },
    {
      "cell_type": "code",
      "metadata": {
        "id": "iZ6fKhe5BglS",
        "colab_type": "code",
        "colab": {
          "base_uri": "https://localhost:8080/",
          "height": 137
        },
        "outputId": "b5ba819a-109a-418e-9f8e-2b99c7304ff1"
      },
      "source": [
        "from sklearn import tree\n",
        "import graphviz \n",
        "dt_data = tree.export_graphviz(Dt, out_file=None) \n",
        "graph = graphviz.Source(dt_data) \n",
        "graph.render(\"iris\")\n",
        "tree.export_graphviz(Dt, out_file=None, \n",
        "                   feature_names=x.columns,  \n",
        "                    class_names = \"Personal Loan\",                        filled=True, rounded=True,  \n",
        "                      special_characters=True)"
      ],
      "execution_count": 58,
      "outputs": [
        {
          "output_type": "execute_result",
          "data": {
            "application/vnd.google.colaboratory.intrinsic+json": {
              "type": "string"
            },
            "text/plain": [
              "'digraph Tree {\\nnode [shape=box, style=\"filled, rounded\", color=\"black\", fontname=helvetica] ;\\nedge [fontname=helvetica] ;\\n0 [label=<Income &le; 100.5<br/>gini = 0.176<br/>samples = 3500<br/>value = [3158, 342]<br/>class = P>, fillcolor=\"#e88f4e\"] ;\\n1 [label=<CCAvg &le; 2.95<br/>gini = 0.023<br/>samples = 2638<br/>value = [2607, 31]<br/>class = P>, fillcolor=\"#e5823b\"] ;\\n0 -> 1 [labeldistance=2.5, labelangle=45, headlabel=\"True\"] ;\\n2 [label=<gini = 0.0<br/>samples = 2472<br/>value = [2472, 0]<br/>class = P>, fillcolor=\"#e58139\"] ;\\n1 -> 2 ;\\n3 [label=<CD Account &le; 0.5<br/>gini = 0.304<br/>samples = 166<br/>value = [135, 31]<br/>class = P>, fillcolor=\"#eb9e66\"] ;\\n1 -> 3 ;\\n4 [label=<Income &le; 98.5<br/>gini = 0.242<br/>samples = 156<br/>value = [134, 22]<br/>class = P>, fillcolor=\"#e9965a\"] ;\\n3 -> 4 ;\\n5 [label=<Age &le; 26.5<br/>gini = 0.206<br/>samples = 146<br/>value = [129, 17]<br/>class = P>, fillcolor=\"#e89253\"] ;\\n4 -> 5 ;\\n6 [label=<Income &le; 90.5<br/>gini = 0.444<br/>samples = 3<br/>value = [1, 2]<br/>class = e>, fillcolor=\"#9ccef2\"] ;\\n5 -> 6 ;\\n7 [label=<gini = 0.0<br/>samples = 2<br/>value = [0, 2]<br/>class = e>, fillcolor=\"#399de5\"] ;\\n6 -> 7 ;\\n8 [label=<gini = 0.0<br/>samples = 1<br/>value = [1, 0]<br/>class = P>, fillcolor=\"#e58139\"] ;\\n6 -> 8 ;\\n9 [label=<CCAvg &le; 4.2<br/>gini = 0.188<br/>samples = 143<br/>value = [128, 15]<br/>class = P>, fillcolor=\"#e89050\"] ;\\n5 -> 9 ;\\n10 [label=<CCAvg &le; 4.05<br/>gini = 0.227<br/>samples = 115<br/>value = [100, 15]<br/>class = P>, fillcolor=\"#e99457\"] ;\\n9 -> 10 ;\\n11 [label=<Income &le; 82.5<br/>gini = 0.215<br/>samples = 114<br/>value = [100, 14]<br/>class = P>, fillcolor=\"#e99355\"] ;\\n10 -> 11 ;\\n12 [label=<Experience &le; 8.5<br/>gini = 0.145<br/>samples = 76<br/>value = [70, 6]<br/>class = P>, fillcolor=\"#e78c4a\"] ;\\n11 -> 12 ;\\n13 [label=<Family &le; 3.0<br/>gini = 0.408<br/>samples = 7<br/>value = [5, 2]<br/>class = P>, fillcolor=\"#efb388\"] ;\\n12 -> 13 ;\\n14 [label=<gini = 0.0<br/>samples = 2<br/>value = [0, 2]<br/>class = e>, fillcolor=\"#399de5\"] ;\\n13 -> 14 ;\\n15 [label=<gini = 0.0<br/>samples = 5<br/>value = [5, 0]<br/>class = P>, fillcolor=\"#e58139\"] ;\\n13 -> 15 ;\\n16 [label=<Online &le; 0.5<br/>gini = 0.109<br/>samples = 69<br/>value = [65, 4]<br/>class = P>, fillcolor=\"#e78945\"] ;\\n12 -> 16 ;\\n17 [label=<gini = 0.0<br/>samples = 23<br/>value = [23, 0]<br/>class = P>, fillcolor=\"#e58139\"] ;\\n16 -> 17 ;\\n18 [label=<CreditCard &le; 0.5<br/>gini = 0.159<br/>samples = 46<br/>value = [42, 4]<br/>class = P>, fillcolor=\"#e78d4c\"] ;\\n16 -> 18 ;\\n19 [label=<CCAvg &le; 3.15<br/>gini = 0.208<br/>samples = 34<br/>value = [30, 4]<br/>class = P>, fillcolor=\"#e89253\"] ;\\n18 -> 19 ;\\n20 [label=<Age &le; 38.0<br/>gini = 0.375<br/>samples = 8<br/>value = [6, 2]<br/>class = P>, fillcolor=\"#eeab7b\"] ;\\n19 -> 20 ;\\n21 [label=<gini = 0.0<br/>samples = 1<br/>value = [0, 1]<br/>class = e>, fillcolor=\"#399de5\"] ;\\n20 -> 21 ;\\n22 [label=<Family &le; 3.5<br/>gini = 0.245<br/>samples = 7<br/>value = [6, 1]<br/>class = P>, fillcolor=\"#e9965a\"] ;\\n20 -> 22 ;\\n23 [label=<gini = 0.0<br/>samples = 6<br/>value = [6, 0]<br/>class = P>, fillcolor=\"#e58139\"] ;\\n22 -> 23 ;\\n24 [label=<gini = 0.0<br/>samples = 1<br/>value = [0, 1]<br/>class = e>, fillcolor=\"#399de5\"] ;\\n22 -> 24 ;\\n25 [label=<Income &le; 74.0<br/>gini = 0.142<br/>samples = 26<br/>value = [24, 2]<br/>class = P>, fillcolor=\"#e78c49\"] ;\\n19 -> 25 ;\\n26 [label=<gini = 0.0<br/>samples = 12<br/>value = [12, 0]<br/>class = P>, fillcolor=\"#e58139\"] ;\\n25 -> 26 ;\\n27 [label=<Income &le; 77.0<br/>gini = 0.245<br/>samples = 14<br/>value = [12, 2]<br/>class = P>, fillcolor=\"#e9965a\"] ;\\n25 -> 27 ;\\n28 [label=<CCAvg &le; 3.6<br/>gini = 0.5<br/>samples = 2<br/>value = [1, 1]<br/>class = P>, fillcolor=\"#ffffff\"] ;\\n27 -> 28 ;\\n29 [label=<gini = 0.0<br/>samples = 1<br/>value = [0, 1]<br/>class = e>, fillcolor=\"#399de5\"] ;\\n28 -> 29 ;\\n30 [label=<gini = 0.0<br/>samples = 1<br/>value = [1, 0]<br/>class = P>, fillcolor=\"#e58139\"] ;\\n28 -> 30 ;\\n31 [label=<Age &le; 51.5<br/>gini = 0.153<br/>samples = 12<br/>value = [11, 1]<br/>class = P>, fillcolor=\"#e78c4b\"] ;\\n27 -> 31 ;\\n32 [label=<gini = 0.0<br/>samples = 8<br/>value = [8, 0]<br/>class = P>, fillcolor=\"#e58139\"] ;\\n31 -> 32 ;\\n33 [label=<Experience &le; 29.5<br/>gini = 0.375<br/>samples = 4<br/>value = [3, 1]<br/>class = P>, fillcolor=\"#eeab7b\"] ;\\n31 -> 33 ;\\n34 [label=<gini = 0.0<br/>samples = 1<br/>value = [0, 1]<br/>class = e>, fillcolor=\"#399de5\"] ;\\n33 -> 34 ;\\n35 [label=<gini = 0.0<br/>samples = 3<br/>value = [3, 0]<br/>class = P>, fillcolor=\"#e58139\"] ;\\n33 -> 35 ;\\n36 [label=<gini = 0.0<br/>samples = 12<br/>value = [12, 0]<br/>class = P>, fillcolor=\"#e58139\"] ;\\n18 -> 36 ;\\n37 [label=<Online &le; 0.5<br/>gini = 0.332<br/>samples = 38<br/>value = [30, 8]<br/>class = P>, fillcolor=\"#eca36e\"] ;\\n11 -> 37 ;\\n38 [label=<Family &le; 2.5<br/>gini = 0.465<br/>samples = 19<br/>value = [12, 7]<br/>class = P>, fillcolor=\"#f4caac\"] ;\\n37 -> 38 ;\\n39 [label=<Age &le; 30.5<br/>gini = 0.32<br/>samples = 15<br/>value = [12, 3]<br/>class = P>, fillcolor=\"#eca06a\"] ;\\n38 -> 39 ;\\n40 [label=<gini = 0.0<br/>samples = 1<br/>value = [0, 1]<br/>class = e>, fillcolor=\"#399de5\"] ;\\n39 -> 40 ;\\n41 [label=<Experience &le; 31.0<br/>gini = 0.245<br/>samples = 14<br/>value = [12, 2]<br/>class = P>, fillcolor=\"#e9965a\"] ;\\n39 -> 41 ;\\n42 [label=<gini = 0.0<br/>samples = 10<br/>value = [10, 0]<br/>class = P>, fillcolor=\"#e58139\"] ;\\n41 -> 42 ;\\n43 [label=<CCAvg &le; 3.7<br/>gini = 0.5<br/>samples = 4<br/>value = [2, 2]<br/>class = P>, fillcolor=\"#ffffff\"] ;\\n41 -> 43 ;\\n44 [label=<gini = 0.0<br/>samples = 2<br/>value = [0, 2]<br/>class = e>, fillcolor=\"#399de5\"] ;\\n43 -> 44 ;\\n45 [label=<gini = 0.0<br/>samples = 2<br/>value = [2, 0]<br/>class = P>, fillcolor=\"#e58139\"] ;\\n43 -> 45 ;\\n46 [label=<gini = 0.0<br/>samples = 4<br/>value = [0, 4]<br/>class = e>, fillcolor=\"#399de5\"] ;\\n38 -> 46 ;\\n47 [label=<Income &le; 83.5<br/>gini = 0.1<br/>samples = 19<br/>value = [18, 1]<br/>class = P>, fillcolor=\"#e68844\"] ;\\n37 -> 47 ;\\n48 [label=<CCAvg &le; 3.25<br/>gini = 0.444<br/>samples = 3<br/>value = [2, 1]<br/>class = P>, fillcolor=\"#f2c09c\"] ;\\n47 -> 48 ;\\n49 [label=<gini = 0.0<br/>samples = 1<br/>value = [0, 1]<br/>class = e>, fillcolor=\"#399de5\"] ;\\n48 -> 49 ;\\n50 [label=<gini = 0.0<br/>samples = 2<br/>value = [2, 0]<br/>class = P>, fillcolor=\"#e58139\"] ;\\n48 -> 50 ;\\n51 [label=<gini = 0.0<br/>samples = 16<br/>value = [16, 0]<br/>class = P>, fillcolor=\"#e58139\"] ;\\n47 -> 51 ;\\n52 [label=<gini = 0.0<br/>samples = 1<br/>value = [0, 1]<br/>class = e>, fillcolor=\"#399de5\"] ;\\n10 -> 52 ;\\n53 [label=<gini = 0.0<br/>samples = 28<br/>value = [28, 0]<br/>class = P>, fillcolor=\"#e58139\"] ;\\n9 -> 53 ;\\n54 [label=<Experience &le; 26.5<br/>gini = 0.5<br/>samples = 10<br/>value = [5, 5]<br/>class = P>, fillcolor=\"#ffffff\"] ;\\n4 -> 54 ;\\n55 [label=<CCAvg &le; 3.65<br/>gini = 0.408<br/>samples = 7<br/>value = [5, 2]<br/>class = P>, fillcolor=\"#efb388\"] ;\\n54 -> 55 ;\\n56 [label=<gini = 0.0<br/>samples = 2<br/>value = [0, 2]<br/>class = e>, fillcolor=\"#399de5\"] ;\\n55 -> 56 ;\\n57 [label=<gini = 0.0<br/>samples = 5<br/>value = [5, 0]<br/>class = P>, fillcolor=\"#e58139\"] ;\\n55 -> 57 ;\\n58 [label=<gini = 0.0<br/>samples = 3<br/>value = [0, 3]<br/>class = e>, fillcolor=\"#399de5\"] ;\\n54 -> 58 ;\\n59 [label=<CCAvg &le; 4.25<br/>gini = 0.18<br/>samples = 10<br/>value = [1, 9]<br/>class = e>, fillcolor=\"#4fa8e8\"] ;\\n3 -> 59 ;\\n60 [label=<gini = 0.0<br/>samples = 9<br/>value = [0, 9]<br/>class = e>, fillcolor=\"#399de5\"] ;\\n59 -> 60 ;\\n61 [label=<gini = 0.0<br/>samples = 1<br/>value = [1, 0]<br/>class = P>, fillcolor=\"#e58139\"] ;\\n59 -> 61 ;\\n62 [label=<Education &le; 1.5<br/>gini = 0.461<br/>samples = 862<br/>value = [551, 311]<br/>class = P>, fillcolor=\"#f4c8a9\"] ;\\n0 -> 62 [labeldistance=2.5, labelangle=-45, headlabel=\"False\"] ;\\n63 [label=<Family &le; 2.5<br/>gini = 0.187<br/>samples = 538<br/>value = [482, 56]<br/>class = P>, fillcolor=\"#e89050\"] ;\\n62 -> 63 ;\\n64 [label=<Income &le; 101.5<br/>gini = 0.008<br/>samples = 471<br/>value = [469, 2]<br/>class = P>, fillcolor=\"#e5823a\"] ;\\n63 -> 64 ;\\n65 [label=<CCAvg &le; 3.35<br/>gini = 0.375<br/>samples = 4<br/>value = [3, 1]<br/>class = P>, fillcolor=\"#eeab7b\"] ;\\n64 -> 65 ;\\n66 [label=<gini = 0.0<br/>samples = 3<br/>value = [3, 0]<br/>class = P>, fillcolor=\"#e58139\"] ;\\n65 -> 66 ;\\n67 [label=<gini = 0.0<br/>samples = 1<br/>value = [0, 1]<br/>class = e>, fillcolor=\"#399de5\"] ;\\n65 -> 67 ;\\n68 [label=<Income &le; 104.5<br/>gini = 0.004<br/>samples = 467<br/>value = [466, 1]<br/>class = P>, fillcolor=\"#e58139\"] ;\\n64 -> 68 ;\\n69 [label=<CCAvg &le; 3.55<br/>gini = 0.111<br/>samples = 17<br/>value = [16, 1]<br/>class = P>, fillcolor=\"#e78945\"] ;\\n68 -> 69 ;\\n70 [label=<gini = 0.0<br/>samples = 14<br/>value = [14, 0]<br/>class = P>, fillcolor=\"#e58139\"] ;\\n69 -> 70 ;\\n71 [label=<Experience &le; 14.0<br/>gini = 0.444<br/>samples = 3<br/>value = [2, 1]<br/>class = P>, fillcolor=\"#f2c09c\"] ;\\n69 -> 71 ;\\n72 [label=<gini = 0.0<br/>samples = 1<br/>value = [0, 1]<br/>class = e>, fillcolor=\"#399de5\"] ;\\n71 -> 72 ;\\n73 [label=<gini = 0.0<br/>samples = 2<br/>value = [2, 0]<br/>class = P>, fillcolor=\"#e58139\"] ;\\n71 -> 73 ;\\n74 [label=<gini = 0.0<br/>samples = 450<br/>value = [450, 0]<br/>class = P>, fillcolor=\"#e58139\"] ;\\n68 -> 74 ;\\n75 [label=<Income &le; 113.5<br/>gini = 0.313<br/>samples = 67<br/>value = [13, 54]<br/>class = e>, fillcolor=\"#69b5eb\"] ;\\n63 -> 75 ;\\n76 [label=<Family &le; 3.5<br/>gini = 0.432<br/>samples = 19<br/>value = [13, 6]<br/>class = P>, fillcolor=\"#f1bb94\"] ;\\n75 -> 76 ;\\n77 [label=<CCAvg &le; 3.25<br/>gini = 0.142<br/>samples = 13<br/>value = [12, 1]<br/>class = P>, fillcolor=\"#e78c49\"] ;\\n76 -> 77 ;\\n78 [label=<gini = 0.0<br/>samples = 9<br/>value = [9, 0]<br/>class = P>, fillcolor=\"#e58139\"] ;\\n77 -> 78 ;\\n79 [label=<Experience &le; 20.5<br/>gini = 0.375<br/>samples = 4<br/>value = [3, 1]<br/>class = P>, fillcolor=\"#eeab7b\"] ;\\n77 -> 79 ;\\n80 [label=<gini = 0.0<br/>samples = 1<br/>value = [0, 1]<br/>class = e>, fillcolor=\"#399de5\"] ;\\n79 -> 80 ;\\n81 [label=<gini = 0.0<br/>samples = 3<br/>value = [3, 0]<br/>class = P>, fillcolor=\"#e58139\"] ;\\n79 -> 81 ;\\n82 [label=<CCAvg &le; 4.15<br/>gini = 0.278<br/>samples = 6<br/>value = [1, 5]<br/>class = e>, fillcolor=\"#61b1ea\"] ;\\n76 -> 82 ;\\n83 [label=<gini = 0.0<br/>samples = 5<br/>value = [0, 5]<br/>class = e>, fillcolor=\"#399de5\"] ;\\n82 -> 83 ;\\n84 [label=<gini = 0.0<br/>samples = 1<br/>value = [1, 0]<br/>class = P>, fillcolor=\"#e58139\"] ;\\n82 -> 84 ;\\n85 [label=<gini = 0.0<br/>samples = 48<br/>value = [0, 48]<br/>class = e>, fillcolor=\"#399de5\"] ;\\n75 -> 85 ;\\n86 [label=<Income &le; 116.5<br/>gini = 0.335<br/>samples = 324<br/>value = [69, 255]<br/>class = e>, fillcolor=\"#6fb8ec\"] ;\\n62 -> 86 ;\\n87 [label=<CCAvg &le; 2.45<br/>gini = 0.451<br/>samples = 105<br/>value = [69, 36]<br/>class = P>, fillcolor=\"#f3c3a0\"] ;\\n86 -> 87 ;\\n88 [label=<Income &le; 107.0<br/>gini = 0.227<br/>samples = 69<br/>value = [60, 9]<br/>class = P>, fillcolor=\"#e99457\"] ;\\n87 -> 88 ;\\n89 [label=<gini = 0.0<br/>samples = 25<br/>value = [25, 0]<br/>class = P>, fillcolor=\"#e58139\"] ;\\n88 -> 89 ;\\n90 [label=<Experience &le; 31.5<br/>gini = 0.325<br/>samples = 44<br/>value = [35, 9]<br/>class = P>, fillcolor=\"#eca16c\"] ;\\n88 -> 90 ;\\n91 [label=<Age &le; 41.5<br/>gini = 0.404<br/>samples = 32<br/>value = [23, 9]<br/>class = P>, fillcolor=\"#efb286\"] ;\\n90 -> 91 ;\\n92 [label=<CD Account &le; 0.5<br/>gini = 0.278<br/>samples = 24<br/>value = [20, 4]<br/>class = P>, fillcolor=\"#ea9a61\"] ;\\n91 -> 92 ;\\n93 [label=<Education &le; 2.5<br/>gini = 0.227<br/>samples = 23<br/>value = [20, 3]<br/>class = P>, fillcolor=\"#e99457\"] ;\\n92 -> 93 ;\\n94 [label=<Family &le; 3.5<br/>gini = 0.444<br/>samples = 9<br/>value = [6, 3]<br/>class = P>, fillcolor=\"#f2c09c\"] ;\\n93 -> 94 ;\\n95 [label=<Experience &le; 4.5<br/>gini = 0.245<br/>samples = 7<br/>value = [6, 1]<br/>class = P>, fillcolor=\"#e9965a\"] ;\\n94 -> 95 ;\\n96 [label=<gini = 0.0<br/>samples = 1<br/>value = [0, 1]<br/>class = e>, fillcolor=\"#399de5\"] ;\\n95 -> 96 ;\\n97 [label=<gini = 0.0<br/>samples = 6<br/>value = [6, 0]<br/>class = P>, fillcolor=\"#e58139\"] ;\\n95 -> 97 ;\\n98 [label=<gini = 0.0<br/>samples = 2<br/>value = [0, 2]<br/>class = e>, fillcolor=\"#399de5\"] ;\\n94 -> 98 ;\\n99 [label=<gini = 0.0<br/>samples = 14<br/>value = [14, 0]<br/>class = P>, fillcolor=\"#e58139\"] ;\\n93 -> 99 ;\\n100 [label=<gini = 0.0<br/>samples = 1<br/>value = [0, 1]<br/>class = e>, fillcolor=\"#399de5\"] ;\\n92 -> 100 ;\\n101 [label=<Online &le; 0.5<br/>gini = 0.469<br/>samples = 8<br/>value = [3, 5]<br/>class = e>, fillcolor=\"#b0d8f5\"] ;\\n91 -> 101 ;\\n102 [label=<Income &le; 114.0<br/>gini = 0.375<br/>samples = 4<br/>value = [3, 1]<br/>class = P>, fillcolor=\"#eeab7b\"] ;\\n101 -> 102 ;\\n103 [label=<gini = 0.0<br/>samples = 3<br/>value = [3, 0]<br/>class = P>, fillcolor=\"#e58139\"] ;\\n102 -> 103 ;\\n104 [label=<gini = 0.0<br/>samples = 1<br/>value = [0, 1]<br/>class = e>, fillcolor=\"#399de5\"] ;\\n102 -> 104 ;\\n105 [label=<gini = 0.0<br/>samples = 4<br/>value = [0, 4]<br/>class = e>, fillcolor=\"#399de5\"] ;\\n101 -> 105 ;\\n106 [label=<gini = 0.0<br/>samples = 12<br/>value = [12, 0]<br/>class = P>, fillcolor=\"#e58139\"] ;\\n90 -> 106 ;\\n107 [label=<Experience &le; 16.5<br/>gini = 0.375<br/>samples = 36<br/>value = [9, 27]<br/>class = e>, fillcolor=\"#7bbeee\"] ;\\n87 -> 107 ;\\n108 [label=<Family &le; 2.5<br/>gini = 0.49<br/>samples = 14<br/>value = [6, 8]<br/>class = e>, fillcolor=\"#cee6f8\"] ;\\n107 -> 108 ;\\n109 [label=<Experience &le; 5.0<br/>gini = 0.375<br/>samples = 8<br/>value = [6, 2]<br/>class = P>, fillcolor=\"#eeab7b\"] ;\\n108 -> 109 ;\\n110 [label=<gini = 0.0<br/>samples = 1<br/>value = [0, 1]<br/>class = e>, fillcolor=\"#399de5\"] ;\\n109 -> 110 ;\\n111 [label=<Age &le; 34.0<br/>gini = 0.245<br/>samples = 7<br/>value = [6, 1]<br/>class = P>, fillcolor=\"#e9965a\"] ;\\n109 -> 111 ;\\n112 [label=<CreditCard &le; 0.5<br/>gini = 0.444<br/>samples = 3<br/>value = [2, 1]<br/>class = P>, fillcolor=\"#f2c09c\"] ;\\n111 -> 112 ;\\n113 [label=<gini = 0.0<br/>samples = 2<br/>value = [2, 0]<br/>class = P>, fillcolor=\"#e58139\"] ;\\n112 -> 113 ;\\n114 [label=<gini = 0.0<br/>samples = 1<br/>value = [0, 1]<br/>class = e>, fillcolor=\"#399de5\"] ;\\n112 -> 114 ;\\n115 [label=<gini = 0.0<br/>samples = 4<br/>value = [4, 0]<br/>class = P>, fillcolor=\"#e58139\"] ;\\n111 -> 115 ;\\n116 [label=<gini = 0.0<br/>samples = 6<br/>value = [0, 6]<br/>class = e>, fillcolor=\"#399de5\"] ;\\n108 -> 116 ;\\n117 [label=<CCAvg &le; 3.85<br/>gini = 0.236<br/>samples = 22<br/>value = [3, 19]<br/>class = e>, fillcolor=\"#58ace9\"] ;\\n107 -> 117 ;\\n118 [label=<Mortgage &le; 57.5<br/>gini = 0.469<br/>samples = 8<br/>value = [3, 5]<br/>class = e>, fillcolor=\"#b0d8f5\"] ;\\n117 -> 118 ;\\n119 [label=<Family &le; 3.0<br/>gini = 0.48<br/>samples = 5<br/>value = [3, 2]<br/>class = P>, fillcolor=\"#f6d5bd\"] ;\\n118 -> 119 ;\\n120 [label=<Experience &le; 24.0<br/>gini = 0.444<br/>samples = 3<br/>value = [1, 2]<br/>class = e>, fillcolor=\"#9ccef2\"] ;\\n119 -> 120 ;\\n121 [label=<gini = 0.0<br/>samples = 1<br/>value = [1, 0]<br/>class = P>, fillcolor=\"#e58139\"] ;\\n120 -> 121 ;\\n122 [label=<gini = 0.0<br/>samples = 2<br/>value = [0, 2]<br/>class = e>, fillcolor=\"#399de5\"] ;\\n120 -> 122 ;\\n123 [label=<gini = 0.0<br/>samples = 2<br/>value = [2, 0]<br/>class = P>, fillcolor=\"#e58139\"] ;\\n119 -> 123 ;\\n124 [label=<gini = 0.0<br/>samples = 3<br/>value = [0, 3]<br/>class = e>, fillcolor=\"#399de5\"] ;\\n118 -> 124 ;\\n125 [label=<gini = 0.0<br/>samples = 14<br/>value = [0, 14]<br/>class = e>, fillcolor=\"#399de5\"] ;\\n117 -> 125 ;\\n126 [label=<gini = 0.0<br/>samples = 219<br/>value = [0, 219]<br/>class = e>, fillcolor=\"#399de5\"] ;\\n86 -> 126 ;\\n}'"
            ]
          },
          "metadata": {
            "tags": []
          },
          "execution_count": 58
        }
      ]
    },
    {
      "cell_type": "code",
      "metadata": {
        "id": "S9kDJeIBDEJk",
        "colab_type": "code",
        "colab": {
          "base_uri": "https://localhost:8080/",
          "height": 67
        },
        "outputId": "faad012f-c8d0-4058-a202-d6dca390ca52"
      },
      "source": [
        "x.columns"
      ],
      "execution_count": 60,
      "outputs": [
        {
          "output_type": "execute_result",
          "data": {
            "text/plain": [
              "Index(['Age', 'Experience', 'Income', 'Family', 'CCAvg', 'Education',\n",
              "       'Mortgage', 'Securities Account', 'CD Account', 'Online', 'CreditCard'],\n",
              "      dtype='object')"
            ]
          },
          "metadata": {
            "tags": []
          },
          "execution_count": 60
        }
      ]
    },
    {
      "cell_type": "code",
      "metadata": {
        "id": "VvRVUdyiC6Zn",
        "colab_type": "code",
        "colab": {
          "base_uri": "https://localhost:8080/",
          "height": 2341
        },
        "outputId": "d7286108-7d1d-47c0-cf12-6d446cf7a99e"
      },
      "source": [
        "graph = graphviz.Source(dt_data) \n",
        "graph"
      ],
      "execution_count": 59,
      "outputs": [
        {
          "output_type": "execute_result",
          "data": {
            "text/plain": [
              "<graphviz.files.Source at 0x7f3253820ef0>"
            ],
            "image/svg+xml": "<?xml version=\"1.0\" encoding=\"UTF-8\" standalone=\"no\"?>\n<!DOCTYPE svg PUBLIC \"-//W3C//DTD SVG 1.1//EN\"\n \"http://www.w3.org/Graphics/SVG/1.1/DTD/svg11.dtd\">\n<!-- Generated by graphviz version 2.40.1 (20161225.0304)\n -->\n<!-- Title: Tree Pages: 1 -->\n<svg width=\"2451pt\" height=\"1725pt\"\n viewBox=\"0.00 0.00 2450.50 1725.00\" xmlns=\"http://www.w3.org/2000/svg\" xmlns:xlink=\"http://www.w3.org/1999/xlink\">\n<g id=\"graph0\" class=\"graph\" transform=\"scale(1 1) rotate(0) translate(4 1721)\">\n<title>Tree</title>\n<polygon fill=\"#ffffff\" stroke=\"transparent\" points=\"-4,4 -4,-1721 2446.5,-1721 2446.5,4 -4,4\"/>\n<!-- 0 -->\n<g id=\"node1\" class=\"node\">\n<title>0</title>\n<polygon fill=\"none\" stroke=\"#000000\" points=\"1223.5,-1717 1091.5,-1717 1091.5,-1649 1223.5,-1649 1223.5,-1717\"/>\n<text text-anchor=\"middle\" x=\"1157.5\" y=\"-1701.8\" font-family=\"Times,serif\" font-size=\"14.00\" fill=\"#000000\">X[2] &lt;= 100.5</text>\n<text text-anchor=\"middle\" x=\"1157.5\" y=\"-1686.8\" font-family=\"Times,serif\" font-size=\"14.00\" fill=\"#000000\">gini = 0.176</text>\n<text text-anchor=\"middle\" x=\"1157.5\" y=\"-1671.8\" font-family=\"Times,serif\" font-size=\"14.00\" fill=\"#000000\">samples = 3500</text>\n<text text-anchor=\"middle\" x=\"1157.5\" y=\"-1656.8\" font-family=\"Times,serif\" font-size=\"14.00\" fill=\"#000000\">value = [3158, 342]</text>\n</g>\n<!-- 1 -->\n<g id=\"node2\" class=\"node\">\n<title>1</title>\n<polygon fill=\"none\" stroke=\"#000000\" points=\"1002,-1613 877,-1613 877,-1545 1002,-1545 1002,-1613\"/>\n<text text-anchor=\"middle\" x=\"939.5\" y=\"-1597.8\" font-family=\"Times,serif\" font-size=\"14.00\" fill=\"#000000\">X[4] &lt;= 2.95</text>\n<text text-anchor=\"middle\" x=\"939.5\" y=\"-1582.8\" font-family=\"Times,serif\" font-size=\"14.00\" fill=\"#000000\">gini = 0.023</text>\n<text text-anchor=\"middle\" x=\"939.5\" y=\"-1567.8\" font-family=\"Times,serif\" font-size=\"14.00\" fill=\"#000000\">samples = 2638</text>\n<text text-anchor=\"middle\" x=\"939.5\" y=\"-1552.8\" font-family=\"Times,serif\" font-size=\"14.00\" fill=\"#000000\">value = [2607, 31]</text>\n</g>\n<!-- 0&#45;&gt;1 -->\n<g id=\"edge1\" class=\"edge\">\n<title>0&#45;&gt;1</title>\n<path fill=\"none\" stroke=\"#000000\" d=\"M1091.2049,-1651.373C1065.991,-1639.3443 1037.1557,-1625.5881 1011.4433,-1613.3216\"/>\n<polygon fill=\"#000000\" stroke=\"#000000\" points=\"1012.6566,-1610.0226 1002.124,-1608.8757 1009.6426,-1616.3405 1012.6566,-1610.0226\"/>\n<text text-anchor=\"middle\" x=\"1010.4675\" y=\"-1628.7423\" font-family=\"Times,serif\" font-size=\"14.00\" fill=\"#000000\">True</text>\n</g>\n<!-- 62 -->\n<g id=\"node63\" class=\"node\">\n<title>62</title>\n<polygon fill=\"none\" stroke=\"#000000\" points=\"1437.5,-1613 1313.5,-1613 1313.5,-1545 1437.5,-1545 1437.5,-1613\"/>\n<text text-anchor=\"middle\" x=\"1375.5\" y=\"-1597.8\" font-family=\"Times,serif\" font-size=\"14.00\" fill=\"#000000\">X[5] &lt;= 1.5</text>\n<text text-anchor=\"middle\" x=\"1375.5\" y=\"-1582.8\" font-family=\"Times,serif\" font-size=\"14.00\" fill=\"#000000\">gini = 0.461</text>\n<text text-anchor=\"middle\" x=\"1375.5\" y=\"-1567.8\" font-family=\"Times,serif\" font-size=\"14.00\" fill=\"#000000\">samples = 862</text>\n<text text-anchor=\"middle\" x=\"1375.5\" y=\"-1552.8\" font-family=\"Times,serif\" font-size=\"14.00\" fill=\"#000000\">value = [551, 311]</text>\n</g>\n<!-- 0&#45;&gt;62 -->\n<g id=\"edge62\" class=\"edge\">\n<title>0&#45;&gt;62</title>\n<path fill=\"none\" stroke=\"#000000\" d=\"M1223.7951,-1651.373C1249.1206,-1639.2911 1278.0995,-1625.4663 1303.8979,-1613.1588\"/>\n<polygon fill=\"#000000\" stroke=\"#000000\" points=\"1305.7274,-1616.1639 1313.2459,-1608.6992 1302.7134,-1609.8461 1305.7274,-1616.1639\"/>\n<text text-anchor=\"middle\" x=\"1304.9025\" y=\"-1628.5658\" font-family=\"Times,serif\" font-size=\"14.00\" fill=\"#000000\">False</text>\n</g>\n<!-- 2 -->\n<g id=\"node3\" class=\"node\">\n<title>2</title>\n<polygon fill=\"none\" stroke=\"#000000\" points=\"863,-1501.5 746,-1501.5 746,-1448.5 863,-1448.5 863,-1501.5\"/>\n<text text-anchor=\"middle\" x=\"804.5\" y=\"-1486.3\" font-family=\"Times,serif\" font-size=\"14.00\" fill=\"#000000\">gini = 0.0</text>\n<text text-anchor=\"middle\" x=\"804.5\" y=\"-1471.3\" font-family=\"Times,serif\" font-size=\"14.00\" fill=\"#000000\">samples = 2472</text>\n<text text-anchor=\"middle\" x=\"804.5\" y=\"-1456.3\" font-family=\"Times,serif\" font-size=\"14.00\" fill=\"#000000\">value = [2472, 0]</text>\n</g>\n<!-- 1&#45;&gt;2 -->\n<g id=\"edge2\" class=\"edge\">\n<title>1&#45;&gt;2</title>\n<path fill=\"none\" stroke=\"#000000\" d=\"M895.296,-1544.9465C879.8539,-1533.0504 862.5578,-1519.726 847.2375,-1507.9237\"/>\n<polygon fill=\"#000000\" stroke=\"#000000\" points=\"849.0117,-1504.8723 838.9538,-1501.5422 844.7397,-1510.4176 849.0117,-1504.8723\"/>\n</g>\n<!-- 3 -->\n<g id=\"node4\" class=\"node\">\n<title>3</title>\n<polygon fill=\"none\" stroke=\"#000000\" points=\"998,-1509 881,-1509 881,-1441 998,-1441 998,-1509\"/>\n<text text-anchor=\"middle\" x=\"939.5\" y=\"-1493.8\" font-family=\"Times,serif\" font-size=\"14.00\" fill=\"#000000\">X[8] &lt;= 0.5</text>\n<text text-anchor=\"middle\" x=\"939.5\" y=\"-1478.8\" font-family=\"Times,serif\" font-size=\"14.00\" fill=\"#000000\">gini = 0.304</text>\n<text text-anchor=\"middle\" x=\"939.5\" y=\"-1463.8\" font-family=\"Times,serif\" font-size=\"14.00\" fill=\"#000000\">samples = 166</text>\n<text text-anchor=\"middle\" x=\"939.5\" y=\"-1448.8\" font-family=\"Times,serif\" font-size=\"14.00\" fill=\"#000000\">value = [135, 31]</text>\n</g>\n<!-- 1&#45;&gt;3 -->\n<g id=\"edge3\" class=\"edge\">\n<title>1&#45;&gt;3</title>\n<path fill=\"none\" stroke=\"#000000\" d=\"M939.5,-1544.9465C939.5,-1536.776 939.5,-1527.9318 939.5,-1519.3697\"/>\n<polygon fill=\"#000000\" stroke=\"#000000\" points=\"943.0001,-1519.13 939.5,-1509.13 936.0001,-1519.13 943.0001,-1519.13\"/>\n</g>\n<!-- 4 -->\n<g id=\"node5\" class=\"node\">\n<title>4</title>\n<polygon fill=\"none\" stroke=\"#000000\" points=\"823,-1405 706,-1405 706,-1337 823,-1337 823,-1405\"/>\n<text text-anchor=\"middle\" x=\"764.5\" y=\"-1389.8\" font-family=\"Times,serif\" font-size=\"14.00\" fill=\"#000000\">X[2] &lt;= 98.5</text>\n<text text-anchor=\"middle\" x=\"764.5\" y=\"-1374.8\" font-family=\"Times,serif\" font-size=\"14.00\" fill=\"#000000\">gini = 0.242</text>\n<text text-anchor=\"middle\" x=\"764.5\" y=\"-1359.8\" font-family=\"Times,serif\" font-size=\"14.00\" fill=\"#000000\">samples = 156</text>\n<text text-anchor=\"middle\" x=\"764.5\" y=\"-1344.8\" font-family=\"Times,serif\" font-size=\"14.00\" fill=\"#000000\">value = [134, 22]</text>\n</g>\n<!-- 3&#45;&gt;4 -->\n<g id=\"edge4\" class=\"edge\">\n<title>3&#45;&gt;4</title>\n<path fill=\"none\" stroke=\"#000000\" d=\"M882.1985,-1440.9465C865.7306,-1431.1599 847.6362,-1420.4066 830.6793,-1410.3294\"/>\n<polygon fill=\"#000000\" stroke=\"#000000\" points=\"832.3149,-1407.23 821.9303,-1405.13 828.7387,-1413.2476 832.3149,-1407.23\"/>\n</g>\n<!-- 59 -->\n<g id=\"node60\" class=\"node\">\n<title>59</title>\n<polygon fill=\"none\" stroke=\"#000000\" points=\"987,-1405 892,-1405 892,-1337 987,-1337 987,-1405\"/>\n<text text-anchor=\"middle\" x=\"939.5\" y=\"-1389.8\" font-family=\"Times,serif\" font-size=\"14.00\" fill=\"#000000\">X[4] &lt;= 4.25</text>\n<text text-anchor=\"middle\" x=\"939.5\" y=\"-1374.8\" font-family=\"Times,serif\" font-size=\"14.00\" fill=\"#000000\">gini = 0.18</text>\n<text text-anchor=\"middle\" x=\"939.5\" y=\"-1359.8\" font-family=\"Times,serif\" font-size=\"14.00\" fill=\"#000000\">samples = 10</text>\n<text text-anchor=\"middle\" x=\"939.5\" y=\"-1344.8\" font-family=\"Times,serif\" font-size=\"14.00\" fill=\"#000000\">value = [1, 9]</text>\n</g>\n<!-- 3&#45;&gt;59 -->\n<g id=\"edge59\" class=\"edge\">\n<title>3&#45;&gt;59</title>\n<path fill=\"none\" stroke=\"#000000\" d=\"M939.5,-1440.9465C939.5,-1432.776 939.5,-1423.9318 939.5,-1415.3697\"/>\n<polygon fill=\"#000000\" stroke=\"#000000\" points=\"943.0001,-1415.13 939.5,-1405.13 936.0001,-1415.13 943.0001,-1415.13\"/>\n</g>\n<!-- 5 -->\n<g id=\"node6\" class=\"node\">\n<title>5</title>\n<polygon fill=\"none\" stroke=\"#000000\" points=\"638,-1301 521,-1301 521,-1233 638,-1233 638,-1301\"/>\n<text text-anchor=\"middle\" x=\"579.5\" y=\"-1285.8\" font-family=\"Times,serif\" font-size=\"14.00\" fill=\"#000000\">X[0] &lt;= 26.5</text>\n<text text-anchor=\"middle\" x=\"579.5\" y=\"-1270.8\" font-family=\"Times,serif\" font-size=\"14.00\" fill=\"#000000\">gini = 0.206</text>\n<text text-anchor=\"middle\" x=\"579.5\" y=\"-1255.8\" font-family=\"Times,serif\" font-size=\"14.00\" fill=\"#000000\">samples = 146</text>\n<text text-anchor=\"middle\" x=\"579.5\" y=\"-1240.8\" font-family=\"Times,serif\" font-size=\"14.00\" fill=\"#000000\">value = [129, 17]</text>\n</g>\n<!-- 4&#45;&gt;5 -->\n<g id=\"edge5\" class=\"edge\">\n<title>4&#45;&gt;5</title>\n<path fill=\"none\" stroke=\"#000000\" d=\"M705.9648,-1338.0938C687.2379,-1327.5662 666.3542,-1315.8261 647.0397,-1304.9683\"/>\n<polygon fill=\"#000000\" stroke=\"#000000\" points=\"648.7215,-1301.8986 638.2893,-1300.0491 645.2912,-1308.0005 648.7215,-1301.8986\"/>\n</g>\n<!-- 54 -->\n<g id=\"node55\" class=\"node\">\n<title>54</title>\n<polygon fill=\"none\" stroke=\"#000000\" points=\"812,-1301 717,-1301 717,-1233 812,-1233 812,-1301\"/>\n<text text-anchor=\"middle\" x=\"764.5\" y=\"-1285.8\" font-family=\"Times,serif\" font-size=\"14.00\" fill=\"#000000\">X[1] &lt;= 26.5</text>\n<text text-anchor=\"middle\" x=\"764.5\" y=\"-1270.8\" font-family=\"Times,serif\" font-size=\"14.00\" fill=\"#000000\">gini = 0.5</text>\n<text text-anchor=\"middle\" x=\"764.5\" y=\"-1255.8\" font-family=\"Times,serif\" font-size=\"14.00\" fill=\"#000000\">samples = 10</text>\n<text text-anchor=\"middle\" x=\"764.5\" y=\"-1240.8\" font-family=\"Times,serif\" font-size=\"14.00\" fill=\"#000000\">value = [5, 5]</text>\n</g>\n<!-- 4&#45;&gt;54 -->\n<g id=\"edge54\" class=\"edge\">\n<title>4&#45;&gt;54</title>\n<path fill=\"none\" stroke=\"#000000\" d=\"M764.5,-1336.9465C764.5,-1328.776 764.5,-1319.9318 764.5,-1311.3697\"/>\n<polygon fill=\"#000000\" stroke=\"#000000\" points=\"768.0001,-1311.13 764.5,-1301.13 761.0001,-1311.13 768.0001,-1311.13\"/>\n</g>\n<!-- 6 -->\n<g id=\"node7\" class=\"node\">\n<title>6</title>\n<polygon fill=\"none\" stroke=\"#000000\" points=\"443,-1197 348,-1197 348,-1129 443,-1129 443,-1197\"/>\n<text text-anchor=\"middle\" x=\"395.5\" y=\"-1181.8\" font-family=\"Times,serif\" font-size=\"14.00\" fill=\"#000000\">X[2] &lt;= 90.5</text>\n<text text-anchor=\"middle\" x=\"395.5\" y=\"-1166.8\" font-family=\"Times,serif\" font-size=\"14.00\" fill=\"#000000\">gini = 0.444</text>\n<text text-anchor=\"middle\" x=\"395.5\" y=\"-1151.8\" font-family=\"Times,serif\" font-size=\"14.00\" fill=\"#000000\">samples = 3</text>\n<text text-anchor=\"middle\" x=\"395.5\" y=\"-1136.8\" font-family=\"Times,serif\" font-size=\"14.00\" fill=\"#000000\">value = [1, 2]</text>\n</g>\n<!-- 5&#45;&gt;6 -->\n<g id=\"edge6\" class=\"edge\">\n<title>5&#45;&gt;6</title>\n<path fill=\"none\" stroke=\"#000000\" d=\"M520.7754,-1233.8078C498.7752,-1221.3729 473.841,-1207.2797 452.0424,-1194.9588\"/>\n<polygon fill=\"#000000\" stroke=\"#000000\" points=\"453.6546,-1191.8497 443.2268,-1189.976 450.2102,-1197.9436 453.6546,-1191.8497\"/>\n</g>\n<!-- 9 -->\n<g id=\"node10\" class=\"node\">\n<title>9</title>\n<polygon fill=\"none\" stroke=\"#000000\" points=\"638,-1197 521,-1197 521,-1129 638,-1129 638,-1197\"/>\n<text text-anchor=\"middle\" x=\"579.5\" y=\"-1181.8\" font-family=\"Times,serif\" font-size=\"14.00\" fill=\"#000000\">X[4] &lt;= 4.2</text>\n<text text-anchor=\"middle\" x=\"579.5\" y=\"-1166.8\" font-family=\"Times,serif\" font-size=\"14.00\" fill=\"#000000\">gini = 0.188</text>\n<text text-anchor=\"middle\" x=\"579.5\" y=\"-1151.8\" font-family=\"Times,serif\" font-size=\"14.00\" fill=\"#000000\">samples = 143</text>\n<text text-anchor=\"middle\" x=\"579.5\" y=\"-1136.8\" font-family=\"Times,serif\" font-size=\"14.00\" fill=\"#000000\">value = [128, 15]</text>\n</g>\n<!-- 5&#45;&gt;9 -->\n<g id=\"edge9\" class=\"edge\">\n<title>5&#45;&gt;9</title>\n<path fill=\"none\" stroke=\"#000000\" d=\"M579.5,-1232.9465C579.5,-1224.776 579.5,-1215.9318 579.5,-1207.3697\"/>\n<polygon fill=\"#000000\" stroke=\"#000000\" points=\"583.0001,-1207.13 579.5,-1197.13 576.0001,-1207.13 583.0001,-1207.13\"/>\n</g>\n<!-- 7 -->\n<g id=\"node8\" class=\"node\">\n<title>7</title>\n<polygon fill=\"none\" stroke=\"#000000\" points=\"330,-1085.5 235,-1085.5 235,-1032.5 330,-1032.5 330,-1085.5\"/>\n<text text-anchor=\"middle\" x=\"282.5\" y=\"-1070.3\" font-family=\"Times,serif\" font-size=\"14.00\" fill=\"#000000\">gini = 0.0</text>\n<text text-anchor=\"middle\" x=\"282.5\" y=\"-1055.3\" font-family=\"Times,serif\" font-size=\"14.00\" fill=\"#000000\">samples = 2</text>\n<text text-anchor=\"middle\" x=\"282.5\" y=\"-1040.3\" font-family=\"Times,serif\" font-size=\"14.00\" fill=\"#000000\">value = [0, 2]</text>\n</g>\n<!-- 6&#45;&gt;7 -->\n<g id=\"edge7\" class=\"edge\">\n<title>6&#45;&gt;7</title>\n<path fill=\"none\" stroke=\"#000000\" d=\"M358.4996,-1128.9465C345.8134,-1117.2707 331.6322,-1104.219 318.987,-1092.5809\"/>\n<polygon fill=\"#000000\" stroke=\"#000000\" points=\"321.0673,-1089.7389 311.3391,-1085.5422 316.3269,-1094.8895 321.0673,-1089.7389\"/>\n</g>\n<!-- 8 -->\n<g id=\"node9\" class=\"node\">\n<title>8</title>\n<polygon fill=\"none\" stroke=\"#000000\" points=\"443,-1085.5 348,-1085.5 348,-1032.5 443,-1032.5 443,-1085.5\"/>\n<text text-anchor=\"middle\" x=\"395.5\" y=\"-1070.3\" font-family=\"Times,serif\" font-size=\"14.00\" fill=\"#000000\">gini = 0.0</text>\n<text text-anchor=\"middle\" x=\"395.5\" y=\"-1055.3\" font-family=\"Times,serif\" font-size=\"14.00\" fill=\"#000000\">samples = 1</text>\n<text text-anchor=\"middle\" x=\"395.5\" y=\"-1040.3\" font-family=\"Times,serif\" font-size=\"14.00\" fill=\"#000000\">value = [1, 0]</text>\n</g>\n<!-- 6&#45;&gt;8 -->\n<g id=\"edge8\" class=\"edge\">\n<title>6&#45;&gt;8</title>\n<path fill=\"none\" stroke=\"#000000\" d=\"M395.5,-1128.9465C395.5,-1118.2621 395.5,-1106.4254 395.5,-1095.5742\"/>\n<polygon fill=\"#000000\" stroke=\"#000000\" points=\"399.0001,-1095.5421 395.5,-1085.5422 392.0001,-1095.5422 399.0001,-1095.5421\"/>\n</g>\n<!-- 10 -->\n<g id=\"node11\" class=\"node\">\n<title>10</title>\n<polygon fill=\"none\" stroke=\"#000000\" points=\"578,-1093 461,-1093 461,-1025 578,-1025 578,-1093\"/>\n<text text-anchor=\"middle\" x=\"519.5\" y=\"-1077.8\" font-family=\"Times,serif\" font-size=\"14.00\" fill=\"#000000\">X[4] &lt;= 4.05</text>\n<text text-anchor=\"middle\" x=\"519.5\" y=\"-1062.8\" font-family=\"Times,serif\" font-size=\"14.00\" fill=\"#000000\">gini = 0.227</text>\n<text text-anchor=\"middle\" x=\"519.5\" y=\"-1047.8\" font-family=\"Times,serif\" font-size=\"14.00\" fill=\"#000000\">samples = 115</text>\n<text text-anchor=\"middle\" x=\"519.5\" y=\"-1032.8\" font-family=\"Times,serif\" font-size=\"14.00\" fill=\"#000000\">value = [100, 15]</text>\n</g>\n<!-- 9&#45;&gt;10 -->\n<g id=\"edge10\" class=\"edge\">\n<title>9&#45;&gt;10</title>\n<path fill=\"none\" stroke=\"#000000\" d=\"M559.8538,-1128.9465C554.881,-1120.3271 549.4757,-1110.9579 544.2852,-1101.9611\"/>\n<polygon fill=\"#000000\" stroke=\"#000000\" points=\"547.2193,-1100.0428 539.1904,-1093.13 541.156,-1103.5409 547.2193,-1100.0428\"/>\n</g>\n<!-- 53 -->\n<g id=\"node54\" class=\"node\">\n<title>53</title>\n<polygon fill=\"none\" stroke=\"#000000\" points=\"698.5,-1085.5 596.5,-1085.5 596.5,-1032.5 698.5,-1032.5 698.5,-1085.5\"/>\n<text text-anchor=\"middle\" x=\"647.5\" y=\"-1070.3\" font-family=\"Times,serif\" font-size=\"14.00\" fill=\"#000000\">gini = 0.0</text>\n<text text-anchor=\"middle\" x=\"647.5\" y=\"-1055.3\" font-family=\"Times,serif\" font-size=\"14.00\" fill=\"#000000\">samples = 28</text>\n<text text-anchor=\"middle\" x=\"647.5\" y=\"-1040.3\" font-family=\"Times,serif\" font-size=\"14.00\" fill=\"#000000\">value = [28, 0]</text>\n</g>\n<!-- 9&#45;&gt;53 -->\n<g id=\"edge53\" class=\"edge\">\n<title>9&#45;&gt;53</title>\n<path fill=\"none\" stroke=\"#000000\" d=\"M601.7657,-1128.9465C609.0398,-1117.8215 617.1306,-1105.4473 624.4604,-1094.237\"/>\n<polygon fill=\"#000000\" stroke=\"#000000\" points=\"627.6024,-1095.8273 630.1455,-1085.5422 621.7436,-1091.9965 627.6024,-1095.8273\"/>\n</g>\n<!-- 11 -->\n<g id=\"node12\" class=\"node\">\n<title>11</title>\n<polygon fill=\"none\" stroke=\"#000000\" points=\"516,-989 399,-989 399,-921 516,-921 516,-989\"/>\n<text text-anchor=\"middle\" x=\"457.5\" y=\"-973.8\" font-family=\"Times,serif\" font-size=\"14.00\" fill=\"#000000\">X[2] &lt;= 82.5</text>\n<text text-anchor=\"middle\" x=\"457.5\" y=\"-958.8\" font-family=\"Times,serif\" font-size=\"14.00\" fill=\"#000000\">gini = 0.215</text>\n<text text-anchor=\"middle\" x=\"457.5\" y=\"-943.8\" font-family=\"Times,serif\" font-size=\"14.00\" fill=\"#000000\">samples = 114</text>\n<text text-anchor=\"middle\" x=\"457.5\" y=\"-928.8\" font-family=\"Times,serif\" font-size=\"14.00\" fill=\"#000000\">value = [100, 14]</text>\n</g>\n<!-- 10&#45;&gt;11 -->\n<g id=\"edge11\" class=\"edge\">\n<title>10&#45;&gt;11</title>\n<path fill=\"none\" stroke=\"#000000\" d=\"M499.1989,-1024.9465C494.0604,-1016.3271 488.4749,-1006.9579 483.1114,-997.9611\"/>\n<polygon fill=\"#000000\" stroke=\"#000000\" points=\"485.9737,-995.9272 477.8467,-989.13 479.9611,-999.5117 485.9737,-995.9272\"/>\n</g>\n<!-- 52 -->\n<g id=\"node53\" class=\"node\">\n<title>52</title>\n<polygon fill=\"none\" stroke=\"#000000\" points=\"629,-981.5 534,-981.5 534,-928.5 629,-928.5 629,-981.5\"/>\n<text text-anchor=\"middle\" x=\"581.5\" y=\"-966.3\" font-family=\"Times,serif\" font-size=\"14.00\" fill=\"#000000\">gini = 0.0</text>\n<text text-anchor=\"middle\" x=\"581.5\" y=\"-951.3\" font-family=\"Times,serif\" font-size=\"14.00\" fill=\"#000000\">samples = 1</text>\n<text text-anchor=\"middle\" x=\"581.5\" y=\"-936.3\" font-family=\"Times,serif\" font-size=\"14.00\" fill=\"#000000\">value = [0, 1]</text>\n</g>\n<!-- 10&#45;&gt;52 -->\n<g id=\"edge52\" class=\"edge\">\n<title>10&#45;&gt;52</title>\n<path fill=\"none\" stroke=\"#000000\" d=\"M539.8011,-1024.9465C546.4334,-1013.8215 553.8103,-1001.4473 560.4933,-990.237\"/>\n<polygon fill=\"#000000\" stroke=\"#000000\" points=\"563.5624,-991.9239 565.6768,-981.5422 557.5498,-988.3394 563.5624,-991.9239\"/>\n</g>\n<!-- 12 -->\n<g id=\"node13\" class=\"node\">\n<title>12</title>\n<polygon fill=\"none\" stroke=\"#000000\" points=\"388.5,-885 286.5,-885 286.5,-817 388.5,-817 388.5,-885\"/>\n<text text-anchor=\"middle\" x=\"337.5\" y=\"-869.8\" font-family=\"Times,serif\" font-size=\"14.00\" fill=\"#000000\">X[1] &lt;= 8.5</text>\n<text text-anchor=\"middle\" x=\"337.5\" y=\"-854.8\" font-family=\"Times,serif\" font-size=\"14.00\" fill=\"#000000\">gini = 0.145</text>\n<text text-anchor=\"middle\" x=\"337.5\" y=\"-839.8\" font-family=\"Times,serif\" font-size=\"14.00\" fill=\"#000000\">samples = 76</text>\n<text text-anchor=\"middle\" x=\"337.5\" y=\"-824.8\" font-family=\"Times,serif\" font-size=\"14.00\" fill=\"#000000\">value = [70, 6]</text>\n</g>\n<!-- 11&#45;&gt;12 -->\n<g id=\"edge12\" class=\"edge\">\n<title>11&#45;&gt;12</title>\n<path fill=\"none\" stroke=\"#000000\" d=\"M418.2075,-920.9465C407.4333,-911.6088 395.6436,-901.3911 384.485,-891.7203\"/>\n<polygon fill=\"#000000\" stroke=\"#000000\" points=\"386.7299,-889.0344 376.8808,-885.13 382.1454,-894.3243 386.7299,-889.0344\"/>\n</g>\n<!-- 37 -->\n<g id=\"node38\" class=\"node\">\n<title>37</title>\n<polygon fill=\"none\" stroke=\"#000000\" points=\"624.5,-885 522.5,-885 522.5,-817 624.5,-817 624.5,-885\"/>\n<text text-anchor=\"middle\" x=\"573.5\" y=\"-869.8\" font-family=\"Times,serif\" font-size=\"14.00\" fill=\"#000000\">X[9] &lt;= 0.5</text>\n<text text-anchor=\"middle\" x=\"573.5\" y=\"-854.8\" font-family=\"Times,serif\" font-size=\"14.00\" fill=\"#000000\">gini = 0.332</text>\n<text text-anchor=\"middle\" x=\"573.5\" y=\"-839.8\" font-family=\"Times,serif\" font-size=\"14.00\" fill=\"#000000\">samples = 38</text>\n<text text-anchor=\"middle\" x=\"573.5\" y=\"-824.8\" font-family=\"Times,serif\" font-size=\"14.00\" fill=\"#000000\">value = [30, 8]</text>\n</g>\n<!-- 11&#45;&gt;37 -->\n<g id=\"edge37\" class=\"edge\">\n<title>11&#45;&gt;37</title>\n<path fill=\"none\" stroke=\"#000000\" d=\"M495.4827,-920.9465C505.7977,-911.6986 517.0754,-901.5876 527.7699,-891.9994\"/>\n<polygon fill=\"#000000\" stroke=\"#000000\" points=\"530.3226,-894.4115 535.4319,-885.13 525.6498,-889.1995 530.3226,-894.4115\"/>\n</g>\n<!-- 13 -->\n<g id=\"node14\" class=\"node\">\n<title>13</title>\n<polygon fill=\"none\" stroke=\"#000000\" points=\"208,-781 113,-781 113,-713 208,-713 208,-781\"/>\n<text text-anchor=\"middle\" x=\"160.5\" y=\"-765.8\" font-family=\"Times,serif\" font-size=\"14.00\" fill=\"#000000\">X[3] &lt;= 3.0</text>\n<text text-anchor=\"middle\" x=\"160.5\" y=\"-750.8\" font-family=\"Times,serif\" font-size=\"14.00\" fill=\"#000000\">gini = 0.408</text>\n<text text-anchor=\"middle\" x=\"160.5\" y=\"-735.8\" font-family=\"Times,serif\" font-size=\"14.00\" fill=\"#000000\">samples = 7</text>\n<text text-anchor=\"middle\" x=\"160.5\" y=\"-720.8\" font-family=\"Times,serif\" font-size=\"14.00\" fill=\"#000000\">value = [5, 2]</text>\n</g>\n<!-- 12&#45;&gt;13 -->\n<g id=\"edge13\" class=\"edge\">\n<title>12&#45;&gt;13</title>\n<path fill=\"none\" stroke=\"#000000\" d=\"M286.3043,-820.9189C264.5818,-808.1554 239.1893,-793.2355 216.9277,-780.1553\"/>\n<polygon fill=\"#000000\" stroke=\"#000000\" points=\"218.6388,-777.1012 208.2439,-775.0529 215.0926,-783.1365 218.6388,-777.1012\"/>\n</g>\n<!-- 16 -->\n<g id=\"node17\" class=\"node\">\n<title>16</title>\n<polygon fill=\"none\" stroke=\"#000000\" points=\"388.5,-781 286.5,-781 286.5,-713 388.5,-713 388.5,-781\"/>\n<text text-anchor=\"middle\" x=\"337.5\" y=\"-765.8\" font-family=\"Times,serif\" font-size=\"14.00\" fill=\"#000000\">X[9] &lt;= 0.5</text>\n<text text-anchor=\"middle\" x=\"337.5\" y=\"-750.8\" font-family=\"Times,serif\" font-size=\"14.00\" fill=\"#000000\">gini = 0.109</text>\n<text text-anchor=\"middle\" x=\"337.5\" y=\"-735.8\" font-family=\"Times,serif\" font-size=\"14.00\" fill=\"#000000\">samples = 69</text>\n<text text-anchor=\"middle\" x=\"337.5\" y=\"-720.8\" font-family=\"Times,serif\" font-size=\"14.00\" fill=\"#000000\">value = [65, 4]</text>\n</g>\n<!-- 12&#45;&gt;16 -->\n<g id=\"edge16\" class=\"edge\">\n<title>12&#45;&gt;16</title>\n<path fill=\"none\" stroke=\"#000000\" d=\"M337.5,-816.9465C337.5,-808.776 337.5,-799.9318 337.5,-791.3697\"/>\n<polygon fill=\"#000000\" stroke=\"#000000\" points=\"341.0001,-791.13 337.5,-781.13 334.0001,-791.13 341.0001,-791.13\"/>\n</g>\n<!-- 14 -->\n<g id=\"node15\" class=\"node\">\n<title>14</title>\n<polygon fill=\"none\" stroke=\"#000000\" points=\"95,-669.5 0,-669.5 0,-616.5 95,-616.5 95,-669.5\"/>\n<text text-anchor=\"middle\" x=\"47.5\" y=\"-654.3\" font-family=\"Times,serif\" font-size=\"14.00\" fill=\"#000000\">gini = 0.0</text>\n<text text-anchor=\"middle\" x=\"47.5\" y=\"-639.3\" font-family=\"Times,serif\" font-size=\"14.00\" fill=\"#000000\">samples = 2</text>\n<text text-anchor=\"middle\" x=\"47.5\" y=\"-624.3\" font-family=\"Times,serif\" font-size=\"14.00\" fill=\"#000000\">value = [0, 2]</text>\n</g>\n<!-- 13&#45;&gt;14 -->\n<g id=\"edge14\" class=\"edge\">\n<title>13&#45;&gt;14</title>\n<path fill=\"none\" stroke=\"#000000\" d=\"M123.4996,-712.9465C110.8134,-701.2707 96.6322,-688.219 83.987,-676.5809\"/>\n<polygon fill=\"#000000\" stroke=\"#000000\" points=\"86.0673,-673.7389 76.3391,-669.5422 81.3269,-678.8895 86.0673,-673.7389\"/>\n</g>\n<!-- 15 -->\n<g id=\"node16\" class=\"node\">\n<title>15</title>\n<polygon fill=\"none\" stroke=\"#000000\" points=\"208,-669.5 113,-669.5 113,-616.5 208,-616.5 208,-669.5\"/>\n<text text-anchor=\"middle\" x=\"160.5\" y=\"-654.3\" font-family=\"Times,serif\" font-size=\"14.00\" fill=\"#000000\">gini = 0.0</text>\n<text text-anchor=\"middle\" x=\"160.5\" y=\"-639.3\" font-family=\"Times,serif\" font-size=\"14.00\" fill=\"#000000\">samples = 5</text>\n<text text-anchor=\"middle\" x=\"160.5\" y=\"-624.3\" font-family=\"Times,serif\" font-size=\"14.00\" fill=\"#000000\">value = [5, 0]</text>\n</g>\n<!-- 13&#45;&gt;15 -->\n<g id=\"edge15\" class=\"edge\">\n<title>13&#45;&gt;15</title>\n<path fill=\"none\" stroke=\"#000000\" d=\"M160.5,-712.9465C160.5,-702.2621 160.5,-690.4254 160.5,-679.5742\"/>\n<polygon fill=\"#000000\" stroke=\"#000000\" points=\"164.0001,-679.5421 160.5,-669.5422 157.0001,-679.5422 164.0001,-679.5421\"/>\n</g>\n<!-- 17 -->\n<g id=\"node18\" class=\"node\">\n<title>17</title>\n<polygon fill=\"none\" stroke=\"#000000\" points=\"328.5,-669.5 226.5,-669.5 226.5,-616.5 328.5,-616.5 328.5,-669.5\"/>\n<text text-anchor=\"middle\" x=\"277.5\" y=\"-654.3\" font-family=\"Times,serif\" font-size=\"14.00\" fill=\"#000000\">gini = 0.0</text>\n<text text-anchor=\"middle\" x=\"277.5\" y=\"-639.3\" font-family=\"Times,serif\" font-size=\"14.00\" fill=\"#000000\">samples = 23</text>\n<text text-anchor=\"middle\" x=\"277.5\" y=\"-624.3\" font-family=\"Times,serif\" font-size=\"14.00\" fill=\"#000000\">value = [23, 0]</text>\n</g>\n<!-- 16&#45;&gt;17 -->\n<g id=\"edge17\" class=\"edge\">\n<title>16&#45;&gt;17</title>\n<path fill=\"none\" stroke=\"#000000\" d=\"M317.8538,-712.9465C311.4355,-701.8215 304.2965,-689.4473 297.829,-678.237\"/>\n<polygon fill=\"#000000\" stroke=\"#000000\" points=\"300.8417,-676.455 292.8128,-669.5422 294.7784,-679.9531 300.8417,-676.455\"/>\n</g>\n<!-- 18 -->\n<g id=\"node19\" class=\"node\">\n<title>18</title>\n<polygon fill=\"none\" stroke=\"#000000\" points=\"448.5,-677 346.5,-677 346.5,-609 448.5,-609 448.5,-677\"/>\n<text text-anchor=\"middle\" x=\"397.5\" y=\"-661.8\" font-family=\"Times,serif\" font-size=\"14.00\" fill=\"#000000\">X[10] &lt;= 0.5</text>\n<text text-anchor=\"middle\" x=\"397.5\" y=\"-646.8\" font-family=\"Times,serif\" font-size=\"14.00\" fill=\"#000000\">gini = 0.159</text>\n<text text-anchor=\"middle\" x=\"397.5\" y=\"-631.8\" font-family=\"Times,serif\" font-size=\"14.00\" fill=\"#000000\">samples = 46</text>\n<text text-anchor=\"middle\" x=\"397.5\" y=\"-616.8\" font-family=\"Times,serif\" font-size=\"14.00\" fill=\"#000000\">value = [42, 4]</text>\n</g>\n<!-- 16&#45;&gt;18 -->\n<g id=\"edge18\" class=\"edge\">\n<title>16&#45;&gt;18</title>\n<path fill=\"none\" stroke=\"#000000\" d=\"M357.1462,-712.9465C362.119,-704.3271 367.5243,-694.9579 372.7148,-685.9611\"/>\n<polygon fill=\"#000000\" stroke=\"#000000\" points=\"375.844,-687.5409 377.8096,-677.13 369.7807,-684.0428 375.844,-687.5409\"/>\n</g>\n<!-- 19 -->\n<g id=\"node20\" class=\"node\">\n<title>19</title>\n<polygon fill=\"none\" stroke=\"#000000\" points=\"328.5,-573 226.5,-573 226.5,-505 328.5,-505 328.5,-573\"/>\n<text text-anchor=\"middle\" x=\"277.5\" y=\"-557.8\" font-family=\"Times,serif\" font-size=\"14.00\" fill=\"#000000\">X[4] &lt;= 3.15</text>\n<text text-anchor=\"middle\" x=\"277.5\" y=\"-542.8\" font-family=\"Times,serif\" font-size=\"14.00\" fill=\"#000000\">gini = 0.208</text>\n<text text-anchor=\"middle\" x=\"277.5\" y=\"-527.8\" font-family=\"Times,serif\" font-size=\"14.00\" fill=\"#000000\">samples = 34</text>\n<text text-anchor=\"middle\" x=\"277.5\" y=\"-512.8\" font-family=\"Times,serif\" font-size=\"14.00\" fill=\"#000000\">value = [30, 4]</text>\n</g>\n<!-- 18&#45;&gt;19 -->\n<g id=\"edge19\" class=\"edge\">\n<title>18&#45;&gt;19</title>\n<path fill=\"none\" stroke=\"#000000\" d=\"M358.2075,-608.9465C347.4333,-599.6088 335.6436,-589.3911 324.485,-579.7203\"/>\n<polygon fill=\"#000000\" stroke=\"#000000\" points=\"326.7299,-577.0344 316.8808,-573.13 322.1454,-582.3243 326.7299,-577.0344\"/>\n</g>\n<!-- 36 -->\n<g id=\"node37\" class=\"node\">\n<title>36</title>\n<polygon fill=\"none\" stroke=\"#000000\" points=\"448.5,-565.5 346.5,-565.5 346.5,-512.5 448.5,-512.5 448.5,-565.5\"/>\n<text text-anchor=\"middle\" x=\"397.5\" y=\"-550.3\" font-family=\"Times,serif\" font-size=\"14.00\" fill=\"#000000\">gini = 0.0</text>\n<text text-anchor=\"middle\" x=\"397.5\" y=\"-535.3\" font-family=\"Times,serif\" font-size=\"14.00\" fill=\"#000000\">samples = 12</text>\n<text text-anchor=\"middle\" x=\"397.5\" y=\"-520.3\" font-family=\"Times,serif\" font-size=\"14.00\" fill=\"#000000\">value = [12, 0]</text>\n</g>\n<!-- 18&#45;&gt;36 -->\n<g id=\"edge36\" class=\"edge\">\n<title>18&#45;&gt;36</title>\n<path fill=\"none\" stroke=\"#000000\" d=\"M397.5,-608.9465C397.5,-598.2621 397.5,-586.4254 397.5,-575.5742\"/>\n<polygon fill=\"#000000\" stroke=\"#000000\" points=\"401.0001,-575.5421 397.5,-565.5422 394.0001,-575.5422 401.0001,-575.5421\"/>\n</g>\n<!-- 20 -->\n<g id=\"node21\" class=\"node\">\n<title>20</title>\n<polygon fill=\"none\" stroke=\"#000000\" points=\"325,-469 230,-469 230,-401 325,-401 325,-469\"/>\n<text text-anchor=\"middle\" x=\"277.5\" y=\"-453.8\" font-family=\"Times,serif\" font-size=\"14.00\" fill=\"#000000\">X[0] &lt;= 38.0</text>\n<text text-anchor=\"middle\" x=\"277.5\" y=\"-438.8\" font-family=\"Times,serif\" font-size=\"14.00\" fill=\"#000000\">gini = 0.375</text>\n<text text-anchor=\"middle\" x=\"277.5\" y=\"-423.8\" font-family=\"Times,serif\" font-size=\"14.00\" fill=\"#000000\">samples = 8</text>\n<text text-anchor=\"middle\" x=\"277.5\" y=\"-408.8\" font-family=\"Times,serif\" font-size=\"14.00\" fill=\"#000000\">value = [6, 2]</text>\n</g>\n<!-- 19&#45;&gt;20 -->\n<g id=\"edge20\" class=\"edge\">\n<title>19&#45;&gt;20</title>\n<path fill=\"none\" stroke=\"#000000\" d=\"M277.5,-504.9465C277.5,-496.776 277.5,-487.9318 277.5,-479.3697\"/>\n<polygon fill=\"#000000\" stroke=\"#000000\" points=\"281.0001,-479.13 277.5,-469.13 274.0001,-479.13 281.0001,-479.13\"/>\n</g>\n<!-- 25 -->\n<g id=\"node26\" class=\"node\">\n<title>25</title>\n<polygon fill=\"none\" stroke=\"#000000\" points=\"445.5,-469 343.5,-469 343.5,-401 445.5,-401 445.5,-469\"/>\n<text text-anchor=\"middle\" x=\"394.5\" y=\"-453.8\" font-family=\"Times,serif\" font-size=\"14.00\" fill=\"#000000\">X[2] &lt;= 74.0</text>\n<text text-anchor=\"middle\" x=\"394.5\" y=\"-438.8\" font-family=\"Times,serif\" font-size=\"14.00\" fill=\"#000000\">gini = 0.142</text>\n<text text-anchor=\"middle\" x=\"394.5\" y=\"-423.8\" font-family=\"Times,serif\" font-size=\"14.00\" fill=\"#000000\">samples = 26</text>\n<text text-anchor=\"middle\" x=\"394.5\" y=\"-408.8\" font-family=\"Times,serif\" font-size=\"14.00\" fill=\"#000000\">value = [24, 2]</text>\n</g>\n<!-- 19&#45;&gt;25 -->\n<g id=\"edge25\" class=\"edge\">\n<title>19&#45;&gt;25</title>\n<path fill=\"none\" stroke=\"#000000\" d=\"M315.8102,-504.9465C326.2141,-495.6986 337.589,-485.5876 348.3757,-475.9994\"/>\n<polygon fill=\"#000000\" stroke=\"#000000\" points=\"350.9549,-478.3896 356.1038,-469.13 346.3044,-473.1577 350.9549,-478.3896\"/>\n</g>\n<!-- 21 -->\n<g id=\"node22\" class=\"node\">\n<title>21</title>\n<polygon fill=\"none\" stroke=\"#000000\" points=\"212,-357.5 117,-357.5 117,-304.5 212,-304.5 212,-357.5\"/>\n<text text-anchor=\"middle\" x=\"164.5\" y=\"-342.3\" font-family=\"Times,serif\" font-size=\"14.00\" fill=\"#000000\">gini = 0.0</text>\n<text text-anchor=\"middle\" x=\"164.5\" y=\"-327.3\" font-family=\"Times,serif\" font-size=\"14.00\" fill=\"#000000\">samples = 1</text>\n<text text-anchor=\"middle\" x=\"164.5\" y=\"-312.3\" font-family=\"Times,serif\" font-size=\"14.00\" fill=\"#000000\">value = [0, 1]</text>\n</g>\n<!-- 20&#45;&gt;21 -->\n<g id=\"edge21\" class=\"edge\">\n<title>20&#45;&gt;21</title>\n<path fill=\"none\" stroke=\"#000000\" d=\"M240.4996,-400.9465C227.8134,-389.2707 213.6322,-376.219 200.987,-364.5809\"/>\n<polygon fill=\"#000000\" stroke=\"#000000\" points=\"203.0673,-361.7389 193.3391,-357.5422 198.3269,-366.8895 203.0673,-361.7389\"/>\n</g>\n<!-- 22 -->\n<g id=\"node23\" class=\"node\">\n<title>22</title>\n<polygon fill=\"none\" stroke=\"#000000\" points=\"325,-365 230,-365 230,-297 325,-297 325,-365\"/>\n<text text-anchor=\"middle\" x=\"277.5\" y=\"-349.8\" font-family=\"Times,serif\" font-size=\"14.00\" fill=\"#000000\">X[3] &lt;= 3.5</text>\n<text text-anchor=\"middle\" x=\"277.5\" y=\"-334.8\" font-family=\"Times,serif\" font-size=\"14.00\" fill=\"#000000\">gini = 0.245</text>\n<text text-anchor=\"middle\" x=\"277.5\" y=\"-319.8\" font-family=\"Times,serif\" font-size=\"14.00\" fill=\"#000000\">samples = 7</text>\n<text text-anchor=\"middle\" x=\"277.5\" y=\"-304.8\" font-family=\"Times,serif\" font-size=\"14.00\" fill=\"#000000\">value = [6, 1]</text>\n</g>\n<!-- 20&#45;&gt;22 -->\n<g id=\"edge22\" class=\"edge\">\n<title>20&#45;&gt;22</title>\n<path fill=\"none\" stroke=\"#000000\" d=\"M277.5,-400.9465C277.5,-392.776 277.5,-383.9318 277.5,-375.3697\"/>\n<polygon fill=\"#000000\" stroke=\"#000000\" points=\"281.0001,-375.13 277.5,-365.13 274.0001,-375.13 281.0001,-375.13\"/>\n</g>\n<!-- 23 -->\n<g id=\"node24\" class=\"node\">\n<title>23</title>\n<polygon fill=\"none\" stroke=\"#000000\" points=\"270,-253.5 175,-253.5 175,-200.5 270,-200.5 270,-253.5\"/>\n<text text-anchor=\"middle\" x=\"222.5\" y=\"-238.3\" font-family=\"Times,serif\" font-size=\"14.00\" fill=\"#000000\">gini = 0.0</text>\n<text text-anchor=\"middle\" x=\"222.5\" y=\"-223.3\" font-family=\"Times,serif\" font-size=\"14.00\" fill=\"#000000\">samples = 6</text>\n<text text-anchor=\"middle\" x=\"222.5\" y=\"-208.3\" font-family=\"Times,serif\" font-size=\"14.00\" fill=\"#000000\">value = [6, 0]</text>\n</g>\n<!-- 22&#45;&gt;23 -->\n<g id=\"edge23\" class=\"edge\">\n<title>22&#45;&gt;23</title>\n<path fill=\"none\" stroke=\"#000000\" d=\"M259.4909,-296.9465C253.6658,-285.9316 247.193,-273.6922 241.3112,-262.5703\"/>\n<polygon fill=\"#000000\" stroke=\"#000000\" points=\"244.3057,-260.7459 236.5367,-253.5422 238.1178,-264.0184 244.3057,-260.7459\"/>\n</g>\n<!-- 24 -->\n<g id=\"node25\" class=\"node\">\n<title>24</title>\n<polygon fill=\"none\" stroke=\"#000000\" points=\"383,-253.5 288,-253.5 288,-200.5 383,-200.5 383,-253.5\"/>\n<text text-anchor=\"middle\" x=\"335.5\" y=\"-238.3\" font-family=\"Times,serif\" font-size=\"14.00\" fill=\"#000000\">gini = 0.0</text>\n<text text-anchor=\"middle\" x=\"335.5\" y=\"-223.3\" font-family=\"Times,serif\" font-size=\"14.00\" fill=\"#000000\">samples = 1</text>\n<text text-anchor=\"middle\" x=\"335.5\" y=\"-208.3\" font-family=\"Times,serif\" font-size=\"14.00\" fill=\"#000000\">value = [0, 1]</text>\n</g>\n<!-- 22&#45;&gt;24 -->\n<g id=\"edge24\" class=\"edge\">\n<title>22&#45;&gt;24</title>\n<path fill=\"none\" stroke=\"#000000\" d=\"M296.4914,-296.9465C302.6343,-285.9316 309.4601,-273.6922 315.6627,-262.5703\"/>\n<polygon fill=\"#000000\" stroke=\"#000000\" points=\"318.8837,-263.9806 320.6976,-253.5422 312.7701,-260.5711 318.8837,-263.9806\"/>\n</g>\n<!-- 26 -->\n<g id=\"node27\" class=\"node\">\n<title>26</title>\n<polygon fill=\"none\" stroke=\"#000000\" points=\"445.5,-357.5 343.5,-357.5 343.5,-304.5 445.5,-304.5 445.5,-357.5\"/>\n<text text-anchor=\"middle\" x=\"394.5\" y=\"-342.3\" font-family=\"Times,serif\" font-size=\"14.00\" fill=\"#000000\">gini = 0.0</text>\n<text text-anchor=\"middle\" x=\"394.5\" y=\"-327.3\" font-family=\"Times,serif\" font-size=\"14.00\" fill=\"#000000\">samples = 12</text>\n<text text-anchor=\"middle\" x=\"394.5\" y=\"-312.3\" font-family=\"Times,serif\" font-size=\"14.00\" fill=\"#000000\">value = [12, 0]</text>\n</g>\n<!-- 25&#45;&gt;26 -->\n<g id=\"edge26\" class=\"edge\">\n<title>25&#45;&gt;26</title>\n<path fill=\"none\" stroke=\"#000000\" d=\"M394.5,-400.9465C394.5,-390.2621 394.5,-378.4254 394.5,-367.5742\"/>\n<polygon fill=\"#000000\" stroke=\"#000000\" points=\"398.0001,-367.5421 394.5,-357.5422 391.0001,-367.5422 398.0001,-367.5421\"/>\n</g>\n<!-- 27 -->\n<g id=\"node28\" class=\"node\">\n<title>27</title>\n<polygon fill=\"none\" stroke=\"#000000\" points=\"565.5,-365 463.5,-365 463.5,-297 565.5,-297 565.5,-365\"/>\n<text text-anchor=\"middle\" x=\"514.5\" y=\"-349.8\" font-family=\"Times,serif\" font-size=\"14.00\" fill=\"#000000\">X[2] &lt;= 77.0</text>\n<text text-anchor=\"middle\" x=\"514.5\" y=\"-334.8\" font-family=\"Times,serif\" font-size=\"14.00\" fill=\"#000000\">gini = 0.245</text>\n<text text-anchor=\"middle\" x=\"514.5\" y=\"-319.8\" font-family=\"Times,serif\" font-size=\"14.00\" fill=\"#000000\">samples = 14</text>\n<text text-anchor=\"middle\" x=\"514.5\" y=\"-304.8\" font-family=\"Times,serif\" font-size=\"14.00\" fill=\"#000000\">value = [12, 2]</text>\n</g>\n<!-- 25&#45;&gt;27 -->\n<g id=\"edge27\" class=\"edge\">\n<title>25&#45;&gt;27</title>\n<path fill=\"none\" stroke=\"#000000\" d=\"M433.7925,-400.9465C444.5667,-391.6088 456.3564,-381.3911 467.515,-371.7203\"/>\n<polygon fill=\"#000000\" stroke=\"#000000\" points=\"469.8546,-374.3243 475.1192,-365.13 465.2701,-369.0344 469.8546,-374.3243\"/>\n</g>\n<!-- 28 -->\n<g id=\"node29\" class=\"node\">\n<title>28</title>\n<polygon fill=\"none\" stroke=\"#000000\" points=\"501,-261 406,-261 406,-193 501,-193 501,-261\"/>\n<text text-anchor=\"middle\" x=\"453.5\" y=\"-245.8\" font-family=\"Times,serif\" font-size=\"14.00\" fill=\"#000000\">X[4] &lt;= 3.6</text>\n<text text-anchor=\"middle\" x=\"453.5\" y=\"-230.8\" font-family=\"Times,serif\" font-size=\"14.00\" fill=\"#000000\">gini = 0.5</text>\n<text text-anchor=\"middle\" x=\"453.5\" y=\"-215.8\" font-family=\"Times,serif\" font-size=\"14.00\" fill=\"#000000\">samples = 2</text>\n<text text-anchor=\"middle\" x=\"453.5\" y=\"-200.8\" font-family=\"Times,serif\" font-size=\"14.00\" fill=\"#000000\">value = [1, 1]</text>\n</g>\n<!-- 27&#45;&gt;28 -->\n<g id=\"edge28\" class=\"edge\">\n<title>27&#45;&gt;28</title>\n<path fill=\"none\" stroke=\"#000000\" d=\"M494.5263,-296.9465C489.4707,-288.3271 483.9753,-278.9579 478.6983,-269.9611\"/>\n<polygon fill=\"#000000\" stroke=\"#000000\" points=\"481.5969,-267.985 473.5186,-261.13 475.5589,-271.5265 481.5969,-267.985\"/>\n</g>\n<!-- 31 -->\n<g id=\"node32\" class=\"node\">\n<title>31</title>\n<polygon fill=\"none\" stroke=\"#000000\" points=\"620,-261 519,-261 519,-193 620,-193 620,-261\"/>\n<text text-anchor=\"middle\" x=\"569.5\" y=\"-245.8\" font-family=\"Times,serif\" font-size=\"14.00\" fill=\"#000000\">X[0] &lt;= 51.5</text>\n<text text-anchor=\"middle\" x=\"569.5\" y=\"-230.8\" font-family=\"Times,serif\" font-size=\"14.00\" fill=\"#000000\">gini = 0.153</text>\n<text text-anchor=\"middle\" x=\"569.5\" y=\"-215.8\" font-family=\"Times,serif\" font-size=\"14.00\" fill=\"#000000\">samples = 12</text>\n<text text-anchor=\"middle\" x=\"569.5\" y=\"-200.8\" font-family=\"Times,serif\" font-size=\"14.00\" fill=\"#000000\">value = [11, 1]</text>\n</g>\n<!-- 27&#45;&gt;31 -->\n<g id=\"edge31\" class=\"edge\">\n<title>27&#45;&gt;31</title>\n<path fill=\"none\" stroke=\"#000000\" d=\"M532.5091,-296.9465C537.0199,-288.4169 541.9191,-279.153 546.6314,-270.2424\"/>\n<polygon fill=\"#000000\" stroke=\"#000000\" points=\"549.8694,-271.6062 551.4505,-261.13 543.6815,-268.3337 549.8694,-271.6062\"/>\n</g>\n<!-- 29 -->\n<g id=\"node30\" class=\"node\">\n<title>29</title>\n<polygon fill=\"none\" stroke=\"#000000\" points=\"389,-149.5 294,-149.5 294,-96.5 389,-96.5 389,-149.5\"/>\n<text text-anchor=\"middle\" x=\"341.5\" y=\"-134.3\" font-family=\"Times,serif\" font-size=\"14.00\" fill=\"#000000\">gini = 0.0</text>\n<text text-anchor=\"middle\" x=\"341.5\" y=\"-119.3\" font-family=\"Times,serif\" font-size=\"14.00\" fill=\"#000000\">samples = 1</text>\n<text text-anchor=\"middle\" x=\"341.5\" y=\"-104.3\" font-family=\"Times,serif\" font-size=\"14.00\" fill=\"#000000\">value = [0, 1]</text>\n</g>\n<!-- 28&#45;&gt;29 -->\n<g id=\"edge29\" class=\"edge\">\n<title>28&#45;&gt;29</title>\n<path fill=\"none\" stroke=\"#000000\" d=\"M416.827,-192.9465C404.2531,-181.2707 390.1974,-168.219 377.6641,-156.5809\"/>\n<polygon fill=\"#000000\" stroke=\"#000000\" points=\"379.7934,-153.7819 370.0839,-149.5422 375.0302,-158.9115 379.7934,-153.7819\"/>\n</g>\n<!-- 30 -->\n<g id=\"node31\" class=\"node\">\n<title>30</title>\n<polygon fill=\"none\" stroke=\"#000000\" points=\"502,-149.5 407,-149.5 407,-96.5 502,-96.5 502,-149.5\"/>\n<text text-anchor=\"middle\" x=\"454.5\" y=\"-134.3\" font-family=\"Times,serif\" font-size=\"14.00\" fill=\"#000000\">gini = 0.0</text>\n<text text-anchor=\"middle\" x=\"454.5\" y=\"-119.3\" font-family=\"Times,serif\" font-size=\"14.00\" fill=\"#000000\">samples = 1</text>\n<text text-anchor=\"middle\" x=\"454.5\" y=\"-104.3\" font-family=\"Times,serif\" font-size=\"14.00\" fill=\"#000000\">value = [1, 0]</text>\n</g>\n<!-- 28&#45;&gt;30 -->\n<g id=\"edge30\" class=\"edge\">\n<title>28&#45;&gt;30</title>\n<path fill=\"none\" stroke=\"#000000\" d=\"M453.8274,-192.9465C453.9302,-182.2621 454.044,-170.4254 454.1483,-159.5742\"/>\n<polygon fill=\"#000000\" stroke=\"#000000\" points=\"457.6484,-159.5754 454.2448,-149.5422 450.6487,-159.508 457.6484,-159.5754\"/>\n</g>\n<!-- 32 -->\n<g id=\"node33\" class=\"node\">\n<title>32</title>\n<polygon fill=\"none\" stroke=\"#000000\" points=\"616,-149.5 521,-149.5 521,-96.5 616,-96.5 616,-149.5\"/>\n<text text-anchor=\"middle\" x=\"568.5\" y=\"-134.3\" font-family=\"Times,serif\" font-size=\"14.00\" fill=\"#000000\">gini = 0.0</text>\n<text text-anchor=\"middle\" x=\"568.5\" y=\"-119.3\" font-family=\"Times,serif\" font-size=\"14.00\" fill=\"#000000\">samples = 8</text>\n<text text-anchor=\"middle\" x=\"568.5\" y=\"-104.3\" font-family=\"Times,serif\" font-size=\"14.00\" fill=\"#000000\">value = [8, 0]</text>\n</g>\n<!-- 31&#45;&gt;32 -->\n<g id=\"edge32\" class=\"edge\">\n<title>31&#45;&gt;32</title>\n<path fill=\"none\" stroke=\"#000000\" d=\"M569.1726,-192.9465C569.0698,-182.2621 568.956,-170.4254 568.8517,-159.5742\"/>\n<polygon fill=\"#000000\" stroke=\"#000000\" points=\"572.3513,-159.508 568.7552,-149.5422 565.3516,-159.5754 572.3513,-159.508\"/>\n</g>\n<!-- 33 -->\n<g id=\"node34\" class=\"node\">\n<title>33</title>\n<polygon fill=\"none\" stroke=\"#000000\" points=\"729,-157 634,-157 634,-89 729,-89 729,-157\"/>\n<text text-anchor=\"middle\" x=\"681.5\" y=\"-141.8\" font-family=\"Times,serif\" font-size=\"14.00\" fill=\"#000000\">X[1] &lt;= 29.5</text>\n<text text-anchor=\"middle\" x=\"681.5\" y=\"-126.8\" font-family=\"Times,serif\" font-size=\"14.00\" fill=\"#000000\">gini = 0.375</text>\n<text text-anchor=\"middle\" x=\"681.5\" y=\"-111.8\" font-family=\"Times,serif\" font-size=\"14.00\" fill=\"#000000\">samples = 4</text>\n<text text-anchor=\"middle\" x=\"681.5\" y=\"-96.8\" font-family=\"Times,serif\" font-size=\"14.00\" fill=\"#000000\">value = [3, 1]</text>\n</g>\n<!-- 31&#45;&gt;33 -->\n<g id=\"edge33\" class=\"edge\">\n<title>31&#45;&gt;33</title>\n<path fill=\"none\" stroke=\"#000000\" d=\"M606.173,-192.9465C616.1323,-183.6986 627.0211,-173.5876 637.3468,-163.9994\"/>\n<polygon fill=\"#000000\" stroke=\"#000000\" points=\"639.7982,-166.4993 644.7446,-157.13 635.0351,-161.3698 639.7982,-166.4993\"/>\n</g>\n<!-- 34 -->\n<g id=\"node35\" class=\"node\">\n<title>34</title>\n<polygon fill=\"none\" stroke=\"#000000\" points=\"672,-53 577,-53 577,0 672,0 672,-53\"/>\n<text text-anchor=\"middle\" x=\"624.5\" y=\"-37.8\" font-family=\"Times,serif\" font-size=\"14.00\" fill=\"#000000\">gini = 0.0</text>\n<text text-anchor=\"middle\" x=\"624.5\" y=\"-22.8\" font-family=\"Times,serif\" font-size=\"14.00\" fill=\"#000000\">samples = 1</text>\n<text text-anchor=\"middle\" x=\"624.5\" y=\"-7.8\" font-family=\"Times,serif\" font-size=\"14.00\" fill=\"#000000\">value = [0, 1]</text>\n</g>\n<!-- 33&#45;&gt;34 -->\n<g id=\"edge34\" class=\"edge\">\n<title>33&#45;&gt;34</title>\n<path fill=\"none\" stroke=\"#000000\" d=\"M661.4039,-88.9777C656.2656,-80.2786 650.727,-70.9018 645.5425,-62.1247\"/>\n<polygon fill=\"#000000\" stroke=\"#000000\" points=\"648.399,-60.0786 640.2996,-53.2485 642.3719,-63.6387 648.399,-60.0786\"/>\n</g>\n<!-- 35 -->\n<g id=\"node36\" class=\"node\">\n<title>35</title>\n<polygon fill=\"none\" stroke=\"#000000\" points=\"785,-53 690,-53 690,0 785,0 785,-53\"/>\n<text text-anchor=\"middle\" x=\"737.5\" y=\"-37.8\" font-family=\"Times,serif\" font-size=\"14.00\" fill=\"#000000\">gini = 0.0</text>\n<text text-anchor=\"middle\" x=\"737.5\" y=\"-22.8\" font-family=\"Times,serif\" font-size=\"14.00\" fill=\"#000000\">samples = 3</text>\n<text text-anchor=\"middle\" x=\"737.5\" y=\"-7.8\" font-family=\"Times,serif\" font-size=\"14.00\" fill=\"#000000\">value = [3, 0]</text>\n</g>\n<!-- 33&#45;&gt;35 -->\n<g id=\"edge35\" class=\"edge\">\n<title>33&#45;&gt;35</title>\n<path fill=\"none\" stroke=\"#000000\" d=\"M701.2435,-88.9777C706.2917,-80.2786 711.7331,-70.9018 716.8266,-62.1247\"/>\n<polygon fill=\"#000000\" stroke=\"#000000\" points=\"719.9855,-63.6544 721.9776,-53.2485 713.9311,-60.1409 719.9855,-63.6544\"/>\n</g>\n<!-- 38 -->\n<g id=\"node39\" class=\"node\">\n<title>38</title>\n<polygon fill=\"none\" stroke=\"#000000\" points=\"624.5,-781 522.5,-781 522.5,-713 624.5,-713 624.5,-781\"/>\n<text text-anchor=\"middle\" x=\"573.5\" y=\"-765.8\" font-family=\"Times,serif\" font-size=\"14.00\" fill=\"#000000\">X[3] &lt;= 2.5</text>\n<text text-anchor=\"middle\" x=\"573.5\" y=\"-750.8\" font-family=\"Times,serif\" font-size=\"14.00\" fill=\"#000000\">gini = 0.465</text>\n<text text-anchor=\"middle\" x=\"573.5\" y=\"-735.8\" font-family=\"Times,serif\" font-size=\"14.00\" fill=\"#000000\">samples = 19</text>\n<text text-anchor=\"middle\" x=\"573.5\" y=\"-720.8\" font-family=\"Times,serif\" font-size=\"14.00\" fill=\"#000000\">value = [12, 7]</text>\n</g>\n<!-- 37&#45;&gt;38 -->\n<g id=\"edge38\" class=\"edge\">\n<title>37&#45;&gt;38</title>\n<path fill=\"none\" stroke=\"#000000\" d=\"M573.5,-816.9465C573.5,-808.776 573.5,-799.9318 573.5,-791.3697\"/>\n<polygon fill=\"#000000\" stroke=\"#000000\" points=\"577.0001,-791.13 573.5,-781.13 570.0001,-791.13 577.0001,-791.13\"/>\n</g>\n<!-- 47 -->\n<g id=\"node48\" class=\"node\">\n<title>47</title>\n<polygon fill=\"none\" stroke=\"#000000\" points=\"799.5,-781 697.5,-781 697.5,-713 799.5,-713 799.5,-781\"/>\n<text text-anchor=\"middle\" x=\"748.5\" y=\"-765.8\" font-family=\"Times,serif\" font-size=\"14.00\" fill=\"#000000\">X[2] &lt;= 83.5</text>\n<text text-anchor=\"middle\" x=\"748.5\" y=\"-750.8\" font-family=\"Times,serif\" font-size=\"14.00\" fill=\"#000000\">gini = 0.1</text>\n<text text-anchor=\"middle\" x=\"748.5\" y=\"-735.8\" font-family=\"Times,serif\" font-size=\"14.00\" fill=\"#000000\">samples = 19</text>\n<text text-anchor=\"middle\" x=\"748.5\" y=\"-720.8\" font-family=\"Times,serif\" font-size=\"14.00\" fill=\"#000000\">value = [18, 1]</text>\n</g>\n<!-- 37&#45;&gt;47 -->\n<g id=\"edge47\" class=\"edge\">\n<title>37&#45;&gt;47</title>\n<path fill=\"none\" stroke=\"#000000\" d=\"M624.5877,-820.6393C644.6262,-808.7307 667.7657,-794.9793 688.5844,-782.607\"/>\n<polygon fill=\"#000000\" stroke=\"#000000\" points=\"690.5404,-785.516 697.3488,-777.3984 686.9642,-779.4985 690.5404,-785.516\"/>\n</g>\n<!-- 39 -->\n<g id=\"node40\" class=\"node\">\n<title>39</title>\n<polygon fill=\"none\" stroke=\"#000000\" points=\"569.5,-677 467.5,-677 467.5,-609 569.5,-609 569.5,-677\"/>\n<text text-anchor=\"middle\" x=\"518.5\" y=\"-661.8\" font-family=\"Times,serif\" font-size=\"14.00\" fill=\"#000000\">X[0] &lt;= 30.5</text>\n<text text-anchor=\"middle\" x=\"518.5\" y=\"-646.8\" font-family=\"Times,serif\" font-size=\"14.00\" fill=\"#000000\">gini = 0.32</text>\n<text text-anchor=\"middle\" x=\"518.5\" y=\"-631.8\" font-family=\"Times,serif\" font-size=\"14.00\" fill=\"#000000\">samples = 15</text>\n<text text-anchor=\"middle\" x=\"518.5\" y=\"-616.8\" font-family=\"Times,serif\" font-size=\"14.00\" fill=\"#000000\">value = [12, 3]</text>\n</g>\n<!-- 38&#45;&gt;39 -->\n<g id=\"edge39\" class=\"edge\">\n<title>38&#45;&gt;39</title>\n<path fill=\"none\" stroke=\"#000000\" d=\"M555.4909,-712.9465C550.9801,-704.4169 546.0809,-695.153 541.3686,-686.2424\"/>\n<polygon fill=\"#000000\" stroke=\"#000000\" points=\"544.3185,-684.3337 536.5495,-677.13 538.1306,-687.6062 544.3185,-684.3337\"/>\n</g>\n<!-- 46 -->\n<g id=\"node47\" class=\"node\">\n<title>46</title>\n<polygon fill=\"none\" stroke=\"#000000\" points=\"683,-669.5 588,-669.5 588,-616.5 683,-616.5 683,-669.5\"/>\n<text text-anchor=\"middle\" x=\"635.5\" y=\"-654.3\" font-family=\"Times,serif\" font-size=\"14.00\" fill=\"#000000\">gini = 0.0</text>\n<text text-anchor=\"middle\" x=\"635.5\" y=\"-639.3\" font-family=\"Times,serif\" font-size=\"14.00\" fill=\"#000000\">samples = 4</text>\n<text text-anchor=\"middle\" x=\"635.5\" y=\"-624.3\" font-family=\"Times,serif\" font-size=\"14.00\" fill=\"#000000\">value = [0, 4]</text>\n</g>\n<!-- 38&#45;&gt;46 -->\n<g id=\"edge46\" class=\"edge\">\n<title>38&#45;&gt;46</title>\n<path fill=\"none\" stroke=\"#000000\" d=\"M593.8011,-712.9465C600.4334,-701.8215 607.8103,-689.4473 614.4933,-678.237\"/>\n<polygon fill=\"#000000\" stroke=\"#000000\" points=\"617.5624,-679.9239 619.6768,-669.5422 611.5498,-676.3394 617.5624,-679.9239\"/>\n</g>\n<!-- 40 -->\n<g id=\"node41\" class=\"node\">\n<title>40</title>\n<polygon fill=\"none\" stroke=\"#000000\" points=\"562,-565.5 467,-565.5 467,-512.5 562,-512.5 562,-565.5\"/>\n<text text-anchor=\"middle\" x=\"514.5\" y=\"-550.3\" font-family=\"Times,serif\" font-size=\"14.00\" fill=\"#000000\">gini = 0.0</text>\n<text text-anchor=\"middle\" x=\"514.5\" y=\"-535.3\" font-family=\"Times,serif\" font-size=\"14.00\" fill=\"#000000\">samples = 1</text>\n<text text-anchor=\"middle\" x=\"514.5\" y=\"-520.3\" font-family=\"Times,serif\" font-size=\"14.00\" fill=\"#000000\">value = [0, 1]</text>\n</g>\n<!-- 39&#45;&gt;40 -->\n<g id=\"edge40\" class=\"edge\">\n<title>39&#45;&gt;40</title>\n<path fill=\"none\" stroke=\"#000000\" d=\"M517.1903,-608.9465C516.7793,-598.2621 516.3241,-586.4254 515.9067,-575.5742\"/>\n<polygon fill=\"#000000\" stroke=\"#000000\" points=\"519.4027,-575.4002 515.5209,-565.5422 512.4079,-575.6693 519.4027,-575.4002\"/>\n</g>\n<!-- 41 -->\n<g id=\"node42\" class=\"node\">\n<title>41</title>\n<polygon fill=\"none\" stroke=\"#000000\" points=\"682.5,-573 580.5,-573 580.5,-505 682.5,-505 682.5,-573\"/>\n<text text-anchor=\"middle\" x=\"631.5\" y=\"-557.8\" font-family=\"Times,serif\" font-size=\"14.00\" fill=\"#000000\">X[1] &lt;= 31.0</text>\n<text text-anchor=\"middle\" x=\"631.5\" y=\"-542.8\" font-family=\"Times,serif\" font-size=\"14.00\" fill=\"#000000\">gini = 0.245</text>\n<text text-anchor=\"middle\" x=\"631.5\" y=\"-527.8\" font-family=\"Times,serif\" font-size=\"14.00\" fill=\"#000000\">samples = 14</text>\n<text text-anchor=\"middle\" x=\"631.5\" y=\"-512.8\" font-family=\"Times,serif\" font-size=\"14.00\" fill=\"#000000\">value = [12, 2]</text>\n</g>\n<!-- 39&#45;&gt;41 -->\n<g id=\"edge41\" class=\"edge\">\n<title>39&#45;&gt;41</title>\n<path fill=\"none\" stroke=\"#000000\" d=\"M555.5004,-608.9465C565.5486,-599.6986 576.5347,-589.5876 586.9526,-579.9994\"/>\n<polygon fill=\"#000000\" stroke=\"#000000\" points=\"589.4286,-582.4773 594.4164,-573.13 584.6882,-577.3267 589.4286,-582.4773\"/>\n</g>\n<!-- 42 -->\n<g id=\"node43\" class=\"node\">\n<title>42</title>\n<polygon fill=\"none\" stroke=\"#000000\" points=\"652.5,-461.5 550.5,-461.5 550.5,-408.5 652.5,-408.5 652.5,-461.5\"/>\n<text text-anchor=\"middle\" x=\"601.5\" y=\"-446.3\" font-family=\"Times,serif\" font-size=\"14.00\" fill=\"#000000\">gini = 0.0</text>\n<text text-anchor=\"middle\" x=\"601.5\" y=\"-431.3\" font-family=\"Times,serif\" font-size=\"14.00\" fill=\"#000000\">samples = 10</text>\n<text text-anchor=\"middle\" x=\"601.5\" y=\"-416.3\" font-family=\"Times,serif\" font-size=\"14.00\" fill=\"#000000\">value = [10, 0]</text>\n</g>\n<!-- 41&#45;&gt;42 -->\n<g id=\"edge42\" class=\"edge\">\n<title>41&#45;&gt;42</title>\n<path fill=\"none\" stroke=\"#000000\" d=\"M621.6769,-504.9465C618.563,-494.1519 615.11,-482.1813 611.9535,-471.2389\"/>\n<polygon fill=\"#000000\" stroke=\"#000000\" points=\"615.291,-470.1803 609.1564,-461.5422 608.5652,-472.1205 615.291,-470.1803\"/>\n</g>\n<!-- 43 -->\n<g id=\"node44\" class=\"node\">\n<title>43</title>\n<polygon fill=\"none\" stroke=\"#000000\" points=\"766,-469 671,-469 671,-401 766,-401 766,-469\"/>\n<text text-anchor=\"middle\" x=\"718.5\" y=\"-453.8\" font-family=\"Times,serif\" font-size=\"14.00\" fill=\"#000000\">X[4] &lt;= 3.7</text>\n<text text-anchor=\"middle\" x=\"718.5\" y=\"-438.8\" font-family=\"Times,serif\" font-size=\"14.00\" fill=\"#000000\">gini = 0.5</text>\n<text text-anchor=\"middle\" x=\"718.5\" y=\"-423.8\" font-family=\"Times,serif\" font-size=\"14.00\" fill=\"#000000\">samples = 4</text>\n<text text-anchor=\"middle\" x=\"718.5\" y=\"-408.8\" font-family=\"Times,serif\" font-size=\"14.00\" fill=\"#000000\">value = [2, 2]</text>\n</g>\n<!-- 41&#45;&gt;43 -->\n<g id=\"edge43\" class=\"edge\">\n<title>41&#45;&gt;43</title>\n<path fill=\"none\" stroke=\"#000000\" d=\"M659.9871,-504.9465C667.4979,-495.968 675.6895,-486.1758 683.5005,-476.8385\"/>\n<polygon fill=\"#000000\" stroke=\"#000000\" points=\"686.2171,-479.0459 689.9489,-469.13 680.848,-474.5544 686.2171,-479.0459\"/>\n</g>\n<!-- 44 -->\n<g id=\"node45\" class=\"node\">\n<title>44</title>\n<polygon fill=\"none\" stroke=\"#000000\" points=\"737,-357.5 642,-357.5 642,-304.5 737,-304.5 737,-357.5\"/>\n<text text-anchor=\"middle\" x=\"689.5\" y=\"-342.3\" font-family=\"Times,serif\" font-size=\"14.00\" fill=\"#000000\">gini = 0.0</text>\n<text text-anchor=\"middle\" x=\"689.5\" y=\"-327.3\" font-family=\"Times,serif\" font-size=\"14.00\" fill=\"#000000\">samples = 2</text>\n<text text-anchor=\"middle\" x=\"689.5\" y=\"-312.3\" font-family=\"Times,serif\" font-size=\"14.00\" fill=\"#000000\">value = [0, 2]</text>\n</g>\n<!-- 43&#45;&gt;44 -->\n<g id=\"edge44\" class=\"edge\">\n<title>43&#45;&gt;44</title>\n<path fill=\"none\" stroke=\"#000000\" d=\"M709.0043,-400.9465C705.9943,-390.1519 702.6563,-378.1813 699.6051,-367.2389\"/>\n<polygon fill=\"#000000\" stroke=\"#000000\" points=\"702.9586,-366.2346 696.9012,-357.5422 696.2159,-368.1148 702.9586,-366.2346\"/>\n</g>\n<!-- 45 -->\n<g id=\"node46\" class=\"node\">\n<title>45</title>\n<polygon fill=\"none\" stroke=\"#000000\" points=\"850,-357.5 755,-357.5 755,-304.5 850,-304.5 850,-357.5\"/>\n<text text-anchor=\"middle\" x=\"802.5\" y=\"-342.3\" font-family=\"Times,serif\" font-size=\"14.00\" fill=\"#000000\">gini = 0.0</text>\n<text text-anchor=\"middle\" x=\"802.5\" y=\"-327.3\" font-family=\"Times,serif\" font-size=\"14.00\" fill=\"#000000\">samples = 2</text>\n<text text-anchor=\"middle\" x=\"802.5\" y=\"-312.3\" font-family=\"Times,serif\" font-size=\"14.00\" fill=\"#000000\">value = [2, 0]</text>\n</g>\n<!-- 43&#45;&gt;45 -->\n<g id=\"edge45\" class=\"edge\">\n<title>43&#45;&gt;45</title>\n<path fill=\"none\" stroke=\"#000000\" d=\"M746.0047,-400.9465C755.1683,-389.6012 765.3811,-376.9567 774.5761,-365.5724\"/>\n<polygon fill=\"#000000\" stroke=\"#000000\" points=\"777.5015,-367.5208 781.0621,-357.5422 772.0559,-363.1224 777.5015,-367.5208\"/>\n</g>\n<!-- 48 -->\n<g id=\"node49\" class=\"node\">\n<title>48</title>\n<polygon fill=\"none\" stroke=\"#000000\" points=\"796,-677 701,-677 701,-609 796,-609 796,-677\"/>\n<text text-anchor=\"middle\" x=\"748.5\" y=\"-661.8\" font-family=\"Times,serif\" font-size=\"14.00\" fill=\"#000000\">X[4] &lt;= 3.25</text>\n<text text-anchor=\"middle\" x=\"748.5\" y=\"-646.8\" font-family=\"Times,serif\" font-size=\"14.00\" fill=\"#000000\">gini = 0.444</text>\n<text text-anchor=\"middle\" x=\"748.5\" y=\"-631.8\" font-family=\"Times,serif\" font-size=\"14.00\" fill=\"#000000\">samples = 3</text>\n<text text-anchor=\"middle\" x=\"748.5\" y=\"-616.8\" font-family=\"Times,serif\" font-size=\"14.00\" fill=\"#000000\">value = [2, 1]</text>\n</g>\n<!-- 47&#45;&gt;48 -->\n<g id=\"edge48\" class=\"edge\">\n<title>47&#45;&gt;48</title>\n<path fill=\"none\" stroke=\"#000000\" d=\"M748.5,-712.9465C748.5,-704.776 748.5,-695.9318 748.5,-687.3697\"/>\n<polygon fill=\"#000000\" stroke=\"#000000\" points=\"752.0001,-687.13 748.5,-677.13 745.0001,-687.13 752.0001,-687.13\"/>\n</g>\n<!-- 51 -->\n<g id=\"node52\" class=\"node\">\n<title>51</title>\n<polygon fill=\"none\" stroke=\"#000000\" points=\"916.5,-669.5 814.5,-669.5 814.5,-616.5 916.5,-616.5 916.5,-669.5\"/>\n<text text-anchor=\"middle\" x=\"865.5\" y=\"-654.3\" font-family=\"Times,serif\" font-size=\"14.00\" fill=\"#000000\">gini = 0.0</text>\n<text text-anchor=\"middle\" x=\"865.5\" y=\"-639.3\" font-family=\"Times,serif\" font-size=\"14.00\" fill=\"#000000\">samples = 16</text>\n<text text-anchor=\"middle\" x=\"865.5\" y=\"-624.3\" font-family=\"Times,serif\" font-size=\"14.00\" fill=\"#000000\">value = [16, 0]</text>\n</g>\n<!-- 47&#45;&gt;51 -->\n<g id=\"edge51\" class=\"edge\">\n<title>47&#45;&gt;51</title>\n<path fill=\"none\" stroke=\"#000000\" d=\"M786.8102,-712.9465C800.0694,-701.1606 814.9058,-687.9726 828.0916,-676.2519\"/>\n<polygon fill=\"#000000\" stroke=\"#000000\" points=\"830.4912,-678.8018 835.6401,-669.5422 825.8407,-673.5699 830.4912,-678.8018\"/>\n</g>\n<!-- 49 -->\n<g id=\"node50\" class=\"node\">\n<title>49</title>\n<polygon fill=\"none\" stroke=\"#000000\" points=\"796,-565.5 701,-565.5 701,-512.5 796,-512.5 796,-565.5\"/>\n<text text-anchor=\"middle\" x=\"748.5\" y=\"-550.3\" font-family=\"Times,serif\" font-size=\"14.00\" fill=\"#000000\">gini = 0.0</text>\n<text text-anchor=\"middle\" x=\"748.5\" y=\"-535.3\" font-family=\"Times,serif\" font-size=\"14.00\" fill=\"#000000\">samples = 1</text>\n<text text-anchor=\"middle\" x=\"748.5\" y=\"-520.3\" font-family=\"Times,serif\" font-size=\"14.00\" fill=\"#000000\">value = [0, 1]</text>\n</g>\n<!-- 48&#45;&gt;49 -->\n<g id=\"edge49\" class=\"edge\">\n<title>48&#45;&gt;49</title>\n<path fill=\"none\" stroke=\"#000000\" d=\"M748.5,-608.9465C748.5,-598.2621 748.5,-586.4254 748.5,-575.5742\"/>\n<polygon fill=\"#000000\" stroke=\"#000000\" points=\"752.0001,-575.5421 748.5,-565.5422 745.0001,-575.5422 752.0001,-575.5421\"/>\n</g>\n<!-- 50 -->\n<g id=\"node51\" class=\"node\">\n<title>50</title>\n<polygon fill=\"none\" stroke=\"#000000\" points=\"909,-565.5 814,-565.5 814,-512.5 909,-512.5 909,-565.5\"/>\n<text text-anchor=\"middle\" x=\"861.5\" y=\"-550.3\" font-family=\"Times,serif\" font-size=\"14.00\" fill=\"#000000\">gini = 0.0</text>\n<text text-anchor=\"middle\" x=\"861.5\" y=\"-535.3\" font-family=\"Times,serif\" font-size=\"14.00\" fill=\"#000000\">samples = 2</text>\n<text text-anchor=\"middle\" x=\"861.5\" y=\"-520.3\" font-family=\"Times,serif\" font-size=\"14.00\" fill=\"#000000\">value = [2, 0]</text>\n</g>\n<!-- 48&#45;&gt;50 -->\n<g id=\"edge50\" class=\"edge\">\n<title>48&#45;&gt;50</title>\n<path fill=\"none\" stroke=\"#000000\" d=\"M785.5004,-608.9465C798.1866,-597.2707 812.3678,-584.219 825.013,-572.5809\"/>\n<polygon fill=\"#000000\" stroke=\"#000000\" points=\"827.6731,-574.8895 832.6609,-565.5422 822.9327,-569.7389 827.6731,-574.8895\"/>\n</g>\n<!-- 55 -->\n<g id=\"node56\" class=\"node\">\n<title>55</title>\n<polygon fill=\"none\" stroke=\"#000000\" points=\"812,-1197 717,-1197 717,-1129 812,-1129 812,-1197\"/>\n<text text-anchor=\"middle\" x=\"764.5\" y=\"-1181.8\" font-family=\"Times,serif\" font-size=\"14.00\" fill=\"#000000\">X[4] &lt;= 3.65</text>\n<text text-anchor=\"middle\" x=\"764.5\" y=\"-1166.8\" font-family=\"Times,serif\" font-size=\"14.00\" fill=\"#000000\">gini = 0.408</text>\n<text text-anchor=\"middle\" x=\"764.5\" y=\"-1151.8\" font-family=\"Times,serif\" font-size=\"14.00\" fill=\"#000000\">samples = 7</text>\n<text text-anchor=\"middle\" x=\"764.5\" y=\"-1136.8\" font-family=\"Times,serif\" font-size=\"14.00\" fill=\"#000000\">value = [5, 2]</text>\n</g>\n<!-- 54&#45;&gt;55 -->\n<g id=\"edge55\" class=\"edge\">\n<title>54&#45;&gt;55</title>\n<path fill=\"none\" stroke=\"#000000\" d=\"M764.5,-1232.9465C764.5,-1224.776 764.5,-1215.9318 764.5,-1207.3697\"/>\n<polygon fill=\"#000000\" stroke=\"#000000\" points=\"768.0001,-1207.13 764.5,-1197.13 761.0001,-1207.13 768.0001,-1207.13\"/>\n</g>\n<!-- 58 -->\n<g id=\"node59\" class=\"node\">\n<title>58</title>\n<polygon fill=\"none\" stroke=\"#000000\" points=\"925,-1189.5 830,-1189.5 830,-1136.5 925,-1136.5 925,-1189.5\"/>\n<text text-anchor=\"middle\" x=\"877.5\" y=\"-1174.3\" font-family=\"Times,serif\" font-size=\"14.00\" fill=\"#000000\">gini = 0.0</text>\n<text text-anchor=\"middle\" x=\"877.5\" y=\"-1159.3\" font-family=\"Times,serif\" font-size=\"14.00\" fill=\"#000000\">samples = 3</text>\n<text text-anchor=\"middle\" x=\"877.5\" y=\"-1144.3\" font-family=\"Times,serif\" font-size=\"14.00\" fill=\"#000000\">value = [0, 3]</text>\n</g>\n<!-- 54&#45;&gt;58 -->\n<g id=\"edge58\" class=\"edge\">\n<title>54&#45;&gt;58</title>\n<path fill=\"none\" stroke=\"#000000\" d=\"M801.5004,-1232.9465C814.1866,-1221.2707 828.3678,-1208.219 841.013,-1196.5809\"/>\n<polygon fill=\"#000000\" stroke=\"#000000\" points=\"843.6731,-1198.8895 848.6609,-1189.5422 838.9327,-1193.7389 843.6731,-1198.8895\"/>\n</g>\n<!-- 56 -->\n<g id=\"node57\" class=\"node\">\n<title>56</title>\n<polygon fill=\"none\" stroke=\"#000000\" points=\"812,-1085.5 717,-1085.5 717,-1032.5 812,-1032.5 812,-1085.5\"/>\n<text text-anchor=\"middle\" x=\"764.5\" y=\"-1070.3\" font-family=\"Times,serif\" font-size=\"14.00\" fill=\"#000000\">gini = 0.0</text>\n<text text-anchor=\"middle\" x=\"764.5\" y=\"-1055.3\" font-family=\"Times,serif\" font-size=\"14.00\" fill=\"#000000\">samples = 2</text>\n<text text-anchor=\"middle\" x=\"764.5\" y=\"-1040.3\" font-family=\"Times,serif\" font-size=\"14.00\" fill=\"#000000\">value = [0, 2]</text>\n</g>\n<!-- 55&#45;&gt;56 -->\n<g id=\"edge56\" class=\"edge\">\n<title>55&#45;&gt;56</title>\n<path fill=\"none\" stroke=\"#000000\" d=\"M764.5,-1128.9465C764.5,-1118.2621 764.5,-1106.4254 764.5,-1095.5742\"/>\n<polygon fill=\"#000000\" stroke=\"#000000\" points=\"768.0001,-1095.5421 764.5,-1085.5422 761.0001,-1095.5422 768.0001,-1095.5421\"/>\n</g>\n<!-- 57 -->\n<g id=\"node58\" class=\"node\">\n<title>57</title>\n<polygon fill=\"none\" stroke=\"#000000\" points=\"925,-1085.5 830,-1085.5 830,-1032.5 925,-1032.5 925,-1085.5\"/>\n<text text-anchor=\"middle\" x=\"877.5\" y=\"-1070.3\" font-family=\"Times,serif\" font-size=\"14.00\" fill=\"#000000\">gini = 0.0</text>\n<text text-anchor=\"middle\" x=\"877.5\" y=\"-1055.3\" font-family=\"Times,serif\" font-size=\"14.00\" fill=\"#000000\">samples = 5</text>\n<text text-anchor=\"middle\" x=\"877.5\" y=\"-1040.3\" font-family=\"Times,serif\" font-size=\"14.00\" fill=\"#000000\">value = [5, 0]</text>\n</g>\n<!-- 55&#45;&gt;57 -->\n<g id=\"edge57\" class=\"edge\">\n<title>55&#45;&gt;57</title>\n<path fill=\"none\" stroke=\"#000000\" d=\"M801.5004,-1128.9465C814.1866,-1117.2707 828.3678,-1104.219 841.013,-1092.5809\"/>\n<polygon fill=\"#000000\" stroke=\"#000000\" points=\"843.6731,-1094.8895 848.6609,-1085.5422 838.9327,-1089.7389 843.6731,-1094.8895\"/>\n</g>\n<!-- 60 -->\n<g id=\"node61\" class=\"node\">\n<title>60</title>\n<polygon fill=\"none\" stroke=\"#000000\" points=\"925,-1293.5 830,-1293.5 830,-1240.5 925,-1240.5 925,-1293.5\"/>\n<text text-anchor=\"middle\" x=\"877.5\" y=\"-1278.3\" font-family=\"Times,serif\" font-size=\"14.00\" fill=\"#000000\">gini = 0.0</text>\n<text text-anchor=\"middle\" x=\"877.5\" y=\"-1263.3\" font-family=\"Times,serif\" font-size=\"14.00\" fill=\"#000000\">samples = 9</text>\n<text text-anchor=\"middle\" x=\"877.5\" y=\"-1248.3\" font-family=\"Times,serif\" font-size=\"14.00\" fill=\"#000000\">value = [0, 9]</text>\n</g>\n<!-- 59&#45;&gt;60 -->\n<g id=\"edge60\" class=\"edge\">\n<title>59&#45;&gt;60</title>\n<path fill=\"none\" stroke=\"#000000\" d=\"M919.1989,-1336.9465C912.5666,-1325.8215 905.1897,-1313.4473 898.5067,-1302.237\"/>\n<polygon fill=\"#000000\" stroke=\"#000000\" points=\"901.4502,-1300.3394 893.3232,-1293.5422 895.4376,-1303.9239 901.4502,-1300.3394\"/>\n</g>\n<!-- 61 -->\n<g id=\"node62\" class=\"node\">\n<title>61</title>\n<polygon fill=\"none\" stroke=\"#000000\" points=\"1038,-1293.5 943,-1293.5 943,-1240.5 1038,-1240.5 1038,-1293.5\"/>\n<text text-anchor=\"middle\" x=\"990.5\" y=\"-1278.3\" font-family=\"Times,serif\" font-size=\"14.00\" fill=\"#000000\">gini = 0.0</text>\n<text text-anchor=\"middle\" x=\"990.5\" y=\"-1263.3\" font-family=\"Times,serif\" font-size=\"14.00\" fill=\"#000000\">samples = 1</text>\n<text text-anchor=\"middle\" x=\"990.5\" y=\"-1248.3\" font-family=\"Times,serif\" font-size=\"14.00\" fill=\"#000000\">value = [1, 0]</text>\n</g>\n<!-- 59&#45;&gt;61 -->\n<g id=\"edge61\" class=\"edge\">\n<title>59&#45;&gt;61</title>\n<path fill=\"none\" stroke=\"#000000\" d=\"M956.1993,-1336.9465C961.6008,-1325.9316 967.6029,-1313.6922 973.0569,-1302.5703\"/>\n<polygon fill=\"#000000\" stroke=\"#000000\" points=\"976.2236,-1304.0618 977.4841,-1293.5422 969.9386,-1300.9797 976.2236,-1304.0618\"/>\n</g>\n<!-- 63 -->\n<g id=\"node64\" class=\"node\">\n<title>63</title>\n<polygon fill=\"none\" stroke=\"#000000\" points=\"1434,-1509 1317,-1509 1317,-1441 1434,-1441 1434,-1509\"/>\n<text text-anchor=\"middle\" x=\"1375.5\" y=\"-1493.8\" font-family=\"Times,serif\" font-size=\"14.00\" fill=\"#000000\">X[3] &lt;= 2.5</text>\n<text text-anchor=\"middle\" x=\"1375.5\" y=\"-1478.8\" font-family=\"Times,serif\" font-size=\"14.00\" fill=\"#000000\">gini = 0.187</text>\n<text text-anchor=\"middle\" x=\"1375.5\" y=\"-1463.8\" font-family=\"Times,serif\" font-size=\"14.00\" fill=\"#000000\">samples = 538</text>\n<text text-anchor=\"middle\" x=\"1375.5\" y=\"-1448.8\" font-family=\"Times,serif\" font-size=\"14.00\" fill=\"#000000\">value = [482, 56]</text>\n</g>\n<!-- 62&#45;&gt;63 -->\n<g id=\"edge63\" class=\"edge\">\n<title>62&#45;&gt;63</title>\n<path fill=\"none\" stroke=\"#000000\" d=\"M1375.5,-1544.9465C1375.5,-1536.776 1375.5,-1527.9318 1375.5,-1519.3697\"/>\n<polygon fill=\"#000000\" stroke=\"#000000\" points=\"1379.0001,-1519.13 1375.5,-1509.13 1372.0001,-1519.13 1379.0001,-1519.13\"/>\n</g>\n<!-- 86 -->\n<g id=\"node87\" class=\"node\">\n<title>86</title>\n<polygon fill=\"none\" stroke=\"#000000\" points=\"1818,-1509 1701,-1509 1701,-1441 1818,-1441 1818,-1509\"/>\n<text text-anchor=\"middle\" x=\"1759.5\" y=\"-1493.8\" font-family=\"Times,serif\" font-size=\"14.00\" fill=\"#000000\">X[2] &lt;= 116.5</text>\n<text text-anchor=\"middle\" x=\"1759.5\" y=\"-1478.8\" font-family=\"Times,serif\" font-size=\"14.00\" fill=\"#000000\">gini = 0.335</text>\n<text text-anchor=\"middle\" x=\"1759.5\" y=\"-1463.8\" font-family=\"Times,serif\" font-size=\"14.00\" fill=\"#000000\">samples = 324</text>\n<text text-anchor=\"middle\" x=\"1759.5\" y=\"-1448.8\" font-family=\"Times,serif\" font-size=\"14.00\" fill=\"#000000\">value = [69, 255]</text>\n</g>\n<!-- 62&#45;&gt;86 -->\n<g id=\"edge86\" class=\"edge\">\n<title>62&#45;&gt;86</title>\n<path fill=\"none\" stroke=\"#000000\" d=\"M1437.623,-1562.175C1507.0583,-1543.3696 1619.1559,-1513.0099 1691.0596,-1493.5359\"/>\n<polygon fill=\"#000000\" stroke=\"#000000\" points=\"1692.1929,-1496.8552 1700.9302,-1490.8627 1690.363,-1490.0986 1692.1929,-1496.8552\"/>\n</g>\n<!-- 64 -->\n<g id=\"node65\" class=\"node\">\n<title>64</title>\n<polygon fill=\"none\" stroke=\"#000000\" points=\"1337.5,-1405 1227.5,-1405 1227.5,-1337 1337.5,-1337 1337.5,-1405\"/>\n<text text-anchor=\"middle\" x=\"1282.5\" y=\"-1389.8\" font-family=\"Times,serif\" font-size=\"14.00\" fill=\"#000000\">X[2] &lt;= 101.5</text>\n<text text-anchor=\"middle\" x=\"1282.5\" y=\"-1374.8\" font-family=\"Times,serif\" font-size=\"14.00\" fill=\"#000000\">gini = 0.008</text>\n<text text-anchor=\"middle\" x=\"1282.5\" y=\"-1359.8\" font-family=\"Times,serif\" font-size=\"14.00\" fill=\"#000000\">samples = 471</text>\n<text text-anchor=\"middle\" x=\"1282.5\" y=\"-1344.8\" font-family=\"Times,serif\" font-size=\"14.00\" fill=\"#000000\">value = [469, 2]</text>\n</g>\n<!-- 63&#45;&gt;64 -->\n<g id=\"edge64\" class=\"edge\">\n<title>63&#45;&gt;64</title>\n<path fill=\"none\" stroke=\"#000000\" d=\"M1345.0483,-1440.9465C1337.0194,-1431.968 1328.263,-1422.1758 1319.9133,-1412.8385\"/>\n<polygon fill=\"#000000\" stroke=\"#000000\" points=\"1322.295,-1410.2512 1313.0201,-1405.13 1317.077,-1414.9174 1322.295,-1410.2512\"/>\n</g>\n<!-- 75 -->\n<g id=\"node76\" class=\"node\">\n<title>75</title>\n<polygon fill=\"none\" stroke=\"#000000\" points=\"1523.5,-1405 1413.5,-1405 1413.5,-1337 1523.5,-1337 1523.5,-1405\"/>\n<text text-anchor=\"middle\" x=\"1468.5\" y=\"-1389.8\" font-family=\"Times,serif\" font-size=\"14.00\" fill=\"#000000\">X[2] &lt;= 113.5</text>\n<text text-anchor=\"middle\" x=\"1468.5\" y=\"-1374.8\" font-family=\"Times,serif\" font-size=\"14.00\" fill=\"#000000\">gini = 0.313</text>\n<text text-anchor=\"middle\" x=\"1468.5\" y=\"-1359.8\" font-family=\"Times,serif\" font-size=\"14.00\" fill=\"#000000\">samples = 67</text>\n<text text-anchor=\"middle\" x=\"1468.5\" y=\"-1344.8\" font-family=\"Times,serif\" font-size=\"14.00\" fill=\"#000000\">value = [13, 54]</text>\n</g>\n<!-- 63&#45;&gt;75 -->\n<g id=\"edge75\" class=\"edge\">\n<title>63&#45;&gt;75</title>\n<path fill=\"none\" stroke=\"#000000\" d=\"M1405.9517,-1440.9465C1413.9806,-1431.968 1422.737,-1422.1758 1431.0867,-1412.8385\"/>\n<polygon fill=\"#000000\" stroke=\"#000000\" points=\"1433.923,-1414.9174 1437.9799,-1405.13 1428.705,-1410.2512 1433.923,-1414.9174\"/>\n</g>\n<!-- 65 -->\n<g id=\"node66\" class=\"node\">\n<title>65</title>\n<polygon fill=\"none\" stroke=\"#000000\" points=\"1151,-1301 1056,-1301 1056,-1233 1151,-1233 1151,-1301\"/>\n<text text-anchor=\"middle\" x=\"1103.5\" y=\"-1285.8\" font-family=\"Times,serif\" font-size=\"14.00\" fill=\"#000000\">X[4] &lt;= 3.35</text>\n<text text-anchor=\"middle\" x=\"1103.5\" y=\"-1270.8\" font-family=\"Times,serif\" font-size=\"14.00\" fill=\"#000000\">gini = 0.375</text>\n<text text-anchor=\"middle\" x=\"1103.5\" y=\"-1255.8\" font-family=\"Times,serif\" font-size=\"14.00\" fill=\"#000000\">samples = 4</text>\n<text text-anchor=\"middle\" x=\"1103.5\" y=\"-1240.8\" font-family=\"Times,serif\" font-size=\"14.00\" fill=\"#000000\">value = [3, 1]</text>\n</g>\n<!-- 64&#45;&gt;65 -->\n<g id=\"edge65\" class=\"edge\">\n<title>64&#45;&gt;65</title>\n<path fill=\"none\" stroke=\"#000000\" d=\"M1227.3335,-1338.948C1205.9361,-1326.516 1181.4527,-1312.291 1159.936,-1299.7896\"/>\n<polygon fill=\"#000000\" stroke=\"#000000\" points=\"1161.632,-1296.7272 1151.2271,-1294.7297 1158.1154,-1302.7798 1161.632,-1296.7272\"/>\n</g>\n<!-- 68 -->\n<g id=\"node69\" class=\"node\">\n<title>68</title>\n<polygon fill=\"none\" stroke=\"#000000\" points=\"1337.5,-1301 1227.5,-1301 1227.5,-1233 1337.5,-1233 1337.5,-1301\"/>\n<text text-anchor=\"middle\" x=\"1282.5\" y=\"-1285.8\" font-family=\"Times,serif\" font-size=\"14.00\" fill=\"#000000\">X[2] &lt;= 104.5</text>\n<text text-anchor=\"middle\" x=\"1282.5\" y=\"-1270.8\" font-family=\"Times,serif\" font-size=\"14.00\" fill=\"#000000\">gini = 0.004</text>\n<text text-anchor=\"middle\" x=\"1282.5\" y=\"-1255.8\" font-family=\"Times,serif\" font-size=\"14.00\" fill=\"#000000\">samples = 467</text>\n<text text-anchor=\"middle\" x=\"1282.5\" y=\"-1240.8\" font-family=\"Times,serif\" font-size=\"14.00\" fill=\"#000000\">value = [466, 1]</text>\n</g>\n<!-- 64&#45;&gt;68 -->\n<g id=\"edge68\" class=\"edge\">\n<title>64&#45;&gt;68</title>\n<path fill=\"none\" stroke=\"#000000\" d=\"M1282.5,-1336.9465C1282.5,-1328.776 1282.5,-1319.9318 1282.5,-1311.3697\"/>\n<polygon fill=\"#000000\" stroke=\"#000000\" points=\"1286.0001,-1311.13 1282.5,-1301.13 1279.0001,-1311.13 1286.0001,-1311.13\"/>\n</g>\n<!-- 66 -->\n<g id=\"node67\" class=\"node\">\n<title>66</title>\n<polygon fill=\"none\" stroke=\"#000000\" points=\"1038,-1189.5 943,-1189.5 943,-1136.5 1038,-1136.5 1038,-1189.5\"/>\n<text text-anchor=\"middle\" x=\"990.5\" y=\"-1174.3\" font-family=\"Times,serif\" font-size=\"14.00\" fill=\"#000000\">gini = 0.0</text>\n<text text-anchor=\"middle\" x=\"990.5\" y=\"-1159.3\" font-family=\"Times,serif\" font-size=\"14.00\" fill=\"#000000\">samples = 3</text>\n<text text-anchor=\"middle\" x=\"990.5\" y=\"-1144.3\" font-family=\"Times,serif\" font-size=\"14.00\" fill=\"#000000\">value = [3, 0]</text>\n</g>\n<!-- 65&#45;&gt;66 -->\n<g id=\"edge66\" class=\"edge\">\n<title>65&#45;&gt;66</title>\n<path fill=\"none\" stroke=\"#000000\" d=\"M1066.4996,-1232.9465C1053.8134,-1221.2707 1039.6322,-1208.219 1026.987,-1196.5809\"/>\n<polygon fill=\"#000000\" stroke=\"#000000\" points=\"1029.0673,-1193.7389 1019.3391,-1189.5422 1024.3269,-1198.8895 1029.0673,-1193.7389\"/>\n</g>\n<!-- 67 -->\n<g id=\"node68\" class=\"node\">\n<title>67</title>\n<polygon fill=\"none\" stroke=\"#000000\" points=\"1151,-1189.5 1056,-1189.5 1056,-1136.5 1151,-1136.5 1151,-1189.5\"/>\n<text text-anchor=\"middle\" x=\"1103.5\" y=\"-1174.3\" font-family=\"Times,serif\" font-size=\"14.00\" fill=\"#000000\">gini = 0.0</text>\n<text text-anchor=\"middle\" x=\"1103.5\" y=\"-1159.3\" font-family=\"Times,serif\" font-size=\"14.00\" fill=\"#000000\">samples = 1</text>\n<text text-anchor=\"middle\" x=\"1103.5\" y=\"-1144.3\" font-family=\"Times,serif\" font-size=\"14.00\" fill=\"#000000\">value = [0, 1]</text>\n</g>\n<!-- 65&#45;&gt;67 -->\n<g id=\"edge67\" class=\"edge\">\n<title>65&#45;&gt;67</title>\n<path fill=\"none\" stroke=\"#000000\" d=\"M1103.5,-1232.9465C1103.5,-1222.2621 1103.5,-1210.4254 1103.5,-1199.5742\"/>\n<polygon fill=\"#000000\" stroke=\"#000000\" points=\"1107.0001,-1199.5421 1103.5,-1189.5422 1100.0001,-1199.5422 1107.0001,-1199.5421\"/>\n</g>\n<!-- 69 -->\n<g id=\"node70\" class=\"node\">\n<title>69</title>\n<polygon fill=\"none\" stroke=\"#000000\" points=\"1271.5,-1197 1169.5,-1197 1169.5,-1129 1271.5,-1129 1271.5,-1197\"/>\n<text text-anchor=\"middle\" x=\"1220.5\" y=\"-1181.8\" font-family=\"Times,serif\" font-size=\"14.00\" fill=\"#000000\">X[4] &lt;= 3.55</text>\n<text text-anchor=\"middle\" x=\"1220.5\" y=\"-1166.8\" font-family=\"Times,serif\" font-size=\"14.00\" fill=\"#000000\">gini = 0.111</text>\n<text text-anchor=\"middle\" x=\"1220.5\" y=\"-1151.8\" font-family=\"Times,serif\" font-size=\"14.00\" fill=\"#000000\">samples = 17</text>\n<text text-anchor=\"middle\" x=\"1220.5\" y=\"-1136.8\" font-family=\"Times,serif\" font-size=\"14.00\" fill=\"#000000\">value = [16, 1]</text>\n</g>\n<!-- 68&#45;&gt;69 -->\n<g id=\"edge69\" class=\"edge\">\n<title>68&#45;&gt;69</title>\n<path fill=\"none\" stroke=\"#000000\" d=\"M1262.1989,-1232.9465C1257.0604,-1224.3271 1251.4749,-1214.9579 1246.1114,-1205.9611\"/>\n<polygon fill=\"#000000\" stroke=\"#000000\" points=\"1248.9737,-1203.9272 1240.8467,-1197.13 1242.9611,-1207.5117 1248.9737,-1203.9272\"/>\n</g>\n<!-- 74 -->\n<g id=\"node75\" class=\"node\">\n<title>74</title>\n<polygon fill=\"none\" stroke=\"#000000\" points=\"1399.5,-1189.5 1289.5,-1189.5 1289.5,-1136.5 1399.5,-1136.5 1399.5,-1189.5\"/>\n<text text-anchor=\"middle\" x=\"1344.5\" y=\"-1174.3\" font-family=\"Times,serif\" font-size=\"14.00\" fill=\"#000000\">gini = 0.0</text>\n<text text-anchor=\"middle\" x=\"1344.5\" y=\"-1159.3\" font-family=\"Times,serif\" font-size=\"14.00\" fill=\"#000000\">samples = 450</text>\n<text text-anchor=\"middle\" x=\"1344.5\" y=\"-1144.3\" font-family=\"Times,serif\" font-size=\"14.00\" fill=\"#000000\">value = [450, 0]</text>\n</g>\n<!-- 68&#45;&gt;74 -->\n<g id=\"edge74\" class=\"edge\">\n<title>68&#45;&gt;74</title>\n<path fill=\"none\" stroke=\"#000000\" d=\"M1302.8011,-1232.9465C1309.4334,-1221.8215 1316.8103,-1209.4473 1323.4933,-1198.237\"/>\n<polygon fill=\"#000000\" stroke=\"#000000\" points=\"1326.5624,-1199.9239 1328.6768,-1189.5422 1320.5498,-1196.3394 1326.5624,-1199.9239\"/>\n</g>\n<!-- 70 -->\n<g id=\"node71\" class=\"node\">\n<title>70</title>\n<polygon fill=\"none\" stroke=\"#000000\" points=\"1159.5,-1085.5 1057.5,-1085.5 1057.5,-1032.5 1159.5,-1032.5 1159.5,-1085.5\"/>\n<text text-anchor=\"middle\" x=\"1108.5\" y=\"-1070.3\" font-family=\"Times,serif\" font-size=\"14.00\" fill=\"#000000\">gini = 0.0</text>\n<text text-anchor=\"middle\" x=\"1108.5\" y=\"-1055.3\" font-family=\"Times,serif\" font-size=\"14.00\" fill=\"#000000\">samples = 14</text>\n<text text-anchor=\"middle\" x=\"1108.5\" y=\"-1040.3\" font-family=\"Times,serif\" font-size=\"14.00\" fill=\"#000000\">value = [14, 0]</text>\n</g>\n<!-- 69&#45;&gt;70 -->\n<g id=\"edge70\" class=\"edge\">\n<title>69&#45;&gt;70</title>\n<path fill=\"none\" stroke=\"#000000\" d=\"M1183.827,-1128.9465C1171.2531,-1117.2707 1157.1974,-1104.219 1144.6641,-1092.5809\"/>\n<polygon fill=\"#000000\" stroke=\"#000000\" points=\"1146.7934,-1089.7819 1137.0839,-1085.5422 1142.0302,-1094.9115 1146.7934,-1089.7819\"/>\n</g>\n<!-- 71 -->\n<g id=\"node72\" class=\"node\">\n<title>71</title>\n<polygon fill=\"none\" stroke=\"#000000\" points=\"1273,-1093 1178,-1093 1178,-1025 1273,-1025 1273,-1093\"/>\n<text text-anchor=\"middle\" x=\"1225.5\" y=\"-1077.8\" font-family=\"Times,serif\" font-size=\"14.00\" fill=\"#000000\">X[1] &lt;= 14.0</text>\n<text text-anchor=\"middle\" x=\"1225.5\" y=\"-1062.8\" font-family=\"Times,serif\" font-size=\"14.00\" fill=\"#000000\">gini = 0.444</text>\n<text text-anchor=\"middle\" x=\"1225.5\" y=\"-1047.8\" font-family=\"Times,serif\" font-size=\"14.00\" fill=\"#000000\">samples = 3</text>\n<text text-anchor=\"middle\" x=\"1225.5\" y=\"-1032.8\" font-family=\"Times,serif\" font-size=\"14.00\" fill=\"#000000\">value = [2, 1]</text>\n</g>\n<!-- 69&#45;&gt;71 -->\n<g id=\"edge71\" class=\"edge\">\n<title>69&#45;&gt;71</title>\n<path fill=\"none\" stroke=\"#000000\" d=\"M1222.1372,-1128.9465C1222.53,-1120.776 1222.9552,-1111.9318 1223.3668,-1103.3697\"/>\n<polygon fill=\"#000000\" stroke=\"#000000\" points=\"1226.8748,-1103.2866 1223.8591,-1093.13 1219.8829,-1102.9504 1226.8748,-1103.2866\"/>\n</g>\n<!-- 72 -->\n<g id=\"node73\" class=\"node\">\n<title>72</title>\n<polygon fill=\"none\" stroke=\"#000000\" points=\"1219,-981.5 1124,-981.5 1124,-928.5 1219,-928.5 1219,-981.5\"/>\n<text text-anchor=\"middle\" x=\"1171.5\" y=\"-966.3\" font-family=\"Times,serif\" font-size=\"14.00\" fill=\"#000000\">gini = 0.0</text>\n<text text-anchor=\"middle\" x=\"1171.5\" y=\"-951.3\" font-family=\"Times,serif\" font-size=\"14.00\" fill=\"#000000\">samples = 1</text>\n<text text-anchor=\"middle\" x=\"1171.5\" y=\"-936.3\" font-family=\"Times,serif\" font-size=\"14.00\" fill=\"#000000\">value = [0, 1]</text>\n</g>\n<!-- 71&#45;&gt;72 -->\n<g id=\"edge72\" class=\"edge\">\n<title>71&#45;&gt;72</title>\n<path fill=\"none\" stroke=\"#000000\" d=\"M1207.8184,-1024.9465C1202.0991,-1013.9316 1195.744,-1001.6922 1189.9692,-990.5703\"/>\n<polygon fill=\"#000000\" stroke=\"#000000\" points=\"1192.996,-988.8043 1185.2815,-981.5422 1186.7835,-992.03 1192.996,-988.8043\"/>\n</g>\n<!-- 73 -->\n<g id=\"node74\" class=\"node\">\n<title>73</title>\n<polygon fill=\"none\" stroke=\"#000000\" points=\"1332,-981.5 1237,-981.5 1237,-928.5 1332,-928.5 1332,-981.5\"/>\n<text text-anchor=\"middle\" x=\"1284.5\" y=\"-966.3\" font-family=\"Times,serif\" font-size=\"14.00\" fill=\"#000000\">gini = 0.0</text>\n<text text-anchor=\"middle\" x=\"1284.5\" y=\"-951.3\" font-family=\"Times,serif\" font-size=\"14.00\" fill=\"#000000\">samples = 2</text>\n<text text-anchor=\"middle\" x=\"1284.5\" y=\"-936.3\" font-family=\"Times,serif\" font-size=\"14.00\" fill=\"#000000\">value = [2, 0]</text>\n</g>\n<!-- 71&#45;&gt;73 -->\n<g id=\"edge73\" class=\"edge\">\n<title>71&#45;&gt;73</title>\n<path fill=\"none\" stroke=\"#000000\" d=\"M1244.8188,-1024.9465C1251.0676,-1013.9316 1258.0112,-1001.6922 1264.3207,-990.5703\"/>\n<polygon fill=\"#000000\" stroke=\"#000000\" points=\"1267.5523,-991.967 1269.4424,-981.5422 1261.4638,-988.513 1267.5523,-991.967\"/>\n</g>\n<!-- 76 -->\n<g id=\"node77\" class=\"node\">\n<title>76</title>\n<polygon fill=\"none\" stroke=\"#000000\" points=\"1519.5,-1301 1417.5,-1301 1417.5,-1233 1519.5,-1233 1519.5,-1301\"/>\n<text text-anchor=\"middle\" x=\"1468.5\" y=\"-1285.8\" font-family=\"Times,serif\" font-size=\"14.00\" fill=\"#000000\">X[3] &lt;= 3.5</text>\n<text text-anchor=\"middle\" x=\"1468.5\" y=\"-1270.8\" font-family=\"Times,serif\" font-size=\"14.00\" fill=\"#000000\">gini = 0.432</text>\n<text text-anchor=\"middle\" x=\"1468.5\" y=\"-1255.8\" font-family=\"Times,serif\" font-size=\"14.00\" fill=\"#000000\">samples = 19</text>\n<text text-anchor=\"middle\" x=\"1468.5\" y=\"-1240.8\" font-family=\"Times,serif\" font-size=\"14.00\" fill=\"#000000\">value = [13, 6]</text>\n</g>\n<!-- 75&#45;&gt;76 -->\n<g id=\"edge76\" class=\"edge\">\n<title>75&#45;&gt;76</title>\n<path fill=\"none\" stroke=\"#000000\" d=\"M1468.5,-1336.9465C1468.5,-1328.776 1468.5,-1319.9318 1468.5,-1311.3697\"/>\n<polygon fill=\"#000000\" stroke=\"#000000\" points=\"1472.0001,-1311.13 1468.5,-1301.13 1465.0001,-1311.13 1472.0001,-1311.13\"/>\n</g>\n<!-- 85 -->\n<g id=\"node86\" class=\"node\">\n<title>85</title>\n<polygon fill=\"none\" stroke=\"#000000\" points=\"1639.5,-1293.5 1537.5,-1293.5 1537.5,-1240.5 1639.5,-1240.5 1639.5,-1293.5\"/>\n<text text-anchor=\"middle\" x=\"1588.5\" y=\"-1278.3\" font-family=\"Times,serif\" font-size=\"14.00\" fill=\"#000000\">gini = 0.0</text>\n<text text-anchor=\"middle\" x=\"1588.5\" y=\"-1263.3\" font-family=\"Times,serif\" font-size=\"14.00\" fill=\"#000000\">samples = 48</text>\n<text text-anchor=\"middle\" x=\"1588.5\" y=\"-1248.3\" font-family=\"Times,serif\" font-size=\"14.00\" fill=\"#000000\">value = [0, 48]</text>\n</g>\n<!-- 75&#45;&gt;85 -->\n<g id=\"edge85\" class=\"edge\">\n<title>75&#45;&gt;85</title>\n<path fill=\"none\" stroke=\"#000000\" d=\"M1507.7925,-1336.9465C1521.3917,-1325.1606 1536.6085,-1311.9726 1550.1324,-1300.2519\"/>\n<polygon fill=\"#000000\" stroke=\"#000000\" points=\"1552.6098,-1302.7364 1557.8744,-1293.5422 1548.0252,-1297.4466 1552.6098,-1302.7364\"/>\n</g>\n<!-- 77 -->\n<g id=\"node78\" class=\"node\">\n<title>77</title>\n<polygon fill=\"none\" stroke=\"#000000\" points=\"1519.5,-1197 1417.5,-1197 1417.5,-1129 1519.5,-1129 1519.5,-1197\"/>\n<text text-anchor=\"middle\" x=\"1468.5\" y=\"-1181.8\" font-family=\"Times,serif\" font-size=\"14.00\" fill=\"#000000\">X[4] &lt;= 3.25</text>\n<text text-anchor=\"middle\" x=\"1468.5\" y=\"-1166.8\" font-family=\"Times,serif\" font-size=\"14.00\" fill=\"#000000\">gini = 0.142</text>\n<text text-anchor=\"middle\" x=\"1468.5\" y=\"-1151.8\" font-family=\"Times,serif\" font-size=\"14.00\" fill=\"#000000\">samples = 13</text>\n<text text-anchor=\"middle\" x=\"1468.5\" y=\"-1136.8\" font-family=\"Times,serif\" font-size=\"14.00\" fill=\"#000000\">value = [12, 1]</text>\n</g>\n<!-- 76&#45;&gt;77 -->\n<g id=\"edge77\" class=\"edge\">\n<title>76&#45;&gt;77</title>\n<path fill=\"none\" stroke=\"#000000\" d=\"M1468.5,-1232.9465C1468.5,-1224.776 1468.5,-1215.9318 1468.5,-1207.3697\"/>\n<polygon fill=\"#000000\" stroke=\"#000000\" points=\"1472.0001,-1207.13 1468.5,-1197.13 1465.0001,-1207.13 1472.0001,-1207.13\"/>\n</g>\n<!-- 82 -->\n<g id=\"node83\" class=\"node\">\n<title>82</title>\n<polygon fill=\"none\" stroke=\"#000000\" points=\"1633,-1197 1538,-1197 1538,-1129 1633,-1129 1633,-1197\"/>\n<text text-anchor=\"middle\" x=\"1585.5\" y=\"-1181.8\" font-family=\"Times,serif\" font-size=\"14.00\" fill=\"#000000\">X[4] &lt;= 4.15</text>\n<text text-anchor=\"middle\" x=\"1585.5\" y=\"-1166.8\" font-family=\"Times,serif\" font-size=\"14.00\" fill=\"#000000\">gini = 0.278</text>\n<text text-anchor=\"middle\" x=\"1585.5\" y=\"-1151.8\" font-family=\"Times,serif\" font-size=\"14.00\" fill=\"#000000\">samples = 6</text>\n<text text-anchor=\"middle\" x=\"1585.5\" y=\"-1136.8\" font-family=\"Times,serif\" font-size=\"14.00\" fill=\"#000000\">value = [1, 5]</text>\n</g>\n<!-- 76&#45;&gt;82 -->\n<g id=\"edge82\" class=\"edge\">\n<title>76&#45;&gt;82</title>\n<path fill=\"none\" stroke=\"#000000\" d=\"M1506.8102,-1232.9465C1517.2141,-1223.6986 1528.589,-1213.5876 1539.3757,-1203.9994\"/>\n<polygon fill=\"#000000\" stroke=\"#000000\" points=\"1541.9549,-1206.3896 1547.1038,-1197.13 1537.3044,-1201.1577 1541.9549,-1206.3896\"/>\n</g>\n<!-- 78 -->\n<g id=\"node79\" class=\"node\">\n<title>78</title>\n<polygon fill=\"none\" stroke=\"#000000\" points=\"1403,-1085.5 1308,-1085.5 1308,-1032.5 1403,-1032.5 1403,-1085.5\"/>\n<text text-anchor=\"middle\" x=\"1355.5\" y=\"-1070.3\" font-family=\"Times,serif\" font-size=\"14.00\" fill=\"#000000\">gini = 0.0</text>\n<text text-anchor=\"middle\" x=\"1355.5\" y=\"-1055.3\" font-family=\"Times,serif\" font-size=\"14.00\" fill=\"#000000\">samples = 9</text>\n<text text-anchor=\"middle\" x=\"1355.5\" y=\"-1040.3\" font-family=\"Times,serif\" font-size=\"14.00\" fill=\"#000000\">value = [9, 0]</text>\n</g>\n<!-- 77&#45;&gt;78 -->\n<g id=\"edge78\" class=\"edge\">\n<title>77&#45;&gt;78</title>\n<path fill=\"none\" stroke=\"#000000\" d=\"M1431.4996,-1128.9465C1418.8134,-1117.2707 1404.6322,-1104.219 1391.987,-1092.5809\"/>\n<polygon fill=\"#000000\" stroke=\"#000000\" points=\"1394.0673,-1089.7389 1384.3391,-1085.5422 1389.3269,-1094.8895 1394.0673,-1089.7389\"/>\n</g>\n<!-- 79 -->\n<g id=\"node80\" class=\"node\">\n<title>79</title>\n<polygon fill=\"none\" stroke=\"#000000\" points=\"1516,-1093 1421,-1093 1421,-1025 1516,-1025 1516,-1093\"/>\n<text text-anchor=\"middle\" x=\"1468.5\" y=\"-1077.8\" font-family=\"Times,serif\" font-size=\"14.00\" fill=\"#000000\">X[1] &lt;= 20.5</text>\n<text text-anchor=\"middle\" x=\"1468.5\" y=\"-1062.8\" font-family=\"Times,serif\" font-size=\"14.00\" fill=\"#000000\">gini = 0.375</text>\n<text text-anchor=\"middle\" x=\"1468.5\" y=\"-1047.8\" font-family=\"Times,serif\" font-size=\"14.00\" fill=\"#000000\">samples = 4</text>\n<text text-anchor=\"middle\" x=\"1468.5\" y=\"-1032.8\" font-family=\"Times,serif\" font-size=\"14.00\" fill=\"#000000\">value = [3, 1]</text>\n</g>\n<!-- 77&#45;&gt;79 -->\n<g id=\"edge79\" class=\"edge\">\n<title>77&#45;&gt;79</title>\n<path fill=\"none\" stroke=\"#000000\" d=\"M1468.5,-1128.9465C1468.5,-1120.776 1468.5,-1111.9318 1468.5,-1103.3697\"/>\n<polygon fill=\"#000000\" stroke=\"#000000\" points=\"1472.0001,-1103.13 1468.5,-1093.13 1465.0001,-1103.13 1472.0001,-1103.13\"/>\n</g>\n<!-- 80 -->\n<g id=\"node81\" class=\"node\">\n<title>80</title>\n<polygon fill=\"none\" stroke=\"#000000\" points=\"1456,-981.5 1361,-981.5 1361,-928.5 1456,-928.5 1456,-981.5\"/>\n<text text-anchor=\"middle\" x=\"1408.5\" y=\"-966.3\" font-family=\"Times,serif\" font-size=\"14.00\" fill=\"#000000\">gini = 0.0</text>\n<text text-anchor=\"middle\" x=\"1408.5\" y=\"-951.3\" font-family=\"Times,serif\" font-size=\"14.00\" fill=\"#000000\">samples = 1</text>\n<text text-anchor=\"middle\" x=\"1408.5\" y=\"-936.3\" font-family=\"Times,serif\" font-size=\"14.00\" fill=\"#000000\">value = [0, 1]</text>\n</g>\n<!-- 79&#45;&gt;80 -->\n<g id=\"edge80\" class=\"edge\">\n<title>79&#45;&gt;80</title>\n<path fill=\"none\" stroke=\"#000000\" d=\"M1448.8538,-1024.9465C1442.4355,-1013.8215 1435.2965,-1001.4473 1428.829,-990.237\"/>\n<polygon fill=\"#000000\" stroke=\"#000000\" points=\"1431.8417,-988.455 1423.8128,-981.5422 1425.7784,-991.9531 1431.8417,-988.455\"/>\n</g>\n<!-- 81 -->\n<g id=\"node82\" class=\"node\">\n<title>81</title>\n<polygon fill=\"none\" stroke=\"#000000\" points=\"1569,-981.5 1474,-981.5 1474,-928.5 1569,-928.5 1569,-981.5\"/>\n<text text-anchor=\"middle\" x=\"1521.5\" y=\"-966.3\" font-family=\"Times,serif\" font-size=\"14.00\" fill=\"#000000\">gini = 0.0</text>\n<text text-anchor=\"middle\" x=\"1521.5\" y=\"-951.3\" font-family=\"Times,serif\" font-size=\"14.00\" fill=\"#000000\">samples = 3</text>\n<text text-anchor=\"middle\" x=\"1521.5\" y=\"-936.3\" font-family=\"Times,serif\" font-size=\"14.00\" fill=\"#000000\">value = [3, 0]</text>\n</g>\n<!-- 79&#45;&gt;81 -->\n<g id=\"edge81\" class=\"edge\">\n<title>79&#45;&gt;81</title>\n<path fill=\"none\" stroke=\"#000000\" d=\"M1485.8542,-1024.9465C1491.4675,-1013.9316 1497.705,-1001.6922 1503.3728,-990.5703\"/>\n<polygon fill=\"#000000\" stroke=\"#000000\" points=\"1506.5515,-992.0411 1507.9737,-981.5422 1500.3147,-988.8627 1506.5515,-992.0411\"/>\n</g>\n<!-- 83 -->\n<g id=\"node84\" class=\"node\">\n<title>83</title>\n<polygon fill=\"none\" stroke=\"#000000\" points=\"1629,-1085.5 1534,-1085.5 1534,-1032.5 1629,-1032.5 1629,-1085.5\"/>\n<text text-anchor=\"middle\" x=\"1581.5\" y=\"-1070.3\" font-family=\"Times,serif\" font-size=\"14.00\" fill=\"#000000\">gini = 0.0</text>\n<text text-anchor=\"middle\" x=\"1581.5\" y=\"-1055.3\" font-family=\"Times,serif\" font-size=\"14.00\" fill=\"#000000\">samples = 5</text>\n<text text-anchor=\"middle\" x=\"1581.5\" y=\"-1040.3\" font-family=\"Times,serif\" font-size=\"14.00\" fill=\"#000000\">value = [0, 5]</text>\n</g>\n<!-- 82&#45;&gt;83 -->\n<g id=\"edge83\" class=\"edge\">\n<title>82&#45;&gt;83</title>\n<path fill=\"none\" stroke=\"#000000\" d=\"M1584.1903,-1128.9465C1583.7793,-1118.2621 1583.3241,-1106.4254 1582.9067,-1095.5742\"/>\n<polygon fill=\"#000000\" stroke=\"#000000\" points=\"1586.4027,-1095.4002 1582.5209,-1085.5422 1579.4079,-1095.6693 1586.4027,-1095.4002\"/>\n</g>\n<!-- 84 -->\n<g id=\"node85\" class=\"node\">\n<title>84</title>\n<polygon fill=\"none\" stroke=\"#000000\" points=\"1742,-1085.5 1647,-1085.5 1647,-1032.5 1742,-1032.5 1742,-1085.5\"/>\n<text text-anchor=\"middle\" x=\"1694.5\" y=\"-1070.3\" font-family=\"Times,serif\" font-size=\"14.00\" fill=\"#000000\">gini = 0.0</text>\n<text text-anchor=\"middle\" x=\"1694.5\" y=\"-1055.3\" font-family=\"Times,serif\" font-size=\"14.00\" fill=\"#000000\">samples = 1</text>\n<text text-anchor=\"middle\" x=\"1694.5\" y=\"-1040.3\" font-family=\"Times,serif\" font-size=\"14.00\" fill=\"#000000\">value = [1, 0]</text>\n</g>\n<!-- 82&#45;&gt;84 -->\n<g id=\"edge84\" class=\"edge\">\n<title>82&#45;&gt;84</title>\n<path fill=\"none\" stroke=\"#000000\" d=\"M1621.1907,-1128.9465C1633.4278,-1117.2707 1647.107,-1104.219 1659.3046,-1092.5809\"/>\n<polygon fill=\"#000000\" stroke=\"#000000\" points=\"1661.8628,-1094.9777 1666.6818,-1085.5422 1657.0306,-1089.9131 1661.8628,-1094.9777\"/>\n</g>\n<!-- 87 -->\n<g id=\"node88\" class=\"node\">\n<title>87</title>\n<polygon fill=\"none\" stroke=\"#000000\" points=\"1814.5,-1405 1704.5,-1405 1704.5,-1337 1814.5,-1337 1814.5,-1405\"/>\n<text text-anchor=\"middle\" x=\"1759.5\" y=\"-1389.8\" font-family=\"Times,serif\" font-size=\"14.00\" fill=\"#000000\">X[4] &lt;= 2.45</text>\n<text text-anchor=\"middle\" x=\"1759.5\" y=\"-1374.8\" font-family=\"Times,serif\" font-size=\"14.00\" fill=\"#000000\">gini = 0.451</text>\n<text text-anchor=\"middle\" x=\"1759.5\" y=\"-1359.8\" font-family=\"Times,serif\" font-size=\"14.00\" fill=\"#000000\">samples = 105</text>\n<text text-anchor=\"middle\" x=\"1759.5\" y=\"-1344.8\" font-family=\"Times,serif\" font-size=\"14.00\" fill=\"#000000\">value = [69, 36]</text>\n</g>\n<!-- 86&#45;&gt;87 -->\n<g id=\"edge87\" class=\"edge\">\n<title>86&#45;&gt;87</title>\n<path fill=\"none\" stroke=\"#000000\" d=\"M1759.5,-1440.9465C1759.5,-1432.776 1759.5,-1423.9318 1759.5,-1415.3697\"/>\n<polygon fill=\"#000000\" stroke=\"#000000\" points=\"1763.0001,-1415.13 1759.5,-1405.13 1756.0001,-1415.13 1763.0001,-1415.13\"/>\n</g>\n<!-- 126 -->\n<g id=\"node127\" class=\"node\">\n<title>126</title>\n<polygon fill=\"none\" stroke=\"#000000\" points=\"1942.5,-1397.5 1832.5,-1397.5 1832.5,-1344.5 1942.5,-1344.5 1942.5,-1397.5\"/>\n<text text-anchor=\"middle\" x=\"1887.5\" y=\"-1382.3\" font-family=\"Times,serif\" font-size=\"14.00\" fill=\"#000000\">gini = 0.0</text>\n<text text-anchor=\"middle\" x=\"1887.5\" y=\"-1367.3\" font-family=\"Times,serif\" font-size=\"14.00\" fill=\"#000000\">samples = 219</text>\n<text text-anchor=\"middle\" x=\"1887.5\" y=\"-1352.3\" font-family=\"Times,serif\" font-size=\"14.00\" fill=\"#000000\">value = [0, 219]</text>\n</g>\n<!-- 86&#45;&gt;126 -->\n<g id=\"edge126\" class=\"edge\">\n<title>86&#45;&gt;126</title>\n<path fill=\"none\" stroke=\"#000000\" d=\"M1801.412,-1440.9465C1816.0533,-1429.0504 1832.4526,-1415.726 1846.9785,-1403.9237\"/>\n<polygon fill=\"#000000\" stroke=\"#000000\" points=\"1849.2786,-1406.5645 1854.8327,-1397.5422 1844.8645,-1401.1317 1849.2786,-1406.5645\"/>\n</g>\n<!-- 88 -->\n<g id=\"node89\" class=\"node\">\n<title>88</title>\n<polygon fill=\"none\" stroke=\"#000000\" points=\"1810.5,-1301 1708.5,-1301 1708.5,-1233 1810.5,-1233 1810.5,-1301\"/>\n<text text-anchor=\"middle\" x=\"1759.5\" y=\"-1285.8\" font-family=\"Times,serif\" font-size=\"14.00\" fill=\"#000000\">X[2] &lt;= 107.0</text>\n<text text-anchor=\"middle\" x=\"1759.5\" y=\"-1270.8\" font-family=\"Times,serif\" font-size=\"14.00\" fill=\"#000000\">gini = 0.227</text>\n<text text-anchor=\"middle\" x=\"1759.5\" y=\"-1255.8\" font-family=\"Times,serif\" font-size=\"14.00\" fill=\"#000000\">samples = 69</text>\n<text text-anchor=\"middle\" x=\"1759.5\" y=\"-1240.8\" font-family=\"Times,serif\" font-size=\"14.00\" fill=\"#000000\">value = [60, 9]</text>\n</g>\n<!-- 87&#45;&gt;88 -->\n<g id=\"edge88\" class=\"edge\">\n<title>87&#45;&gt;88</title>\n<path fill=\"none\" stroke=\"#000000\" d=\"M1759.5,-1336.9465C1759.5,-1328.776 1759.5,-1319.9318 1759.5,-1311.3697\"/>\n<polygon fill=\"#000000\" stroke=\"#000000\" points=\"1763.0001,-1311.13 1759.5,-1301.13 1756.0001,-1311.13 1763.0001,-1311.13\"/>\n</g>\n<!-- 107 -->\n<g id=\"node108\" class=\"node\">\n<title>107</title>\n<polygon fill=\"none\" stroke=\"#000000\" points=\"2154.5,-1301 2052.5,-1301 2052.5,-1233 2154.5,-1233 2154.5,-1301\"/>\n<text text-anchor=\"middle\" x=\"2103.5\" y=\"-1285.8\" font-family=\"Times,serif\" font-size=\"14.00\" fill=\"#000000\">X[1] &lt;= 16.5</text>\n<text text-anchor=\"middle\" x=\"2103.5\" y=\"-1270.8\" font-family=\"Times,serif\" font-size=\"14.00\" fill=\"#000000\">gini = 0.375</text>\n<text text-anchor=\"middle\" x=\"2103.5\" y=\"-1255.8\" font-family=\"Times,serif\" font-size=\"14.00\" fill=\"#000000\">samples = 36</text>\n<text text-anchor=\"middle\" x=\"2103.5\" y=\"-1240.8\" font-family=\"Times,serif\" font-size=\"14.00\" fill=\"#000000\">value = [9, 27]</text>\n</g>\n<!-- 87&#45;&gt;107 -->\n<g id=\"edge107\" class=\"edge\">\n<title>87&#45;&gt;107</title>\n<path fill=\"none\" stroke=\"#000000\" d=\"M1814.6156,-1340.6638C1817.5904,-1339.3593 1820.5636,-1338.1276 1823.5,-1337 1896.5305,-1308.9547 1984.6258,-1289.0816 2042.248,-1277.8438\"/>\n<polygon fill=\"#000000\" stroke=\"#000000\" points=\"2043.1287,-1281.2387 2052.2878,-1275.9131 2041.8067,-1274.3647 2043.1287,-1281.2387\"/>\n</g>\n<!-- 89 -->\n<g id=\"node90\" class=\"node\">\n<title>89</title>\n<polygon fill=\"none\" stroke=\"#000000\" points=\"1782.5,-1189.5 1680.5,-1189.5 1680.5,-1136.5 1782.5,-1136.5 1782.5,-1189.5\"/>\n<text text-anchor=\"middle\" x=\"1731.5\" y=\"-1174.3\" font-family=\"Times,serif\" font-size=\"14.00\" fill=\"#000000\">gini = 0.0</text>\n<text text-anchor=\"middle\" x=\"1731.5\" y=\"-1159.3\" font-family=\"Times,serif\" font-size=\"14.00\" fill=\"#000000\">samples = 25</text>\n<text text-anchor=\"middle\" x=\"1731.5\" y=\"-1144.3\" font-family=\"Times,serif\" font-size=\"14.00\" fill=\"#000000\">value = [25, 0]</text>\n</g>\n<!-- 88&#45;&gt;89 -->\n<g id=\"edge89\" class=\"edge\">\n<title>88&#45;&gt;89</title>\n<path fill=\"none\" stroke=\"#000000\" d=\"M1750.3318,-1232.9465C1747.4255,-1222.1519 1744.2026,-1210.1813 1741.2566,-1199.2389\"/>\n<polygon fill=\"#000000\" stroke=\"#000000\" points=\"1744.6254,-1198.2884 1738.646,-1189.5422 1737.8661,-1200.1083 1744.6254,-1198.2884\"/>\n</g>\n<!-- 90 -->\n<g id=\"node91\" class=\"node\">\n<title>90</title>\n<polygon fill=\"none\" stroke=\"#000000\" points=\"1902.5,-1197 1800.5,-1197 1800.5,-1129 1902.5,-1129 1902.5,-1197\"/>\n<text text-anchor=\"middle\" x=\"1851.5\" y=\"-1181.8\" font-family=\"Times,serif\" font-size=\"14.00\" fill=\"#000000\">X[1] &lt;= 31.5</text>\n<text text-anchor=\"middle\" x=\"1851.5\" y=\"-1166.8\" font-family=\"Times,serif\" font-size=\"14.00\" fill=\"#000000\">gini = 0.325</text>\n<text text-anchor=\"middle\" x=\"1851.5\" y=\"-1151.8\" font-family=\"Times,serif\" font-size=\"14.00\" fill=\"#000000\">samples = 44</text>\n<text text-anchor=\"middle\" x=\"1851.5\" y=\"-1136.8\" font-family=\"Times,serif\" font-size=\"14.00\" fill=\"#000000\">value = [35, 9]</text>\n</g>\n<!-- 88&#45;&gt;90 -->\n<g id=\"edge90\" class=\"edge\">\n<title>88&#45;&gt;90</title>\n<path fill=\"none\" stroke=\"#000000\" d=\"M1789.6242,-1232.9465C1797.5668,-1223.968 1806.2291,-1214.1758 1814.489,-1204.8385\"/>\n<polygon fill=\"#000000\" stroke=\"#000000\" points=\"1817.3038,-1206.939 1821.3081,-1197.13 1812.0608,-1202.301 1817.3038,-1206.939\"/>\n</g>\n<!-- 91 -->\n<g id=\"node92\" class=\"node\">\n<title>91</title>\n<polygon fill=\"none\" stroke=\"#000000\" points=\"1862.5,-1093 1760.5,-1093 1760.5,-1025 1862.5,-1025 1862.5,-1093\"/>\n<text text-anchor=\"middle\" x=\"1811.5\" y=\"-1077.8\" font-family=\"Times,serif\" font-size=\"14.00\" fill=\"#000000\">X[0] &lt;= 41.5</text>\n<text text-anchor=\"middle\" x=\"1811.5\" y=\"-1062.8\" font-family=\"Times,serif\" font-size=\"14.00\" fill=\"#000000\">gini = 0.404</text>\n<text text-anchor=\"middle\" x=\"1811.5\" y=\"-1047.8\" font-family=\"Times,serif\" font-size=\"14.00\" fill=\"#000000\">samples = 32</text>\n<text text-anchor=\"middle\" x=\"1811.5\" y=\"-1032.8\" font-family=\"Times,serif\" font-size=\"14.00\" fill=\"#000000\">value = [23, 9]</text>\n</g>\n<!-- 90&#45;&gt;91 -->\n<g id=\"edge91\" class=\"edge\">\n<title>90&#45;&gt;91</title>\n<path fill=\"none\" stroke=\"#000000\" d=\"M1838.4025,-1128.9465C1835.1564,-1120.5067 1831.6338,-1111.3479 1828.2399,-1102.5239\"/>\n<polygon fill=\"#000000\" stroke=\"#000000\" points=\"1831.4835,-1101.207 1824.6269,-1093.13 1824.9501,-1103.7199 1831.4835,-1101.207\"/>\n</g>\n<!-- 106 -->\n<g id=\"node107\" class=\"node\">\n<title>106</title>\n<polygon fill=\"none\" stroke=\"#000000\" points=\"1982.5,-1085.5 1880.5,-1085.5 1880.5,-1032.5 1982.5,-1032.5 1982.5,-1085.5\"/>\n<text text-anchor=\"middle\" x=\"1931.5\" y=\"-1070.3\" font-family=\"Times,serif\" font-size=\"14.00\" fill=\"#000000\">gini = 0.0</text>\n<text text-anchor=\"middle\" x=\"1931.5\" y=\"-1055.3\" font-family=\"Times,serif\" font-size=\"14.00\" fill=\"#000000\">samples = 12</text>\n<text text-anchor=\"middle\" x=\"1931.5\" y=\"-1040.3\" font-family=\"Times,serif\" font-size=\"14.00\" fill=\"#000000\">value = [12, 0]</text>\n</g>\n<!-- 90&#45;&gt;106 -->\n<g id=\"edge106\" class=\"edge\">\n<title>90&#45;&gt;106</title>\n<path fill=\"none\" stroke=\"#000000\" d=\"M1877.695,-1128.9465C1886.4222,-1117.6012 1896.1487,-1104.9567 1904.9059,-1093.5724\"/>\n<polygon fill=\"#000000\" stroke=\"#000000\" points=\"1907.76,-1095.6024 1911.083,-1085.5422 1902.2116,-1091.3344 1907.76,-1095.6024\"/>\n</g>\n<!-- 92 -->\n<g id=\"node93\" class=\"node\">\n<title>92</title>\n<polygon fill=\"none\" stroke=\"#000000\" points=\"1749.5,-989 1647.5,-989 1647.5,-921 1749.5,-921 1749.5,-989\"/>\n<text text-anchor=\"middle\" x=\"1698.5\" y=\"-973.8\" font-family=\"Times,serif\" font-size=\"14.00\" fill=\"#000000\">X[8] &lt;= 0.5</text>\n<text text-anchor=\"middle\" x=\"1698.5\" y=\"-958.8\" font-family=\"Times,serif\" font-size=\"14.00\" fill=\"#000000\">gini = 0.278</text>\n<text text-anchor=\"middle\" x=\"1698.5\" y=\"-943.8\" font-family=\"Times,serif\" font-size=\"14.00\" fill=\"#000000\">samples = 24</text>\n<text text-anchor=\"middle\" x=\"1698.5\" y=\"-928.8\" font-family=\"Times,serif\" font-size=\"14.00\" fill=\"#000000\">value = [20, 4]</text>\n</g>\n<!-- 91&#45;&gt;92 -->\n<g id=\"edge92\" class=\"edge\">\n<title>91&#45;&gt;92</title>\n<path fill=\"none\" stroke=\"#000000\" d=\"M1774.4996,-1024.9465C1764.4514,-1015.6986 1753.4653,-1005.5876 1743.0474,-995.9994\"/>\n<polygon fill=\"#000000\" stroke=\"#000000\" points=\"1745.3118,-993.3267 1735.5836,-989.13 1740.5714,-998.4773 1745.3118,-993.3267\"/>\n</g>\n<!-- 101 -->\n<g id=\"node102\" class=\"node\">\n<title>101</title>\n<polygon fill=\"none\" stroke=\"#000000\" points=\"1863,-989 1768,-989 1768,-921 1863,-921 1863,-989\"/>\n<text text-anchor=\"middle\" x=\"1815.5\" y=\"-973.8\" font-family=\"Times,serif\" font-size=\"14.00\" fill=\"#000000\">X[9] &lt;= 0.5</text>\n<text text-anchor=\"middle\" x=\"1815.5\" y=\"-958.8\" font-family=\"Times,serif\" font-size=\"14.00\" fill=\"#000000\">gini = 0.469</text>\n<text text-anchor=\"middle\" x=\"1815.5\" y=\"-943.8\" font-family=\"Times,serif\" font-size=\"14.00\" fill=\"#000000\">samples = 8</text>\n<text text-anchor=\"middle\" x=\"1815.5\" y=\"-928.8\" font-family=\"Times,serif\" font-size=\"14.00\" fill=\"#000000\">value = [3, 5]</text>\n</g>\n<!-- 91&#45;&gt;101 -->\n<g id=\"edge101\" class=\"edge\">\n<title>91&#45;&gt;101</title>\n<path fill=\"none\" stroke=\"#000000\" d=\"M1812.8097,-1024.9465C1813.124,-1016.776 1813.4642,-1007.9318 1813.7935,-999.3697\"/>\n<polygon fill=\"#000000\" stroke=\"#000000\" points=\"1817.3003,-999.2572 1814.1873,-989.13 1810.3055,-998.9881 1817.3003,-999.2572\"/>\n</g>\n<!-- 93 -->\n<g id=\"node94\" class=\"node\">\n<title>93</title>\n<polygon fill=\"none\" stroke=\"#000000\" points=\"1632.5,-885 1530.5,-885 1530.5,-817 1632.5,-817 1632.5,-885\"/>\n<text text-anchor=\"middle\" x=\"1581.5\" y=\"-869.8\" font-family=\"Times,serif\" font-size=\"14.00\" fill=\"#000000\">X[5] &lt;= 2.5</text>\n<text text-anchor=\"middle\" x=\"1581.5\" y=\"-854.8\" font-family=\"Times,serif\" font-size=\"14.00\" fill=\"#000000\">gini = 0.227</text>\n<text text-anchor=\"middle\" x=\"1581.5\" y=\"-839.8\" font-family=\"Times,serif\" font-size=\"14.00\" fill=\"#000000\">samples = 23</text>\n<text text-anchor=\"middle\" x=\"1581.5\" y=\"-824.8\" font-family=\"Times,serif\" font-size=\"14.00\" fill=\"#000000\">value = [20, 3]</text>\n</g>\n<!-- 92&#45;&gt;93 -->\n<g id=\"edge93\" class=\"edge\">\n<title>92&#45;&gt;93</title>\n<path fill=\"none\" stroke=\"#000000\" d=\"M1660.1898,-920.9465C1649.7859,-911.6986 1638.411,-901.5876 1627.6243,-891.9994\"/>\n<polygon fill=\"#000000\" stroke=\"#000000\" points=\"1629.6956,-889.1577 1619.8962,-885.13 1625.0451,-894.3896 1629.6956,-889.1577\"/>\n</g>\n<!-- 100 -->\n<g id=\"node101\" class=\"node\">\n<title>100</title>\n<polygon fill=\"none\" stroke=\"#000000\" points=\"1746,-877.5 1651,-877.5 1651,-824.5 1746,-824.5 1746,-877.5\"/>\n<text text-anchor=\"middle\" x=\"1698.5\" y=\"-862.3\" font-family=\"Times,serif\" font-size=\"14.00\" fill=\"#000000\">gini = 0.0</text>\n<text text-anchor=\"middle\" x=\"1698.5\" y=\"-847.3\" font-family=\"Times,serif\" font-size=\"14.00\" fill=\"#000000\">samples = 1</text>\n<text text-anchor=\"middle\" x=\"1698.5\" y=\"-832.3\" font-family=\"Times,serif\" font-size=\"14.00\" fill=\"#000000\">value = [0, 1]</text>\n</g>\n<!-- 92&#45;&gt;100 -->\n<g id=\"edge100\" class=\"edge\">\n<title>92&#45;&gt;100</title>\n<path fill=\"none\" stroke=\"#000000\" d=\"M1698.5,-920.9465C1698.5,-910.2621 1698.5,-898.4254 1698.5,-887.5742\"/>\n<polygon fill=\"#000000\" stroke=\"#000000\" points=\"1702.0001,-887.5421 1698.5,-877.5422 1695.0001,-887.5422 1702.0001,-887.5421\"/>\n</g>\n<!-- 94 -->\n<g id=\"node95\" class=\"node\">\n<title>94</title>\n<polygon fill=\"none\" stroke=\"#000000\" points=\"1570,-781 1475,-781 1475,-713 1570,-713 1570,-781\"/>\n<text text-anchor=\"middle\" x=\"1522.5\" y=\"-765.8\" font-family=\"Times,serif\" font-size=\"14.00\" fill=\"#000000\">X[3] &lt;= 3.5</text>\n<text text-anchor=\"middle\" x=\"1522.5\" y=\"-750.8\" font-family=\"Times,serif\" font-size=\"14.00\" fill=\"#000000\">gini = 0.444</text>\n<text text-anchor=\"middle\" x=\"1522.5\" y=\"-735.8\" font-family=\"Times,serif\" font-size=\"14.00\" fill=\"#000000\">samples = 9</text>\n<text text-anchor=\"middle\" x=\"1522.5\" y=\"-720.8\" font-family=\"Times,serif\" font-size=\"14.00\" fill=\"#000000\">value = [6, 3]</text>\n</g>\n<!-- 93&#45;&gt;94 -->\n<g id=\"edge94\" class=\"edge\">\n<title>93&#45;&gt;94</title>\n<path fill=\"none\" stroke=\"#000000\" d=\"M1562.1812,-816.9465C1557.2913,-808.3271 1551.9761,-798.9579 1546.8722,-789.9611\"/>\n<polygon fill=\"#000000\" stroke=\"#000000\" points=\"1549.8408,-788.1008 1541.8622,-781.13 1543.7524,-791.5549 1549.8408,-788.1008\"/>\n</g>\n<!-- 99 -->\n<g id=\"node100\" class=\"node\">\n<title>99</title>\n<polygon fill=\"none\" stroke=\"#000000\" points=\"1690.5,-773.5 1588.5,-773.5 1588.5,-720.5 1690.5,-720.5 1690.5,-773.5\"/>\n<text text-anchor=\"middle\" x=\"1639.5\" y=\"-758.3\" font-family=\"Times,serif\" font-size=\"14.00\" fill=\"#000000\">gini = 0.0</text>\n<text text-anchor=\"middle\" x=\"1639.5\" y=\"-743.3\" font-family=\"Times,serif\" font-size=\"14.00\" fill=\"#000000\">samples = 14</text>\n<text text-anchor=\"middle\" x=\"1639.5\" y=\"-728.3\" font-family=\"Times,serif\" font-size=\"14.00\" fill=\"#000000\">value = [14, 0]</text>\n</g>\n<!-- 93&#45;&gt;99 -->\n<g id=\"edge99\" class=\"edge\">\n<title>93&#45;&gt;99</title>\n<path fill=\"none\" stroke=\"#000000\" d=\"M1600.4914,-816.9465C1606.6343,-805.9316 1613.4601,-793.6922 1619.6627,-782.5703\"/>\n<polygon fill=\"#000000\" stroke=\"#000000\" points=\"1622.8837,-783.9806 1624.6976,-773.5422 1616.7701,-780.5711 1622.8837,-783.9806\"/>\n</g>\n<!-- 95 -->\n<g id=\"node96\" class=\"node\">\n<title>95</title>\n<polygon fill=\"none\" stroke=\"#000000\" points=\"1513,-677 1418,-677 1418,-609 1513,-609 1513,-677\"/>\n<text text-anchor=\"middle\" x=\"1465.5\" y=\"-661.8\" font-family=\"Times,serif\" font-size=\"14.00\" fill=\"#000000\">X[1] &lt;= 4.5</text>\n<text text-anchor=\"middle\" x=\"1465.5\" y=\"-646.8\" font-family=\"Times,serif\" font-size=\"14.00\" fill=\"#000000\">gini = 0.245</text>\n<text text-anchor=\"middle\" x=\"1465.5\" y=\"-631.8\" font-family=\"Times,serif\" font-size=\"14.00\" fill=\"#000000\">samples = 7</text>\n<text text-anchor=\"middle\" x=\"1465.5\" y=\"-616.8\" font-family=\"Times,serif\" font-size=\"14.00\" fill=\"#000000\">value = [6, 1]</text>\n</g>\n<!-- 94&#45;&gt;95 -->\n<g id=\"edge95\" class=\"edge\">\n<title>94&#45;&gt;95</title>\n<path fill=\"none\" stroke=\"#000000\" d=\"M1503.8361,-712.9465C1499.112,-704.3271 1493.9769,-694.9579 1489.046,-685.9611\"/>\n<polygon fill=\"#000000\" stroke=\"#000000\" points=\"1492.0814,-684.2171 1484.2059,-677.13 1485.9429,-687.5815 1492.0814,-684.2171\"/>\n</g>\n<!-- 98 -->\n<g id=\"node99\" class=\"node\">\n<title>98</title>\n<polygon fill=\"none\" stroke=\"#000000\" points=\"1626,-669.5 1531,-669.5 1531,-616.5 1626,-616.5 1626,-669.5\"/>\n<text text-anchor=\"middle\" x=\"1578.5\" y=\"-654.3\" font-family=\"Times,serif\" font-size=\"14.00\" fill=\"#000000\">gini = 0.0</text>\n<text text-anchor=\"middle\" x=\"1578.5\" y=\"-639.3\" font-family=\"Times,serif\" font-size=\"14.00\" fill=\"#000000\">samples = 2</text>\n<text text-anchor=\"middle\" x=\"1578.5\" y=\"-624.3\" font-family=\"Times,serif\" font-size=\"14.00\" fill=\"#000000\">value = [0, 2]</text>\n</g>\n<!-- 94&#45;&gt;98 -->\n<g id=\"edge98\" class=\"edge\">\n<title>94&#45;&gt;98</title>\n<path fill=\"none\" stroke=\"#000000\" d=\"M1540.8365,-712.9465C1546.7676,-701.9316 1553.3581,-689.6922 1559.3468,-678.5703\"/>\n<polygon fill=\"#000000\" stroke=\"#000000\" points=\"1562.5487,-680.0063 1564.2081,-669.5422 1556.3854,-676.6875 1562.5487,-680.0063\"/>\n</g>\n<!-- 96 -->\n<g id=\"node97\" class=\"node\">\n<title>96</title>\n<polygon fill=\"none\" stroke=\"#000000\" points=\"1456,-565.5 1361,-565.5 1361,-512.5 1456,-512.5 1456,-565.5\"/>\n<text text-anchor=\"middle\" x=\"1408.5\" y=\"-550.3\" font-family=\"Times,serif\" font-size=\"14.00\" fill=\"#000000\">gini = 0.0</text>\n<text text-anchor=\"middle\" x=\"1408.5\" y=\"-535.3\" font-family=\"Times,serif\" font-size=\"14.00\" fill=\"#000000\">samples = 1</text>\n<text text-anchor=\"middle\" x=\"1408.5\" y=\"-520.3\" font-family=\"Times,serif\" font-size=\"14.00\" fill=\"#000000\">value = [0, 1]</text>\n</g>\n<!-- 95&#45;&gt;96 -->\n<g id=\"edge96\" class=\"edge\">\n<title>95&#45;&gt;96</title>\n<path fill=\"none\" stroke=\"#000000\" d=\"M1446.8361,-608.9465C1440.7991,-597.9316 1434.0909,-585.6922 1427.9953,-574.5703\"/>\n<polygon fill=\"#000000\" stroke=\"#000000\" points=\"1430.9227,-572.6292 1423.0471,-565.5422 1424.7842,-575.9936 1430.9227,-572.6292\"/>\n</g>\n<!-- 97 -->\n<g id=\"node98\" class=\"node\">\n<title>97</title>\n<polygon fill=\"none\" stroke=\"#000000\" points=\"1569,-565.5 1474,-565.5 1474,-512.5 1569,-512.5 1569,-565.5\"/>\n<text text-anchor=\"middle\" x=\"1521.5\" y=\"-550.3\" font-family=\"Times,serif\" font-size=\"14.00\" fill=\"#000000\">gini = 0.0</text>\n<text text-anchor=\"middle\" x=\"1521.5\" y=\"-535.3\" font-family=\"Times,serif\" font-size=\"14.00\" fill=\"#000000\">samples = 6</text>\n<text text-anchor=\"middle\" x=\"1521.5\" y=\"-520.3\" font-family=\"Times,serif\" font-size=\"14.00\" fill=\"#000000\">value = [6, 0]</text>\n</g>\n<!-- 95&#45;&gt;97 -->\n<g id=\"edge97\" class=\"edge\">\n<title>95&#45;&gt;97</title>\n<path fill=\"none\" stroke=\"#000000\" d=\"M1483.8365,-608.9465C1489.7676,-597.9316 1496.3581,-585.6922 1502.3468,-574.5703\"/>\n<polygon fill=\"#000000\" stroke=\"#000000\" points=\"1505.5487,-576.0063 1507.2081,-565.5422 1499.3854,-572.6875 1505.5487,-576.0063\"/>\n</g>\n<!-- 102 -->\n<g id=\"node103\" class=\"node\">\n<title>102</title>\n<polygon fill=\"none\" stroke=\"#000000\" points=\"1865,-885 1764,-885 1764,-817 1865,-817 1865,-885\"/>\n<text text-anchor=\"middle\" x=\"1814.5\" y=\"-869.8\" font-family=\"Times,serif\" font-size=\"14.00\" fill=\"#000000\">X[2] &lt;= 114.0</text>\n<text text-anchor=\"middle\" x=\"1814.5\" y=\"-854.8\" font-family=\"Times,serif\" font-size=\"14.00\" fill=\"#000000\">gini = 0.375</text>\n<text text-anchor=\"middle\" x=\"1814.5\" y=\"-839.8\" font-family=\"Times,serif\" font-size=\"14.00\" fill=\"#000000\">samples = 4</text>\n<text text-anchor=\"middle\" x=\"1814.5\" y=\"-824.8\" font-family=\"Times,serif\" font-size=\"14.00\" fill=\"#000000\">value = [3, 1]</text>\n</g>\n<!-- 101&#45;&gt;102 -->\n<g id=\"edge102\" class=\"edge\">\n<title>101&#45;&gt;102</title>\n<path fill=\"none\" stroke=\"#000000\" d=\"M1815.1726,-920.9465C1815.094,-912.776 1815.009,-903.9318 1814.9266,-895.3697\"/>\n<polygon fill=\"#000000\" stroke=\"#000000\" points=\"1818.4243,-895.0958 1814.8282,-885.13 1811.4246,-895.1632 1818.4243,-895.0958\"/>\n</g>\n<!-- 105 -->\n<g id=\"node106\" class=\"node\">\n<title>105</title>\n<polygon fill=\"none\" stroke=\"#000000\" points=\"1978,-877.5 1883,-877.5 1883,-824.5 1978,-824.5 1978,-877.5\"/>\n<text text-anchor=\"middle\" x=\"1930.5\" y=\"-862.3\" font-family=\"Times,serif\" font-size=\"14.00\" fill=\"#000000\">gini = 0.0</text>\n<text text-anchor=\"middle\" x=\"1930.5\" y=\"-847.3\" font-family=\"Times,serif\" font-size=\"14.00\" fill=\"#000000\">samples = 4</text>\n<text text-anchor=\"middle\" x=\"1930.5\" y=\"-832.3\" font-family=\"Times,serif\" font-size=\"14.00\" fill=\"#000000\">value = [0, 4]</text>\n</g>\n<!-- 101&#45;&gt;105 -->\n<g id=\"edge105\" class=\"edge\">\n<title>101&#45;&gt;105</title>\n<path fill=\"none\" stroke=\"#000000\" d=\"M1853.1553,-920.9465C1866.1878,-909.1606 1880.7706,-895.9726 1893.7311,-884.2519\"/>\n<polygon fill=\"#000000\" stroke=\"#000000\" points=\"1896.0812,-886.8456 1901.1505,-877.5422 1891.386,-881.6537 1896.0812,-886.8456\"/>\n</g>\n<!-- 103 -->\n<g id=\"node104\" class=\"node\">\n<title>103</title>\n<polygon fill=\"none\" stroke=\"#000000\" points=\"1833,-773.5 1738,-773.5 1738,-720.5 1833,-720.5 1833,-773.5\"/>\n<text text-anchor=\"middle\" x=\"1785.5\" y=\"-758.3\" font-family=\"Times,serif\" font-size=\"14.00\" fill=\"#000000\">gini = 0.0</text>\n<text text-anchor=\"middle\" x=\"1785.5\" y=\"-743.3\" font-family=\"Times,serif\" font-size=\"14.00\" fill=\"#000000\">samples = 3</text>\n<text text-anchor=\"middle\" x=\"1785.5\" y=\"-728.3\" font-family=\"Times,serif\" font-size=\"14.00\" fill=\"#000000\">value = [3, 0]</text>\n</g>\n<!-- 102&#45;&gt;103 -->\n<g id=\"edge103\" class=\"edge\">\n<title>102&#45;&gt;103</title>\n<path fill=\"none\" stroke=\"#000000\" d=\"M1805.0043,-816.9465C1801.9943,-806.1519 1798.6563,-794.1813 1795.6051,-783.2389\"/>\n<polygon fill=\"#000000\" stroke=\"#000000\" points=\"1798.9586,-782.2346 1792.9012,-773.5422 1792.2159,-784.1148 1798.9586,-782.2346\"/>\n</g>\n<!-- 104 -->\n<g id=\"node105\" class=\"node\">\n<title>104</title>\n<polygon fill=\"none\" stroke=\"#000000\" points=\"1946,-773.5 1851,-773.5 1851,-720.5 1946,-720.5 1946,-773.5\"/>\n<text text-anchor=\"middle\" x=\"1898.5\" y=\"-758.3\" font-family=\"Times,serif\" font-size=\"14.00\" fill=\"#000000\">gini = 0.0</text>\n<text text-anchor=\"middle\" x=\"1898.5\" y=\"-743.3\" font-family=\"Times,serif\" font-size=\"14.00\" fill=\"#000000\">samples = 1</text>\n<text text-anchor=\"middle\" x=\"1898.5\" y=\"-728.3\" font-family=\"Times,serif\" font-size=\"14.00\" fill=\"#000000\">value = [0, 1]</text>\n</g>\n<!-- 102&#45;&gt;104 -->\n<g id=\"edge104\" class=\"edge\">\n<title>102&#45;&gt;104</title>\n<path fill=\"none\" stroke=\"#000000\" d=\"M1842.0047,-816.9465C1851.1683,-805.6012 1861.3811,-792.9567 1870.5761,-781.5724\"/>\n<polygon fill=\"#000000\" stroke=\"#000000\" points=\"1873.5015,-783.5208 1877.0621,-773.5422 1868.0559,-779.1224 1873.5015,-783.5208\"/>\n</g>\n<!-- 108 -->\n<g id=\"node109\" class=\"node\">\n<title>108</title>\n<polygon fill=\"none\" stroke=\"#000000\" points=\"2151,-1197 2056,-1197 2056,-1129 2151,-1129 2151,-1197\"/>\n<text text-anchor=\"middle\" x=\"2103.5\" y=\"-1181.8\" font-family=\"Times,serif\" font-size=\"14.00\" fill=\"#000000\">X[3] &lt;= 2.5</text>\n<text text-anchor=\"middle\" x=\"2103.5\" y=\"-1166.8\" font-family=\"Times,serif\" font-size=\"14.00\" fill=\"#000000\">gini = 0.49</text>\n<text text-anchor=\"middle\" x=\"2103.5\" y=\"-1151.8\" font-family=\"Times,serif\" font-size=\"14.00\" fill=\"#000000\">samples = 14</text>\n<text text-anchor=\"middle\" x=\"2103.5\" y=\"-1136.8\" font-family=\"Times,serif\" font-size=\"14.00\" fill=\"#000000\">value = [6, 8]</text>\n</g>\n<!-- 107&#45;&gt;108 -->\n<g id=\"edge108\" class=\"edge\">\n<title>107&#45;&gt;108</title>\n<path fill=\"none\" stroke=\"#000000\" d=\"M2103.5,-1232.9465C2103.5,-1224.776 2103.5,-1215.9318 2103.5,-1207.3697\"/>\n<polygon fill=\"#000000\" stroke=\"#000000\" points=\"2107.0001,-1207.13 2103.5,-1197.13 2100.0001,-1207.13 2107.0001,-1207.13\"/>\n</g>\n<!-- 117 -->\n<g id=\"node118\" class=\"node\">\n<title>117</title>\n<polygon fill=\"none\" stroke=\"#000000\" points=\"2325.5,-1197 2223.5,-1197 2223.5,-1129 2325.5,-1129 2325.5,-1197\"/>\n<text text-anchor=\"middle\" x=\"2274.5\" y=\"-1181.8\" font-family=\"Times,serif\" font-size=\"14.00\" fill=\"#000000\">X[4] &lt;= 3.85</text>\n<text text-anchor=\"middle\" x=\"2274.5\" y=\"-1166.8\" font-family=\"Times,serif\" font-size=\"14.00\" fill=\"#000000\">gini = 0.236</text>\n<text text-anchor=\"middle\" x=\"2274.5\" y=\"-1151.8\" font-family=\"Times,serif\" font-size=\"14.00\" fill=\"#000000\">samples = 22</text>\n<text text-anchor=\"middle\" x=\"2274.5\" y=\"-1136.8\" font-family=\"Times,serif\" font-size=\"14.00\" fill=\"#000000\">value = [3, 19]</text>\n</g>\n<!-- 107&#45;&gt;117 -->\n<g id=\"edge117\" class=\"edge\">\n<title>107&#45;&gt;117</title>\n<path fill=\"none\" stroke=\"#000000\" d=\"M2154.8056,-1235.7966C2173.5742,-1224.3818 2194.9747,-1211.3663 2214.4397,-1199.5279\"/>\n<polygon fill=\"#000000\" stroke=\"#000000\" points=\"2216.5054,-1202.3681 2223.2306,-1194.1814 2212.8679,-1196.3874 2216.5054,-1202.3681\"/>\n</g>\n<!-- 109 -->\n<g id=\"node110\" class=\"node\">\n<title>109</title>\n<polygon fill=\"none\" stroke=\"#000000\" points=\"2096,-1093 2001,-1093 2001,-1025 2096,-1025 2096,-1093\"/>\n<text text-anchor=\"middle\" x=\"2048.5\" y=\"-1077.8\" font-family=\"Times,serif\" font-size=\"14.00\" fill=\"#000000\">X[1] &lt;= 5.0</text>\n<text text-anchor=\"middle\" x=\"2048.5\" y=\"-1062.8\" font-family=\"Times,serif\" font-size=\"14.00\" fill=\"#000000\">gini = 0.375</text>\n<text text-anchor=\"middle\" x=\"2048.5\" y=\"-1047.8\" font-family=\"Times,serif\" font-size=\"14.00\" fill=\"#000000\">samples = 8</text>\n<text text-anchor=\"middle\" x=\"2048.5\" y=\"-1032.8\" font-family=\"Times,serif\" font-size=\"14.00\" fill=\"#000000\">value = [6, 2]</text>\n</g>\n<!-- 108&#45;&gt;109 -->\n<g id=\"edge109\" class=\"edge\">\n<title>108&#45;&gt;109</title>\n<path fill=\"none\" stroke=\"#000000\" d=\"M2085.4909,-1128.9465C2080.9801,-1120.4169 2076.0809,-1111.153 2071.3686,-1102.2424\"/>\n<polygon fill=\"#000000\" stroke=\"#000000\" points=\"2074.3185,-1100.3337 2066.5495,-1093.13 2068.1306,-1103.6062 2074.3185,-1100.3337\"/>\n</g>\n<!-- 116 -->\n<g id=\"node117\" class=\"node\">\n<title>116</title>\n<polygon fill=\"none\" stroke=\"#000000\" points=\"2209,-1085.5 2114,-1085.5 2114,-1032.5 2209,-1032.5 2209,-1085.5\"/>\n<text text-anchor=\"middle\" x=\"2161.5\" y=\"-1070.3\" font-family=\"Times,serif\" font-size=\"14.00\" fill=\"#000000\">gini = 0.0</text>\n<text text-anchor=\"middle\" x=\"2161.5\" y=\"-1055.3\" font-family=\"Times,serif\" font-size=\"14.00\" fill=\"#000000\">samples = 6</text>\n<text text-anchor=\"middle\" x=\"2161.5\" y=\"-1040.3\" font-family=\"Times,serif\" font-size=\"14.00\" fill=\"#000000\">value = [0, 6]</text>\n</g>\n<!-- 108&#45;&gt;116 -->\n<g id=\"edge116\" class=\"edge\">\n<title>108&#45;&gt;116</title>\n<path fill=\"none\" stroke=\"#000000\" d=\"M2122.4914,-1128.9465C2128.6343,-1117.9316 2135.4601,-1105.6922 2141.6627,-1094.5703\"/>\n<polygon fill=\"#000000\" stroke=\"#000000\" points=\"2144.8837,-1095.9806 2146.6976,-1085.5422 2138.7701,-1092.5711 2144.8837,-1095.9806\"/>\n</g>\n<!-- 110 -->\n<g id=\"node111\" class=\"node\">\n<title>110</title>\n<polygon fill=\"none\" stroke=\"#000000\" points=\"2041,-981.5 1946,-981.5 1946,-928.5 2041,-928.5 2041,-981.5\"/>\n<text text-anchor=\"middle\" x=\"1993.5\" y=\"-966.3\" font-family=\"Times,serif\" font-size=\"14.00\" fill=\"#000000\">gini = 0.0</text>\n<text text-anchor=\"middle\" x=\"1993.5\" y=\"-951.3\" font-family=\"Times,serif\" font-size=\"14.00\" fill=\"#000000\">samples = 1</text>\n<text text-anchor=\"middle\" x=\"1993.5\" y=\"-936.3\" font-family=\"Times,serif\" font-size=\"14.00\" fill=\"#000000\">value = [0, 1]</text>\n</g>\n<!-- 109&#45;&gt;110 -->\n<g id=\"edge110\" class=\"edge\">\n<title>109&#45;&gt;110</title>\n<path fill=\"none\" stroke=\"#000000\" d=\"M2030.4909,-1024.9465C2024.6658,-1013.9316 2018.193,-1001.6922 2012.3112,-990.5703\"/>\n<polygon fill=\"#000000\" stroke=\"#000000\" points=\"2015.3057,-988.7459 2007.5367,-981.5422 2009.1178,-992.0184 2015.3057,-988.7459\"/>\n</g>\n<!-- 111 -->\n<g id=\"node112\" class=\"node\">\n<title>111</title>\n<polygon fill=\"none\" stroke=\"#000000\" points=\"2154,-989 2059,-989 2059,-921 2154,-921 2154,-989\"/>\n<text text-anchor=\"middle\" x=\"2106.5\" y=\"-973.8\" font-family=\"Times,serif\" font-size=\"14.00\" fill=\"#000000\">X[0] &lt;= 34.0</text>\n<text text-anchor=\"middle\" x=\"2106.5\" y=\"-958.8\" font-family=\"Times,serif\" font-size=\"14.00\" fill=\"#000000\">gini = 0.245</text>\n<text text-anchor=\"middle\" x=\"2106.5\" y=\"-943.8\" font-family=\"Times,serif\" font-size=\"14.00\" fill=\"#000000\">samples = 7</text>\n<text text-anchor=\"middle\" x=\"2106.5\" y=\"-928.8\" font-family=\"Times,serif\" font-size=\"14.00\" fill=\"#000000\">value = [6, 1]</text>\n</g>\n<!-- 109&#45;&gt;111 -->\n<g id=\"edge111\" class=\"edge\">\n<title>109&#45;&gt;111</title>\n<path fill=\"none\" stroke=\"#000000\" d=\"M2067.4914,-1024.9465C2072.2983,-1016.3271 2077.5235,-1006.9579 2082.5409,-997.9611\"/>\n<polygon fill=\"#000000\" stroke=\"#000000\" points=\"2085.652,-999.5684 2087.466,-989.13 2079.5385,-996.1589 2085.652,-999.5684\"/>\n</g>\n<!-- 112 -->\n<g id=\"node113\" class=\"node\">\n<title>112</title>\n<polygon fill=\"none\" stroke=\"#000000\" points=\"2093,-885 1998,-885 1998,-817 2093,-817 2093,-885\"/>\n<text text-anchor=\"middle\" x=\"2045.5\" y=\"-869.8\" font-family=\"Times,serif\" font-size=\"14.00\" fill=\"#000000\">X[10] &lt;= 0.5</text>\n<text text-anchor=\"middle\" x=\"2045.5\" y=\"-854.8\" font-family=\"Times,serif\" font-size=\"14.00\" fill=\"#000000\">gini = 0.444</text>\n<text text-anchor=\"middle\" x=\"2045.5\" y=\"-839.8\" font-family=\"Times,serif\" font-size=\"14.00\" fill=\"#000000\">samples = 3</text>\n<text text-anchor=\"middle\" x=\"2045.5\" y=\"-824.8\" font-family=\"Times,serif\" font-size=\"14.00\" fill=\"#000000\">value = [2, 1]</text>\n</g>\n<!-- 111&#45;&gt;112 -->\n<g id=\"edge112\" class=\"edge\">\n<title>111&#45;&gt;112</title>\n<path fill=\"none\" stroke=\"#000000\" d=\"M2086.5263,-920.9465C2081.4707,-912.3271 2075.9753,-902.9579 2070.6983,-893.9611\"/>\n<polygon fill=\"#000000\" stroke=\"#000000\" points=\"2073.5969,-891.985 2065.5186,-885.13 2067.5589,-895.5265 2073.5969,-891.985\"/>\n</g>\n<!-- 115 -->\n<g id=\"node116\" class=\"node\">\n<title>115</title>\n<polygon fill=\"none\" stroke=\"#000000\" points=\"2206,-877.5 2111,-877.5 2111,-824.5 2206,-824.5 2206,-877.5\"/>\n<text text-anchor=\"middle\" x=\"2158.5\" y=\"-862.3\" font-family=\"Times,serif\" font-size=\"14.00\" fill=\"#000000\">gini = 0.0</text>\n<text text-anchor=\"middle\" x=\"2158.5\" y=\"-847.3\" font-family=\"Times,serif\" font-size=\"14.00\" fill=\"#000000\">samples = 4</text>\n<text text-anchor=\"middle\" x=\"2158.5\" y=\"-832.3\" font-family=\"Times,serif\" font-size=\"14.00\" fill=\"#000000\">value = [4, 0]</text>\n</g>\n<!-- 111&#45;&gt;115 -->\n<g id=\"edge115\" class=\"edge\">\n<title>111&#45;&gt;115</title>\n<path fill=\"none\" stroke=\"#000000\" d=\"M2123.5267,-920.9465C2129.0342,-909.9316 2135.1539,-897.6922 2140.7149,-886.5703\"/>\n<polygon fill=\"#000000\" stroke=\"#000000\" points=\"2143.8872,-888.0517 2145.2289,-877.5422 2137.6262,-884.9212 2143.8872,-888.0517\"/>\n</g>\n<!-- 113 -->\n<g id=\"node114\" class=\"node\">\n<title>113</title>\n<polygon fill=\"none\" stroke=\"#000000\" points=\"2061,-773.5 1966,-773.5 1966,-720.5 2061,-720.5 2061,-773.5\"/>\n<text text-anchor=\"middle\" x=\"2013.5\" y=\"-758.3\" font-family=\"Times,serif\" font-size=\"14.00\" fill=\"#000000\">gini = 0.0</text>\n<text text-anchor=\"middle\" x=\"2013.5\" y=\"-743.3\" font-family=\"Times,serif\" font-size=\"14.00\" fill=\"#000000\">samples = 2</text>\n<text text-anchor=\"middle\" x=\"2013.5\" y=\"-728.3\" font-family=\"Times,serif\" font-size=\"14.00\" fill=\"#000000\">value = [2, 0]</text>\n</g>\n<!-- 112&#45;&gt;113 -->\n<g id=\"edge113\" class=\"edge\">\n<title>112&#45;&gt;113</title>\n<path fill=\"none\" stroke=\"#000000\" d=\"M2035.022,-816.9465C2031.7006,-806.1519 2028.0173,-794.1813 2024.6504,-783.2389\"/>\n<polygon fill=\"#000000\" stroke=\"#000000\" points=\"2027.953,-782.0706 2021.6668,-773.5422 2021.2625,-784.1293 2027.953,-782.0706\"/>\n</g>\n<!-- 114 -->\n<g id=\"node115\" class=\"node\">\n<title>114</title>\n<polygon fill=\"none\" stroke=\"#000000\" points=\"2174,-773.5 2079,-773.5 2079,-720.5 2174,-720.5 2174,-773.5\"/>\n<text text-anchor=\"middle\" x=\"2126.5\" y=\"-758.3\" font-family=\"Times,serif\" font-size=\"14.00\" fill=\"#000000\">gini = 0.0</text>\n<text text-anchor=\"middle\" x=\"2126.5\" y=\"-743.3\" font-family=\"Times,serif\" font-size=\"14.00\" fill=\"#000000\">samples = 1</text>\n<text text-anchor=\"middle\" x=\"2126.5\" y=\"-728.3\" font-family=\"Times,serif\" font-size=\"14.00\" fill=\"#000000\">value = [0, 1]</text>\n</g>\n<!-- 112&#45;&gt;114 -->\n<g id=\"edge114\" class=\"edge\">\n<title>112&#45;&gt;114</title>\n<path fill=\"none\" stroke=\"#000000\" d=\"M2072.0224,-816.9465C2080.8587,-805.6012 2090.7068,-792.9567 2099.5734,-781.5724\"/>\n<polygon fill=\"#000000\" stroke=\"#000000\" points=\"2102.4444,-783.5823 2105.8277,-773.5422 2096.9217,-779.281 2102.4444,-783.5823\"/>\n</g>\n<!-- 118 -->\n<g id=\"node119\" class=\"node\">\n<title>118</title>\n<polygon fill=\"none\" stroke=\"#000000\" points=\"2322,-1093 2227,-1093 2227,-1025 2322,-1025 2322,-1093\"/>\n<text text-anchor=\"middle\" x=\"2274.5\" y=\"-1077.8\" font-family=\"Times,serif\" font-size=\"14.00\" fill=\"#000000\">X[6] &lt;= 57.5</text>\n<text text-anchor=\"middle\" x=\"2274.5\" y=\"-1062.8\" font-family=\"Times,serif\" font-size=\"14.00\" fill=\"#000000\">gini = 0.469</text>\n<text text-anchor=\"middle\" x=\"2274.5\" y=\"-1047.8\" font-family=\"Times,serif\" font-size=\"14.00\" fill=\"#000000\">samples = 8</text>\n<text text-anchor=\"middle\" x=\"2274.5\" y=\"-1032.8\" font-family=\"Times,serif\" font-size=\"14.00\" fill=\"#000000\">value = [3, 5]</text>\n</g>\n<!-- 117&#45;&gt;118 -->\n<g id=\"edge118\" class=\"edge\">\n<title>117&#45;&gt;118</title>\n<path fill=\"none\" stroke=\"#000000\" d=\"M2274.5,-1128.9465C2274.5,-1120.776 2274.5,-1111.9318 2274.5,-1103.3697\"/>\n<polygon fill=\"#000000\" stroke=\"#000000\" points=\"2278.0001,-1103.13 2274.5,-1093.13 2271.0001,-1103.13 2278.0001,-1103.13\"/>\n</g>\n<!-- 125 -->\n<g id=\"node126\" class=\"node\">\n<title>125</title>\n<polygon fill=\"none\" stroke=\"#000000\" points=\"2442.5,-1085.5 2340.5,-1085.5 2340.5,-1032.5 2442.5,-1032.5 2442.5,-1085.5\"/>\n<text text-anchor=\"middle\" x=\"2391.5\" y=\"-1070.3\" font-family=\"Times,serif\" font-size=\"14.00\" fill=\"#000000\">gini = 0.0</text>\n<text text-anchor=\"middle\" x=\"2391.5\" y=\"-1055.3\" font-family=\"Times,serif\" font-size=\"14.00\" fill=\"#000000\">samples = 14</text>\n<text text-anchor=\"middle\" x=\"2391.5\" y=\"-1040.3\" font-family=\"Times,serif\" font-size=\"14.00\" fill=\"#000000\">value = [0, 14]</text>\n</g>\n<!-- 117&#45;&gt;125 -->\n<g id=\"edge125\" class=\"edge\">\n<title>117&#45;&gt;125</title>\n<path fill=\"none\" stroke=\"#000000\" d=\"M2312.8102,-1128.9465C2326.0694,-1117.1606 2340.9058,-1103.9726 2354.0916,-1092.2519\"/>\n<polygon fill=\"#000000\" stroke=\"#000000\" points=\"2356.4912,-1094.8018 2361.6401,-1085.5422 2351.8407,-1089.5699 2356.4912,-1094.8018\"/>\n</g>\n<!-- 119 -->\n<g id=\"node120\" class=\"node\">\n<title>119</title>\n<polygon fill=\"none\" stroke=\"#000000\" points=\"2321,-989 2226,-989 2226,-921 2321,-921 2321,-989\"/>\n<text text-anchor=\"middle\" x=\"2273.5\" y=\"-973.8\" font-family=\"Times,serif\" font-size=\"14.00\" fill=\"#000000\">X[3] &lt;= 3.0</text>\n<text text-anchor=\"middle\" x=\"2273.5\" y=\"-958.8\" font-family=\"Times,serif\" font-size=\"14.00\" fill=\"#000000\">gini = 0.48</text>\n<text text-anchor=\"middle\" x=\"2273.5\" y=\"-943.8\" font-family=\"Times,serif\" font-size=\"14.00\" fill=\"#000000\">samples = 5</text>\n<text text-anchor=\"middle\" x=\"2273.5\" y=\"-928.8\" font-family=\"Times,serif\" font-size=\"14.00\" fill=\"#000000\">value = [3, 2]</text>\n</g>\n<!-- 118&#45;&gt;119 -->\n<g id=\"edge119\" class=\"edge\">\n<title>118&#45;&gt;119</title>\n<path fill=\"none\" stroke=\"#000000\" d=\"M2274.1726,-1024.9465C2274.094,-1016.776 2274.009,-1007.9318 2273.9266,-999.3697\"/>\n<polygon fill=\"#000000\" stroke=\"#000000\" points=\"2277.4243,-999.0958 2273.8282,-989.13 2270.4246,-999.1632 2277.4243,-999.0958\"/>\n</g>\n<!-- 124 -->\n<g id=\"node125\" class=\"node\">\n<title>124</title>\n<polygon fill=\"none\" stroke=\"#000000\" points=\"2434,-981.5 2339,-981.5 2339,-928.5 2434,-928.5 2434,-981.5\"/>\n<text text-anchor=\"middle\" x=\"2386.5\" y=\"-966.3\" font-family=\"Times,serif\" font-size=\"14.00\" fill=\"#000000\">gini = 0.0</text>\n<text text-anchor=\"middle\" x=\"2386.5\" y=\"-951.3\" font-family=\"Times,serif\" font-size=\"14.00\" fill=\"#000000\">samples = 3</text>\n<text text-anchor=\"middle\" x=\"2386.5\" y=\"-936.3\" font-family=\"Times,serif\" font-size=\"14.00\" fill=\"#000000\">value = [0, 3]</text>\n</g>\n<!-- 118&#45;&gt;124 -->\n<g id=\"edge124\" class=\"edge\">\n<title>118&#45;&gt;124</title>\n<path fill=\"none\" stroke=\"#000000\" d=\"M2311.173,-1024.9465C2323.7469,-1013.2707 2337.8026,-1000.219 2350.3359,-988.5809\"/>\n<polygon fill=\"#000000\" stroke=\"#000000\" points=\"2352.9698,-990.9115 2357.9161,-981.5422 2348.2066,-985.7819 2352.9698,-990.9115\"/>\n</g>\n<!-- 120 -->\n<g id=\"node121\" class=\"node\">\n<title>120</title>\n<polygon fill=\"none\" stroke=\"#000000\" points=\"2320,-885 2225,-885 2225,-817 2320,-817 2320,-885\"/>\n<text text-anchor=\"middle\" x=\"2272.5\" y=\"-869.8\" font-family=\"Times,serif\" font-size=\"14.00\" fill=\"#000000\">X[1] &lt;= 24.0</text>\n<text text-anchor=\"middle\" x=\"2272.5\" y=\"-854.8\" font-family=\"Times,serif\" font-size=\"14.00\" fill=\"#000000\">gini = 0.444</text>\n<text text-anchor=\"middle\" x=\"2272.5\" y=\"-839.8\" font-family=\"Times,serif\" font-size=\"14.00\" fill=\"#000000\">samples = 3</text>\n<text text-anchor=\"middle\" x=\"2272.5\" y=\"-824.8\" font-family=\"Times,serif\" font-size=\"14.00\" fill=\"#000000\">value = [1, 2]</text>\n</g>\n<!-- 119&#45;&gt;120 -->\n<g id=\"edge120\" class=\"edge\">\n<title>119&#45;&gt;120</title>\n<path fill=\"none\" stroke=\"#000000\" d=\"M2273.1726,-920.9465C2273.094,-912.776 2273.009,-903.9318 2272.9266,-895.3697\"/>\n<polygon fill=\"#000000\" stroke=\"#000000\" points=\"2276.4243,-895.0958 2272.8282,-885.13 2269.4246,-895.1632 2276.4243,-895.0958\"/>\n</g>\n<!-- 123 -->\n<g id=\"node124\" class=\"node\">\n<title>123</title>\n<polygon fill=\"none\" stroke=\"#000000\" points=\"2433,-877.5 2338,-877.5 2338,-824.5 2433,-824.5 2433,-877.5\"/>\n<text text-anchor=\"middle\" x=\"2385.5\" y=\"-862.3\" font-family=\"Times,serif\" font-size=\"14.00\" fill=\"#000000\">gini = 0.0</text>\n<text text-anchor=\"middle\" x=\"2385.5\" y=\"-847.3\" font-family=\"Times,serif\" font-size=\"14.00\" fill=\"#000000\">samples = 2</text>\n<text text-anchor=\"middle\" x=\"2385.5\" y=\"-832.3\" font-family=\"Times,serif\" font-size=\"14.00\" fill=\"#000000\">value = [2, 0]</text>\n</g>\n<!-- 119&#45;&gt;123 -->\n<g id=\"edge123\" class=\"edge\">\n<title>119&#45;&gt;123</title>\n<path fill=\"none\" stroke=\"#000000\" d=\"M2310.173,-920.9465C2322.7469,-909.2707 2336.8026,-896.219 2349.3359,-884.5809\"/>\n<polygon fill=\"#000000\" stroke=\"#000000\" points=\"2351.9698,-886.9115 2356.9161,-877.5422 2347.2066,-881.7819 2351.9698,-886.9115\"/>\n</g>\n<!-- 121 -->\n<g id=\"node122\" class=\"node\">\n<title>121</title>\n<polygon fill=\"none\" stroke=\"#000000\" points=\"2289,-773.5 2194,-773.5 2194,-720.5 2289,-720.5 2289,-773.5\"/>\n<text text-anchor=\"middle\" x=\"2241.5\" y=\"-758.3\" font-family=\"Times,serif\" font-size=\"14.00\" fill=\"#000000\">gini = 0.0</text>\n<text text-anchor=\"middle\" x=\"2241.5\" y=\"-743.3\" font-family=\"Times,serif\" font-size=\"14.00\" fill=\"#000000\">samples = 1</text>\n<text text-anchor=\"middle\" x=\"2241.5\" y=\"-728.3\" font-family=\"Times,serif\" font-size=\"14.00\" fill=\"#000000\">value = [1, 0]</text>\n</g>\n<!-- 120&#45;&gt;121 -->\n<g id=\"edge121\" class=\"edge\">\n<title>120&#45;&gt;121</title>\n<path fill=\"none\" stroke=\"#000000\" d=\"M2262.3494,-816.9465C2259.1318,-806.1519 2255.5636,-794.1813 2252.302,-783.2389\"/>\n<polygon fill=\"#000000\" stroke=\"#000000\" points=\"2255.6224,-782.1257 2249.4116,-773.5422 2248.9141,-784.1253 2255.6224,-782.1257\"/>\n</g>\n<!-- 122 -->\n<g id=\"node123\" class=\"node\">\n<title>122</title>\n<polygon fill=\"none\" stroke=\"#000000\" points=\"2402,-773.5 2307,-773.5 2307,-720.5 2402,-720.5 2402,-773.5\"/>\n<text text-anchor=\"middle\" x=\"2354.5\" y=\"-758.3\" font-family=\"Times,serif\" font-size=\"14.00\" fill=\"#000000\">gini = 0.0</text>\n<text text-anchor=\"middle\" x=\"2354.5\" y=\"-743.3\" font-family=\"Times,serif\" font-size=\"14.00\" fill=\"#000000\">samples = 2</text>\n<text text-anchor=\"middle\" x=\"2354.5\" y=\"-728.3\" font-family=\"Times,serif\" font-size=\"14.00\" fill=\"#000000\">value = [0, 2]</text>\n</g>\n<!-- 120&#45;&gt;122 -->\n<g id=\"edge122\" class=\"edge\">\n<title>120&#45;&gt;122</title>\n<path fill=\"none\" stroke=\"#000000\" d=\"M2299.3499,-816.9465C2308.2952,-805.6012 2318.2649,-792.9567 2327.241,-781.5724\"/>\n<polygon fill=\"#000000\" stroke=\"#000000\" points=\"2330.1294,-783.5619 2333.5725,-773.5422 2324.6325,-779.2278 2330.1294,-783.5619\"/>\n</g>\n</g>\n</svg>\n"
          },
          "metadata": {
            "tags": []
          },
          "execution_count": 59
        }
      ]
    },
    {
      "cell_type": "markdown",
      "metadata": {
        "id": "OtEWW8YJU4Nz",
        "colab_type": "text"
      },
      "source": [
        "#RandomForestClassifier"
      ]
    },
    {
      "cell_type": "code",
      "metadata": {
        "id": "2OEFvHi-vTfr",
        "colab_type": "code",
        "colab": {
          "base_uri": "https://localhost:8080/",
          "height": 437
        },
        "outputId": "98a2f130-092e-4531-fe11-4bdee796bede"
      },
      "source": [
        "from sklearn.ensemble import RandomForestClassifier\n",
        "n_est = [25,50,75,100,125]\n",
        "max_depth = [None,3,4,5,6]\n",
        "acc = []\n",
        "for i in n_est:\n",
        "    for k in max_depth:\n",
        "        rbf_clf = RandomForestClassifier(n_estimators=i,max_depth=k)\n",
        "        rbf_clf.fit(X_train, Y_train)\n",
        "        Y_pred = rbf_clf.predict(X_test)\n",
        "        print(rbf_clf.score(X_test, Y_test),f1_score(Y_test,Y_pred), \"N_est = \" +str(i),\"max_depth = \" +str(k))"
      ],
      "execution_count": 37,
      "outputs": [
        {
          "output_type": "stream",
          "text": [
            "0.9886666666666667 0.9368029739776952 N_est = 25 max_depth = None\n",
            "0.9606666666666667 0.730593607305936 N_est = 25 max_depth = 3\n",
            "0.9793333333333333 0.8734693877551021 N_est = 25 max_depth = 4\n",
            "0.984 0.9069767441860466 N_est = 25 max_depth = 5\n",
            "0.982 0.8957528957528957 N_est = 25 max_depth = 6\n",
            "0.9886666666666667 0.9368029739776952 N_est = 50 max_depth = None\n",
            "0.9573333333333334 0.7009345794392524 N_est = 50 max_depth = 3\n",
            "0.972 0.8220338983050847 N_est = 50 max_depth = 4\n",
            "0.9833333333333333 0.9034749034749036 N_est = 50 max_depth = 5\n",
            "0.9853333333333333 0.9166666666666666 N_est = 50 max_depth = 6\n",
            "0.986 0.9207547169811321 N_est = 75 max_depth = None\n",
            "0.9433333333333334 0.5595854922279793 N_est = 75 max_depth = 3\n",
            "0.964 0.7589285714285714 N_est = 75 max_depth = 4\n",
            "0.9793333333333333 0.8774703557312253 N_est = 75 max_depth = 5\n",
            "0.9846666666666667 0.9118773946360155 N_est = 75 max_depth = 6\n",
            "0.9866666666666667 0.9259259259259259 N_est = 100 max_depth = None\n",
            "0.944 0.5670103092783505 N_est = 100 max_depth = 3\n",
            "0.9733333333333334 0.8347107438016529 N_est = 100 max_depth = 4\n",
            "0.9846666666666667 0.9118773946360155 N_est = 100 max_depth = 5\n",
            "0.9873333333333333 0.9272030651340997 N_est = 100 max_depth = 6\n",
            "0.988 0.9323308270676692 N_est = 125 max_depth = None\n",
            "0.95 0.6341463414634146 N_est = 125 max_depth = 3\n",
            "0.9713333333333334 0.8170212765957446 N_est = 125 max_depth = 4\n",
            "0.9813333333333333 0.889763779527559 N_est = 125 max_depth = 5\n",
            "0.9853333333333333 0.9153846153846154 N_est = 125 max_depth = 6\n"
          ],
          "name": "stdout"
        }
      ]
    },
    {
      "cell_type": "code",
      "metadata": {
        "id": "aySNhdiSy2vM",
        "colab_type": "code",
        "colab": {
          "base_uri": "https://localhost:8080/",
          "height": 34
        },
        "outputId": "1a3351d4-9ff4-4cf7-87a7-ee781cdfa1f5"
      },
      "source": [
        "rbf_clf = RandomForestClassifier(n_estimators=100,max_depth = None)\n",
        "rbf_clf.fit(X_train, Y_train)\n",
        "Y_pred = rbf_clf.predict(X_test)\n",
        "print(rbf_clf.score(X_test, Y_test),f1_score(Y_test,Y_pred))"
      ],
      "execution_count": 38,
      "outputs": [
        {
          "output_type": "stream",
          "text": [
            "0.9906666666666667 0.9477611940298507\n"
          ],
          "name": "stdout"
        }
      ]
    },
    {
      "cell_type": "markdown",
      "metadata": {
        "id": "cjYAjIhQU_xH",
        "colab_type": "text"
      },
      "source": [
        "# Best F1 Score 94 % Accuracy 99\n",
        "Since the accuracy varies a lot so let us boost it to its maximum accuracy.(I'll use XGBoost)"
      ]
    },
    {
      "cell_type": "code",
      "metadata": {
        "id": "tSIfIPHT-xC2",
        "colab_type": "code",
        "colab": {}
      },
      "source": [
        "import pickle\n",
        "pickle.dump(rbf_clf,open(\"rbf_clf.pkl\",\"wb\"))"
      ],
      "execution_count": 39,
      "outputs": []
    },
    {
      "cell_type": "code",
      "metadata": {
        "id": "A_V7jd2U64oV",
        "colab_type": "code",
        "colab": {
          "base_uri": "https://localhost:8080/",
          "height": 336
        },
        "outputId": "fb36c10f-9888-4112-dc93-214019edc135"
      },
      "source": [
        "rbf_clf.get_params()"
      ],
      "execution_count": 40,
      "outputs": [
        {
          "output_type": "execute_result",
          "data": {
            "text/plain": [
              "{'bootstrap': True,\n",
              " 'ccp_alpha': 0.0,\n",
              " 'class_weight': None,\n",
              " 'criterion': 'gini',\n",
              " 'max_depth': None,\n",
              " 'max_features': 'auto',\n",
              " 'max_leaf_nodes': None,\n",
              " 'max_samples': None,\n",
              " 'min_impurity_decrease': 0.0,\n",
              " 'min_impurity_split': None,\n",
              " 'min_samples_leaf': 1,\n",
              " 'min_samples_split': 2,\n",
              " 'min_weight_fraction_leaf': 0.0,\n",
              " 'n_estimators': 100,\n",
              " 'n_jobs': None,\n",
              " 'oob_score': False,\n",
              " 'random_state': None,\n",
              " 'verbose': 0,\n",
              " 'warm_start': False}"
            ]
          },
          "metadata": {
            "tags": []
          },
          "execution_count": 40
        }
      ]
    },
    {
      "cell_type": "code",
      "metadata": {
        "id": "fp1CIuNU41N9",
        "colab_type": "code",
        "colab": {
          "base_uri": "https://localhost:8080/",
          "height": 398
        },
        "outputId": "de75c724-de43-4aa1-a022-99832bcc54be"
      },
      "source": [
        "Y_pred = rbf_clf.predict(X_test)\n",
        "print(confusion_matrix(Y_test,Y_pred))\n",
        "sns.heatmap(confusion_matrix(Y_test,Y_pred))\n",
        "f1_score(Y_test,Y_pred)"
      ],
      "execution_count": 41,
      "outputs": [
        {
          "output_type": "stream",
          "text": [
            "[[1359    3]\n",
            " [  11  127]]\n"
          ],
          "name": "stdout"
        },
        {
          "output_type": "execute_result",
          "data": {
            "text/plain": [
              "0.9477611940298507"
            ]
          },
          "metadata": {
            "tags": []
          },
          "execution_count": 41
        },
        {
          "output_type": "display_data",
          "data": {
            "image/png": "[encoded data removed]",
            "text/plain": [
              "<Figure size 576x396 with 2 Axes>"
            ]
          },
          "metadata": {
            "tags": []
          }
        }
      ]
    },
    {
      "cell_type": "markdown",
      "metadata": {
        "id": "SE3mGdxsGYY0",
        "colab_type": "text"
      },
      "source": [
        "![Annotation 2020-09-01 015714.png](data:image/png;base64,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)"
      ]
    },
    {
      "cell_type": "code",
      "metadata": {
        "id": "bKBzzw8PBbws",
        "colab_type": "code",
        "colab": {
          "base_uri": "https://localhost:8080/",
          "height": 67
        },
        "outputId": "6e7dcd8f-e40f-4913-aad2-cdb9b57d0359"
      },
      "source": [
        "X_train.columns"
      ],
      "execution_count": 42,
      "outputs": [
        {
          "output_type": "execute_result",
          "data": {
            "text/plain": [
              "Index(['Age', 'Experience', 'Income', 'Family', 'CCAvg', 'Education',\n",
              "       'Mortgage', 'Securities Account', 'CD Account', 'Online', 'CreditCard'],\n",
              "      dtype='object')"
            ]
          },
          "metadata": {
            "tags": []
          },
          "execution_count": 42
        }
      ]
    },
    {
      "cell_type": "code",
      "metadata": {
        "id": "zHSE411gTV-n",
        "colab_type": "code",
        "colab": {}
      },
      "source": [
        "# data.groupby(['Loan_Status', 'Gender', 'Property_Area'])['Married'].value_counts()\n",
        "# from yellowbrick.classifier import ClassificationReport\n",
        "# viz = ClassificationReport(LR_model)\n",
        "# viz.fit(XT, YT)\n",
        "# viz.score(Xt, Yt)\n",
        "# viz.show()  \n",
        "# import statsmodels.api as sm\n",
        "# X2 = sm.add_constant(XT)\n",
        "# regressor2 = sm.Logit(YT, X2).fit()\n",
        "# print(\"p-Values for each column: \")\n",
        "# print()\n",
        "# print(regressor2.pvalues)"
      ],
      "execution_count": 43,
      "outputs": []
    },
    {
      "cell_type": "code",
      "metadata": {
        "id": "GL7pScUIyEVK",
        "colab_type": "code",
        "colab": {
          "base_uri": "https://localhost:8080/",
          "height": 134
        },
        "outputId": "7d73143a-4b1a-4b18-9a84-1f6d19a8ebd4"
      },
      "source": [
        "from xgboost import XGBClassifier\n",
        "model = XGBClassifier(max_depth=3,n_estimators=100)\n",
        "model.fit(X_train, Y_train)"
      ],
      "execution_count": 68,
      "outputs": [
        {
          "output_type": "execute_result",
          "data": {
            "text/plain": [
              "XGBClassifier(base_score=0.5, booster='gbtree', colsample_bylevel=1,\n",
              "              colsample_bynode=1, colsample_bytree=1, gamma=0,\n",
              "              learning_rate=0.1, max_delta_step=0, max_depth=3,\n",
              "              min_child_weight=1, missing=None, n_estimators=100, n_jobs=1,\n",
              "              nthread=None, objective='binary:logistic', random_state=0,\n",
              "              reg_alpha=0, reg_lambda=1, scale_pos_weight=1, seed=None,\n",
              "              silent=None, subsample=1, verbosity=1)"
            ]
          },
          "metadata": {
            "tags": []
          },
          "execution_count": 68
        }
      ]
    },
    {
      "cell_type": "code",
      "metadata": {
        "id": "VTF7hCbgyR7R",
        "colab_type": "code",
        "colab": {
          "base_uri": "https://localhost:8080/",
          "height": 34
        },
        "outputId": "241be30d-f429-4cf1-c44e-95763447bc48"
      },
      "source": [
        "print(model.score(X_test,Y_test),model.score(X_train,Y_train))"
      ],
      "execution_count": 69,
      "outputs": [
        {
          "output_type": "stream",
          "text": [
            "0.9893333333333333 0.9908571428571429\n"
          ],
          "name": "stdout"
        }
      ]
    },
    {
      "cell_type": "code",
      "metadata": {
        "id": "SEUaOxwhyveG",
        "colab_type": "code",
        "colab": {}
      },
      "source": [
        "Y_pred = model.predict(X_test)"
      ],
      "execution_count": 70,
      "outputs": []
    },
    {
      "cell_type": "code",
      "metadata": {
        "id": "uo38UVcUzXlL",
        "colab_type": "code",
        "colab": {
          "base_uri": "https://localhost:8080/",
          "height": 398
        },
        "outputId": "b65f5ff1-f77e-463c-d72f-b5392286de15"
      },
      "source": [
        "print(confusion_matrix(Y_test,Y_pred))\n",
        "sns.heatmap(confusion_matrix(Y_test,Y_pred))\n",
        "f1_score(Y_test,Y_pred)"
      ],
      "execution_count": 47,
      "outputs": [
        {
          "output_type": "stream",
          "text": [
            "[[1357    5]\n",
            " [  11  127]]\n"
          ],
          "name": "stdout"
        },
        {
          "output_type": "execute_result",
          "data": {
            "text/plain": [
              "0.9407407407407408"
            ]
          },
          "metadata": {
            "tags": []
          },
          "execution_count": 47
        },
        {
          "output_type": "display_data",
          "data": {
            "image/png": "[encoded data removed]",
            "text/plain": [
              "<Figure size 576x396 with 2 Axes>"
            ]
          },
          "metadata": {
            "tags": []
          }
        }
      ]
    },
    {
      "cell_type": "code",
      "metadata": {
        "id": "0pEx7Rf00DC3",
        "colab_type": "code",
        "colab": {}
      },
      "source": [
        "pickle.dump(model,open(\"xgb.pkl\",\"wb\"))"
      ],
      "execution_count": 65,
      "outputs": []
    },
    {
      "cell_type": "markdown",
      "metadata": {
        "id": "nXn2tr9XgPVR",
        "colab_type": "text"
      },
      "source": [
        "# Feature Importance in prediction"
      ]
    },
    {
      "cell_type": "code",
      "metadata": {
        "id": "egDWGorWdAqI",
        "colab_type": "code",
        "colab": {
          "base_uri": "https://localhost:8080/",
          "height": 364
        },
        "outputId": "106379d6-4daf-4024-a5a2-f52bbbfd12ff"
      },
      "source": [
        "feature_important = model.get_booster().get_score(importance_type='weight')\n",
        "keys = list(feature_important.keys())\n",
        "values = list(feature_important.values())\n",
        "\n",
        "data = pd.DataFrame(data=values, index=keys, columns=[\"score\"]).sort_values(by = \"score\", ascending=True)\n",
        "data.plot(kind='barh')"
      ],
      "execution_count": 72,
      "outputs": [
        {
          "output_type": "execute_result",
          "data": {
            "text/plain": [
              "<matplotlib.axes._subplots.AxesSubplot at 0x7f3251c92eb8>"
            ]
          },
          "metadata": {
            "tags": []
          },
          "execution_count": 72
        },
        {
          "output_type": "display_data",
          "data": {
            "image/png": "[encoded data removed]",
            "text/plain": [
              "<Figure size 576x396 with 1 Axes>"
            ]
          },
          "metadata": {
            "tags": []
          }
        }
      ]
    },
    {
      "cell_type": "code",
      "metadata": {
        "id": "_HlF_-MbgD_O",
        "colab_type": "code",
        "colab": {}
      },
      "source": [
        ""
      ],
      "execution_count": null,
      "outputs": []
    }
  ]
}