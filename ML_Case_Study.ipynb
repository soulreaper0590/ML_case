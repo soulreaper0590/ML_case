{
  "nbformat": 4,
  "nbformat_minor": 0,
  "metadata": {
    "colab": {
      "name": "ML_Case_Study.ipynb",
      "provenance": []
    },
    "kernelspec": {
      "name": "python3",
      "display_name": "Python 3"
    }
  },
  "cells": [
    {
      "cell_type": "code",
      "metadata": {
        "id": "COgJJYmbM7R_",
        "colab_type": "code",
        "colab": {}
      },
      "source": [
        "import pandas as pd"
      ],
      "execution_count": null,
      "outputs": []
    },
    {
      "cell_type": "code",
      "metadata": {
        "id": "2S_eavIkNLdU",
        "colab_type": "code",
        "colab": {}
      },
      "source": [
        "data = pd.read_csv(\"/content/ML Case Study - Data.csv\")"
      ],
      "execution_count": null,
      "outputs": []
    },
    {
      "cell_type": "code",
      "metadata": {
        "id": "jI8mScwrNg8b",
        "colab_type": "code",
        "colab": {
          "base_uri": "https://localhost:8080/",
          "height": 17
        },
        "outputId": "c73f91e5-5e55-4996-ccb3-0b5d75157a8c"
      },
      "source": [
        "import pandas as pd\n",
        "import numpy as np \n",
        "import matplotlib.pyplot as plt \n",
        "%matplotlib inline\n",
        "import seaborn as sns\n",
        "pd.options.display.float_format = '{:,.2f}'.format\n",
        "from IPython.core.display import display, HTML\n",
        "display(HTML(\"<style>.container {width : 98% !important; }</style>\"))\n",
        "plt.style.use('ggplot')\n",
        "plt.rcParams['figure.figsize'] = [10,10]\n",
        "pd.set_option('display.max_columns', 500)\n",
        "pd.set_option('display.max_rows', 500)"
      ],
      "execution_count": null,
      "outputs": [
        {
          "output_type": "display_data",
          "data": {
            "text/html": [
              "<style>.container {width : 98% !important; }</style>"
            ],
            "text/plain": [
              "<IPython.core.display.HTML object>"
            ]
          },
          "metadata": {
            "tags": []
          }
        }
      ]
    },
    {
      "cell_type": "code",
      "metadata": {
        "id": "OhO2S-V1PI94",
        "colab_type": "code",
        "colab": {}
      },
      "source": [
        "from scipy import stats\n",
        "from sklearn import metrics"
      ],
      "execution_count": null,
      "outputs": []
    },
    {
      "cell_type": "code",
      "metadata": {
        "id": "i_EV3QS2PL_y",
        "colab_type": "code",
        "colab": {
          "base_uri": "https://localhost:8080/",
          "height": 70
        },
        "outputId": "bf4478ba-7e65-4ea9-c9f6-0c88a1879b31"
      },
      "source": [
        "import yellowbrick as yb"
      ],
      "execution_count": null,
      "outputs": [
        {
          "output_type": "stream",
          "text": [
            "/usr/local/lib/python3.6/dist-packages/sklearn/utils/deprecation.py:144: FutureWarning: The sklearn.metrics.classification module is  deprecated in version 0.22 and will be removed in version 0.24. The corresponding classes / functions should instead be imported from sklearn.metrics. Anything that cannot be imported from sklearn.metrics is now part of the private API.\n",
            "  warnings.warn(message, FutureWarning)\n"
          ],
          "name": "stderr"
        }
      ]
    },
    {
      "cell_type": "markdown",
      "metadata": {
        "id": "xre9_tifvrf3",
        "colab_type": "text"
      },
      "source": [
        "#Checking Data Types"
      ]
    },
    {
      "cell_type": "code",
      "metadata": {
        "id": "5hIJs_IDPOhr",
        "colab_type": "code",
        "colab": {
          "base_uri": "https://localhost:8080/",
          "height": 370
        },
        "outputId": "c860a169-5711-4d2b-d408-b7f297163c53"
      },
      "source": [
        "data.info()"
      ],
      "execution_count": null,
      "outputs": [
        {
          "output_type": "stream",
          "text": [
            "<class 'pandas.core.frame.DataFrame'>\n",
            "RangeIndex: 5000 entries, 0 to 4999\n",
            "Data columns (total 14 columns):\n",
            " #   Column              Non-Null Count  Dtype  \n",
            "---  ------              --------------  -----  \n",
            " 0   ID                  5000 non-null   int64  \n",
            " 1   Age                 5000 non-null   int64  \n",
            " 2   Experience          5000 non-null   int64  \n",
            " 3   Income              5000 non-null   int64  \n",
            " 4   ZIP Code            5000 non-null   int64  \n",
            " 5   Family              5000 non-null   int64  \n",
            " 6   CCAvg               5000 non-null   float64\n",
            " 7   Education           5000 non-null   int64  \n",
            " 8   Mortgage            5000 non-null   int64  \n",
            " 9   Personal Loan       5000 non-null   int64  \n",
            " 10  Securities Account  5000 non-null   int64  \n",
            " 11  CD Account          5000 non-null   int64  \n",
            " 12  Online              5000 non-null   int64  \n",
            " 13  CreditCard          5000 non-null   int64  \n",
            "dtypes: float64(1), int64(13)\n",
            "memory usage: 547.0 KB\n"
          ],
          "name": "stdout"
        }
      ]
    },
    {
      "cell_type": "markdown",
      "metadata": {
        "id": "65u8CurlwHEt",
        "colab_type": "text"
      },
      "source": [
        "# Statistical Summary"
      ]
    },
    {
      "cell_type": "code",
      "metadata": {
        "id": "MMF618dxNbGx",
        "colab_type": "code",
        "colab": {
          "base_uri": "https://localhost:8080/",
          "height": 321
        },
        "outputId": "0530760d-60d4-4a1d-ca53-c26c66c8b1f0"
      },
      "source": [
        "data.describe()"
      ],
      "execution_count": null,
      "outputs": [
        {
          "output_type": "execute_result",
          "data": {
            "text/html": [
              "<div>\n",
              "<style scoped>\n",
              "    .dataframe tbody tr th:only-of-type {\n",
              "        vertical-align: middle;\n",
              "    }\n",
              "\n",
              "    .dataframe tbody tr th {\n",
              "        vertical-align: top;\n",
              "    }\n",
              "\n",
              "    .dataframe thead th {\n",
              "        text-align: right;\n",
              "    }\n",
              "</style>\n",
              "<table border=\"1\" class=\"dataframe\">\n",
              "  <thead>\n",
              "    <tr style=\"text-align: right;\">\n",
              "      <th></th>\n",
              "      <th>ID</th>\n",
              "      <th>Age</th>\n",
              "      <th>Experience</th>\n",
              "      <th>Income</th>\n",
              "      <th>ZIP Code</th>\n",
              "      <th>Family</th>\n",
              "      <th>CCAvg</th>\n",
              "      <th>Education</th>\n",
              "      <th>Mortgage</th>\n",
              "      <th>Personal Loan</th>\n",
              "      <th>Securities Account</th>\n",
              "      <th>CD Account</th>\n",
              "      <th>Online</th>\n",
              "      <th>CreditCard</th>\n",
              "    </tr>\n",
              "  </thead>\n",
              "  <tbody>\n",
              "    <tr>\n",
              "      <th>count</th>\n",
              "      <td>5,000.00</td>\n",
              "      <td>5,000.00</td>\n",
              "      <td>5,000.00</td>\n",
              "      <td>5,000.00</td>\n",
              "      <td>5,000.00</td>\n",
              "      <td>5,000.00</td>\n",
              "      <td>5,000.00</td>\n",
              "      <td>5,000.00</td>\n",
              "      <td>5,000.00</td>\n",
              "      <td>5,000.00</td>\n",
              "      <td>5,000.00</td>\n",
              "      <td>5,000.00</td>\n",
              "      <td>5,000.00</td>\n",
              "      <td>5,000.00</td>\n",
              "    </tr>\n",
              "    <tr>\n",
              "      <th>mean</th>\n",
              "      <td>2,500.50</td>\n",
              "      <td>45.34</td>\n",
              "      <td>20.10</td>\n",
              "      <td>73.77</td>\n",
              "      <td>93,152.50</td>\n",
              "      <td>2.40</td>\n",
              "      <td>1.94</td>\n",
              "      <td>1.88</td>\n",
              "      <td>56.50</td>\n",
              "      <td>0.10</td>\n",
              "      <td>0.10</td>\n",
              "      <td>0.06</td>\n",
              "      <td>0.60</td>\n",
              "      <td>0.29</td>\n",
              "    </tr>\n",
              "    <tr>\n",
              "      <th>std</th>\n",
              "      <td>1,443.52</td>\n",
              "      <td>11.46</td>\n",
              "      <td>11.47</td>\n",
              "      <td>46.03</td>\n",
              "      <td>2,121.85</td>\n",
              "      <td>1.15</td>\n",
              "      <td>1.75</td>\n",
              "      <td>0.84</td>\n",
              "      <td>101.71</td>\n",
              "      <td>0.29</td>\n",
              "      <td>0.31</td>\n",
              "      <td>0.24</td>\n",
              "      <td>0.49</td>\n",
              "      <td>0.46</td>\n",
              "    </tr>\n",
              "    <tr>\n",
              "      <th>min</th>\n",
              "      <td>1.00</td>\n",
              "      <td>23.00</td>\n",
              "      <td>-3.00</td>\n",
              "      <td>8.00</td>\n",
              "      <td>9,307.00</td>\n",
              "      <td>1.00</td>\n",
              "      <td>0.00</td>\n",
              "      <td>1.00</td>\n",
              "      <td>0.00</td>\n",
              "      <td>0.00</td>\n",
              "      <td>0.00</td>\n",
              "      <td>0.00</td>\n",
              "      <td>0.00</td>\n",
              "      <td>0.00</td>\n",
              "    </tr>\n",
              "    <tr>\n",
              "      <th>25%</th>\n",
              "      <td>1,250.75</td>\n",
              "      <td>35.00</td>\n",
              "      <td>10.00</td>\n",
              "      <td>39.00</td>\n",
              "      <td>91,911.00</td>\n",
              "      <td>1.00</td>\n",
              "      <td>0.70</td>\n",
              "      <td>1.00</td>\n",
              "      <td>0.00</td>\n",
              "      <td>0.00</td>\n",
              "      <td>0.00</td>\n",
              "      <td>0.00</td>\n",
              "      <td>0.00</td>\n",
              "      <td>0.00</td>\n",
              "    </tr>\n",
              "    <tr>\n",
              "      <th>50%</th>\n",
              "      <td>2,500.50</td>\n",
              "      <td>45.00</td>\n",
              "      <td>20.00</td>\n",
              "      <td>64.00</td>\n",
              "      <td>93,437.00</td>\n",
              "      <td>2.00</td>\n",
              "      <td>1.50</td>\n",
              "      <td>2.00</td>\n",
              "      <td>0.00</td>\n",
              "      <td>0.00</td>\n",
              "      <td>0.00</td>\n",
              "      <td>0.00</td>\n",
              "      <td>1.00</td>\n",
              "      <td>0.00</td>\n",
              "    </tr>\n",
              "    <tr>\n",
              "      <th>75%</th>\n",
              "      <td>3,750.25</td>\n",
              "      <td>55.00</td>\n",
              "      <td>30.00</td>\n",
              "      <td>98.00</td>\n",
              "      <td>94,608.00</td>\n",
              "      <td>3.00</td>\n",
              "      <td>2.50</td>\n",
              "      <td>3.00</td>\n",
              "      <td>101.00</td>\n",
              "      <td>0.00</td>\n",
              "      <td>0.00</td>\n",
              "      <td>0.00</td>\n",
              "      <td>1.00</td>\n",
              "      <td>1.00</td>\n",
              "    </tr>\n",
              "    <tr>\n",
              "      <th>max</th>\n",
              "      <td>5,000.00</td>\n",
              "      <td>67.00</td>\n",
              "      <td>43.00</td>\n",
              "      <td>224.00</td>\n",
              "      <td>96,651.00</td>\n",
              "      <td>4.00</td>\n",
              "      <td>10.00</td>\n",
              "      <td>3.00</td>\n",
              "      <td>635.00</td>\n",
              "      <td>1.00</td>\n",
              "      <td>1.00</td>\n",
              "      <td>1.00</td>\n",
              "      <td>1.00</td>\n",
              "      <td>1.00</td>\n",
              "    </tr>\n",
              "  </tbody>\n",
              "</table>\n",
              "</div>"
            ],
            "text/plain": [
              "            ID      Age  Experience   Income  ZIP Code   Family    CCAvg  \\\n",
              "count 5,000.00 5,000.00    5,000.00 5,000.00  5,000.00 5,000.00 5,000.00   \n",
              "mean  2,500.50    45.34       20.10    73.77 93,152.50     2.40     1.94   \n",
              "std   1,443.52    11.46       11.47    46.03  2,121.85     1.15     1.75   \n",
              "min       1.00    23.00       -3.00     8.00  9,307.00     1.00     0.00   \n",
              "25%   1,250.75    35.00       10.00    39.00 91,911.00     1.00     0.70   \n",
              "50%   2,500.50    45.00       20.00    64.00 93,437.00     2.00     1.50   \n",
              "75%   3,750.25    55.00       30.00    98.00 94,608.00     3.00     2.50   \n",
              "max   5,000.00    67.00       43.00   224.00 96,651.00     4.00    10.00   \n",
              "\n",
              "       Education  Mortgage  Personal Loan  Securities Account  CD Account  \\\n",
              "count   5,000.00  5,000.00       5,000.00            5,000.00    5,000.00   \n",
              "mean        1.88     56.50           0.10                0.10        0.06   \n",
              "std         0.84    101.71           0.29                0.31        0.24   \n",
              "min         1.00      0.00           0.00                0.00        0.00   \n",
              "25%         1.00      0.00           0.00                0.00        0.00   \n",
              "50%         2.00      0.00           0.00                0.00        0.00   \n",
              "75%         3.00    101.00           0.00                0.00        0.00   \n",
              "max         3.00    635.00           1.00                1.00        1.00   \n",
              "\n",
              "        Online  CreditCard  \n",
              "count 5,000.00    5,000.00  \n",
              "mean      0.60        0.29  \n",
              "std       0.49        0.46  \n",
              "min       0.00        0.00  \n",
              "25%       0.00        0.00  \n",
              "50%       1.00        0.00  \n",
              "75%       1.00        1.00  \n",
              "max       1.00        1.00  "
            ]
          },
          "metadata": {
            "tags": []
          },
          "execution_count": 7
        }
      ]
    },
    {
      "cell_type": "code",
      "metadata": {
        "id": "YGD-y2QoQ4JH",
        "colab_type": "code",
        "colab": {
          "base_uri": "https://localhost:8080/",
          "height": 321
        },
        "outputId": "8a628013-4e53-477a-b934-956b9cd7d9d9"
      },
      "source": [
        "data.describe()"
      ],
      "execution_count": null,
      "outputs": [
        {
          "output_type": "execute_result",
          "data": {
            "text/html": [
              "<div>\n",
              "<style scoped>\n",
              "    .dataframe tbody tr th:only-of-type {\n",
              "        vertical-align: middle;\n",
              "    }\n",
              "\n",
              "    .dataframe tbody tr th {\n",
              "        vertical-align: top;\n",
              "    }\n",
              "\n",
              "    .dataframe thead th {\n",
              "        text-align: right;\n",
              "    }\n",
              "</style>\n",
              "<table border=\"1\" class=\"dataframe\">\n",
              "  <thead>\n",
              "    <tr style=\"text-align: right;\">\n",
              "      <th></th>\n",
              "      <th>ID</th>\n",
              "      <th>Age</th>\n",
              "      <th>Experience</th>\n",
              "      <th>Income</th>\n",
              "      <th>ZIP Code</th>\n",
              "      <th>Family</th>\n",
              "      <th>CCAvg</th>\n",
              "      <th>Education</th>\n",
              "      <th>Mortgage</th>\n",
              "      <th>Personal Loan</th>\n",
              "      <th>Securities Account</th>\n",
              "      <th>CD Account</th>\n",
              "      <th>Online</th>\n",
              "      <th>CreditCard</th>\n",
              "    </tr>\n",
              "  </thead>\n",
              "  <tbody>\n",
              "    <tr>\n",
              "      <th>count</th>\n",
              "      <td>5,000.00</td>\n",
              "      <td>5,000.00</td>\n",
              "      <td>5,000.00</td>\n",
              "      <td>5,000.00</td>\n",
              "      <td>5,000.00</td>\n",
              "      <td>5,000.00</td>\n",
              "      <td>5,000.00</td>\n",
              "      <td>5,000.00</td>\n",
              "      <td>5,000.00</td>\n",
              "      <td>5,000.00</td>\n",
              "      <td>5,000.00</td>\n",
              "      <td>5,000.00</td>\n",
              "      <td>5,000.00</td>\n",
              "      <td>5,000.00</td>\n",
              "    </tr>\n",
              "    <tr>\n",
              "      <th>mean</th>\n",
              "      <td>2,500.50</td>\n",
              "      <td>45.34</td>\n",
              "      <td>20.10</td>\n",
              "      <td>73.77</td>\n",
              "      <td>93,152.50</td>\n",
              "      <td>2.40</td>\n",
              "      <td>1.94</td>\n",
              "      <td>1.88</td>\n",
              "      <td>56.50</td>\n",
              "      <td>0.10</td>\n",
              "      <td>0.10</td>\n",
              "      <td>0.06</td>\n",
              "      <td>0.60</td>\n",
              "      <td>0.29</td>\n",
              "    </tr>\n",
              "    <tr>\n",
              "      <th>std</th>\n",
              "      <td>1,443.52</td>\n",
              "      <td>11.46</td>\n",
              "      <td>11.47</td>\n",
              "      <td>46.03</td>\n",
              "      <td>2,121.85</td>\n",
              "      <td>1.15</td>\n",
              "      <td>1.75</td>\n",
              "      <td>0.84</td>\n",
              "      <td>101.71</td>\n",
              "      <td>0.29</td>\n",
              "      <td>0.31</td>\n",
              "      <td>0.24</td>\n",
              "      <td>0.49</td>\n",
              "      <td>0.46</td>\n",
              "    </tr>\n",
              "    <tr>\n",
              "      <th>min</th>\n",
              "      <td>1.00</td>\n",
              "      <td>23.00</td>\n",
              "      <td>-3.00</td>\n",
              "      <td>8.00</td>\n",
              "      <td>9,307.00</td>\n",
              "      <td>1.00</td>\n",
              "      <td>0.00</td>\n",
              "      <td>1.00</td>\n",
              "      <td>0.00</td>\n",
              "      <td>0.00</td>\n",
              "      <td>0.00</td>\n",
              "      <td>0.00</td>\n",
              "      <td>0.00</td>\n",
              "      <td>0.00</td>\n",
              "    </tr>\n",
              "    <tr>\n",
              "      <th>25%</th>\n",
              "      <td>1,250.75</td>\n",
              "      <td>35.00</td>\n",
              "      <td>10.00</td>\n",
              "      <td>39.00</td>\n",
              "      <td>91,911.00</td>\n",
              "      <td>1.00</td>\n",
              "      <td>0.70</td>\n",
              "      <td>1.00</td>\n",
              "      <td>0.00</td>\n",
              "      <td>0.00</td>\n",
              "      <td>0.00</td>\n",
              "      <td>0.00</td>\n",
              "      <td>0.00</td>\n",
              "      <td>0.00</td>\n",
              "    </tr>\n",
              "    <tr>\n",
              "      <th>50%</th>\n",
              "      <td>2,500.50</td>\n",
              "      <td>45.00</td>\n",
              "      <td>20.00</td>\n",
              "      <td>64.00</td>\n",
              "      <td>93,437.00</td>\n",
              "      <td>2.00</td>\n",
              "      <td>1.50</td>\n",
              "      <td>2.00</td>\n",
              "      <td>0.00</td>\n",
              "      <td>0.00</td>\n",
              "      <td>0.00</td>\n",
              "      <td>0.00</td>\n",
              "      <td>1.00</td>\n",
              "      <td>0.00</td>\n",
              "    </tr>\n",
              "    <tr>\n",
              "      <th>75%</th>\n",
              "      <td>3,750.25</td>\n",
              "      <td>55.00</td>\n",
              "      <td>30.00</td>\n",
              "      <td>98.00</td>\n",
              "      <td>94,608.00</td>\n",
              "      <td>3.00</td>\n",
              "      <td>2.50</td>\n",
              "      <td>3.00</td>\n",
              "      <td>101.00</td>\n",
              "      <td>0.00</td>\n",
              "      <td>0.00</td>\n",
              "      <td>0.00</td>\n",
              "      <td>1.00</td>\n",
              "      <td>1.00</td>\n",
              "    </tr>\n",
              "    <tr>\n",
              "      <th>max</th>\n",
              "      <td>5,000.00</td>\n",
              "      <td>67.00</td>\n",
              "      <td>43.00</td>\n",
              "      <td>224.00</td>\n",
              "      <td>96,651.00</td>\n",
              "      <td>4.00</td>\n",
              "      <td>10.00</td>\n",
              "      <td>3.00</td>\n",
              "      <td>635.00</td>\n",
              "      <td>1.00</td>\n",
              "      <td>1.00</td>\n",
              "      <td>1.00</td>\n",
              "      <td>1.00</td>\n",
              "      <td>1.00</td>\n",
              "    </tr>\n",
              "  </tbody>\n",
              "</table>\n",
              "</div>"
            ],
            "text/plain": [
              "            ID      Age  Experience   Income  ZIP Code   Family    CCAvg  \\\n",
              "count 5,000.00 5,000.00    5,000.00 5,000.00  5,000.00 5,000.00 5,000.00   \n",
              "mean  2,500.50    45.34       20.10    73.77 93,152.50     2.40     1.94   \n",
              "std   1,443.52    11.46       11.47    46.03  2,121.85     1.15     1.75   \n",
              "min       1.00    23.00       -3.00     8.00  9,307.00     1.00     0.00   \n",
              "25%   1,250.75    35.00       10.00    39.00 91,911.00     1.00     0.70   \n",
              "50%   2,500.50    45.00       20.00    64.00 93,437.00     2.00     1.50   \n",
              "75%   3,750.25    55.00       30.00    98.00 94,608.00     3.00     2.50   \n",
              "max   5,000.00    67.00       43.00   224.00 96,651.00     4.00    10.00   \n",
              "\n",
              "       Education  Mortgage  Personal Loan  Securities Account  CD Account  \\\n",
              "count   5,000.00  5,000.00       5,000.00            5,000.00    5,000.00   \n",
              "mean        1.88     56.50           0.10                0.10        0.06   \n",
              "std         0.84    101.71           0.29                0.31        0.24   \n",
              "min         1.00      0.00           0.00                0.00        0.00   \n",
              "25%         1.00      0.00           0.00                0.00        0.00   \n",
              "50%         2.00      0.00           0.00                0.00        0.00   \n",
              "75%         3.00    101.00           0.00                0.00        0.00   \n",
              "max         3.00    635.00           1.00                1.00        1.00   \n",
              "\n",
              "        Online  CreditCard  \n",
              "count 5,000.00    5,000.00  \n",
              "mean      0.60        0.29  \n",
              "std       0.49        0.46  \n",
              "min       0.00        0.00  \n",
              "25%       0.00        0.00  \n",
              "50%       1.00        0.00  \n",
              "75%       1.00        1.00  \n",
              "max       1.00        1.00  "
            ]
          },
          "metadata": {
            "tags": []
          },
          "execution_count": 8
        }
      ]
    },
    {
      "cell_type": "code",
      "metadata": {
        "id": "vEsevZkURMjR",
        "colab_type": "code",
        "colab": {
          "base_uri": "https://localhost:8080/",
          "height": 354
        },
        "outputId": "8f92baf1-904c-4b7e-f24b-d8ca0f4b86ac"
      },
      "source": [
        "# from pandas_profiling import ProfileReport\n",
        "# prof = ProfileReport(data)\n",
        "# prof.to_file(\"profile.html\")"
      ],
      "execution_count": null,
      "outputs": [
        {
          "output_type": "error",
          "ename": "TypeError",
          "evalue": "ignored",
          "traceback": [
            "\u001b[0;31m---------------------------------------------------------------------------\u001b[0m",
            "\u001b[0;31mTypeError\u001b[0m                                 Traceback (most recent call last)",
            "\u001b[0;32m<ipython-input-9-648157afe07f>\u001b[0m in \u001b[0;36m<module>\u001b[0;34m()\u001b[0m\n\u001b[1;32m      1\u001b[0m \u001b[0;32mfrom\u001b[0m \u001b[0mpandas_profiling\u001b[0m \u001b[0;32mimport\u001b[0m \u001b[0mProfileReport\u001b[0m\u001b[0;34m\u001b[0m\u001b[0;34m\u001b[0m\u001b[0m\n\u001b[0;32m----> 2\u001b[0;31m \u001b[0mprof\u001b[0m \u001b[0;34m=\u001b[0m \u001b[0mProfileReport\u001b[0m\u001b[0;34m(\u001b[0m\u001b[0mdata\u001b[0m\u001b[0;34m)\u001b[0m\u001b[0;34m\u001b[0m\u001b[0;34m\u001b[0m\u001b[0m\n\u001b[0m\u001b[1;32m      3\u001b[0m \u001b[0mprof\u001b[0m\u001b[0;34m.\u001b[0m\u001b[0mto_file\u001b[0m\u001b[0;34m(\u001b[0m\u001b[0;34m\"profile.html\"\u001b[0m\u001b[0;34m)\u001b[0m\u001b[0;34m\u001b[0m\u001b[0;34m\u001b[0m\u001b[0m\n",
            "\u001b[0;32m/usr/local/lib/python3.6/dist-packages/pandas_profiling/__init__.py\u001b[0m in \u001b[0;36m__init__\u001b[0;34m(self, df, **kwargs)\u001b[0m\n\u001b[1;32m     64\u001b[0m         \u001b[0msample\u001b[0m \u001b[0;34m=\u001b[0m \u001b[0mkwargs\u001b[0m\u001b[0;34m.\u001b[0m\u001b[0mget\u001b[0m\u001b[0;34m(\u001b[0m\u001b[0;34m'sample'\u001b[0m\u001b[0;34m,\u001b[0m \u001b[0mdf\u001b[0m\u001b[0;34m.\u001b[0m\u001b[0mhead\u001b[0m\u001b[0;34m(\u001b[0m\u001b[0;34m)\u001b[0m\u001b[0;34m)\u001b[0m\u001b[0;34m\u001b[0m\u001b[0;34m\u001b[0m\u001b[0m\n\u001b[1;32m     65\u001b[0m \u001b[0;34m\u001b[0m\u001b[0m\n\u001b[0;32m---> 66\u001b[0;31m         \u001b[0mdescription_set\u001b[0m \u001b[0;34m=\u001b[0m \u001b[0mdescribe\u001b[0m\u001b[0;34m(\u001b[0m\u001b[0mdf\u001b[0m\u001b[0;34m,\u001b[0m \u001b[0;34m**\u001b[0m\u001b[0mkwargs\u001b[0m\u001b[0;34m)\u001b[0m\u001b[0;34m\u001b[0m\u001b[0;34m\u001b[0m\u001b[0m\n\u001b[0m\u001b[1;32m     67\u001b[0m \u001b[0;34m\u001b[0m\u001b[0m\n\u001b[1;32m     68\u001b[0m         self.html = to_html(sample,\n",
            "\u001b[0;32m/usr/local/lib/python3.6/dist-packages/pandas_profiling/describe.py\u001b[0m in \u001b[0;36mdescribe\u001b[0;34m(df, bins, check_correlation, correlation_threshold, correlation_overrides, check_recoded, pool_size, **kwargs)\u001b[0m\n\u001b[1;32m    390\u001b[0m             \u001b[0;32mif\u001b[0m \u001b[0mname\u001b[0m \u001b[0;32mnot\u001b[0m \u001b[0;32min\u001b[0m \u001b[0mnames\u001b[0m\u001b[0;34m:\u001b[0m\u001b[0;34m\u001b[0m\u001b[0;34m\u001b[0m\u001b[0m\n\u001b[1;32m    391\u001b[0m                 \u001b[0mnames\u001b[0m\u001b[0;34m.\u001b[0m\u001b[0mappend\u001b[0m\u001b[0;34m(\u001b[0m\u001b[0mname\u001b[0m\u001b[0;34m)\u001b[0m\u001b[0;34m\u001b[0m\u001b[0;34m\u001b[0m\u001b[0m\n\u001b[0;32m--> 392\u001b[0;31m     \u001b[0mvariable_stats\u001b[0m \u001b[0;34m=\u001b[0m \u001b[0mpd\u001b[0m\u001b[0;34m.\u001b[0m\u001b[0mconcat\u001b[0m\u001b[0;34m(\u001b[0m\u001b[0mldesc\u001b[0m\u001b[0;34m,\u001b[0m \u001b[0mjoin_axes\u001b[0m\u001b[0;34m=\u001b[0m\u001b[0mpd\u001b[0m\u001b[0;34m.\u001b[0m\u001b[0mIndex\u001b[0m\u001b[0;34m(\u001b[0m\u001b[0;34m[\u001b[0m\u001b[0mnames\u001b[0m\u001b[0;34m]\u001b[0m\u001b[0;34m)\u001b[0m\u001b[0;34m,\u001b[0m \u001b[0maxis\u001b[0m\u001b[0;34m=\u001b[0m\u001b[0;36m1\u001b[0m\u001b[0;34m)\u001b[0m\u001b[0;34m\u001b[0m\u001b[0;34m\u001b[0m\u001b[0m\n\u001b[0m\u001b[1;32m    393\u001b[0m     \u001b[0mvariable_stats\u001b[0m\u001b[0;34m.\u001b[0m\u001b[0mcolumns\u001b[0m\u001b[0;34m.\u001b[0m\u001b[0mnames\u001b[0m \u001b[0;34m=\u001b[0m \u001b[0mdf\u001b[0m\u001b[0;34m.\u001b[0m\u001b[0mcolumns\u001b[0m\u001b[0;34m.\u001b[0m\u001b[0mnames\u001b[0m\u001b[0;34m\u001b[0m\u001b[0;34m\u001b[0m\u001b[0m\n\u001b[1;32m    394\u001b[0m \u001b[0;34m\u001b[0m\u001b[0m\n",
            "\u001b[0;31mTypeError\u001b[0m: concat() got an unexpected keyword argument 'join_axes'"
          ]
        }
      ]
    },
    {
      "cell_type": "markdown",
      "metadata": {
        "id": "ugpIQ4nVxNAz",
        "colab_type": "text"
      },
      "source": [
        "# Checking for Null Values\n",
        "### There were none\n"
      ]
    },
    {
      "cell_type": "code",
      "metadata": {
        "id": "rdT6uyrHRSKe",
        "colab_type": "code",
        "colab": {
          "base_uri": "https://localhost:8080/",
          "height": 269
        },
        "outputId": "fcd2c537-33d1-4d79-d6d0-dcc1b1db7c40"
      },
      "source": [
        "data.isnull().sum()"
      ],
      "execution_count": null,
      "outputs": [
        {
          "output_type": "execute_result",
          "data": {
            "text/plain": [
              "ID                    0\n",
              "Age                   0\n",
              "Experience            0\n",
              "Income                0\n",
              "ZIP Code              0\n",
              "Family                0\n",
              "CCAvg                 0\n",
              "Education             0\n",
              "Mortgage              0\n",
              "Personal Loan         0\n",
              "Securities Account    0\n",
              "CD Account            0\n",
              "Online                0\n",
              "CreditCard            0\n",
              "dtype: int64"
            ]
          },
          "metadata": {
            "tags": []
          },
          "execution_count": 10
        }
      ]
    },
    {
      "cell_type": "markdown",
      "metadata": {
        "id": "o3SyYQjix0L6",
        "colab_type": "text"
      },
      "source": [
        "# Checking For Incorrect Values"
      ]
    },
    {
      "cell_type": "code",
      "metadata": {
        "id": "ZFGQUDDfyOjH",
        "colab_type": "code",
        "colab": {
          "base_uri": "https://localhost:8080/",
          "height": 321
        },
        "outputId": "62eda5c2-c0a6-4dc4-e4e1-abed3bad11b0"
      },
      "source": [
        "data.describe()"
      ],
      "execution_count": null,
      "outputs": [
        {
          "output_type": "execute_result",
          "data": {
            "text/html": [
              "<div>\n",
              "<style scoped>\n",
              "    .dataframe tbody tr th:only-of-type {\n",
              "        vertical-align: middle;\n",
              "    }\n",
              "\n",
              "    .dataframe tbody tr th {\n",
              "        vertical-align: top;\n",
              "    }\n",
              "\n",
              "    .dataframe thead th {\n",
              "        text-align: right;\n",
              "    }\n",
              "</style>\n",
              "<table border=\"1\" class=\"dataframe\">\n",
              "  <thead>\n",
              "    <tr style=\"text-align: right;\">\n",
              "      <th></th>\n",
              "      <th>ID</th>\n",
              "      <th>Age</th>\n",
              "      <th>Experience</th>\n",
              "      <th>Income</th>\n",
              "      <th>ZIP Code</th>\n",
              "      <th>Family</th>\n",
              "      <th>CCAvg</th>\n",
              "      <th>Education</th>\n",
              "      <th>Mortgage</th>\n",
              "      <th>Personal Loan</th>\n",
              "      <th>Securities Account</th>\n",
              "      <th>CD Account</th>\n",
              "      <th>Online</th>\n",
              "      <th>CreditCard</th>\n",
              "    </tr>\n",
              "  </thead>\n",
              "  <tbody>\n",
              "    <tr>\n",
              "      <th>count</th>\n",
              "      <td>5,000.00</td>\n",
              "      <td>5,000.00</td>\n",
              "      <td>5,000.00</td>\n",
              "      <td>5,000.00</td>\n",
              "      <td>5,000.00</td>\n",
              "      <td>5,000.00</td>\n",
              "      <td>5,000.00</td>\n",
              "      <td>5,000.00</td>\n",
              "      <td>5,000.00</td>\n",
              "      <td>5,000.00</td>\n",
              "      <td>5,000.00</td>\n",
              "      <td>5,000.00</td>\n",
              "      <td>5,000.00</td>\n",
              "      <td>5,000.00</td>\n",
              "    </tr>\n",
              "    <tr>\n",
              "      <th>mean</th>\n",
              "      <td>2,500.50</td>\n",
              "      <td>45.34</td>\n",
              "      <td>20.10</td>\n",
              "      <td>73.77</td>\n",
              "      <td>93,152.50</td>\n",
              "      <td>2.40</td>\n",
              "      <td>1.94</td>\n",
              "      <td>1.88</td>\n",
              "      <td>56.50</td>\n",
              "      <td>0.10</td>\n",
              "      <td>0.10</td>\n",
              "      <td>0.06</td>\n",
              "      <td>0.60</td>\n",
              "      <td>0.29</td>\n",
              "    </tr>\n",
              "    <tr>\n",
              "      <th>std</th>\n",
              "      <td>1,443.52</td>\n",
              "      <td>11.46</td>\n",
              "      <td>11.47</td>\n",
              "      <td>46.03</td>\n",
              "      <td>2,121.85</td>\n",
              "      <td>1.15</td>\n",
              "      <td>1.75</td>\n",
              "      <td>0.84</td>\n",
              "      <td>101.71</td>\n",
              "      <td>0.29</td>\n",
              "      <td>0.31</td>\n",
              "      <td>0.24</td>\n",
              "      <td>0.49</td>\n",
              "      <td>0.46</td>\n",
              "    </tr>\n",
              "    <tr>\n",
              "      <th>min</th>\n",
              "      <td>1.00</td>\n",
              "      <td>23.00</td>\n",
              "      <td>-3.00</td>\n",
              "      <td>8.00</td>\n",
              "      <td>9,307.00</td>\n",
              "      <td>1.00</td>\n",
              "      <td>0.00</td>\n",
              "      <td>1.00</td>\n",
              "      <td>0.00</td>\n",
              "      <td>0.00</td>\n",
              "      <td>0.00</td>\n",
              "      <td>0.00</td>\n",
              "      <td>0.00</td>\n",
              "      <td>0.00</td>\n",
              "    </tr>\n",
              "    <tr>\n",
              "      <th>25%</th>\n",
              "      <td>1,250.75</td>\n",
              "      <td>35.00</td>\n",
              "      <td>10.00</td>\n",
              "      <td>39.00</td>\n",
              "      <td>91,911.00</td>\n",
              "      <td>1.00</td>\n",
              "      <td>0.70</td>\n",
              "      <td>1.00</td>\n",
              "      <td>0.00</td>\n",
              "      <td>0.00</td>\n",
              "      <td>0.00</td>\n",
              "      <td>0.00</td>\n",
              "      <td>0.00</td>\n",
              "      <td>0.00</td>\n",
              "    </tr>\n",
              "    <tr>\n",
              "      <th>50%</th>\n",
              "      <td>2,500.50</td>\n",
              "      <td>45.00</td>\n",
              "      <td>20.00</td>\n",
              "      <td>64.00</td>\n",
              "      <td>93,437.00</td>\n",
              "      <td>2.00</td>\n",
              "      <td>1.50</td>\n",
              "      <td>2.00</td>\n",
              "      <td>0.00</td>\n",
              "      <td>0.00</td>\n",
              "      <td>0.00</td>\n",
              "      <td>0.00</td>\n",
              "      <td>1.00</td>\n",
              "      <td>0.00</td>\n",
              "    </tr>\n",
              "    <tr>\n",
              "      <th>75%</th>\n",
              "      <td>3,750.25</td>\n",
              "      <td>55.00</td>\n",
              "      <td>30.00</td>\n",
              "      <td>98.00</td>\n",
              "      <td>94,608.00</td>\n",
              "      <td>3.00</td>\n",
              "      <td>2.50</td>\n",
              "      <td>3.00</td>\n",
              "      <td>101.00</td>\n",
              "      <td>0.00</td>\n",
              "      <td>0.00</td>\n",
              "      <td>0.00</td>\n",
              "      <td>1.00</td>\n",
              "      <td>1.00</td>\n",
              "    </tr>\n",
              "    <tr>\n",
              "      <th>max</th>\n",
              "      <td>5,000.00</td>\n",
              "      <td>67.00</td>\n",
              "      <td>43.00</td>\n",
              "      <td>224.00</td>\n",
              "      <td>96,651.00</td>\n",
              "      <td>4.00</td>\n",
              "      <td>10.00</td>\n",
              "      <td>3.00</td>\n",
              "      <td>635.00</td>\n",
              "      <td>1.00</td>\n",
              "      <td>1.00</td>\n",
              "      <td>1.00</td>\n",
              "      <td>1.00</td>\n",
              "      <td>1.00</td>\n",
              "    </tr>\n",
              "  </tbody>\n",
              "</table>\n",
              "</div>"
            ],
            "text/plain": [
              "            ID      Age  Experience   Income  ZIP Code   Family    CCAvg  \\\n",
              "count 5,000.00 5,000.00    5,000.00 5,000.00  5,000.00 5,000.00 5,000.00   \n",
              "mean  2,500.50    45.34       20.10    73.77 93,152.50     2.40     1.94   \n",
              "std   1,443.52    11.46       11.47    46.03  2,121.85     1.15     1.75   \n",
              "min       1.00    23.00       -3.00     8.00  9,307.00     1.00     0.00   \n",
              "25%   1,250.75    35.00       10.00    39.00 91,911.00     1.00     0.70   \n",
              "50%   2,500.50    45.00       20.00    64.00 93,437.00     2.00     1.50   \n",
              "75%   3,750.25    55.00       30.00    98.00 94,608.00     3.00     2.50   \n",
              "max   5,000.00    67.00       43.00   224.00 96,651.00     4.00    10.00   \n",
              "\n",
              "       Education  Mortgage  Personal Loan  Securities Account  CD Account  \\\n",
              "count   5,000.00  5,000.00       5,000.00            5,000.00    5,000.00   \n",
              "mean        1.88     56.50           0.10                0.10        0.06   \n",
              "std         0.84    101.71           0.29                0.31        0.24   \n",
              "min         1.00      0.00           0.00                0.00        0.00   \n",
              "25%         1.00      0.00           0.00                0.00        0.00   \n",
              "50%         2.00      0.00           0.00                0.00        0.00   \n",
              "75%         3.00    101.00           0.00                0.00        0.00   \n",
              "max         3.00    635.00           1.00                1.00        1.00   \n",
              "\n",
              "        Online  CreditCard  \n",
              "count 5,000.00    5,000.00  \n",
              "mean      0.60        0.29  \n",
              "std       0.49        0.46  \n",
              "min       0.00        0.00  \n",
              "25%       0.00        0.00  \n",
              "50%       1.00        0.00  \n",
              "75%       1.00        1.00  \n",
              "max       1.00        1.00  "
            ]
          },
          "metadata": {
            "tags": []
          },
          "execution_count": 11
        }
      ]
    },
    {
      "cell_type": "markdown",
      "metadata": {
        "id": "8XKUOE9vyVfM",
        "colab_type": "text"
      },
      "source": [
        "### Incorrect values are in experience as it connot be negative"
      ]
    },
    {
      "cell_type": "code",
      "metadata": {
        "id": "9cqagRGky81d",
        "colab_type": "code",
        "colab": {
          "base_uri": "https://localhost:8080/",
          "height": 101
        },
        "outputId": "62f7f3f1-e1b9-4840-9e5c-86278c08ab67"
      },
      "source": [
        "for i,k in enumerate(data[\"Experience\"]):\n",
        "    if k < 0:\n",
        "        data[\"Experience\"][i] = 0"
      ],
      "execution_count": null,
      "outputs": [
        {
          "output_type": "stream",
          "text": [
            "/usr/local/lib/python3.6/dist-packages/ipykernel_launcher.py:3: SettingWithCopyWarning: \n",
            "A value is trying to be set on a copy of a slice from a DataFrame\n",
            "\n",
            "See the caveats in the documentation: https://pandas.pydata.org/pandas-docs/stable/user_guide/indexing.html#returning-a-view-versus-a-copy\n",
            "  This is separate from the ipykernel package so we can avoid doing imports until\n"
          ],
          "name": "stderr"
        }
      ]
    },
    {
      "cell_type": "code",
      "metadata": {
        "id": "_Rxwm5cZ1X4a",
        "colab_type": "code",
        "colab": {
          "base_uri": "https://localhost:8080/",
          "height": 84
        },
        "outputId": "241d9124-7995-46b6-dc18-0e07d78610a8"
      },
      "source": [
        "data.columns"
      ],
      "execution_count": null,
      "outputs": [
        {
          "output_type": "execute_result",
          "data": {
            "text/plain": [
              "Index(['ID', 'Age', 'Experience', 'Income', 'ZIP Code', 'Family', 'CCAvg',\n",
              "       'Education', 'Mortgage', 'Personal Loan', 'Securities Account',\n",
              "       'CD Account', 'Online', 'CreditCard'],\n",
              "      dtype='object')"
            ]
          },
          "metadata": {
            "tags": []
          },
          "execution_count": 13
        }
      ]
    },
    {
      "cell_type": "markdown",
      "metadata": {
        "id": "92QPz-WS1G5N",
        "colab_type": "text"
      },
      "source": [
        "# Corrected the Experience Values"
      ]
    },
    {
      "cell_type": "code",
      "metadata": {
        "id": "VVjUw4911C5g",
        "colab_type": "code",
        "colab": {
          "base_uri": "https://localhost:8080/",
          "height": 321
        },
        "outputId": "84b827f3-2064-444f-daa0-bbcce48c200c"
      },
      "source": [
        "data.describe()"
      ],
      "execution_count": null,
      "outputs": [
        {
          "output_type": "execute_result",
          "data": {
            "text/html": [
              "<div>\n",
              "<style scoped>\n",
              "    .dataframe tbody tr th:only-of-type {\n",
              "        vertical-align: middle;\n",
              "    }\n",
              "\n",
              "    .dataframe tbody tr th {\n",
              "        vertical-align: top;\n",
              "    }\n",
              "\n",
              "    .dataframe thead th {\n",
              "        text-align: right;\n",
              "    }\n",
              "</style>\n",
              "<table border=\"1\" class=\"dataframe\">\n",
              "  <thead>\n",
              "    <tr style=\"text-align: right;\">\n",
              "      <th></th>\n",
              "      <th>ID</th>\n",
              "      <th>Age</th>\n",
              "      <th>Experience</th>\n",
              "      <th>Income</th>\n",
              "      <th>ZIP Code</th>\n",
              "      <th>Family</th>\n",
              "      <th>CCAvg</th>\n",
              "      <th>Education</th>\n",
              "      <th>Mortgage</th>\n",
              "      <th>Personal Loan</th>\n",
              "      <th>Securities Account</th>\n",
              "      <th>CD Account</th>\n",
              "      <th>Online</th>\n",
              "      <th>CreditCard</th>\n",
              "    </tr>\n",
              "  </thead>\n",
              "  <tbody>\n",
              "    <tr>\n",
              "      <th>count</th>\n",
              "      <td>5,000.00</td>\n",
              "      <td>5,000.00</td>\n",
              "      <td>5,000.00</td>\n",
              "      <td>5,000.00</td>\n",
              "      <td>5,000.00</td>\n",
              "      <td>5,000.00</td>\n",
              "      <td>5,000.00</td>\n",
              "      <td>5,000.00</td>\n",
              "      <td>5,000.00</td>\n",
              "      <td>5,000.00</td>\n",
              "      <td>5,000.00</td>\n",
              "      <td>5,000.00</td>\n",
              "      <td>5,000.00</td>\n",
              "      <td>5,000.00</td>\n",
              "    </tr>\n",
              "    <tr>\n",
              "      <th>mean</th>\n",
              "      <td>2,500.50</td>\n",
              "      <td>45.34</td>\n",
              "      <td>20.12</td>\n",
              "      <td>73.77</td>\n",
              "      <td>93,152.50</td>\n",
              "      <td>2.40</td>\n",
              "      <td>1.94</td>\n",
              "      <td>1.88</td>\n",
              "      <td>56.50</td>\n",
              "      <td>0.10</td>\n",
              "      <td>0.10</td>\n",
              "      <td>0.06</td>\n",
              "      <td>0.60</td>\n",
              "      <td>0.29</td>\n",
              "    </tr>\n",
              "    <tr>\n",
              "      <th>std</th>\n",
              "      <td>1,443.52</td>\n",
              "      <td>11.46</td>\n",
              "      <td>11.44</td>\n",
              "      <td>46.03</td>\n",
              "      <td>2,121.85</td>\n",
              "      <td>1.15</td>\n",
              "      <td>1.75</td>\n",
              "      <td>0.84</td>\n",
              "      <td>101.71</td>\n",
              "      <td>0.29</td>\n",
              "      <td>0.31</td>\n",
              "      <td>0.24</td>\n",
              "      <td>0.49</td>\n",
              "      <td>0.46</td>\n",
              "    </tr>\n",
              "    <tr>\n",
              "      <th>min</th>\n",
              "      <td>1.00</td>\n",
              "      <td>23.00</td>\n",
              "      <td>0.00</td>\n",
              "      <td>8.00</td>\n",
              "      <td>9,307.00</td>\n",
              "      <td>1.00</td>\n",
              "      <td>0.00</td>\n",
              "      <td>1.00</td>\n",
              "      <td>0.00</td>\n",
              "      <td>0.00</td>\n",
              "      <td>0.00</td>\n",
              "      <td>0.00</td>\n",
              "      <td>0.00</td>\n",
              "      <td>0.00</td>\n",
              "    </tr>\n",
              "    <tr>\n",
              "      <th>25%</th>\n",
              "      <td>1,250.75</td>\n",
              "      <td>35.00</td>\n",
              "      <td>10.00</td>\n",
              "      <td>39.00</td>\n",
              "      <td>91,911.00</td>\n",
              "      <td>1.00</td>\n",
              "      <td>0.70</td>\n",
              "      <td>1.00</td>\n",
              "      <td>0.00</td>\n",
              "      <td>0.00</td>\n",
              "      <td>0.00</td>\n",
              "      <td>0.00</td>\n",
              "      <td>0.00</td>\n",
              "      <td>0.00</td>\n",
              "    </tr>\n",
              "    <tr>\n",
              "      <th>50%</th>\n",
              "      <td>2,500.50</td>\n",
              "      <td>45.00</td>\n",
              "      <td>20.00</td>\n",
              "      <td>64.00</td>\n",
              "      <td>93,437.00</td>\n",
              "      <td>2.00</td>\n",
              "      <td>1.50</td>\n",
              "      <td>2.00</td>\n",
              "      <td>0.00</td>\n",
              "      <td>0.00</td>\n",
              "      <td>0.00</td>\n",
              "      <td>0.00</td>\n",
              "      <td>1.00</td>\n",
              "      <td>0.00</td>\n",
              "    </tr>\n",
              "    <tr>\n",
              "      <th>75%</th>\n",
              "      <td>3,750.25</td>\n",
              "      <td>55.00</td>\n",
              "      <td>30.00</td>\n",
              "      <td>98.00</td>\n",
              "      <td>94,608.00</td>\n",
              "      <td>3.00</td>\n",
              "      <td>2.50</td>\n",
              "      <td>3.00</td>\n",
              "      <td>101.00</td>\n",
              "      <td>0.00</td>\n",
              "      <td>0.00</td>\n",
              "      <td>0.00</td>\n",
              "      <td>1.00</td>\n",
              "      <td>1.00</td>\n",
              "    </tr>\n",
              "    <tr>\n",
              "      <th>max</th>\n",
              "      <td>5,000.00</td>\n",
              "      <td>67.00</td>\n",
              "      <td>43.00</td>\n",
              "      <td>224.00</td>\n",
              "      <td>96,651.00</td>\n",
              "      <td>4.00</td>\n",
              "      <td>10.00</td>\n",
              "      <td>3.00</td>\n",
              "      <td>635.00</td>\n",
              "      <td>1.00</td>\n",
              "      <td>1.00</td>\n",
              "      <td>1.00</td>\n",
              "      <td>1.00</td>\n",
              "      <td>1.00</td>\n",
              "    </tr>\n",
              "  </tbody>\n",
              "</table>\n",
              "</div>"
            ],
            "text/plain": [
              "            ID      Age  Experience   Income  ZIP Code   Family    CCAvg  \\\n",
              "count 5,000.00 5,000.00    5,000.00 5,000.00  5,000.00 5,000.00 5,000.00   \n",
              "mean  2,500.50    45.34       20.12    73.77 93,152.50     2.40     1.94   \n",
              "std   1,443.52    11.46       11.44    46.03  2,121.85     1.15     1.75   \n",
              "min       1.00    23.00        0.00     8.00  9,307.00     1.00     0.00   \n",
              "25%   1,250.75    35.00       10.00    39.00 91,911.00     1.00     0.70   \n",
              "50%   2,500.50    45.00       20.00    64.00 93,437.00     2.00     1.50   \n",
              "75%   3,750.25    55.00       30.00    98.00 94,608.00     3.00     2.50   \n",
              "max   5,000.00    67.00       43.00   224.00 96,651.00     4.00    10.00   \n",
              "\n",
              "       Education  Mortgage  Personal Loan  Securities Account  CD Account  \\\n",
              "count   5,000.00  5,000.00       5,000.00            5,000.00    5,000.00   \n",
              "mean        1.88     56.50           0.10                0.10        0.06   \n",
              "std         0.84    101.71           0.29                0.31        0.24   \n",
              "min         1.00      0.00           0.00                0.00        0.00   \n",
              "25%         1.00      0.00           0.00                0.00        0.00   \n",
              "50%         2.00      0.00           0.00                0.00        0.00   \n",
              "75%         3.00    101.00           0.00                0.00        0.00   \n",
              "max         3.00    635.00           1.00                1.00        1.00   \n",
              "\n",
              "        Online  CreditCard  \n",
              "count 5,000.00    5,000.00  \n",
              "mean      0.60        0.29  \n",
              "std       0.49        0.46  \n",
              "min       0.00        0.00  \n",
              "25%       0.00        0.00  \n",
              "50%       1.00        0.00  \n",
              "75%       1.00        1.00  \n",
              "max       1.00        1.00  "
            ]
          },
          "metadata": {
            "tags": []
          },
          "execution_count": 14
        }
      ]
    },
    {
      "cell_type": "markdown",
      "metadata": {
        "id": "2htK9Rdj2lRT",
        "colab_type": "text"
      },
      "source": [
        "# Unique value in each column"
      ]
    },
    {
      "cell_type": "code",
      "metadata": {
        "id": "AOKEgcJp2dqw",
        "colab_type": "code",
        "colab": {
          "base_uri": "https://localhost:8080/",
          "height": 252
        },
        "outputId": "2d3d3db3-a61c-4062-d2dd-19ee6f621cd8"
      },
      "source": [
        "for i in list( data.columns):\n",
        "    print(i,data[i].nunique())"
      ],
      "execution_count": null,
      "outputs": [
        {
          "output_type": "stream",
          "text": [
            "ID 5000\n",
            "Age 45\n",
            "Experience 44\n",
            "Income 162\n",
            "ZIP Code 467\n",
            "Family 4\n",
            "CCAvg 108\n",
            "Education 3\n",
            "Mortgage 347\n",
            "Personal Loan 2\n",
            "Securities Account 2\n",
            "CD Account 2\n",
            "Online 2\n",
            "CreditCard 2\n"
          ],
          "name": "stdout"
        }
      ]
    },
    {
      "cell_type": "code",
      "metadata": {
        "id": "8tvBWP2034-H",
        "colab_type": "code",
        "colab": {}
      },
      "source": [
        ""
      ],
      "execution_count": null,
      "outputs": []
    },
    {
      "cell_type": "markdown",
      "metadata": {
        "id": "oJ_DkzUf36Fw",
        "colab_type": "text"
      },
      "source": [
        "# Number Of People with 0 Mortgage"
      ]
    },
    {
      "cell_type": "code",
      "metadata": {
        "id": "DvtDlhtj3OVN",
        "colab_type": "code",
        "colab": {
          "base_uri": "https://localhost:8080/",
          "height": 34
        },
        "outputId": "bda2ed93-488b-4892-f2b6-1568d4740122"
      },
      "source": [
        "(data[\"Mortgage\"] == 0).sum()"
      ],
      "execution_count": null,
      "outputs": [
        {
          "output_type": "execute_result",
          "data": {
            "text/plain": [
              "3462"
            ]
          },
          "metadata": {
            "tags": []
          },
          "execution_count": 16
        }
      ]
    },
    {
      "cell_type": "markdown",
      "metadata": {
        "id": "URWIX1bX4ic1",
        "colab_type": "text"
      },
      "source": [
        "# Number of people 0 credit card spending"
      ]
    },
    {
      "cell_type": "code",
      "metadata": {
        "id": "E-K2J6wh4E3v",
        "colab_type": "code",
        "colab": {
          "base_uri": "https://localhost:8080/",
          "height": 34
        },
        "outputId": "b5e48297-a251-4642-97f3-2b9d961a8e5e"
      },
      "source": [
        "(data[\"CCAvg\"] == 0).sum()"
      ],
      "execution_count": null,
      "outputs": [
        {
          "output_type": "execute_result",
          "data": {
            "text/plain": [
              "106"
            ]
          },
          "metadata": {
            "tags": []
          },
          "execution_count": 17
        }
      ]
    },
    {
      "cell_type": "code",
      "metadata": {
        "id": "gT5nkY_XRnrz",
        "colab_type": "code",
        "colab": {}
      },
      "source": [
        "data.drop(\"ID\", axis = 1, inplace= True)"
      ],
      "execution_count": null,
      "outputs": []
    },
    {
      "cell_type": "code",
      "metadata": {
        "id": "7Vbu-6mkTxnV",
        "colab_type": "code",
        "colab": {}
      },
      "source": [
        "data.drop(\"ZIP Code\", axis = 1, inplace= True)"
      ],
      "execution_count": null,
      "outputs": []
    },
    {
      "cell_type": "markdown",
      "metadata": {
        "id": "v6ThaHz515X7",
        "colab_type": "text"
      },
      "source": [
        "# Value Counts of diffrent categorical variable"
      ]
    },
    {
      "cell_type": "code",
      "metadata": {
        "id": "bIVtac1PSBzt",
        "colab_type": "code",
        "colab": {
          "base_uri": "https://localhost:8080/",
          "height": 538
        },
        "outputId": "34a52585-a411-4835-d30d-adfaa870fc29"
      },
      "source": [
        "for i in list(  ['Family',\n",
        "       'Education',  'Personal Loan', 'Securities Account',\n",
        "       'CD Account', 'Online', 'CreditCard']):\n",
        "    print(data[i].value_counts())\n",
        "    print()"
      ],
      "execution_count": null,
      "outputs": [
        {
          "output_type": "stream",
          "text": [
            "1    1472\n",
            "2    1296\n",
            "4    1222\n",
            "3    1010\n",
            "Name: Family, dtype: int64\n",
            "\n",
            "1    2096\n",
            "3    1501\n",
            "2    1403\n",
            "Name: Education, dtype: int64\n",
            "\n",
            "0    4520\n",
            "1     480\n",
            "Name: Personal Loan, dtype: int64\n",
            "\n",
            "0    4478\n",
            "1     522\n",
            "Name: Securities Account, dtype: int64\n",
            "\n",
            "0    4698\n",
            "1     302\n",
            "Name: CD Account, dtype: int64\n",
            "\n",
            "1    2984\n",
            "0    2016\n",
            "Name: Online, dtype: int64\n",
            "\n",
            "0    3530\n",
            "1    1470\n",
            "Name: CreditCard, dtype: int64\n",
            "\n"
          ],
          "name": "stdout"
        }
      ]
    },
    {
      "cell_type": "code",
      "metadata": {
        "id": "vBXQFMyW47lN",
        "colab_type": "code",
        "colab": {
          "base_uri": "https://localhost:8080/",
          "height": 195
        },
        "outputId": "149cd02c-5602-4ff1-d800-3fa77cdc5a24"
      },
      "source": [
        "pd.pivot_table(data , values=\"Personal Loan\", index = \"Family\",columns=\"Education\", aggfunc=\"sum\")"
      ],
      "execution_count": null,
      "outputs": [
        {
          "output_type": "execute_result",
          "data": {
            "text/html": [
              "<div>\n",
              "<style scoped>\n",
              "    .dataframe tbody tr th:only-of-type {\n",
              "        vertical-align: middle;\n",
              "    }\n",
              "\n",
              "    .dataframe tbody tr th {\n",
              "        vertical-align: top;\n",
              "    }\n",
              "\n",
              "    .dataframe thead th {\n",
              "        text-align: right;\n",
              "    }\n",
              "</style>\n",
              "<table border=\"1\" class=\"dataframe\">\n",
              "  <thead>\n",
              "    <tr style=\"text-align: right;\">\n",
              "      <th>Education</th>\n",
              "      <th>1</th>\n",
              "      <th>2</th>\n",
              "      <th>3</th>\n",
              "    </tr>\n",
              "    <tr>\n",
              "      <th>Family</th>\n",
              "      <th></th>\n",
              "      <th></th>\n",
              "      <th></th>\n",
              "    </tr>\n",
              "  </thead>\n",
              "  <tbody>\n",
              "    <tr>\n",
              "      <th>1</th>\n",
              "      <td>9</td>\n",
              "      <td>40</td>\n",
              "      <td>58</td>\n",
              "    </tr>\n",
              "    <tr>\n",
              "      <th>2</th>\n",
              "      <td>4</td>\n",
              "      <td>50</td>\n",
              "      <td>52</td>\n",
              "    </tr>\n",
              "    <tr>\n",
              "      <th>3</th>\n",
              "      <td>40</td>\n",
              "      <td>44</td>\n",
              "      <td>49</td>\n",
              "    </tr>\n",
              "    <tr>\n",
              "      <th>4</th>\n",
              "      <td>40</td>\n",
              "      <td>48</td>\n",
              "      <td>46</td>\n",
              "    </tr>\n",
              "  </tbody>\n",
              "</table>\n",
              "</div>"
            ],
            "text/plain": [
              "Education   1   2   3\n",
              "Family               \n",
              "1           9  40  58\n",
              "2           4  50  52\n",
              "3          40  44  49\n",
              "4          40  48  46"
            ]
          },
          "metadata": {
            "tags": []
          },
          "execution_count": 47
        }
      ]
    },
    {
      "cell_type": "markdown",
      "metadata": {
        "id": "-jqd1FhS54lO",
        "colab_type": "text"
      },
      "source": [
        "### Can be seen than that as the family and and education grows the number of people that go for personal loans have increased"
      ]
    },
    {
      "cell_type": "markdown",
      "metadata": {
        "id": "1zEM-PMjX4hN",
        "colab_type": "text"
      },
      "source": [
        "# Data Preproceesing"
      ]
    },
    {
      "cell_type": "code",
      "metadata": {
        "id": "Cy_03cNTX38M",
        "colab_type": "code",
        "colab": {
          "base_uri": "https://localhost:8080/",
          "height": 34
        },
        "outputId": "3b006475-76bd-4911-8785-e0b4268947e6"
      },
      "source": [
        "    x = data.loc[:,['Age', 'Experience', 'Income', 'Family', 'CCAvg', 'Education',\n",
        "        'Mortgage', 'Securities Account', 'CD Account',\n",
        "        'Online', 'CreditCard']]\n",
        "    y = data[\"Personal Loan\"]\n",
        "    print(x.shape,y.shape)"
      ],
      "execution_count": null,
      "outputs": [
        {
          "output_type": "stream",
          "text": [
            "(5000, 11) (5000,)\n"
          ],
          "name": "stdout"
        }
      ]
    },
    {
      "cell_type": "code",
      "metadata": {
        "id": "aWZ-EPl3pO6d",
        "colab_type": "code",
        "colab": {
          "base_uri": "https://localhost:8080/",
          "height": 34
        },
        "outputId": "79856237-fbc3-40e5-e5f1-68c319c98860"
      },
      "source": [
        "dic = {0:0,1:1}\n",
        "for k in y:\n",
        "    dic[k] +=1\n",
        "dic"
      ],
      "execution_count": null,
      "outputs": [
        {
          "output_type": "execute_result",
          "data": {
            "text/plain": [
              "{0: 4520, 1: 481}"
            ]
          },
          "metadata": {
            "tags": []
          },
          "execution_count": 55
        }
      ]
    },
    {
      "cell_type": "code",
      "metadata": {
        "id": "rXka4bxjYfur",
        "colab_type": "code",
        "colab": {}
      },
      "source": [
        "from sklearn.model_selection import train_test_split\n",
        "X_train, X_test,Y_train, Y_test = train_test_split(x,y,test_size = 0.3,random_state=7)"
      ],
      "execution_count": null,
      "outputs": []
    },
    {
      "cell_type": "code",
      "metadata": {
        "id": "SijLy9nHXL1i",
        "colab_type": "code",
        "colab": {
          "base_uri": "https://localhost:8080/",
          "height": 34
        },
        "outputId": "20616917-4508-4dfe-c71a-08cb850ba0b3"
      },
      "source": [
        "from sklearn.linear_model import LogisticRegression \n",
        "from sklearn.metrics import accuracy_score\n",
        "lg_reg = LogisticRegression(max_iter =100000,class_weight=dic)\n",
        "lg_reg.fit(X_train, Y_train)\n",
        "lg_reg.score(X_test,Y_test)\n"
      ],
      "execution_count": null,
      "outputs": [
        {
          "output_type": "execute_result",
          "data": {
            "text/plain": [
              "0.944"
            ]
          },
          "metadata": {
            "tags": []
          },
          "execution_count": 79
        }
      ]
    },
    {
      "cell_type": "code",
      "metadata": {
        "id": "QoU5Fp52XL-V",
        "colab_type": "code",
        "colab": {}
      },
      "source": [
        "y_pred = lg_reg.predict(X_test)"
      ],
      "execution_count": null,
      "outputs": []
    },
    {
      "cell_type": "code",
      "metadata": {
        "id": "2BP2NzmUXL6p",
        "colab_type": "code",
        "colab": {
          "base_uri": "https://localhost:8080/",
          "height": 34
        },
        "outputId": "f2d5ed2b-0c89-42ee-c913-6398572a40ce"
      },
      "source": [
        "from yellowbrick.classifier import ClassificationReport\n",
        "viz = ClassificationReport(lg_reg)\n",
        "viz.fit(X_train, Y_train)\n",
        "viz.score(X_test, Y_test)\n"
      ],
      "execution_count": null,
      "outputs": [
        {
          "output_type": "execute_result",
          "data": {
            "text/plain": [
              "0.9546666666666667"
            ]
          },
          "metadata": {
            "tags": []
          },
          "execution_count": 65
        }
      ]
    },
    {
      "cell_type": "code",
      "metadata": {
        "id": "6qkgKGUFeaUz",
        "colab_type": "code",
        "colab": {
          "base_uri": "https://localhost:8080/",
          "height": 269
        },
        "outputId": "9ada578e-ba8e-499e-c921-523449e9ad84"
      },
      "source": [
        "lg_reg.get_params()"
      ],
      "execution_count": null,
      "outputs": [
        {
          "output_type": "execute_result",
          "data": {
            "text/plain": [
              "{'C': 1.0,\n",
              " 'class_weight': None,\n",
              " 'dual': False,\n",
              " 'fit_intercept': True,\n",
              " 'intercept_scaling': 1,\n",
              " 'l1_ratio': None,\n",
              " 'max_iter': 1000,\n",
              " 'multi_class': 'auto',\n",
              " 'n_jobs': None,\n",
              " 'penalty': 'l2',\n",
              " 'random_state': None,\n",
              " 'solver': 'lbfgs',\n",
              " 'tol': 0.0001,\n",
              " 'verbose': 0,\n",
              " 'warm_start': False}"
            ]
          },
          "metadata": {
            "tags": []
          },
          "execution_count": 66
        }
      ]
    },
    {
      "cell_type": "code",
      "metadata": {
        "id": "3IDPW35rXLyS",
        "colab_type": "code",
        "colab": {
          "base_uri": "https://localhost:8080/",
          "height": 50
        },
        "outputId": "7d97ef2a-e623-4d5d-d8cc-7149e5589a58"
      },
      "source": [
        "from sklearn.metrics import confusion_matrix\n",
        "confusion_matrix(Y_test,y_pred)"
      ],
      "execution_count": null,
      "outputs": [
        {
          "output_type": "execute_result",
          "data": {
            "text/plain": [
              "array([[1345,   17],\n",
              "       [  51,   87]])"
            ]
          },
          "metadata": {
            "tags": []
          },
          "execution_count": 71
        }
      ]
    },
    {
      "cell_type": "markdown",
      "metadata": {
        "id": "wNEtMowQcTQk",
        "colab_type": "text"
      },
      "source": [
        "#Performance Metrics\n",
        "### We choose ***f1_score*** as the evaluation matric due to the class size imbalance. 1 are 481 and 0 are 4520.\n",
        "Metrics from http://onlineconfusionmatrix.com/"
      ]
    },
    {
      "cell_type": "markdown",
      "metadata": {
        "id": "5VKQrGCF8PWv",
        "colab_type": "text"
      },
      "source": [
        "![Annotation 2020-08-31 041353.png](data:image/png;base64,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)"
      ]
    },
    {
      "cell_type": "markdown",
      "metadata": {
        "id": "23GdfwiRcxo6",
        "colab_type": "text"
      },
      "source": [
        "# Tweaking Hyperparameters\n",
        "Since the most there is a imbalance in the number of dataset of each class."
      ]
    },
    {
      "cell_type": "code",
      "metadata": {
        "id": "Mv1Wi9lyc6On",
        "colab_type": "code",
        "colab": {
          "base_uri": "https://localhost:8080/",
          "height": 420
        },
        "outputId": "d589b23b-546b-4354-db7d-cc375bde5a75"
      },
      "source": [
        "from sklearn.metrics import f1_score\n",
        "Lr_rate = [0.001,0.01,0.1,0.3,0.9,1.0,3,10.0]\n",
        "for i in Lr_rate:\n",
        "    lg_reg = LogisticRegression(C = i,max_iter =1000)\n",
        "    lg_reg.fit(X_train, Y_train)\n",
        "    Y_pred = lg_reg.predict(X_test)\n",
        "    print(f1_score(Y_test,Y_pred),\"C =\" + str(i))"
      ],
      "execution_count": null,
      "outputs": [
        {
          "output_type": "stream",
          "text": [
            "0.4814814814814815 C =0.001\n",
            "0.6428571428571429 C =0.01\n",
            "0.7004219409282701 C =0.1\n",
            "0.7083333333333333 C =0.3\n",
            "0.71900826446281 C =0.9\n",
            "0.71900826446281 C =1.0\n"
          ],
          "name": "stdout"
        },
        {
          "output_type": "stream",
          "text": [
            "/usr/local/lib/python3.6/dist-packages/sklearn/linear_model/_logistic.py:940: ConvergenceWarning: lbfgs failed to converge (status=1):\n",
            "STOP: TOTAL NO. of ITERATIONS REACHED LIMIT.\n",
            "\n",
            "Increase the number of iterations (max_iter) or scale the data as shown in:\n",
            "    https://scikit-learn.org/stable/modules/preprocessing.html\n",
            "Please also refer to the documentation for alternative solver options:\n",
            "    https://scikit-learn.org/stable/modules/linear_model.html#logistic-regression\n",
            "  extra_warning_msg=_LOGISTIC_SOLVER_CONVERGENCE_MSG)\n"
          ],
          "name": "stderr"
        },
        {
          "output_type": "stream",
          "text": [
            "0.7235772357723578 C =3\n",
            "0.7206477732793521 C =10.0\n"
          ],
          "name": "stdout"
        },
        {
          "output_type": "stream",
          "text": [
            "/usr/local/lib/python3.6/dist-packages/sklearn/linear_model/_logistic.py:940: ConvergenceWarning: lbfgs failed to converge (status=1):\n",
            "STOP: TOTAL NO. of ITERATIONS REACHED LIMIT.\n",
            "\n",
            "Increase the number of iterations (max_iter) or scale the data as shown in:\n",
            "    https://scikit-learn.org/stable/modules/preprocessing.html\n",
            "Please also refer to the documentation for alternative solver options:\n",
            "    https://scikit-learn.org/stable/modules/linear_model.html#logistic-regression\n",
            "  extra_warning_msg=_LOGISTIC_SOLVER_CONVERGENCE_MSG)\n"
          ],
          "name": "stderr"
        }
      ]
    },
    {
      "cell_type": "markdown",
      "metadata": {
        "id": "idXuw2Dd9h9P",
        "colab_type": "text"
      },
      "source": [
        "#Ways To Improving our model \n",
        "###Since there are 5 categorical variables in  the data using Random Forest and descision trees classifiers make more sense. But we will work our way upto it."
      ]
    },
    {
      "cell_type": "markdown",
      "metadata": {
        "id": "eQd_8Ph9lNVN",
        "colab_type": "text"
      },
      "source": [
        "# SVM Based Classifier"
      ]
    },
    {
      "cell_type": "code",
      "metadata": {
        "id": "5hbDXBl4lK61",
        "colab_type": "code",
        "colab": {
          "base_uri": "https://localhost:8080/",
          "height": 34
        },
        "outputId": "5c9a374e-e207-45dd-bafa-2c4d9960fe16"
      },
      "source": [
        "from sklearn.svm import SVC\n",
        "Spvm = SVC(kernel = \"poly\",class_weight=dic)\n",
        "Spvm.fit(X_train,Y_train)\n",
        "Spvm.score(X_test,Y_test)      "
      ],
      "execution_count": null,
      "outputs": [
        {
          "output_type": "execute_result",
          "data": {
            "text/plain": [
              "0.9566666666666667"
            ]
          },
          "metadata": {
            "tags": []
          },
          "execution_count": 90
        }
      ]
    },
    {
      "cell_type": "code",
      "metadata": {
        "id": "wu03CmWfpy6S",
        "colab_type": "code",
        "colab": {
          "base_uri": "https://localhost:8080/",
          "height": 612
        },
        "outputId": "5c132399-be1e-4db3-8cbb-917182eb01cb"
      },
      "source": [
        "Y_pred = Spvm.predict(X_test)\n",
        "from sklearn.metrics import confusion_matrix\n",
        "sns.heatmap(confusion_matrix(Y_test,Y_pred))"
      ],
      "execution_count": null,
      "outputs": [
        {
          "output_type": "execute_result",
          "data": {
            "text/plain": [
              "<matplotlib.axes._subplots.AxesSubplot at 0x7fedb7b5ccf8>"
            ]
          },
          "metadata": {
            "tags": []
          },
          "execution_count": 91
        },
        {
          "output_type": "display_data",
          "data": {
            "image/png": "[encoded data removed]",
            "text/plain": [
              "<Figure size 720x720 with 2 Axes>"
            ]
          },
          "metadata": {
            "tags": []
          }
        }
      ]
    },
    {
      "cell_type": "code",
      "metadata": {
        "id": "EVrtxBwSrumm",
        "colab_type": "code",
        "colab": {
          "base_uri": "https://localhost:8080/",
          "height": 34
        },
        "outputId": "e37113a3-2bef-4550-a613-a7e984a4ef6e"
      },
      "source": [
        "from sklearn.tree import DecisionTreeClassifier\n",
        "Dt = DecisionTreeClassifier()\n",
        "Dt.fit(X_train,Y_train)\n",
        "Dt.score(X_test,Y_test)\n",
        "Y_pred = Spvm.predict(X_test)\n",
        "f1_score(Y_test,Y_pred)"
      ],
      "execution_count": null,
      "outputs": [
        {
          "output_type": "execute_result",
          "data": {
            "text/plain": [
              "0.6948356807511737"
            ]
          },
          "metadata": {
            "tags": []
          },
          "execution_count": 125
        }
      ]
    },
    {
      "cell_type": "code",
      "metadata": {
        "id": "Sl7ncJtwskF1",
        "colab_type": "code",
        "colab": {
          "base_uri": "https://localhost:8080/",
          "height": 646
        },
        "outputId": "b8633088-f7ea-4e53-8e93-1c988ac3e6db"
      },
      "source": [
        "Y_pred = Spvm.predict(X_test)\n",
        "from sklearn.metrics import confusion_matrix\n",
        "print(confusion_matrix(Y_test,Y_pred))\n",
        "sns.heatmap(confusion_matrix(Y_test,Y_pred))"
      ],
      "execution_count": null,
      "outputs": [
        {
          "output_type": "stream",
          "text": [
            "[[1361    1]\n",
            " [  59   79]]\n"
          ],
          "name": "stdout"
        },
        {
          "output_type": "execute_result",
          "data": {
            "text/plain": [
              "<matplotlib.axes._subplots.AxesSubplot at 0x7fedb7c947b8>"
            ]
          },
          "metadata": {
            "tags": []
          },
          "execution_count": 85
        },
        {
          "output_type": "display_data",
          "data": {
            "image/png": "[encoded data removed]",
            "text/plain": [
              "<Figure size 720x720 with 2 Axes>"
            ]
          },
          "metadata": {
            "tags": []
          }
        }
      ]
    },
    {
      "cell_type": "code",
      "metadata": {
        "id": "IxMKjqcitemv",
        "colab_type": "code",
        "colab": {
          "base_uri": "https://localhost:8080/",
          "height": 1000
        },
        "outputId": "4f853b41-3ba6-437c-d5ad-01df41c41567"
      },
      "source": [
        "from sklearn.tree import plot_tree\n",
        "plot_tree(Dt)"
      ],
      "execution_count": null,
      "outputs": [
        {
          "output_type": "execute_result",
          "data": {
            "text/plain": [
              "[Text(280.4234693877551, 527.6117647058824, 'X[2] <= 100.5\\ngini = 0.176\\nsamples = 3500\\nvalue = [3158, 342]'),\n",
              " Text(167.96938775510205, 495.63529411764705, 'X[4] <= 2.95\\ngini = 0.023\\nsamples = 2638\\nvalue = [2607, 31]'),\n",
              " Text(156.58163265306123, 463.6588235294118, 'gini = 0.0\\nsamples = 2472\\nvalue = [2472, 0]'),\n",
              " Text(179.35714285714286, 463.6588235294118, 'X[8] <= 0.5\\ngini = 0.304\\nsamples = 166\\nvalue = [135, 31]'),\n",
              " Text(142.3469387755102, 431.6823529411765, 'X[2] <= 98.5\\ngini = 0.242\\nsamples = 156\\nvalue = [134, 22]'),\n",
              " Text(102.48979591836735, 399.7058823529412, 'X[0] <= 26.5\\ngini = 0.206\\nsamples = 146\\nvalue = [129, 17]'),\n",
              " Text(79.71428571428572, 367.7294117647059, 'X[0] <= 25.5\\ngini = 0.444\\nsamples = 3\\nvalue = [1, 2]'),\n",
              " Text(68.32653061224491, 335.7529411764706, 'gini = 0.0\\nsamples = 1\\nvalue = [1, 0]'),\n",
              " Text(91.10204081632654, 335.7529411764706, 'gini = 0.0\\nsamples = 2\\nvalue = [0, 2]'),\n",
              " Text(125.26530612244899, 367.7294117647059, 'X[4] <= 4.2\\ngini = 0.188\\nsamples = 143\\nvalue = [128, 15]'),\n",
              " Text(113.87755102040816, 335.7529411764706, 'X[4] <= 4.05\\ngini = 0.227\\nsamples = 115\\nvalue = [100, 15]'),\n",
              " Text(102.48979591836735, 303.7764705882353, 'X[2] <= 82.5\\ngini = 0.215\\nsamples = 114\\nvalue = [100, 14]'),\n",
              " Text(45.55102040816327, 271.8, 'X[1] <= 8.5\\ngini = 0.145\\nsamples = 76\\nvalue = [70, 6]'),\n",
              " Text(22.775510204081634, 239.82352941176475, 'X[3] <= 3.0\\ngini = 0.408\\nsamples = 7\\nvalue = [5, 2]'),\n",
              " Text(11.387755102040817, 207.84705882352944, 'gini = 0.0\\nsamples = 2\\nvalue = [0, 2]'),\n",
              " Text(34.163265306122454, 207.84705882352944, 'gini = 0.0\\nsamples = 5\\nvalue = [5, 0]'),\n",
              " Text(68.32653061224491, 239.82352941176475, 'X[9] <= 0.5\\ngini = 0.109\\nsamples = 69\\nvalue = [65, 4]'),\n",
              " Text(56.93877551020408, 207.84705882352944, 'gini = 0.0\\nsamples = 23\\nvalue = [23, 0]'),\n",
              " Text(79.71428571428572, 207.84705882352944, 'X[10] <= 0.5\\ngini = 0.159\\nsamples = 46\\nvalue = [42, 4]'),\n",
              " Text(68.32653061224491, 175.87058823529412, 'X[4] <= 3.15\\ngini = 0.208\\nsamples = 34\\nvalue = [30, 4]'),\n",
              " Text(45.55102040816327, 143.89411764705886, 'X[4] <= 3.05\\ngini = 0.375\\nsamples = 8\\nvalue = [6, 2]'),\n",
              " Text(34.163265306122454, 111.91764705882355, 'X[3] <= 3.5\\ngini = 0.245\\nsamples = 7\\nvalue = [6, 1]'),\n",
              " Text(22.775510204081634, 79.94117647058823, 'gini = 0.0\\nsamples = 6\\nvalue = [6, 0]'),\n",
              " Text(45.55102040816327, 79.94117647058823, 'gini = 0.0\\nsamples = 1\\nvalue = [0, 1]'),\n",
              " Text(56.93877551020408, 111.91764705882355, 'gini = 0.0\\nsamples = 1\\nvalue = [0, 1]'),\n",
              " Text(91.10204081632654, 143.89411764705886, 'X[2] <= 74.0\\ngini = 0.142\\nsamples = 26\\nvalue = [24, 2]'),\n",
              " Text(79.71428571428572, 111.91764705882355, 'gini = 0.0\\nsamples = 12\\nvalue = [12, 0]'),\n",
              " Text(102.48979591836735, 111.91764705882355, 'X[2] <= 77.0\\ngini = 0.245\\nsamples = 14\\nvalue = [12, 2]'),\n",
              " Text(79.71428571428572, 79.94117647058823, 'X[6] <= 118.0\\ngini = 0.5\\nsamples = 2\\nvalue = [1, 1]'),\n",
              " Text(68.32653061224491, 47.96470588235297, 'gini = 0.0\\nsamples = 1\\nvalue = [0, 1]'),\n",
              " Text(91.10204081632654, 47.96470588235297, 'gini = 0.0\\nsamples = 1\\nvalue = [1, 0]'),\n",
              " Text(125.26530612244899, 79.94117647058823, 'X[1] <= 26.5\\ngini = 0.153\\nsamples = 12\\nvalue = [11, 1]'),\n",
              " Text(113.87755102040816, 47.96470588235297, 'gini = 0.0\\nsamples = 8\\nvalue = [8, 0]'),\n",
              " Text(136.65306122448982, 47.96470588235297, 'X[3] <= 3.5\\ngini = 0.375\\nsamples = 4\\nvalue = [3, 1]'),\n",
              " Text(125.26530612244899, 15.988235294117658, 'gini = 0.0\\nsamples = 1\\nvalue = [0, 1]'),\n",
              " Text(148.04081632653063, 15.988235294117658, 'gini = 0.0\\nsamples = 3\\nvalue = [3, 0]'),\n",
              " Text(91.10204081632654, 175.87058823529412, 'gini = 0.0\\nsamples = 12\\nvalue = [12, 0]'),\n",
              " Text(159.42857142857144, 271.8, 'X[9] <= 0.5\\ngini = 0.332\\nsamples = 38\\nvalue = [30, 8]'),\n",
              " Text(136.65306122448982, 239.82352941176475, 'X[3] <= 2.5\\ngini = 0.465\\nsamples = 19\\nvalue = [12, 7]'),\n",
              " Text(125.26530612244899, 207.84705882352944, 'X[0] <= 30.5\\ngini = 0.32\\nsamples = 15\\nvalue = [12, 3]'),\n",
              " Text(113.87755102040816, 175.87058823529412, 'gini = 0.0\\nsamples = 1\\nvalue = [0, 1]'),\n",
              " Text(136.65306122448982, 175.87058823529412, 'X[1] <= 31.0\\ngini = 0.245\\nsamples = 14\\nvalue = [12, 2]'),\n",
              " Text(125.26530612244899, 143.89411764705886, 'gini = 0.0\\nsamples = 10\\nvalue = [10, 0]'),\n",
              " Text(148.04081632653063, 143.89411764705886, 'X[4] <= 3.7\\ngini = 0.5\\nsamples = 4\\nvalue = [2, 2]'),\n",
              " Text(136.65306122448982, 111.91764705882355, 'gini = 0.0\\nsamples = 2\\nvalue = [0, 2]'),\n",
              " Text(159.42857142857144, 111.91764705882355, 'gini = 0.0\\nsamples = 2\\nvalue = [2, 0]'),\n",
              " Text(148.04081632653063, 207.84705882352944, 'gini = 0.0\\nsamples = 4\\nvalue = [0, 4]'),\n",
              " Text(182.20408163265307, 239.82352941176475, 'X[2] <= 83.5\\ngini = 0.1\\nsamples = 19\\nvalue = [18, 1]'),\n",
              " Text(170.81632653061226, 207.84705882352944, 'X[4] <= 3.25\\ngini = 0.444\\nsamples = 3\\nvalue = [2, 1]'),\n",
              " Text(159.42857142857144, 175.87058823529412, 'gini = 0.0\\nsamples = 1\\nvalue = [0, 1]'),\n",
              " Text(182.20408163265307, 175.87058823529412, 'gini = 0.0\\nsamples = 2\\nvalue = [2, 0]'),\n",
              " Text(193.59183673469389, 207.84705882352944, 'gini = 0.0\\nsamples = 16\\nvalue = [16, 0]'),\n",
              " Text(125.26530612244899, 303.7764705882353, 'gini = 0.0\\nsamples = 1\\nvalue = [0, 1]'),\n",
              " Text(136.65306122448982, 335.7529411764706, 'gini = 0.0\\nsamples = 28\\nvalue = [28, 0]'),\n",
              " Text(182.20408163265307, 399.7058823529412, 'X[0] <= 51.5\\ngini = 0.5\\nsamples = 10\\nvalue = [5, 5]'),\n",
              " Text(170.81632653061226, 367.7294117647059, 'X[4] <= 3.65\\ngini = 0.408\\nsamples = 7\\nvalue = [5, 2]'),\n",
              " Text(159.42857142857144, 335.7529411764706, 'gini = 0.0\\nsamples = 2\\nvalue = [0, 2]'),\n",
              " Text(182.20408163265307, 335.7529411764706, 'gini = 0.0\\nsamples = 5\\nvalue = [5, 0]'),\n",
              " Text(193.59183673469389, 367.7294117647059, 'gini = 0.0\\nsamples = 3\\nvalue = [0, 3]'),\n",
              " Text(216.3673469387755, 431.6823529411765, 'X[4] <= 4.25\\ngini = 0.18\\nsamples = 10\\nvalue = [1, 9]'),\n",
              " Text(204.9795918367347, 399.7058823529412, 'gini = 0.0\\nsamples = 9\\nvalue = [0, 9]'),\n",
              " Text(227.75510204081633, 399.7058823529412, 'gini = 0.0\\nsamples = 1\\nvalue = [1, 0]'),\n",
              " Text(392.8775510204082, 495.63529411764705, 'X[5] <= 1.5\\ngini = 0.461\\nsamples = 862\\nvalue = [551, 311]'),\n",
              " Text(318.8571428571429, 463.6588235294118, 'X[3] <= 2.5\\ngini = 0.187\\nsamples = 538\\nvalue = [482, 56]'),\n",
              " Text(273.30612244897964, 431.6823529411765, 'X[2] <= 101.5\\ngini = 0.008\\nsamples = 471\\nvalue = [469, 2]'),\n",
              " Text(250.53061224489798, 399.7058823529412, 'X[8] <= 0.5\\ngini = 0.375\\nsamples = 4\\nvalue = [3, 1]'),\n",
              " Text(239.14285714285717, 367.7294117647059, 'gini = 0.0\\nsamples = 3\\nvalue = [3, 0]'),\n",
              " Text(261.9183673469388, 367.7294117647059, 'gini = 0.0\\nsamples = 1\\nvalue = [0, 1]'),\n",
              " Text(296.08163265306126, 399.7058823529412, 'X[2] <= 104.5\\ngini = 0.004\\nsamples = 467\\nvalue = [466, 1]'),\n",
              " Text(284.6938775510204, 367.7294117647059, 'X[4] <= 3.55\\ngini = 0.111\\nsamples = 17\\nvalue = [16, 1]'),\n",
              " Text(273.30612244897964, 335.7529411764706, 'gini = 0.0\\nsamples = 14\\nvalue = [14, 0]'),\n",
              " Text(296.08163265306126, 335.7529411764706, 'X[1] <= 14.0\\ngini = 0.444\\nsamples = 3\\nvalue = [2, 1]'),\n",
              " Text(284.6938775510204, 303.7764705882353, 'gini = 0.0\\nsamples = 1\\nvalue = [0, 1]'),\n",
              " Text(307.46938775510205, 303.7764705882353, 'gini = 0.0\\nsamples = 2\\nvalue = [2, 0]'),\n",
              " Text(307.46938775510205, 367.7294117647059, 'gini = 0.0\\nsamples = 450\\nvalue = [450, 0]'),\n",
              " Text(364.40816326530614, 431.6823529411765, 'X[2] <= 113.5\\ngini = 0.313\\nsamples = 67\\nvalue = [13, 54]'),\n",
              " Text(353.0204081632653, 399.7058823529412, 'X[3] <= 3.5\\ngini = 0.432\\nsamples = 19\\nvalue = [13, 6]'),\n",
              " Text(330.2448979591837, 367.7294117647059, 'X[4] <= 3.25\\ngini = 0.142\\nsamples = 13\\nvalue = [12, 1]'),\n",
              " Text(318.8571428571429, 335.7529411764706, 'gini = 0.0\\nsamples = 9\\nvalue = [9, 0]'),\n",
              " Text(341.6326530612245, 335.7529411764706, 'X[0] <= 46.5\\ngini = 0.375\\nsamples = 4\\nvalue = [3, 1]'),\n",
              " Text(330.2448979591837, 303.7764705882353, 'gini = 0.0\\nsamples = 1\\nvalue = [0, 1]'),\n",
              " Text(353.0204081632653, 303.7764705882353, 'gini = 0.0\\nsamples = 3\\nvalue = [3, 0]'),\n",
              " Text(375.795918367347, 367.7294117647059, 'X[4] <= 4.15\\ngini = 0.278\\nsamples = 6\\nvalue = [1, 5]'),\n",
              " Text(364.40816326530614, 335.7529411764706, 'gini = 0.0\\nsamples = 5\\nvalue = [0, 5]'),\n",
              " Text(387.18367346938777, 335.7529411764706, 'gini = 0.0\\nsamples = 1\\nvalue = [1, 0]'),\n",
              " Text(375.795918367347, 399.7058823529412, 'gini = 0.0\\nsamples = 48\\nvalue = [0, 48]'),\n",
              " Text(466.8979591836735, 463.6588235294118, 'X[2] <= 116.5\\ngini = 0.335\\nsamples = 324\\nvalue = [69, 255]'),\n",
              " Text(455.51020408163265, 431.6823529411765, 'X[4] <= 2.45\\ngini = 0.451\\nsamples = 105\\nvalue = [69, 36]'),\n",
              " Text(409.9591836734694, 399.7058823529412, 'X[2] <= 107.0\\ngini = 0.227\\nsamples = 69\\nvalue = [60, 9]'),\n",
              " Text(398.5714285714286, 367.7294117647059, 'gini = 0.0\\nsamples = 25\\nvalue = [25, 0]'),\n",
              " Text(421.34693877551024, 367.7294117647059, 'X[1] <= 31.5\\ngini = 0.325\\nsamples = 44\\nvalue = [35, 9]'),\n",
              " Text(409.9591836734694, 335.7529411764706, 'X[0] <= 41.5\\ngini = 0.404\\nsamples = 32\\nvalue = [23, 9]'),\n",
              " Text(387.18367346938777, 303.7764705882353, 'X[8] <= 0.5\\ngini = 0.278\\nsamples = 24\\nvalue = [20, 4]'),\n",
              " Text(375.795918367347, 271.8, 'X[5] <= 2.5\\ngini = 0.227\\nsamples = 23\\nvalue = [20, 3]'),\n",
              " Text(364.40816326530614, 239.82352941176475, 'X[3] <= 3.5\\ngini = 0.444\\nsamples = 9\\nvalue = [6, 3]'),\n",
              " Text(353.0204081632653, 207.84705882352944, 'X[1] <= 4.5\\ngini = 0.245\\nsamples = 7\\nvalue = [6, 1]'),\n",
              " Text(341.6326530612245, 175.87058823529412, 'gini = 0.0\\nsamples = 1\\nvalue = [0, 1]'),\n",
              " Text(364.40816326530614, 175.87058823529412, 'gini = 0.0\\nsamples = 6\\nvalue = [6, 0]'),\n",
              " Text(375.795918367347, 207.84705882352944, 'gini = 0.0\\nsamples = 2\\nvalue = [0, 2]'),\n",
              " Text(387.18367346938777, 239.82352941176475, 'gini = 0.0\\nsamples = 14\\nvalue = [14, 0]'),\n",
              " Text(398.5714285714286, 271.8, 'gini = 0.0\\nsamples = 1\\nvalue = [0, 1]'),\n",
              " Text(432.734693877551, 303.7764705882353, 'X[9] <= 0.5\\ngini = 0.469\\nsamples = 8\\nvalue = [3, 5]'),\n",
              " Text(421.34693877551024, 271.8, 'X[2] <= 114.0\\ngini = 0.375\\nsamples = 4\\nvalue = [3, 1]'),\n",
              " Text(409.9591836734694, 239.82352941176475, 'gini = 0.0\\nsamples = 3\\nvalue = [3, 0]'),\n",
              " Text(432.734693877551, 239.82352941176475, 'gini = 0.0\\nsamples = 1\\nvalue = [0, 1]'),\n",
              " Text(444.12244897959187, 271.8, 'gini = 0.0\\nsamples = 4\\nvalue = [0, 4]'),\n",
              " Text(432.734693877551, 335.7529411764706, 'gini = 0.0\\nsamples = 12\\nvalue = [12, 0]'),\n",
              " Text(501.06122448979596, 399.7058823529412, 'X[1] <= 16.5\\ngini = 0.375\\nsamples = 36\\nvalue = [9, 27]'),\n",
              " Text(478.28571428571433, 367.7294117647059, 'X[3] <= 2.5\\ngini = 0.49\\nsamples = 14\\nvalue = [6, 8]'),\n",
              " Text(466.8979591836735, 335.7529411764706, 'X[1] <= 5.0\\ngini = 0.375\\nsamples = 8\\nvalue = [6, 2]'),\n",
              " Text(455.51020408163265, 303.7764705882353, 'gini = 0.0\\nsamples = 1\\nvalue = [0, 1]'),\n",
              " Text(478.28571428571433, 303.7764705882353, 'X[3] <= 1.5\\ngini = 0.245\\nsamples = 7\\nvalue = [6, 1]'),\n",
              " Text(466.8979591836735, 271.8, 'gini = 0.0\\nsamples = 4\\nvalue = [4, 0]'),\n",
              " Text(489.6734693877551, 271.8, 'X[10] <= 0.5\\ngini = 0.444\\nsamples = 3\\nvalue = [2, 1]'),\n",
              " Text(478.28571428571433, 239.82352941176475, 'gini = 0.0\\nsamples = 2\\nvalue = [2, 0]'),\n",
              " Text(501.06122448979596, 239.82352941176475, 'gini = 0.0\\nsamples = 1\\nvalue = [0, 1]'),\n",
              " Text(489.6734693877551, 335.7529411764706, 'gini = 0.0\\nsamples = 6\\nvalue = [0, 6]'),\n",
              " Text(523.8367346938776, 367.7294117647059, 'X[4] <= 3.85\\ngini = 0.236\\nsamples = 22\\nvalue = [3, 19]'),\n",
              " Text(512.4489795918367, 335.7529411764706, 'X[4] <= 3.2\\ngini = 0.469\\nsamples = 8\\nvalue = [3, 5]'),\n",
              " Text(501.06122448979596, 303.7764705882353, 'gini = 0.0\\nsamples = 3\\nvalue = [0, 3]'),\n",
              " Text(523.8367346938776, 303.7764705882353, 'X[4] <= 3.5\\ngini = 0.48\\nsamples = 5\\nvalue = [3, 2]'),\n",
              " Text(512.4489795918367, 271.8, 'gini = 0.0\\nsamples = 2\\nvalue = [2, 0]'),\n",
              " Text(535.2244897959184, 271.8, 'X[1] <= 26.0\\ngini = 0.444\\nsamples = 3\\nvalue = [1, 2]'),\n",
              " Text(523.8367346938776, 239.82352941176475, 'gini = 0.0\\nsamples = 1\\nvalue = [1, 0]'),\n",
              " Text(546.6122448979593, 239.82352941176475, 'gini = 0.0\\nsamples = 2\\nvalue = [0, 2]'),\n",
              " Text(535.2244897959184, 335.7529411764706, 'gini = 0.0\\nsamples = 14\\nvalue = [0, 14]'),\n",
              " Text(478.28571428571433, 431.6823529411765, 'gini = 0.0\\nsamples = 219\\nvalue = [0, 219]')]"
            ]
          },
          "metadata": {
            "tags": []
          },
          "execution_count": 92
        },
        {
          "output_type": "display_data",
          "data": {
            "image/png": "[encoded data removed]",
            "text/plain": [
              "<Figure size 720x720 with 1 Axes>"
            ]
          },
          "metadata": {
            "tags": []
          }
        }
      ]
    },
    {
      "cell_type": "code",
      "metadata": {
        "id": "2OEFvHi-vTfr",
        "colab_type": "code",
        "colab": {
          "base_uri": "https://localhost:8080/",
          "height": 437
        },
        "outputId": "a2cd7ecf-a928-40b5-f79f-fffe94c573d2"
      },
      "source": [
        "from sklearn.ensemble import RandomForestClassifier\n",
        "n_est = [25,50,75,100,125]\n",
        "max_depth = [None,3,4,5,6]\n",
        "acc = []\n",
        "for i in n_est:\n",
        "    for k in max_depth:\n",
        "        rbf_clf = RandomForestClassifier(class_weight=dic,n_estimators=i,max_depth=k)\n",
        "        rbf_clf.fit(X_train, Y_train)\n",
        "        Y_pred = rbf_clf.predict(X_test)\n",
        "        print(rbf_clf.score(X_test, Y_test),f1_score(Y_test,Y_pred), \"N_est = \" +str(i),\"max_depth = \" +str(k))"
      ],
      "execution_count": null,
      "outputs": [
        {
          "output_type": "stream",
          "text": [
            "0.99 0.9433962264150944 N_est = 25 max_depth = None\n",
            "0.9086666666666666 0.014388489208633093 N_est = 25 max_depth = 3\n",
            "0.9493333333333334 0.62 N_est = 25 max_depth = 4\n",
            "0.96 0.7222222222222222 N_est = 25 max_depth = 5\n",
            "0.9746666666666667 0.8403361344537814 N_est = 25 max_depth = 6\n",
            "0.9886666666666667 0.9358490566037736 N_est = 50 max_depth = None\n",
            "0.9153333333333333 0.1476510067114094 N_est = 50 max_depth = 3\n",
            "0.9373333333333334 0.48351648351648346 N_est = 50 max_depth = 4\n",
            "0.964 0.7567567567567568 N_est = 50 max_depth = 5\n",
            "0.9846666666666667 0.9090909090909091 N_est = 50 max_depth = 6\n",
            "0.9893333333333333 0.9398496240601504 N_est = 75 max_depth = None\n",
            "0.9153333333333333 0.1476510067114094 N_est = 75 max_depth = 3\n",
            "0.9453333333333334 0.577319587628866 N_est = 75 max_depth = 4\n",
            "0.958 0.704225352112676 N_est = 75 max_depth = 5\n",
            "0.9766666666666667 0.8547717842323651 N_est = 75 max_depth = 6\n",
            "0.99 0.9433962264150944 N_est = 100 max_depth = None\n",
            "0.9153333333333333 0.1476510067114094 N_est = 100 max_depth = 3\n",
            "0.934 0.4406779661016949 N_est = 100 max_depth = 4\n",
            "0.9546666666666667 0.6730769230769231 N_est = 100 max_depth = 5\n",
            "0.984 0.9047619047619047 N_est = 100 max_depth = 6\n",
            "0.9893333333333333 0.9402985074626865 N_est = 125 max_depth = None\n",
            "0.912 0.08333333333333333 N_est = 125 max_depth = 3\n",
            "0.9346666666666666 0.44943820224719105 N_est = 125 max_depth = 4\n",
            "0.9586666666666667 0.7102803738317757 N_est = 125 max_depth = 5\n",
            "0.982 0.891566265060241 N_est = 125 max_depth = 6\n"
          ],
          "name": "stdout"
        }
      ]
    },
    {
      "cell_type": "code",
      "metadata": {
        "id": "aySNhdiSy2vM",
        "colab_type": "code",
        "colab": {
          "base_uri": "https://localhost:8080/",
          "height": 34
        },
        "outputId": "40be2802-581d-4695-e803-0250e98c42c0"
      },
      "source": [
        "rbf_clf = RandomForestClassifier(class_weight=dic,n_estimators=100,max_depth = None)\n",
        "rbf_clf.fit(X_train, Y_train)\n",
        "Y_pred = rbf_clf.predict(X_test)\n",
        "print(rbf_clf.score(X_test, Y_test),f1_score(Y_test,Y_pred))"
      ],
      "execution_count": null,
      "outputs": [
        {
          "output_type": "stream",
          "text": [
            "0.99 0.9438202247191011\n"
          ],
          "name": "stdout"
        }
      ]
    },
    {
      "cell_type": "code",
      "metadata": {
        "id": "tSIfIPHT-xC2",
        "colab_type": "code",
        "colab": {}
      },
      "source": [
        "import pickle\n",
        "pickle.dump(rbf_clf,open(\"rbf_clf.pkl\",\"wb\"))"
      ],
      "execution_count": null,
      "outputs": []
    },
    {
      "cell_type": "code",
      "metadata": {
        "id": "A_V7jd2U64oV",
        "colab_type": "code",
        "colab": {
          "base_uri": "https://localhost:8080/",
          "height": 336
        },
        "outputId": "fbc103bf-30a6-418a-c1c9-2af5963b7618"
      },
      "source": [
        "rbf_clf.get_params()"
      ],
      "execution_count": null,
      "outputs": [
        {
          "output_type": "execute_result",
          "data": {
            "text/plain": [
              "{'bootstrap': True,\n",
              " 'ccp_alpha': 0.0,\n",
              " 'class_weight': {0: 4520, 1: 481},\n",
              " 'criterion': 'gini',\n",
              " 'max_depth': None,\n",
              " 'max_features': 'auto',\n",
              " 'max_leaf_nodes': None,\n",
              " 'max_samples': None,\n",
              " 'min_impurity_decrease': 0.0,\n",
              " 'min_impurity_split': None,\n",
              " 'min_samples_leaf': 1,\n",
              " 'min_samples_split': 2,\n",
              " 'min_weight_fraction_leaf': 0.0,\n",
              " 'n_estimators': 100,\n",
              " 'n_jobs': None,\n",
              " 'oob_score': False,\n",
              " 'random_state': None,\n",
              " 'verbose': 0,\n",
              " 'warm_start': False}"
            ]
          },
          "metadata": {
            "tags": []
          },
          "execution_count": 124
        }
      ]
    },
    {
      "cell_type": "code",
      "metadata": {
        "id": "fp1CIuNU41N9",
        "colab_type": "code",
        "colab": {
          "base_uri": "https://localhost:8080/",
          "height": 646
        },
        "outputId": "a0fb140f-12be-41cf-8a9d-1936e6eeac2b"
      },
      "source": [
        "Y_pred = rbf_clf.predict(X_test)\n",
        "print(confusion_matrix(Y_test,Y_pred))\n",
        "sns.heatmap(confusion_matrix(Y_test,Y_pred))\n",
        "f1_score(Y_test,Y_pred)"
      ],
      "execution_count": null,
      "outputs": [
        {
          "output_type": "stream",
          "text": [
            "[[1360    2]\n",
            " [  12  126]]\n"
          ],
          "name": "stdout"
        },
        {
          "output_type": "execute_result",
          "data": {
            "text/plain": [
              "0.9473684210526315"
            ]
          },
          "metadata": {
            "tags": []
          },
          "execution_count": 120
        },
        {
          "output_type": "display_data",
          "data": {
            "image/png": "[encoded data removed]",
            "text/plain": [
              "<Figure size 720x720 with 2 Axes>"
            ]
          },
          "metadata": {
            "tags": []
          }
        }
      ]
    },
    {
      "cell_type": "code",
      "metadata": {
        "id": "ZSsk7rFty6B3",
        "colab_type": "code",
        "colab": {
          "base_uri": "https://localhost:8080/",
          "height": 612
        },
        "outputId": "8b972bbb-b812-456a-a0aa-1d8f7b212c7e"
      },
      "source": [
        "sns.heatmap(acc)"
      ],
      "execution_count": null,
      "outputs": [
        {
          "output_type": "execute_result",
          "data": {
            "text/plain": [
              "<matplotlib.axes._subplots.AxesSubplot at 0x7fedb761c2e8>"
            ]
          },
          "metadata": {
            "tags": []
          },
          "execution_count": 109
        },
        {
          "output_type": "display_data",
          "data": {
            "image/png": "[encoded data removed]",
            "text/plain": [
              "<Figure size 720x720 with 2 Axes>"
            ]
          },
          "metadata": {
            "tags": []
          }
        }
      ]
    },
    {
      "cell_type": "code",
      "metadata": {
        "id": "bKBzzw8PBbws",
        "colab_type": "code",
        "colab": {
          "base_uri": "https://localhost:8080/",
          "height": 67
        },
        "outputId": "51d907da-791e-4fe9-97a3-f0419e871ad2"
      },
      "source": [
        "X_train.columns"
      ],
      "execution_count": null,
      "outputs": [
        {
          "output_type": "execute_result",
          "data": {
            "text/plain": [
              "Index(['Age', 'Experience', 'Income', 'Family', 'CCAvg', 'Education',\n",
              "       'Mortgage', 'Securities Account', 'CD Account', 'Online', 'CreditCard'],\n",
              "      dtype='object')"
            ]
          },
          "metadata": {
            "tags": []
          },
          "execution_count": 132
        }
      ]
    },
    {
      "cell_type": "code",
      "metadata": {
        "id": "zHSE411gTV-n",
        "colab_type": "code",
        "colab": {}
      },
      "source": [
        "data.groupby(['Loan_Status', 'Gender', 'Property_Area'])['Married'].value_counts()\n",
        "from yellowbrick.classifier import ClassificationReport\n",
        "viz = ClassificationReport(LR_model)\n",
        "viz.fit(XT, YT)\n",
        "viz.score(Xt, Yt)\n",
        "viz.show()  \n",
        "import statsmodels.api as sm\n",
        "X2 = sm.add_constant(XT)\n",
        "regressor2 = sm.Logit(YT, X2).fit()\n",
        "print(\"p-Values for each column: \")\n",
        "print()\n",
        "print(regressor2.pvalues)"
      ],
      "execution_count": null,
      "outputs": []
    }
  ]
}